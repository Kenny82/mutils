{
 "metadata": {
  "name": ""
 },
 "nbformat": 3,
 "nbformat_minor": 0,
 "worksheets": [
  {
   "cells": [
    {
     "cell_type": "markdown",
     "metadata": {},
     "source": [
      "# Bipedal SLIP\n",
      "\n",
      "\n",
      "## LE:  \n",
      "May 5th, 2013 MM - forked from \"Walking SLIP\" notebook  \n",
      "May 16th, 2013 MM - bughunting: comparison between \"wrapped\" (circular-invariant) and \"original\" model gives slightly different results - this must not be the case. [edit: solved - that was a tricky one!]  \n",
      "May 31th, 2013 MM - moved to server, added to SVN ... continued bughunting  \n",
      "June 4th, 2013 MM - fixed bug (finally?), found quasiperiodic circular walking solution  \n",
      "June 14th, 2013 MM - searched and analyzed some fixed points  \n",
      "June 27th, 2013 MM - started re-organization (for fixpoint mappings)  \n",
      "July 1st, 2013 MM - cleaned up notebook  \n",
      "July 10th, 2013 MM - continued preparations for mapping; introduced fixed energy solutions  \n",
      "July 11th, 2013 MM - hangling on the edge of stable solutions introduced  \n",
      "July 12th, 2013 MM - continuation for changed alpha introduced  \n",
      "July 15th, 2013 MM - defined and found starting fixpoints. **Major edit**: removed \"old\" code not used for new approach\n",
      "\n",
      "## TODO:\n",
      "\n",
      "\n",
      "* think again about splitting of \"fixed params\" and \"variable params\" (for mapping)\n",
      "* map fixpoints as a function of parameters!\n",
      "\n",
      "<a name=\"toc\"></a>\n",
      "## Table of content\n",
      "\n",
      "<a href=\"#step1\">Step 1: initialize notebook</a>  \n",
      "\n",
      "<a href=\"#vis\">visualize selected solution</a>  \n",
      "\n",
      "<a href=\"#step5\">Step 5: New approach: \"augment\" Harti's solutions</a>  \n",
      "<a href=\"#notes\">General notes</a>"
     ]
    },
    {
     "cell_type": "markdown",
     "metadata": {},
     "source": [
      "## Goal\n",
      "This notebook implements the goals for analyzing the 3D walking gait.\n",
      "\n",
      "## Hypotheses are:\n",
      "\n",
      "* Asymmetry leads almost-always to walking in circles, however there is a set of asymmetric \"straight-walking\" solutions.\n",
      "* This property persists under (random) perturbations (-> test with uniform (not gaussian) noise!)\n",
      "* Walking in circles can be achieved using symmetric configuration but asymmetric noise magnitude.\n",
      "* These properties are also valid in non-SLIP models (e.g. constant-force leg function)\n",
      "\n",
      "## requirements:\n",
      "\n",
      "  - models.bslip\n",
      "  \n",
      "### parameter layout\n",
      "Model parameters have the following structure:\n",
      "\n",
      "`\n",
      "param   \n",
      "   .foot1  (1x3 array)   location of foot 1\n",
      "   .foot2  (1x3 array)   location of foot 2\n",
      "   .m      (float)       mass\n",
      "   .g      (1x3 array)   vector of gravity\n",
      "   .lp1    (4x float)    list of leg parameters for leg 1\n",
      "        for SLIP: [l0, k, alpha, beta] (may be overwritten in derived models)\n",
      "   .lp2    (4x float)    list of leg parameters for leg 2\n",
      "`"
     ]
    },
    {
     "cell_type": "markdown",
     "metadata": {},
     "source": [
      "<a name=\"step1\"></a>\n",
      "# Step 1: initialize notebook\n",
      "<a href=\"#toc\">table of content</a>"
     ]
    },
    {
     "cell_type": "code",
     "collapsed": false,
     "input": [
      "# Import libraries\n",
      "from models import bslip\n",
      "from models.bslip import ICeuklid_to_ICcircle, ICcircle_to_ICeuklid, circ2normal_param, new_stridefunction, vis_sim, stridefunction\n",
      "from copy import deepcopy # e.g. for jacobian calculation\n",
      "import mutils.misc as mi\n",
      "import sys\n",
      "\n",
      "#define functions\n",
      "def new_stridefunction_E(pbase, E_des, p_red):\n",
      "    f = new_stridefunction(pbase)\n",
      "    \n",
      "    def innerfunction(IC_red):\n",
      "        IC = ICe_to_ICc(IC_red, E_des, p_red[0], pbase['m'], l0 = pbase['lp1'][1])\n",
      "        return f(IC, p_red)[[0,1,3,4]]\n",
      "    return innerfunction\n",
      "\n",
      "def new_stridefunction_E2(pbase, E_des, p_red):\n",
      "    f = stridefunction(pbase)\n",
      "    \n",
      "    def innerfunction(IC_red):\n",
      "        IC = ICe_to_ICc(IC_red, E_des, p_red[0], pbase['m'], l0 = pbase['lp1'][1])\n",
      "        return f(IC, p_red)[[0,1,3,4]]\n",
      "    return innerfunction\n",
      "\n",
      "\n",
      "# IC_circle: [y, vy, |v|, |l|, phiv]\n",
      "def getEnergy(IC_circle, k1, m=80, l0=1):\n",
      "    \"\"\" returns the energy of the given state (and with specified params). (the constant term mc**2  is neglected)\n",
      "\n",
      "    :args:\n",
      "        IC_circle: the initial conditions in circular form\n",
      "        k1 : leg stiffness of contact leg\n",
      "        m : mass\n",
      "        l0 : leg rest length\n",
      "\n",
      "    :returns:\n",
      "        E: the total energy of the system\n",
      "\n",
      "    \"\"\"\n",
      "    E_kin = m * .5 * IC_circle[2]**2\n",
      "    E_pot = 9.81 * m * IC_circle[0]\n",
      "    E_spring = .5 * k1 * (IC_circle[3] - l0)**2\n",
      "    return E_kin + E_pot + E_spring\n",
      "\n",
      "def ICe_to_ICc(ICr, E_des,  k1, m=80, l0=1):\n",
      "    \"\"\"\n",
      "    returns circular ICs with a fixed energy.\n",
      "\n",
      "    :args:\n",
      "        ICr: the reduced circular ICs: [y, vy, |l|, vphi]\n",
      "        E: the desired energy\n",
      "        k1 : leg stiffness of contact leg\n",
      "        m : mass\n",
      "        l0 : leg rest length\n",
      "\n",
      "    :returns:\n",
      "        ICc: (circular) initial conditions\n",
      "    \"\"\"\n",
      "    ICc = zeros(5)\n",
      "    ICc[[0,1,3,4]] = ICr\n",
      "    # compute velocity magnitude separately\n",
      "    vmag2 =  2 * (E_des - getEnergy(ICc, k1, m) ) / m\n",
      "    if vmag2 >= 0:\n",
      "        ICc[2] = sqrt(vmag2)\n",
      "    else:\n",
      "        raise ValueError(\"Velocity magnitude must be imaginary!\")\n",
      "        \n",
      "    return ICc\n",
      "\n",
      "def deltafun_E_base(ICe, p_red, p_base):\n",
      "    \"\"\" returns the difference of the IC minus the final state \"\"\"\n",
      "    f = new_stridefunction(p_base)\n",
      "    ICc = ICe_to_ICc(ICe, E_des, p_red[0], p_base['m'], l0 = p_base['lp1'][1])        \n",
      "    return array(f(ICc, p_red))[[0,1,3,4]] - array(ICe)\n",
      "\n",
      "def deltafun_E_base2(ICe, p_red, p_base):\n",
      "    \"\"\" returns the difference of the IC minus the final state \"\"\"\n",
      "    f = stridefunction(p_base)\n",
      "    ICc = ICe_to_ICc(ICe, E_des, p_red[0], p_base['m'], l0 = p_base['lp1'][1])        \n",
      "    return array(f(ICc, p_red))[[0,1,3,4]] - array(ICe)\n",
      "\n",
      "\n",
      "def getPS(ICr, pred, pbase, E_des, maxStep=.1, debug=False, rcond=1e-7, maxnorm=5e-6, maxrep_inner=12,\n",
      "    get_EV = False, h=1e-4):\n",
      "    \"\"\"\n",
      "    searches a periodic solution\n",
      "\n",
      "    :args:\n",
      "        ICr [array (4)]: reduced initial conditions to start from: [y, vy, |l|, vphi]\n",
      "        pred: reduced set of parameters - either length 4 or 8\n",
      "            length 4: k1, k2, alpha, beta\n",
      "            length 8: k1, k2, alpha1, alpha2, beta1, beta2, l01, l02\n",
      "        pbase: base set of parameters\n",
      "\n",
      "    :returns:\n",
      "        (stable, ICp): stable is True if the solution is stable, and ICp give the periodic solution\n",
      "        in circular coordinates (5x)\n",
      "\n",
      "    :raises: \n",
      "        RuntimeError: if too many iterations were necessary\n",
      "\n",
      "    \"\"\"    \n",
      "    # set algorithm parameter\n",
      "    \n",
      "    \n",
      "    stab_thresh = 1.00 # maximum value for largest EV such that solution is considered stable.\n",
      "\n",
      "    all_norms = []\n",
      "    if len(pred) == 4:    \n",
      "        deltafun_E = lambda x: deltafun_E_base(x, pred, pbase)\n",
      "    elif len(pred) == 8:\n",
      "        deltafun_E = lambda x: deltafun_E_base2(x, pred, pbase)\n",
      "    else:\n",
      "        raise ValueError(\"illegal format of pred: length must be 4 or 8\")\n",
      "            \n",
      "            \n",
      "    IC_next_E = ICr.copy()\n",
      "    \n",
      "    n_bisect_max = 4\n",
      "    nrep = 0\n",
      "    # This is the Newton-Raphson algorithm (except that the inverse is replaced by a pseudo-inverse)\n",
      "    r_norm = norm(deltafun_E(IC_next_E)) #some high value\n",
      "    while r_norm > maxnorm and nrep < maxrep_inner:\n",
      "        \n",
      "        J = mi.calcJacobian(deltafun_E, IC_next_E, h=h)\n",
      "        # compute step (i.e. next IC). limit stepsize (only if start is too far away from convergence)\n",
      "        delta0 =  - dot(pinv(J, rcond=rcond), deltafun_E(IC_next_E)).squeeze()\n",
      "        if norm(delta0) > maxStep:\n",
      "            delta0 = delta0 / norm(delta0) * maxStep\n",
      "            sys.stdout.write('!')\n",
      "        else:\n",
      "            sys.stdout.write('.')\n",
      "        # update position\n",
      "        IC_next_E = IC_next_E + delta0\n",
      "        nrep += 1\n",
      "        \n",
      "        r_norm_old = r_norm        \n",
      "        r_norm = norm(deltafun_E(IC_next_E))\n",
      "        \n",
      "        all_norms.append(r_norm)\n",
      "        \n",
      "        # check if norm decreased - else, do a bisection back to the original point\n",
      "        if r_norm > r_norm_old:\n",
      "            # error: distance INcreased instead of decreased!\n",
      "            new_dsts = []\n",
      "            smallest_idx = 0\n",
      "            maxnorm_bs = r_norm\n",
      "            sys.stdout.write('x(%1.2e)' % r_norm)\n",
      "            for niter_bs in range(5):\n",
      "                IC_next_E = IC_next_E - (.5)**(niter_bs + 1) * delta0\n",
      "                new_dsts.append([IC_next_E.copy(), norm(deltafun_E(IC_next_E))])\n",
      "                if new_dsts[-1][1] < maxnorm_bs:\n",
      "                    maxnorm_bs = new_dsts[-1][1]\n",
      "                    smallest_idx = niter_bs\n",
      "            IC_next_E = new_dsts[smallest_idx][0]\n",
      "            \n",
      "   \n",
      "\n",
      "    if r_norm < maxnorm:\n",
      "        print \" success!\",\n",
      "        is_stable = True\n",
      "        IC_circle = ICe_to_ICc(IC_next_E, E_des, pred[0], pbase['m'],l0 = pbase['lp1'][1])\n",
      "        if len(pred) == 4:\n",
      "            f = new_stridefunction_E(pbase, E_des, pred)\n",
      "        else:\n",
      "            f = new_stridefunction_E2(pbase, E_des, pred)\n",
      "        J = mi.calcJacobian(f, IC_next_E)\n",
      "        if max(abs(eig(J)[0])) > stab_thresh:\n",
      "            is_stable = False\n",
      "        if get_EV:\n",
      "            return eig(J)[0], IC_circle\n",
      "        else:\n",
      "            return is_stable, IC_circle\n",
      "    else:\n",
      "        print \"number of iterations exceeded - aborting\"\n",
      "        print \"IC:\", IC_next_E\n",
      "        raise RuntimeError(\"Too many iterations!\")\n",
      "\n",
      "        \n",
      "        \n",
      "def getEig(sol):\n",
      "    \"\"\" returns the eigenvalues of a pair of [icc, pr] \"\"\"\n",
      "    icc, pr = sol\n",
      "    f = new_stridefunction_E(pbase, E_des, pr)\n",
      "    J = mi.calcJacobian(f, icc[[0,1,3,4]])\n",
      "    return eig(J)[0]\n",
      "\n",
      "\n",
      "\n",
      "def getR(ICc, pr, pbase):\n",
      "    ICe_v = ICcircle_to_ICeuklid(ICc)\n",
      "    mdl_v = bslip.BSLIP_newTD(bslip.pred_to_p(pbase, pr), ICe_v)\n",
      "    mdl_v.ode.ODE_ATOL = 1e-11\n",
      "    mdl_v.ode.ODE_RTOL = 1e-12\n",
      "    mdl_v.ode.ODE_EVTTOL = 1e-12\n",
      "    # make first two steps for calculating walking radius\n",
      "    for rep in range(2):\n",
      "        _ = mdl_v.do_step()\n",
      "        l_v = norm(mdl_v.state[:3] - ICe_v[:3]) # this works *only* because the height is equal!\n",
      "        phi0_v = arctan2(ICe_v[5], ICe_v[3])\n",
      "        phiE_v = arctan2(mdl_v.state[5], mdl_v.state[3])\n",
      "        deltaPhi_v = phiE_v - phi0_v\n",
      "        \n",
      "    if abs(deltaPhi_v) < 1e-5:\n",
      "        r = 1e9\n",
      "    else:\n",
      "        r = l_v / (2. * sin(.5 * deltaPhi_v))\n",
      "    return r\n"
     ],
     "language": "python",
     "metadata": {},
     "outputs": [],
     "prompt_number": "*"
    },
    {
     "cell_type": "markdown",
     "metadata": {},
     "source": [
      "### example usage"
     ]
    },
    {
     "cell_type": "code",
     "collapsed": false,
     "input": [
      "# start model with an almost circular-periodic, stable solution, and visualize the result\n",
      "mdl = bslip.BSLIP_newTD(bslip.demo_p, bslip.demo_IC)\n",
      "for rep in arange(20):\n",
      "    _ = mdl.do_step()\n",
      "\n",
      "fig = vis_sim(mdl)"
     ],
     "language": "python",
     "metadata": {},
     "outputs": [],
     "prompt_number": "*"
    },
    {
     "cell_type": "markdown",
     "metadata": {},
     "source": [
      "<a name=\"vis\"></a>\n",
      "### visualize selected solution\n",
      "\n",
      "requires: p_base, pred, IC0 (ICc-format!)  \n",
      "<a href=\"#toc\">content</a>  \n",
      "<a href=\"#step5\">step 5</a>  "
     ]
    },
    {
     "cell_type": "code",
     "collapsed": false,
     "input": [
      "# select a solution\n",
      "\n",
      "# requires: p_base, pred, IC0 (ICc-format!)\n",
      "\n",
      "pr_v = p_red\n",
      "ICx = array(IC0).copy()\n",
      "IC_v = ICe_to_ICc(ICx[[0,1,3,4]], E_des, pr_v[0])\n",
      "print IC_v\n",
      "pbase = p_base\n",
      "\n",
      "# create model\n",
      "ICe_v = ICcircle_to_ICeuklid(IC_v)\n",
      "mdl_v = bslip.BSLIP_newTD(circ2normal_param(pbase, pr_v), ICe_v)\n",
      "mdl_v.ode.ODE_ATOL = 1e-11\n",
      "mdl_v.ode.ODE_RTOL = 1e-12\n",
      "mdl_v.ode.ODE_EVTTOL = 1e-12\n",
      "# make first two steps for calculating walking radius\n",
      "for rep in range(2):\n",
      "    _ = mdl_v.do_step()\n",
      "    l_v = norm(mdl_v.state[:3] - ICe_v[:3]) # this works *only* because the height is equal!\n",
      "    phi0_v = arctan2(ICe_v[5], ICe_v[3])\n",
      "    phiE_v = arctan2(mdl_v.state[5], mdl_v.state[3])\n",
      "    deltaPhi_v = phiE_v - phi0_v\n",
      "    \n",
      "if abs(deltaPhi_v) < 1e-4:\n",
      "    print \"walking radius very large (probably > 10km)\"\n",
      "else:\n",
      "    print \"walking radius [m]: \", l_v / (2. * sin(.5 * deltaPhi_v))\n",
      "    \n",
      "for rep in range(20):\n",
      "    try:\n",
      "        _ = mdl_v.do_step()\n",
      "    except bslip.SimulationError:\n",
      "        pass\n",
      " \n",
      "\n",
      "f_v = vis_sim(mdl_v)\n",
      "#f_v.axes[0].set_ylim(.96,.98)\n",
      "\n",
      "figure(figsize=(14,6))\n",
      "for ts_v,td_v, fs_v, fd_v in zip(mdl_v.t_ss_seq, mdl_v.t_ds_seq, mdl_v.forces_ss_seq, mdl_v.forces_ds_seq):\n",
      "    plot(ts_v, fs_v[:,1],'r')\n",
      "    plot(ts_v, fs_v[:,4],'r--')\n",
      "    plot(td_v, fd_v[:,1],'r')\n",
      "    plot(td_v, fd_v[:,4],'r--')"
     ],
     "language": "python",
     "metadata": {},
     "outputs": [
      {
       "output_type": "stream",
       "stream": "stdout",
       "text": [
        "[ 0.97237007  0.16336241  1.0723815   0.97376284  0.44756444]\n",
        "walking radius very large (probably > 10km)"
       ]
      },
      {
       "output_type": "stream",
       "stream": "stdout",
       "text": [
        "\n"
       ]
      },
      {
       "output_type": "display_data",
       "png": "[encoded data removed]"
      },
      {
       "output_type": "display_data",
       "png": "[encoded data removed]"
      }
     ],
     "prompt_number": 4
    },
    {
     "cell_type": "code",
     "collapsed": false,
     "input": [
      "# take new IC0 from simulation final state\n",
      "tmp = mdl_v.state.copy()\n",
      "tmp[:3] -=mdl_v.params['foot1']\n",
      "print ICeuklid_to_ICcircle(tmp)\n",
      "IC0 = ICeuklid_to_ICcircle(tmp)"
     ],
     "language": "python",
     "metadata": {},
     "outputs": [
      {
       "output_type": "stream",
       "stream": "stdout",
       "text": [
        "[0.9278323130603543, 0.34177055981459481, 1.1785275470101138, 0.93209238227003965, 0.0]\n"
       ]
      }
     ],
     "prompt_number": 38
    },
    {
     "cell_type": "code",
     "collapsed": false,
     "input": [],
     "language": "python",
     "metadata": {},
     "outputs": [
      {
       "output_type": "stream",
       "stream": "stdout",
       "text": [
        "Interactive namespace is empty.\n"
       ]
      }
     ],
     "prompt_number": 1
    },
    {
     "cell_type": "markdown",
     "metadata": {},
     "source": [
      "### NOTE - check the \"asymmetry\" of the \"symmetric parameter\" configurations! \n",
      "\n",
      "- are \"asymmetric\" solutions with symmetric parameters stable?\n",
      "- do \"asymmetric\" solutions with symmetric parameters walk in circles?\n"
     ]
    },
    {
     "cell_type": "markdown",
     "metadata": {},
     "source": [
      "<a name=\"step5\"></a> \n",
      "## Step 5: New approach: \"augment\" Harti's solutions\n",
      "<a href=\"#toc\">content</a>  \n",
      "<a href=\"#vis\">visualize</a>  \n",
      "\n",
      "There are three selected solutions from Harti:  \n",
      "k = 14 kN/m, alpha= 69 $\\deg$ (symmetric)  \n",
      "k = 14 kN/m, alpha= 73 $\\deg$ (asymmetric)  \n",
      "k = 20 kN/m, alpha= 76 $\\deg$ (flat force pattern - small area of stable configurations)  \n"
     ]
    },
    {
     "cell_type": "code",
     "collapsed": false,
     "input": [
      "p_red = array(bslip.demo_p_reduced)\n",
      "E_des = 816.\n",
      "p_base = bslip.demo_p\n",
      "p_base['delta_beta'] = 0\n",
      "\n",
      "selection = 1\n",
      "\n",
      "# periodic solution 1:\n",
      "if selection == 1:\n",
      "    p_red[0] = p_red[1] = 14000\n",
      "    p_red[2] = 69. * pi / 180.\n",
      "    p_red[3] = .05\n",
      "    \n",
      "    ## ?? IC0 = array([ 0.93358044,  0.43799566,  1.25842366,  0.94657333, -0.10969046]) # already periodic (?)\n",
      "    IC0 = array([ 0.93358034,  0.43799844,  1.25842356,  0.94657321,  0.10969058]) # beta=.05\n",
      "    #IC0 = array([ 0.93358039,  0.45195548,  1.26003517,  0.94679076,  0.21853576]) # beta=.1\n",
      "\n",
      "elif selection == 2:\n",
      "    # periodic solution 2:  (asymmetric stance phase)\n",
      "    p_red[0] = p_red[1] = 14000\n",
      "    p_red[2] = 72.5 * pi / 180.\n",
      "    p_red[3] = 0.05\n",
      "    \n",
      "    #IC0 = array([ 0.92172543,  0.40671347 , 1.1950172,   0.92609043 , 0.  ]) # periodic for beta = 0, alpha=72.5\n",
      "    IC0 = array([ 0.9308592,   0.3793116,   1.19155584,  0.9360028,   0.1597469 ]) # for beta=.05, alpha=72.5\n",
      "    #IC0 = array([ 0.93011364,  0.39346135,  1.19332777,  0.93554008,  0.31541887]) # for beta=.1, alpha=72.5\n",
      "    \n",
      "    # periodic, for beta=0, alpha=73. very very marginally stable: |ev| = .992|.984 (step|stride):\n",
      "    #IC0 = array([ 0.9278273,   0.34175418,  1.17852052 , 0.93208755 , 0.]) \n",
      "    \n",
      "elif selection == 3:\n",
      "    # periodic solution 3:\n",
      "    p_red[0] = p_red[1] = 20000\n",
      "    p_red[2] = 76.5 * pi / 180.\n",
      "    p_red[3] = 0.1\n",
      "    #p_red[3] = 0.0\n",
      "    #IC0 = array([ 0.96030477,  0.30256976,  1.15633538,  0.985058303, -0.11240564])\n",
      "    #IC0 = array([ 0.97043906,  0.29739433,  1.0840199,   0.97280541,  0.        ]) # for beta=0; not really periodic (2e-4)\n",
      "    IC0 = array([ 0.97236992, 0.18072418,  1.0718928,   0.97368293,  0.        ]) # for beta=0, alpha=76.5\n",
      "    IC0 = array([ 0.97236992,  0.17616847,  1.07200705,  0.97370148,  0.22353624]) # for beta=.5, alpha=76.5\n",
      "    IC0 = array([ 0.97237007,  0.16336241,  1.07238146,  0.97376284,  0.44756444]) # for beta=.5, alpha=76.5\n",
      "    #IC0 = array([0.9709, 0.34167, 1.0855, 0.973732, 0.15846])\n",
      "    #IC0 = array([ 0.97028136, 0.30045474,  1.08604313,  0.97290092, 0.16489379])\n",
      "    #ICe = IC0[[0,1,3,4]]\n",
      "    #[ 0.97029372  0.2972158   0.97289854  0.16536238]\n",
      "    #ICe = array([ 0.97050506,  0.30422253,  0.97301987,  0.06965177])\n",
      "    ##print ICe_to_ICc(ICe, E_des, p_red[0])\n",
      "    ##stop\n",
      "\n",
      "else:\n",
      "    raise NotImplementedError(\"No valid selection - select solution 1,2, or 3\")\n",
      "\n",
      "\n",
      "ICe = IC0[[0,1,3,4]] # remove |v| -> this will be determined from the system energy\n",
      "evs, IC = getPS(ICe, p_red, p_base, E_des, get_EV = True, maxnorm=1e-5, rcond=1e-7,  maxStep=.1, maxrep_inner=10, h=1e-4)\n",
      "print IC\n",
      "print \"max. ev:\", max(abs(evs))"
     ],
     "language": "python",
     "metadata": {},
     "outputs": [
      {
       "output_type": "stream",
       "stream": "stdout",
       "text": [
        " success! "
       ]
      },
      {
       "output_type": "stream",
       "stream": "stdout",
       "text": [
        "[ 0.93358034  0.43799844  1.25842358  0.94657321  0.10969058]\n",
        "max. ev: 0.951182722817\n"
       ]
      }
     ],
     "prompt_number": 42
    },
    {
     "cell_type": "markdown",
     "metadata": {},
     "source": [
      "#### goto vis\n",
      "<a href=\"#vis\">visualization</a>"
     ]
    },
    {
     "cell_type": "markdown",
     "metadata": {},
     "source": [
      "### check periodicity"
     ]
    },
    {
     "cell_type": "code",
     "collapsed": false,
     "input": [
      "\n",
      "#IC0 = ICx\n",
      "ICe = array(IC0)[[0,1,3,4]]\n",
      "\n",
      "print \"periodicity:\", deltafun_E_base2(ICe, prx, p_base)\n",
      "print \"eigenvalues (mag.):\", abs(evs)"
     ],
     "language": "python",
     "metadata": {},
     "outputs": [
      {
       "ename": "NameError",
       "evalue": "name 'prx' is not defined",
       "output_type": "pyerr",
       "traceback": [
        "\u001b[0;31m---------------------------------------------------------------------------\u001b[0m\n\u001b[0;31mNameError\u001b[0m                                 Traceback (most recent call last)",
        "\u001b[0;32m<ipython-input-4-5a75d1559886>\u001b[0m in \u001b[0;36m<module>\u001b[0;34m()\u001b[0m\n\u001b[1;32m      3\u001b[0m \u001b[0mICe\u001b[0m \u001b[0;34m=\u001b[0m \u001b[0marray\u001b[0m\u001b[0;34m(\u001b[0m\u001b[0mIC0\u001b[0m\u001b[0;34m)\u001b[0m\u001b[0;34m[\u001b[0m\u001b[0;34m[\u001b[0m\u001b[0;36m0\u001b[0m\u001b[0;34m,\u001b[0m\u001b[0;36m1\u001b[0m\u001b[0;34m,\u001b[0m\u001b[0;36m3\u001b[0m\u001b[0;34m,\u001b[0m\u001b[0;36m4\u001b[0m\u001b[0;34m]\u001b[0m\u001b[0;34m]\u001b[0m\u001b[0;34m\u001b[0m\u001b[0m\n\u001b[1;32m      4\u001b[0m \u001b[0;34m\u001b[0m\u001b[0m\n\u001b[0;32m----> 5\u001b[0;31m \u001b[0;32mprint\u001b[0m \u001b[0;34m\"periodicity:\"\u001b[0m\u001b[0;34m,\u001b[0m \u001b[0mdeltafun_E_base2\u001b[0m\u001b[0;34m(\u001b[0m\u001b[0mICe\u001b[0m\u001b[0;34m,\u001b[0m \u001b[0mprx\u001b[0m\u001b[0;34m,\u001b[0m \u001b[0mp_base\u001b[0m\u001b[0;34m)\u001b[0m\u001b[0;34m\u001b[0m\u001b[0m\n\u001b[0m\u001b[1;32m      6\u001b[0m \u001b[0;32mprint\u001b[0m \u001b[0;34m\"eigenvalues (mag.):\"\u001b[0m\u001b[0;34m,\u001b[0m \u001b[0mabs\u001b[0m\u001b[0;34m(\u001b[0m\u001b[0mevs\u001b[0m\u001b[0;34m)\u001b[0m\u001b[0;34m\u001b[0m\u001b[0m\n",
        "\u001b[0;31mNameError\u001b[0m: name 'prx' is not defined"
       ]
      },
      {
       "output_type": "stream",
       "stream": "stdout",
       "text": [
        "periodicity:"
       ]
      }
     ],
     "prompt_number": 4
    },
    {
     "cell_type": "markdown",
     "metadata": {},
     "source": [
      "## Step 5.1: map the $\\Delta k - \\Delta \\alpha$ plane until instability is detected"
     ]
    },
    {
     "cell_type": "code",
     "collapsed": false,
     "input": [
      "import mutils.io as mio\n",
      "# \"A\"\n",
      "solutions_fname = \"A_sols5_new.list\"\n",
      "IC0 = array([ 0.93358034,  0.43799844,  1.25842356,  0.94657321,  0.10969058])\n",
      "pr0 = [14000, 14000, 69.*pi / 180, 69 * pi / 180, .05, -.05, 1., 1.]\n",
      "#IC0 = array([ 0.93358039,  0.45195548,  1.26003517,  0.94679076,  0.21853576])\n",
      "#pr0 = [14000, 14000, 69.*pi / 180, 69 * pi / 180, .1, -.1, 1., 1.]\n",
      "\n",
      "# \"B\"\n",
      "#solutions_fname = \"B_sols5_new.list\"\n",
      "#pr0 = [14000, 14000, 72.5 *pi / 180, 72.5 * pi / 180, .05, -.05, 1., 1.]\n",
      "#IC0 = array([ 0.9308592,   0.3793116,   1.19155584,  0.9360028,   0.1597469 ]) # for beta=.05, alpha=72.5\n",
      "#IC0 = array([ 0.93011364,  0.39346135,  1.19332777,  0.93554008,  0.31541887]) # for beta=.1, alpha=72.5\n",
      "\n",
      "# \"C\"\n",
      "solutions_fname = \"C_sols5_new.list\"\n",
      "pr0 = [20000, 20000, 76.5 *pi / 180, 76.5 * pi / 180, .05, -.05, 1., 1.]\n",
      "IC0 = array([ 0.97236992,  0.17616847,  1.07200705,  0.97370148,  0.22353624]) # for beta=.5, alpha=76.5\n",
      "#IC0 = array([ 0.97237007,  0.16336241,  1.07238146,  0.97376284,  0.44756444]) # for beta=.5, alpha=76.5\n"
     ],
     "language": "python",
     "metadata": {},
     "outputs": [],
     "prompt_number": 65
    },
    {
     "cell_type": "code",
     "collapsed": false,
     "input": [
      "# init the loop\n",
      "\n",
      "\n",
      "ICa = IC0.copy()\n",
      "\n",
      "\n",
      "all_solutions = [] # format: [IC, px, r, evs]\n",
      "\n",
      "signs = [1, -1]\n",
      "\n",
      "#signs = [-1, ]\n"
     ],
     "language": "python",
     "metadata": {},
     "outputs": [],
     "prompt_number": 66
    },
    {
     "cell_type": "code",
     "collapsed": false,
     "input": [
      "delta_k = 0\n",
      "step_k = -50 #kN / m\n",
      "\n",
      "delta_alpha = 0\n",
      "step_alpha = .1 * pi / 180. # radiant!"
     ],
     "language": "python",
     "metadata": {},
     "outputs": [],
     "prompt_number": 67
    },
    {
     "cell_type": "code",
     "collapsed": false,
     "input": [
      "for sgn in signs:\n",
      "    delta_alpha = 0\n",
      "    ICa = IC0.copy()\n",
      "\n",
      "    #if True:\n",
      "\n",
      "    while True:\n",
      "        \n",
      "\n",
      "        pr0a = array(pr0)\n",
      "        pr0a[2] += delta_alpha / 2.\n",
      "        pr0a[3] -= delta_alpha / 2.\n",
      "\n",
      "        print \"new round:\",\n",
      "        try:\n",
      "            evs, IC = getPS(ICa[[0,1,3,4]], pr0a, p_base, E_des, get_EV = True, maxnorm=2e-5, rcond=2e-7,  maxStep=.025, maxrep_inner=10, h=5e-5)\n",
      "        except Exception:\n",
      "            print \"fixpoint search failed\",\n",
      "            print \"delta alpha\", delta_alpha, \n",
      "            if sgn > 0:\n",
      "                print \"(+)\",\n",
      "            else:\n",
      "                print \"(-)\", \"-> done!\"\n",
      "            break;\n",
      "            \n",
      "        if max(abs(evs)) > 1:\n",
      "            print \"delta alpha\", delta_alpha, \n",
      "            if sgn > 0:\n",
      "                print \"(+)\",\n",
      "            else:\n",
      "                print \"(-)\",\n",
      "            print \"lead to instability!\"\n",
      "            break\n",
      "            \n",
      "        r = getR(IC, pr0a, p_base)\n",
      "        print \"dk=0, da=\", delta_alpha, \" -> r=\", r\n",
      "        \n",
      "        all_solutions.append([array(IC), array(pr0a), r, array(evs)])\n",
      "           \n",
      "        delta_k = step_k # for delta_k = 0: already found!\n",
      "        n_solutions_dk = 0\n",
      "        \n",
      "        ICx = IC.copy()\n",
      "        ICa = IC.copy()\n",
      "        while True:\n",
      "            prx = array(pr0a)\n",
      "            prx[0] += delta_k / 2.\n",
      "            prx[1] -= delta_k / 2.\n",
      "            try:\n",
      "                evs, IC = getPS(ICx[[0,1,3,4]], prx, p_base, E_des, get_EV = True, maxnorm=2e-5, rcond=2e-7,  maxStep=.1, maxrep_inner=10, h=1e-4)\n",
      "            except Exception:\n",
      "                break\n",
      "                \n",
      "            if max(abs(evs)) > 1:\n",
      "                break\n",
      "            \n",
      "            r = getR(IC, prx, p_base)\n",
      "            print \"k:\", prx[:2], \" -> r=\", r\n",
      "            n_solutions_dk += 1\n",
      "            all_solutions.append([array(IC), array(prx), r, array(evs)])\n",
      "            \n",
      "            # prepare new round\n",
      "            ICx = array(IC)   \n",
      "            delta_k += step_k\n",
      "        \n",
      "        if n_solutions_dk == 0:\n",
      "            break\n",
      "            \n",
      "        delta_alpha += sgn * step_alpha\n",
      "        mio.msave(solutions_fname, all_solutions)\n",
      "    \n",
      "    \n",
      "    "
     ],
     "language": "python",
     "metadata": {},
     "outputs": [
      {
       "output_type": "stream",
       "stream": "stdout",
       "text": [
        "new round: "
       ]
      },
      {
       "output_type": "stream",
       "stream": "stdout",
       "text": [
        " success! "
       ]
      },
      {
       "output_type": "stream",
       "stream": "stdout",
       "text": [
        "dk=0, da= 0  -> r= 1000000000.0\n",
        "."
       ]
      },
      {
       "output_type": "stream",
       "stream": "stdout",
       "text": [
        " success! "
       ]
      },
      {
       "output_type": "stream",
       "stream": "stdout",
       "text": [
        "k: [ 19975.  20025.]  -> r= -8078.14231201\n",
        "."
       ]
      },
      {
       "output_type": "stream",
       "stream": "stdout",
       "text": [
        " success! "
       ]
      },
      {
       "output_type": "stream",
       "stream": "stdout",
       "text": [
        "k: [ 19950.  20050.]  -> r= -4039.71141077\n",
        "."
       ]
      },
      {
       "output_type": "stream",
       "stream": "stdout",
       "text": [
        " success! "
       ]
      },
      {
       "output_type": "stream",
       "stream": "stdout",
       "text": [
        "k: [ 19925.  20075.]  -> r= -2693.12380441\n",
        "."
       ]
      },
      {
       "output_type": "stream",
       "stream": "stdout",
       "text": [
        " success! "
       ]
      },
      {
       "output_type": "stream",
       "stream": "stdout",
       "text": [
        "k: [ 19900.  20100.]  -> r= -2019.86520902\n",
        "."
       ]
      },
      {
       "output_type": "stream",
       "stream": "stdout",
       "text": [
        " success! "
       ]
      },
      {
       "output_type": "stream",
       "stream": "stdout",
       "text": [
        "k: [ 19875.  20125.]  -> r= -1615.87257896\n",
        "."
       ]
      },
      {
       "output_type": "stream",
       "stream": "stdout",
       "text": [
        " success! "
       ]
      },
      {
       "output_type": "stream",
       "stream": "stdout",
       "text": [
        "k: [ 19850.  20150.]  -> r= -1346.52954489\n",
        "."
       ]
      },
      {
       "output_type": "stream",
       "stream": "stdout",
       "text": [
        " success! "
       ]
      },
      {
       "output_type": "stream",
       "stream": "stdout",
       "text": [
        "k: [ 19825.  20175.]  -> r= -1154.13618798\n",
        "."
       ]
      },
      {
       "output_type": "stream",
       "stream": "stdout",
       "text": [
        " success! "
       ]
      },
      {
       "output_type": "stream",
       "stream": "stdout",
       "text": [
        "k: [ 19800.  20200.]  -> r= -1009.83569207\n",
        "."
       ]
      },
      {
       "output_type": "stream",
       "stream": "stdout",
       "text": [
        " success! "
       ]
      },
      {
       "output_type": "stream",
       "stream": "stdout",
       "text": [
        "k: [ 19775.  20225.]  -> r= -897.590821672\n",
        "."
       ]
      },
      {
       "output_type": "stream",
       "stream": "stdout",
       "text": [
        " success! "
       ]
      },
      {
       "output_type": "stream",
       "stream": "stdout",
       "text": [
        "k: [ 19750.  20250.]  -> r= -807.793214208\n",
        "."
       ]
      },
      {
       "output_type": "stream",
       "stream": "stdout",
       "text": [
        " success! "
       ]
      },
      {
       "output_type": "stream",
       "stream": "stdout",
       "text": [
        "k: [ 19725.  20275.]  -> r= -734.3148915\n",
        "."
       ]
      },
      {
       "output_type": "stream",
       "stream": "stdout",
       "text": [
        " success! "
       ]
      },
      {
       "output_type": "stream",
       "stream": "stdout",
       "text": [
        "k: [ 19700.  20300.]  -> r= -673.080584911\n",
        "."
       ]
      },
      {
       "output_type": "stream",
       "stream": "stdout",
       "text": [
        " success! "
       ]
      },
      {
       "output_type": "stream",
       "stream": "stdout",
       "text": [
        "k: [ 19675.  20325.]  -> r= -621.263881787\n",
        "."
       ]
      },
      {
       "output_type": "stream",
       "stream": "stdout",
       "text": [
        " success! "
       ]
      },
      {
       "output_type": "stream",
       "stream": "stdout",
       "text": [
        "k: [ 19650.  20350.]  -> r= -576.845317306\n",
        "."
       ]
      },
      {
       "output_type": "stream",
       "stream": "stdout",
       "text": [
        " success! "
       ]
      },
      {
       "output_type": "stream",
       "stream": "stdout",
       "text": [
        "k: [ 19625.  20375.]  -> r= -538.34704459\n",
        "."
       ]
      },
      {
       "output_type": "stream",
       "stream": "stdout",
       "text": [
        " success! "
       ]
      },
      {
       "output_type": "stream",
       "stream": "stdout",
       "text": [
        "k: [ 19600.  20400.]  -> r= -504.652814495\n",
        "."
       ]
      },
      {
       "output_type": "stream",
       "stream": "stdout",
       "text": [
        " success! "
       ]
      },
      {
       "output_type": "stream",
       "stream": "stdout",
       "text": [
        "k: [ 19575.  20425.]  -> r= -474.928819355\n",
        "."
       ]
      },
      {
       "output_type": "stream",
       "stream": "stdout",
       "text": [
        " success! "
       ]
      },
      {
       "output_type": "stream",
       "stream": "stdout",
       "text": [
        "k: [ 19550.  20450.]  -> r= -448.501203607\n",
        "."
       ]
      },
      {
       "output_type": "stream",
       "stream": "stdout",
       "text": [
        " success! "
       ]
      },
      {
       "output_type": "stream",
       "stream": "stdout",
       "text": [
        "k: [ 19525.  20475.]  -> r= -424.852582023\n",
        "."
       ]
      },
      {
       "output_type": "stream",
       "stream": "stdout",
       "text": [
        " success! "
       ]
      },
      {
       "output_type": "stream",
       "stream": "stdout",
       "text": [
        "k: [ 19500.  20500.]  -> r= -403.567532224\n",
        "."
       ]
      },
      {
       "output_type": "stream",
       "stream": "stdout",
       "text": [
        " success! "
       ]
      },
      {
       "output_type": "stream",
       "stream": "stdout",
       "text": [
        "k: [ 19475.  20525.]  -> r= -384.307054561\n",
        "."
       ]
      },
      {
       "output_type": "stream",
       "stream": "stdout",
       "text": [
        " success! "
       ]
      },
      {
       "output_type": "stream",
       "stream": "stdout",
       "text": [
        "k: [ 19450.  20550.]  -> r= -366.795551526\n",
        "."
       ]
      },
      {
       "output_type": "stream",
       "stream": "stdout",
       "text": [
        " success! "
       ]
      },
      {
       "output_type": "stream",
       "stream": "stdout",
       "text": [
        "k: [ 19425.  20575.]  -> r= -350.80453636\n",
        "."
       ]
      },
      {
       "output_type": "stream",
       "stream": "stdout",
       "text": [
        " success! "
       ]
      },
      {
       "output_type": "stream",
       "stream": "stdout",
       "text": [
        "k: [ 19400.  20600.]  -> r= -336.144381869\n",
        "."
       ]
      },
      {
       "output_type": "stream",
       "stream": "stdout",
       "text": [
        " success! "
       ]
      },
      {
       "output_type": "stream",
       "stream": "stdout",
       "text": [
        "k: [ 19375.  20625.]  -> r= -322.655223187\n",
        "."
       ]
      },
      {
       "output_type": "stream",
       "stream": "stdout",
       "text": [
        " success! "
       ]
      },
      {
       "output_type": "stream",
       "stream": "stdout",
       "text": [
        "k: [ 19350.  20650.]  -> r= -310.202250835\n",
        "."
       ]
      },
      {
       "output_type": "stream",
       "stream": "stdout",
       "text": [
        " success! "
       ]
      },
      {
       "output_type": "stream",
       "stream": "stdout",
       "text": [
        "k: [ 19325.  20675.]  -> r= -298.669950401\n",
        "."
       ]
      },
      {
       "output_type": "stream",
       "stream": "stdout",
       "text": [
        " success! "
       ]
      },
      {
       "output_type": "stream",
       "stream": "stdout",
       "text": [
        "k: [ 19300.  20700.]  -> r= -287.959983105\n",
        "."
       ]
      },
      {
       "output_type": "stream",
       "stream": "stdout",
       "text": [
        " success! "
       ]
      },
      {
       "output_type": "stream",
       "stream": "stdout",
       "text": [
        "k: [ 19275.  20725.]  -> r= -277.986975912\n",
        "."
       ]
      },
      {
       "output_type": "stream",
       "stream": "stdout",
       "text": [
        " success! "
       ]
      },
      {
       "output_type": "stream",
       "stream": "stdout",
       "text": [
        "k: [ 19250.  20750.]  -> r= -268.677433356\n",
        "."
       ]
      },
      {
       "output_type": "stream",
       "stream": "stdout",
       "text": [
        " success! "
       ]
      },
      {
       "output_type": "stream",
       "stream": "stdout",
       "text": [
        "k: [ 19225.  20775.]  -> r= -259.966980773\n",
        "."
       ]
      },
      {
       "output_type": "stream",
       "stream": "stdout",
       "text": [
        " success! "
       ]
      },
      {
       "output_type": "stream",
       "stream": "stdout",
       "text": [
        "k: [ 19200.  20800.]  -> r= -251.799854604\n",
        "."
       ]
      },
      {
       "output_type": "stream",
       "stream": "stdout",
       "text": [
        " success! "
       ]
      },
      {
       "output_type": "stream",
       "stream": "stdout",
       "text": [
        "k: [ 19175.  20825.]  -> r= -244.126135381\n",
        "."
       ]
      },
      {
       "output_type": "stream",
       "stream": "stdout",
       "text": [
        " success! "
       ]
      },
      {
       "output_type": "stream",
       "stream": "stdout",
       "text": [
        "k: [ 19150.  20850.]  -> r= -236.90264918\n",
        "."
       ]
      },
      {
       "output_type": "stream",
       "stream": "stdout",
       "text": [
        " success! "
       ]
      },
      {
       "output_type": "stream",
       "stream": "stdout",
       "text": [
        "k: [ 19125.  20875.]  -> r= -230.090683216\n",
        "."
       ]
      },
      {
       "output_type": "stream",
       "stream": "stdout",
       "text": [
        " success! "
       ]
      },
      {
       "output_type": "stream",
       "stream": "stdout",
       "text": [
        "k: [ 19100.  20900.]  -> r= -223.655958179\n",
        "."
       ]
      },
      {
       "output_type": "stream",
       "stream": "stdout",
       "text": [
        " success! "
       ]
      },
      {
       "output_type": "stream",
       "stream": "stdout",
       "text": [
        "k: [ 19075.  20925.]  -> r= -217.568067086\n",
        "."
       ]
      },
      {
       "output_type": "stream",
       "stream": "stdout",
       "text": [
        " success! "
       ]
      },
      {
       "output_type": "stream",
       "stream": "stdout",
       "text": [
        "k: [ 19050.  20950.]  -> r= -211.798881439\n",
        "."
       ]
      }
     ],
     "prompt_number": "*"
    },
    {
     "cell_type": "code",
     "collapsed": false,
     "input": [
      "evs, IC = getPS(ICe, px, p_base, E_des, get_EV = True, maxnorm=1e-5, rcond=1e-7,  maxStep=.1, maxrep_inner=10, h=1e-4)\n",
      "#evs, ICp = getPS(IC0[[0,1,3,4]], px, p_base, E_des, maxnorm=1e-5, get_EV = True)\n",
      "\n",
      "print IC0\n",
      "print IC\n",
      "print abs(evs)"
     ],
     "language": "python",
     "metadata": {},
     "outputs": [
      {
       "output_type": "stream",
       "stream": "stdout",
       "text": [
        " success! "
       ]
      },
      {
       "output_type": "stream",
       "stream": "stdout",
       "text": [
        "[ 0.93358034  0.43799844  1.25842356  0.94657321  0.10969058]\n",
        "[ 0.93358034  0.43799844  1.25842358  0.94657321  0.10969058]\n",
        "[  9.51182723e-01   9.51182723e-01   4.32667571e-06   1.15444157e-01]\n"
       ]
      }
     ],
     "prompt_number": 30
    },
    {
     "cell_type": "code",
     "collapsed": false,
     "input": [
      "reload(bslip)\n",
      "f2 = stridefunction(p_base)\n"
     ],
     "language": "python",
     "metadata": {},
     "outputs": [],
     "prompt_number": 21
    },
    {
     "cell_type": "code",
     "collapsed": false,
     "input": [
      "delta_alpha += sgn * step_alpha"
     ],
     "language": "python",
     "metadata": {},
     "outputs": [],
     "prompt_number": 22
    },
    {
     "cell_type": "code",
     "collapsed": false,
     "input": [
      "#f2(IC0, px)\n",
      "# hint: for plotting use griddata()!\n",
      "\n",
      "figure(figsize=(16,9))\n",
      "for sol in all_solutions:\n",
      "    ps = sol[1]\n",
      "    plot(ps[0] - ps[1], ps[2] - ps[3], 'b.')\n",
      "    \n",
      "\n"
     ],
     "language": "python",
     "metadata": {},
     "outputs": [
      {
       "output_type": "display_data",
       "png": "[encoded data removed]"
      }
     ],
     "prompt_number": 57
    },
    {
     "cell_type": "code",
     "collapsed": false,
     "input": [
      "def deltafun_E_base2(ICe, p_red, p_base):\n",
      "    \"\"\" returns the difference of the IC minus the final state \"\"\"\n",
      "    f = stridefunction(p_base)\n",
      "    ICc = ICe_to_ICc(ICe, E_des, p_red[0], p_base['m'], l0 = p_base['lp1'][1])\n",
      "    return array(f(ICc, p_red))[[0,1,3,4]] - array(ICe)\n",
      "\n",
      "print deltafun_E_base2(ICe, px, p_base)\n"
     ],
     "language": "python",
     "metadata": {},
     "outputs": [
      {
       "output_type": "stream",
       "stream": "stdout",
       "text": [
        " [  4.38157932e-07  -1.40678799e-07   4.51072112e-07  -3.16478870e-07]\n"
       ]
      }
     ],
     "prompt_number": 26
    },
    {
     "cell_type": "markdown",
     "metadata": {},
     "source": [
      "## Step 5.2: map the $\\Delta L_0 - \\Delta k$ or $\\Delta L_0 - \\Delta \\alpha$ plane (again until instability is found)"
     ]
    },
    {
     "cell_type": "markdown",
     "metadata": {},
     "source": [
      "<a name=\"notes\"></a>\n",
      "# Notes\n",
      "<a href=\"#toc\">table of content</a>  \n",
      "\n",
      "### radius of a quasi-periodic solution\n",
      "the radius of a quasi-periodic solution can be computed as\n",
      "\n",
      "$r = \\frac{\\large l}{\\large 2 \\sin{(\\Delta \\varphi / 2)}}$,\n",
      "\n",
      "where $l$ is the absolute distance between CoM at start and end of a stride, and $\\Delta \\varphi$ is the angle between initial and final CoM velocity in horizontal plane.\n",
      "\n",
      "### Story (elements)\n",
      "\n",
      "* Here, we are mostly interested in \"functional\" asymmetries of the leg - asymmetries that are not apparent like different leg lengths. These can be differences in the leg strength, here represented by different leg stiffnesses $k$, or differences in the leg swing policies, here represented by different angles of attack $\\alpha$.\n",
      "\n",
      "* For completion, we also demonstrate that the \"apparent\" asymmetries like in leg length or lateral leg placement also yield circular walking behavior.\n",
      "\n",
      "* We investigated three different kind of periodic motions, as already found by Geyer: two different kind of symmetric motions, and an asymmetric motion. We selected three parameter sets similar to Geyer's A,B,C points, but changed them slightly towards configurations with increased stability.\n",
      "\n",
      "\n"
     ]
    },
    {
     "cell_type": "code",
     "collapsed": false,
     "input": [],
     "language": "python",
     "metadata": {},
     "outputs": []
    }
   ],
   "metadata": {}
  }
 ]
}