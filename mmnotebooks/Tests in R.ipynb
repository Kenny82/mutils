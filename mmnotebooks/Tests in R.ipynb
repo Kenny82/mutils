{
 "metadata": {
  "name": ""
 },
 "nbformat": 3,
 "nbformat_minor": 0,
 "worksheets": [
  {
   "cells": [
    {
     "cell_type": "markdown",
     "metadata": {},
     "source": [
      "# This notebook is a testing environment for \"R\"\n",
      "\n",
      "potentially required functions can be found here:\n",
      "http://www.psych.mcgill.ca/misc/fda/downloads/FDAfuns/\n",
      "\n",
      "LE:\n",
      "\n",
      "+ March 4, 2014 MM: startet Notebook"
     ]
    },
    {
     "cell_type": "code",
     "collapsed": false,
     "input": [
      "%load_ext rmagic"
     ],
     "language": "python",
     "metadata": {},
     "outputs": [],
     "prompt_number": 1
    },
    {
     "cell_type": "markdown",
     "metadata": {},
     "source": [
      "## How to run cells in R: (cell-level)\n",
      "\n",
      "    %%R -i X,Y -o XYcoef\n",
      "   \n",
      "Runs the cell in \"R\", passing the input variables X, Y and retrieving the output variable XYcoef from R.\n",
      "\n",
      "\n"
     ]
    },
    {
     "cell_type": "code",
     "collapsed": false,
     "input": [
      "%%R \n",
      "x1 <- rnorm(10, mean=.3, sd=3)\n",
      "x2 <- x1^2\n",
      "plot(x1, x2)"
     ],
     "language": "python",
     "metadata": {},
     "outputs": [
      {
       "metadata": {},
       "output_type": "display_data",
       "png": "[encoded data removed]"
      }
     ],
     "prompt_number": 9
    },
    {
     "cell_type": "code",
     "collapsed": false,
     "input": [
      "x1"
     ],
     "language": "python",
     "metadata": {},
     "outputs": [
      {
       "metadata": {},
       "output_type": "pyout",
       "prompt_number": 5,
       "text": [
        "array([  0.,  10.,  10.])"
       ]
      }
     ],
     "prompt_number": 5
    },
    {
     "cell_type": "code",
     "collapsed": false,
     "input": [
      "%%R -o m2\n",
      "x2 = seq(from=31, to=60, length=30)\n",
      "m2 = matrix(data=x2, nrow=5)"
     ],
     "language": "python",
     "metadata": {},
     "outputs": [],
     "prompt_number": 22
    },
    {
     "cell_type": "code",
     "collapsed": false,
     "input": [
      "m2"
     ],
     "language": "python",
     "metadata": {},
     "outputs": [
      {
       "metadata": {},
       "output_type": "pyout",
       "prompt_number": 23,
       "text": [
        "array([[ 31.,  36.,  41.,  46.,  51.,  56.],\n",
        "       [ 32.,  37.,  42.,  47.,  52.,  57.],\n",
        "       [ 33.,  38.,  43.,  48.,  53.,  58.],\n",
        "       [ 34.,  39.,  44.,  49.,  54.,  59.],\n",
        "       [ 35.,  40.,  45.,  50.,  55.,  60.]])"
       ]
      }
     ],
     "prompt_number": 23
    },
    {
     "cell_type": "code",
     "collapsed": false,
     "input": [],
     "language": "python",
     "metadata": {},
     "outputs": []
    }
   ],
   "metadata": {}
  }
 ]
}