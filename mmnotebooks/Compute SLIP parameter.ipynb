{
 "cells": [
  {
   "cell_type": "markdown",
   "metadata": {},
   "source": [
    "Recompute SLIP parameter\n",
    "========================\n",
    "\n",
    "This script is necessary to recompute the parameters when kinematic apex data are \"sub-frame\" computed.\n",
    "\n",
    "* April 9th, 2013 Moritz Maus (started \"scientific\" work)\n",
    "* August 28th, 2013 Moritz Maus: started re-computing again after CoM re-computation\n",
    "* Sep. 2nd, 2013 Moritz Maus: decided to comletely re-compute SLIP parameter, because there are several deviations in old and new kinematic data (e.g. 1cm difference in CoM baseline).\n",
    "* Sep. 3rd (+4th), 2013 MM: corrected error in previous CoM computation. Computed data for subjects 1,2,3,7\n",
    "* Oct. 24nd, 2013 MM: accounted for a different error in previous CoM computation.  Computed data for subjects 1,2,3,7, ttype 1\n",
    "* Nov. 15th, 2013 MM: adapted to new SLIP implementation (C)\n",
    "* Nov. 18th, 2013 MM: found error in nadir / apex assignment (fixed)\n",
    "\n",
    "prerequisites:\n",
    "--------------\n",
    "\n",
    "Requires IPython to run in \"pylab\" mode. If this is not the case, at least insert   \n",
    "`from pylab import *`  \n",
    "somewhere\n",
    "\n"
   ]
  },
  {
   "cell_type": "markdown",
   "metadata": {},
   "source": [
    "## Step 1: import data"
   ]
  },
  {
   "cell_type": "code",
   "execution_count": 1,
   "metadata": {
    "collapsed": false
   },
   "outputs": [
    {
     "name": "stdout",
     "output_type": "stream",
     "text": [
      "Populating the interactive namespace from numpy and matplotlib\n"
     ]
    }
   ],
   "source": [
    "%pylab qt"
   ]
  },
  {
   "cell_type": "code",
   "execution_count": null,
   "metadata": {
    "collapsed": false
   },
   "outputs": [],
   "source": [
    "%connect_info"
   ]
  },
  {
   "cell_type": "code",
   "execution_count": 2,
   "metadata": {
    "collapsed": false
   },
   "outputs": [],
   "source": [
    "import mutils.io as mio\n",
    "import mutils.misc as mi\n",
    "import os\n",
    "import re\n",
    "import mutils.wsviewer as wsv\n",
    "\n",
    "ws = mio.saveable()\n",
    "ws.wsv = wsv.WsView(ws, 'ws (main workspace)')\n",
    "\n",
    "ws.subject = 6\n",
    "ws.subject_doc = 'id of selected subject'\n",
    "ws.ttype = 1\n",
    "ws.ttype_doc = 'trial type (here: only 1 allowed)'\n",
    "\n",
    "\n",
    "ws.datadir_out='data/2011-mmcl_mat/SLIP/new4/'\n",
    "!mkdir -p 'data/2011-mmcl_mat/SLIP/new4/'\n",
    "ws.datadir_out_doc = 'absolute path to store the recomputed SLIP data'\n",
    "\n",
    "    "
   ]
  },
  {
   "cell_type": "code",
   "execution_count": 3,
   "metadata": {
    "collapsed": false
   },
   "outputs": [],
   "source": [
    "# load continous data\n",
    "\n",
    "ws.k = mio.KinData(data_dir = 'data/2011-mmcl_mat/')\n",
    "ws.k.selection = ['com_x', 'com_y', 'com_z']\n",
    "ws.k.load(ws.subject, ws.ttype)\n",
    "ws.k_doc = 'KinData object that handles the continuous data'"
   ]
  },
  {
   "cell_type": "code",
   "execution_count": 4,
   "metadata": {
    "collapsed": false
   },
   "outputs": [],
   "source": [
    "# find apices (at sampling rate accuracy)\n",
    "all_apices = []\n",
    "all_apexphases = []\n",
    "for r in ws.k.raw_dat:\n",
    "    apices = []\n",
    "    apexphases = []\n",
    "    c = r['com'][:, 2]\n",
    "    phi = r['phi2'].squeeze()\n",
    "    rising = c[1] > c[0]\n",
    "    for idx, z in enumerate(c[1:]):\n",
    "        if rising and c[idx] > z:\n",
    "            apices.append(idx)\n",
    "            apexphases.append(phi[idx])\n",
    "            rising = False\n",
    "        if z >= c[idx]:\n",
    "            rising = True\n",
    "    all_apices.append(apices[:])\n",
    "    all_apexphases.append(apexphases[:])\n",
    "    \n",
    "# find nadirs (at sampling rate accuracy)\n",
    "all_nadirs = []\n",
    "all_nadirphases = []\n",
    "for r in ws.k.raw_dat:\n",
    "    nadirs = []\n",
    "    nadirphases = []\n",
    "    c = r['com'][:, 2]\n",
    "    phi = r['phi2'].squeeze()\n",
    "    falling = c[1] < c[0]\n",
    "    for idx, z in enumerate(c[1:]):\n",
    "        if falling and c[idx] < z:\n",
    "            nadirs.append(idx)\n",
    "            nadirphases.append(phi[idx])\n",
    "            falling = False\n",
    "        if z <= c[idx]:\n",
    "            falling = True\n",
    "    all_nadirs.append(nadirs[:])\n",
    "    all_nadirphases.append(nadirphases[:])\n",
    "    \n",
    "ws.n_idcs = []\n",
    "ws.n_idcs_doc = 'list of indices of (nearby) nadir events (one for each trial)'\n",
    "ws.a_idcs = []\n",
    "ws.a_idcs_doc = 'list of indices of (nearby) apex events (one for each trial)'\n",
    "ws.n_phi = []\n",
    "ws.n_phi_doc = 'list of phases of (nearby) nadir events (one for each trial)'\n",
    "ws.a_phi = []\n",
    "ws.a_phi_doc = 'list of phases of (nearby) apex events (one for each trial)'\n",
    "nr = 0\n",
    "for n, a, np, ap in zip(all_nadirs, all_apices, all_nadirphases, all_apexphases):\n",
    "    firstidx = 0\n",
    "    while n[firstidx] < a[0]:\n",
    "        firstidx += 1\n",
    "    #print \"first:\", firstidx, n[firstidx], a[firstidx], n[firstidx] - a[0]\n",
    "    ws.n_idcs.append(n[firstidx:][:])\n",
    "    ws.a_idcs.append(a)\n",
    "    ws.n_phi.append(np[firstidx:][:])\n",
    "    ws.a_phi.append(ap)\n",
    "    "
   ]
  },
  {
   "cell_type": "code",
   "execution_count": 5,
   "metadata": {
    "collapsed": false
   },
   "outputs": [
    {
     "name": "stdout",
     "output_type": "stream",
     "text": [
      "number of trials: 6\n"
     ]
    }
   ],
   "source": [
    "# interpolate apex and nadir values\n",
    "\n",
    "ws.nx_idcs = []\n",
    "ws.nx_idcs_doc = 'list of indices of (exact) nadir events (one for each trial)'\n",
    "ws.ax_idcs = []\n",
    "ws.ax_idcs_doc = 'list of indices of (exact) apex events (one for each trial)'\n",
    "ws.nx_vals = []\n",
    "ws.nx_vals_doc = 'list of heights of nadir events (one for each trial)'\n",
    "ws.ax_vals = []\n",
    "ws.ax_vals_doc = 'list of heights of apex events (one for each trial)'\n",
    "\n",
    "\n",
    "for rep in range(len(ws.n_idcs)):\n",
    "    c = ws.k.raw_dat[rep]['com'][:, 2]\n",
    "    # start with nadir events\n",
    "    nx_idx = []\n",
    "    nx_val = []\n",
    "    for nidx in ws.n_idcs[rep]:\n",
    "        delta = 3\n",
    "        if nidx < 3 or nidx > 60000 - 3:\n",
    "            delta = 1\n",
    "            print \"WARNING - nadir close to border detected\"\n",
    "        pos, val = mi.get_minmax(c[nidx-delta:nidx+delta])\n",
    "        pos += nidx-delta\n",
    "        nx_idx.append(pos)\n",
    "        nx_val.append(val)\n",
    "    ws.nx_vals.append(nx_val)\n",
    "    ws.nx_idcs.append(nx_idx)\n",
    "    # continue with apex events\n",
    "    ax_idx = []\n",
    "    ax_val = []\n",
    "    for aidx in ws.a_idcs[rep]:\n",
    "        delta = 3\n",
    "        if aidx < 3 or aidx > 60000 - 3:\n",
    "            delta = 1\n",
    "            print \"WARNING - apex close to border detected\"\n",
    "        pos, val = mi.get_minmax(c[aidx-delta:aidx+delta])\n",
    "        pos += aidx-delta\n",
    "        if abs(val - c[aidx]) > .0001:\n",
    "            print aidx, \": val:\", val, \" orig:\", c[aidx]\n",
    "        ax_idx.append(pos)\n",
    "        ax_val.append(val)\n",
    "    ws.ax_vals.append(ax_val)\n",
    "    ws.ax_idcs.append(ax_idx)\n",
    "\n",
    "print \"number of trials:\", len(all_apices)"
   ]
  },
  {
   "cell_type": "code",
   "execution_count": 6,
   "metadata": {
    "collapsed": false
   },
   "outputs": [],
   "source": [
    "# sanity check: (almost) every nadir is AFTER the corresponding apex\n",
    "if min(hstack([array(ws.nx_idcs[t])[:500] - array(ws.ax_idcs[t])[:500] for t in range(len(ws.nx_idcs))])) < 0:\n",
    "    raise ValueError, \"This should not happen!\""
   ]
  },
  {
   "cell_type": "code",
   "execution_count": 11,
   "metadata": {
    "collapsed": false
   },
   "outputs": [
    {
     "name": "stdout",
     "output_type": "stream",
     "text": [
      "simulation aborted (phase 3)\n",
      "solution found (step: 0 rep: 5 )\n",
      "solution found (step: 50 rep: 5 )\n",
      "|1>\n",
      "|1>\n",
      "|1>\n",
      "|1>\n",
      "|1>\n",
      "|1>\n",
      "|1>\n",
      "|1>\n",
      "|1>\n",
      "|1>\n",
      "|1>\n",
      "|1>\n",
      "|1>\n",
      "|1>\n",
      "|1>\n",
      "|1>\n",
      "|1>\n",
      "|1>\n",
      "|1>\n",
      "|1>\n",
      "|1>\n",
      "|1>\n",
      "solution found (step: 100 rep: 5 )\n",
      "solution found (step: 150 rep: 5 )\n",
      "solution found (step: 200 rep: 5 )\n"
     ]
    },
    {
     "ename": "ValueError",
     "evalue": "Interpolation between two sampled phases gave too large value!",
     "output_type": "error",
     "traceback": [
      "\u001b[1;31m---------------------------------------------------------------------------\u001b[0m",
      "\u001b[1;31mValueError\u001b[0m                                Traceback (most recent call last)",
      "\u001b[1;32m<ipython-input-11-06992f4e58a6>\u001b[0m in \u001b[0;36m<module>\u001b[1;34m()\u001b[0m\n\u001b[0;32m     34\u001b[0m         \u001b[0mdp\u001b[0m \u001b[1;33m=\u001b[0m \u001b[1;33m(\u001b[0m\u001b[1;36m1.\u001b[0m \u001b[1;33m-\u001b[0m \u001b[0mmod\u001b[0m\u001b[1;33m(\u001b[0m\u001b[0mws\u001b[0m\u001b[1;33m.\u001b[0m\u001b[0max_idcs\u001b[0m\u001b[1;33m[\u001b[0m\u001b[0mrep\u001b[0m\u001b[1;33m]\u001b[0m\u001b[1;33m[\u001b[0m\u001b[0mstep\u001b[0m\u001b[1;33m]\u001b[0m\u001b[1;33m,\u001b[0m \u001b[1;36m1\u001b[0m\u001b[1;33m)\u001b[0m\u001b[1;33m)\u001b[0m\u001b[1;33m*\u001b[0m\u001b[1;33m(\u001b[0m\u001b[0mphi\u001b[0m\u001b[1;33m[\u001b[0m\u001b[0mws\u001b[0m\u001b[1;33m.\u001b[0m\u001b[0max_idcs\u001b[0m\u001b[1;33m[\u001b[0m\u001b[0mrep\u001b[0m\u001b[1;33m]\u001b[0m\u001b[1;33m[\u001b[0m\u001b[0mstep\u001b[0m\u001b[1;33m]\u001b[0m\u001b[1;33m+\u001b[0m\u001b[1;36m1\u001b[0m\u001b[1;33m]\u001b[0m \u001b[1;33m-\u001b[0m \u001b[0mphi\u001b[0m\u001b[1;33m[\u001b[0m\u001b[0mws\u001b[0m\u001b[1;33m.\u001b[0m\u001b[0max_idcs\u001b[0m\u001b[1;33m[\u001b[0m\u001b[0mrep\u001b[0m\u001b[1;33m]\u001b[0m\u001b[1;33m[\u001b[0m\u001b[0mstep\u001b[0m\u001b[1;33m]\u001b[0m\u001b[1;33m]\u001b[0m\u001b[1;33m)\u001b[0m\u001b[1;33m\u001b[0m\u001b[0m\n\u001b[0;32m     35\u001b[0m         \u001b[1;32mif\u001b[0m \u001b[0mdp\u001b[0m \u001b[1;33m>\u001b[0m \u001b[1;36m4\u001b[0m\u001b[1;33m*\u001b[0m\u001b[0mmdp\u001b[0m\u001b[1;33m:\u001b[0m\u001b[1;33m\u001b[0m\u001b[0m\n\u001b[1;32m---> 36\u001b[1;33m             \u001b[1;32mraise\u001b[0m \u001b[0mValueError\u001b[0m\u001b[1;33m(\u001b[0m\u001b[1;34m\"Interpolation between two sampled phases gave too large value!\"\u001b[0m\u001b[1;33m)\u001b[0m\u001b[1;33m\u001b[0m\u001b[0m\n\u001b[0m\u001b[0;32m     37\u001b[0m         \u001b[0mphi0\u001b[0m \u001b[1;33m=\u001b[0m \u001b[0mphi\u001b[0m\u001b[1;33m[\u001b[0m\u001b[0mws\u001b[0m\u001b[1;33m.\u001b[0m\u001b[0max_idcs\u001b[0m\u001b[1;33m[\u001b[0m\u001b[0mrep\u001b[0m\u001b[1;33m]\u001b[0m\u001b[1;33m[\u001b[0m\u001b[0mstep\u001b[0m\u001b[1;33m]\u001b[0m\u001b[1;33m]\u001b[0m \u001b[1;33m+\u001b[0m \u001b[0mdp\u001b[0m\u001b[1;33m\u001b[0m\u001b[0m\n\u001b[0;32m     38\u001b[0m \u001b[1;33m\u001b[0m\u001b[0m\n",
      "\u001b[1;31mValueError\u001b[0m: Interpolation between two sampled phases gave too large value!"
     ]
    }
   ],
   "source": [
    "import models.fitSlip as fit\n",
    "reload(fit)\n",
    "\n",
    "\n",
    "t = linspace(0, 240, 60000, endpoint=False)\n",
    "dt = t[2] - t[1]\n",
    "ka = ws.k.get_kin_apex(ws.a_phi) # list of 6-by-n apex states\n",
    "\n",
    "# add belt speed. add this also to the dictionary that will be saved!\n",
    "\n",
    "\n",
    "for rep in [5,]: #range(len(all_apices)):\n",
    "    vb = mean(ws.k.raw_frc[rep]['vb'])\n",
    "    # mass = ws.SlipData[rep].mass\n",
    "    mass = mean(ws.k.raw_frc[0]['fz_c']) / 9.81  # not very exact, but will be normalized anyway ...\n",
    "    #raise NotImplementedError('PHASES: calculate new phases from raw_dat!')\n",
    "    #phases = ws.SlipData[rep].phases\n",
    "    phi = ws.k.raw_dat[rep]['phi2'].squeeze()\n",
    "    mdp = mean(diff(phi))\n",
    "    phases = []\n",
    "    #orig = ws.SlipData[rep].ESLIP_params\n",
    "    ESLIP_params = []\n",
    "    SLIP_params = ESLIP_params # have a second name for the field: compatibility\n",
    "    # old: ws.SlipData[rep].SLIP_params # just copy to keep format intact\n",
    "    vx = []\n",
    "    y0 = []\n",
    "    vz = []\n",
    "    ymin = []\n",
    "    dE = []\n",
    "    T_exp = []\n",
    "\n",
    "    for step in range(len(all_apices[rep]) - 1):\n",
    "        T = (ws.ax_idcs[rep][step+1] - ws.ax_idcs[rep][step]) * dt\n",
    "        dp = (1. - mod(ws.ax_idcs[rep][step], 1))*(phi[ws.ax_idcs[rep][step]+1] - phi[ws.ax_idcs[rep][step]])\n",
    "        if dp > 4*mdp:\n",
    "            raise ValueError(\"Interpolation between two sampled phases gave too large value!\")\n",
    "        phi0 = phi[ws.ax_idcs[rep][step]] + dp\n",
    "        \n",
    "        IC = [ws.ax_vals[rep][step], ka[rep][4, step] + vb, ka[rep][3, step]]   # [y0, vx, vz]\n",
    "        FS = [ws.ax_vals[rep][step+1], ka[rep][4, step+1] + vb, ka[rep][3, step+1]]   # [y0, vx, vz]\n",
    "        E0 = mass * 9.81 * IC[0] + .5 * mass * (IC[1]**2 + IC[2]**2)\n",
    "        Ee = mass * 9.81 * FS[0] + .5 * mass * (FS[1]**2 + FS[2]**2)\n",
    "        dE_l = Ee - E0 # name \"dE\" already taken\n",
    "        \n",
    "        dE.append(dE_l)\n",
    "        T_exp.append(T)\n",
    "        phases.append(phi0)\n",
    "        vx.append(IC[1])\n",
    "        y0.append(IC[0])\n",
    "        vz.append(IC[2])        \n",
    "        ymin.append(ws.nx_vals[rep][step])\n",
    "        \n",
    "        if False: # old code\n",
    "            # model- and step parameters\n",
    "            mp = { 'IC' : IC, \n",
    "                  'm' : mass,\n",
    "                  'dE' : dE_l}\n",
    "            sp = (ws.ax_vals[rep][step+1], T , \n",
    "                  ws.nx_vals[rep][step], ka[rep][3, step+1])\n",
    "    \n",
    "            #Initial guess: take from \"original\", but modify according to modified means mean\n",
    "            if len(ESLIP_params) < 10:\n",
    "                x0 = orig[step, :]\n",
    "                x0[2] -= .01\n",
    "            else:\n",
    "                x0 = mean(vstack(ESLIP_params), axis=0) + (orig[step,:] - mean(orig, axis=0))\n",
    "                x0[2] -= .005            \n",
    "                \n",
    "            # check if starting condition is valid:\n",
    "            while x0[2] * sin(x0[1]) > IC[0]:\n",
    "                print \"updated starting parameter\"\n",
    "                x0[2] -= .01\n",
    "\n",
    "\n",
    "        if False:  # original data are not taken into account at all!\n",
    "        #Initial guess: take from \"original\", but modify according to modified means mean\n",
    "        # NOTE: actually, x0[4] is the wrong value, but it's ignored in the calculation.\n",
    "\n",
    "            if len(ESLIP_params) < 10:\n",
    "                x0 = orig[step, :5]\n",
    "                x0[2] -= .01\n",
    "            else:\n",
    "                x0 = mean(vstack(ESLIP_params), axis=0) + (orig[step,:5] - mean(orig[:, :5], axis=0))\n",
    "                x0[2] -= .005            \n",
    "                \n",
    "        #fit.calcSlipParams3D2(\n",
    "        pars = fit.calcSlipParams3D2(IC, mass, array(FS), ws.nx_vals[rep][step], T) # P0  = x0)\n",
    "        #ESLIP_params.append( fit.calcSlipParams3D(sp,mp, x0[:4]), )\n",
    "        ESLIP_params.append( pars)\n",
    "        if not mod(step, 50):\n",
    "            print \"solution found (step:\", step, \"rep:\", rep, \")\"\n",
    "            \n",
    "    \n",
    "    # store data\n",
    "    fn = ws.datadir_out +  'params3D_s{}t1r{}.dict'.format(ws.subject, rep+1)\n",
    "    ESLIP_params = vstack(ESLIP_params)\n",
    "    # use \"old\" format. \n",
    "    ESLIP_out = hstack([ESLIP_params[:, :4], zeros((ESLIP_params.shape[0], 2))])\n",
    "    dE = ESLIP_params[:,4]\n",
    "    \n",
    "    \n",
    "    dat = {\n",
    "    'SLIP_params' : SLIP_params,\n",
    "     'T_exp' : T_exp,\n",
    "     'phases' : phases,\n",
    "     'dE' : array(dE),\n",
    "     'P' : ESLIP_params, # hstack([vstack(ESLIP_params)[:, :4], array(dE)[:, newaxis]]),\n",
    "     'IC' : vstack([y0, vx, vz]).T,\n",
    "     'ESLIP_params' : ESLIP_params,\n",
    "     'mass' : mass,\n",
    "     'vx' : array(vx),\n",
    "     'y0' : array(y0),\n",
    "     'vz' : array(vz),\n",
    "     'ymin' : array(ymin),\n",
    "    'vb' : vb\n",
    "    }\n",
    "    mio.msave(fn, dat)\n",
    "    print \"data stored\"\n",
    "    \n",
    "print \"done!\"\n"
   ]
  },
  {
   "cell_type": "code",
   "execution_count": 12,
   "metadata": {
    "collapsed": false
   },
   "outputs": [
    {
     "data": {
      "text/plain": [
       "0.034966719726970609"
      ]
     },
     "execution_count": 12,
     "metadata": {},
     "output_type": "execute_result"
    }
   ],
   "source": [
    "mdp"
   ]
  },
  {
   "cell_type": "code",
   "execution_count": 19,
   "metadata": {
    "collapsed": false
   },
   "outputs": [
    {
     "data": {
      "text/plain": [
       "[<matplotlib.lines.Line2D at 0x7f1997cc26d0>]"
      ]
     },
     "execution_count": 19,
     "metadata": {},
     "output_type": "execute_result"
    }
   ],
   "source": [
    "figure()\n",
    "plot(phi,'.-')"
   ]
  },
  {
   "cell_type": "code",
   "execution_count": 13,
   "metadata": {
    "collapsed": false
   },
   "outputs": [
    {
     "data": {
      "text/plain": [
       "0.14884602219321061"
      ]
     },
     "execution_count": 13,
     "metadata": {},
     "output_type": "execute_result"
    }
   ],
   "source": [
    "dp"
   ]
  },
  {
   "cell_type": "code",
   "execution_count": null,
   "metadata": {
    "collapsed": false
   },
   "outputs": [],
   "source": [
    "raise NotImplementedError(\"STOP\")"
   ]
  },
  {
   "cell_type": "code",
   "execution_count": null,
   "metadata": {
    "collapsed": false
   },
   "outputs": [],
   "source": [
    "# how to compute slip params later on\n"
   ]
  }
 ],
 "metadata": {
  "kernelspec": {
   "display_name": "Python 2",
   "language": "python",
   "name": "python2"
  },
  "language_info": {
   "codemirror_mode": {
    "name": "ipython",
    "version": 2
   },
   "file_extension": ".py",
   "mimetype": "text/x-python",
   "name": "python",
   "nbconvert_exporter": "python",
   "pygments_lexer": "ipython2",
   "version": "2.7.6"
  }
 },
 "nbformat": 4,
 "nbformat_minor": 0
}
