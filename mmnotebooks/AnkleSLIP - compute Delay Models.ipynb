{
 "metadata": {
  "name": "",
  "signature": "sha256:b3a70f64c1ce6ca5300dc60ad86225ee954b8f2b33b9579be8d29a13685be85b"
 },
 "nbformat": 3,
 "nbformat_minor": 0,
 "worksheets": [
  {
   "cells": [
    {
     "cell_type": "markdown",
     "metadata": {},
     "source": [
      "Compute Delay models\n",
      "=======================\n",
      "\n",
      "This notebook is a fork of \"AnkleSLIP - find minimal model\". \n",
      "Here, the relative remaining variance for several delay coordinates is computed to establish the claim that no information from the past is used.\n",
      "\n",
      "+ Dec 10th, 2013 MM: notebook forked\n",
      "+ Jan 8th, 2014 MM: compressed to 1 panel, all subjects\n",
      "\n",
      "\n"
     ]
    },
    {
     "cell_type": "code",
     "collapsed": false,
     "input": [
      "%cd /home/moritz/mmnotebooks"
     ],
     "language": "python",
     "metadata": {},
     "outputs": [
      {
       "output_type": "stream",
       "stream": "stdout",
       "text": [
        "/qnap/pylibs_users/mm/mmnotebooks\n"
       ]
      }
     ],
     "prompt_number": 1
    },
    {
     "cell_type": "code",
     "collapsed": false,
     "input": [
      "#%%capture\n",
      "%config InlineBackend.close_figures = False\n",
      "\n",
      "# this does actually all the work\n",
      "import mutils.misc as mi\n",
      "import libshai.util as ut\n",
      "import sys\n",
      "\n",
      "\n",
      "nbfile_base = \"AnkleSLIP - find minimal model- Version 3.ipynb\"\n",
      "nbfile_this = \"AnkleSLIP - compute Delay Models.ipynb\"\n",
      "\n",
      "mi.run_nbcells(nbfile_base, ['0']) # get basic configuration\n",
      "conf.startup_n_full_maps = 10\n",
      "conf.quiet = True\n",
      "\n",
      "# prepare plot\n",
      "mi.run_nbcells(nbfile_this, ['prepareFigure',])\n",
      "               \n",
      "for subj in [1,2,3,7]:\n",
      "    conf.subject = subj\n",
      "\n",
      "    # load data\n",
      "    mi.run_nbcells(nbfile_base, ['0.1','1']) #load data\n",
      "    frames = arange(ws1.dataset_full.all_IC_r.shape[0])\n",
      "\n",
      "    # compute prediction and plot\n",
      "    mi.run_nbcells(nbfile_this, ['prepareData', 'computePredictions','addToAxes',])\n",
      "    \n",
      "mi.run_nbcells(nbfile_this, ['finalizeFigure',])"
     ],
     "language": "python",
     "metadata": {},
     "outputs": [
      {
       "output_type": "stream",
       "stream": "stdout",
       "text": [
        "cslip_forceZeroRef         bool  True       reference values for controlled SLIP maps must be zero or not\n",
        "dt_medfilter               bool  False      \n",
        "dt_window                  int  30          \n",
        "exclude_IC_from_factors    bool  False      \n",
        "n_factors                  int  5           how many (optimal) factors to select of the full kinematic state\n",
        "normalize_m                bool  True       \n",
        "po_average_over_IC         bool  True       average over IC's and T,ymin (alt: parameters) for reference SLIP\n",
        "quiet                      bool  False      \n",
        "select_ankle_SLIP          bool  True       \n",
        "startup_compute_PCA        bool  False      \n",
        "startup_compute_full_maps  bool  True       \n",
        "startup_n_full_maps        int  20          \n",
        "subject                    int  2           \n",
        "ttype                      int  1           \n"
       ]
      },
      {
       "metadata": {},
       "output_type": "display_data",
       "png": "[encoded data removed]",
       "text": [
        "<matplotlib.figure.Figure at 0x7f1ccd3b3d50>"
       ]
      },
      {
       "output_type": "stream",
       "stream": "stdout",
       "text": [
        "computing right step"
       ]
      },
      {
       "output_type": "stream",
       "stream": "stdout",
       "text": [
        " done\n",
        "computing right stride"
       ]
      },
      {
       "output_type": "stream",
       "stream": "stdout",
       "text": [
        " done\n",
        "computing left step"
       ]
      },
      {
       "output_type": "stream",
       "stream": "stdout",
       "text": [
        " done\n",
        "computing left stride"
       ]
      },
      {
       "output_type": "stream",
       "stream": "stdout",
       "text": [
        " done\n"
       ]
      },
      {
       "metadata": {},
       "output_type": "display_data",
       "png": "[encoded data removed]",
       "text": [
        "<matplotlib.figure.Figure at 0x7f1ccd3b3d50>"
       ]
      },
      {
       "output_type": "stream",
       "stream": "stdout",
       "text": [
        "computing right step"
       ]
      },
      {
       "output_type": "stream",
       "stream": "stdout",
       "text": [
        " done\n",
        "computing right stride"
       ]
      },
      {
       "output_type": "stream",
       "stream": "stdout",
       "text": [
        " done\n",
        "computing left step"
       ]
      },
      {
       "output_type": "stream",
       "stream": "stdout",
       "text": [
        " done\n",
        "computing left stride"
       ]
      },
      {
       "output_type": "stream",
       "stream": "stdout",
       "text": [
        " done\n"
       ]
      },
      {
       "metadata": {},
       "output_type": "display_data",
       "png": "[encoded data removed]",
       "text": [
        "<matplotlib.figure.Figure at 0x7f1ccd3b3d50>"
       ]
      },
      {
       "output_type": "stream",
       "stream": "stdout",
       "text": [
        "computing right step"
       ]
      },
      {
       "output_type": "stream",
       "stream": "stdout",
       "text": [
        " done\n",
        "computing right stride"
       ]
      },
      {
       "output_type": "stream",
       "stream": "stdout",
       "text": [
        " done\n",
        "computing left step"
       ]
      },
      {
       "output_type": "stream",
       "stream": "stdout",
       "text": [
        " done\n",
        "computing left stride"
       ]
      },
      {
       "output_type": "stream",
       "stream": "stdout",
       "text": [
        " done\n"
       ]
      },
      {
       "metadata": {},
       "output_type": "display_data",
       "png": "[encoded data removed]",
       "text": [
        "<matplotlib.figure.Figure at 0x7f1ccd3b3d50>"
       ]
      },
      {
       "output_type": "stream",
       "stream": "stdout",
       "text": [
        "computing right step"
       ]
      },
      {
       "output_type": "stream",
       "stream": "stdout",
       "text": [
        " done\n",
        "computing right stride"
       ]
      },
      {
       "output_type": "stream",
       "stream": "stdout",
       "text": [
        " done\n",
        "computing left step"
       ]
      },
      {
       "output_type": "stream",
       "stream": "stdout",
       "text": [
        " done\n",
        "computing left stride"
       ]
      },
      {
       "output_type": "stream",
       "stream": "stdout",
       "text": [
        " done\n"
       ]
      },
      {
       "metadata": {},
       "output_type": "display_data",
       "png": "[encoded data removed]",
       "text": [
        "<matplotlib.figure.Figure at 0x7f1ccd3b3d50>"
       ]
      },
      {
       "metadata": {},
       "output_type": "display_data",
       "png": "[encoded data removed]",
       "text": [
        "<matplotlib.figure.Figure at 0x7f1ccd3b3d50>"
       ]
      }
     ],
     "prompt_number": 2
    },
    {
     "cell_type": "code",
     "collapsed": false,
     "input": [],
     "language": "python",
     "metadata": {},
     "outputs": [],
     "prompt_number": 6
    },
    {
     "cell_type": "code",
     "collapsed": false,
     "input": [
      "# suppressing output is no longer necessary\n",
      "#%%capture\n",
      "%config InlineBackend.close_figures = False\n",
      "import mutils.misc as mi\n",
      "import libshai.util as ut\n",
      "import sys\n",
      "\n",
      "#cell_ID 0\n",
      "\n",
      "nbfile = \"AnkleSLIP - find minimal model- Version 3.ipynb\"\n",
      "\n",
      "\n",
      "mi.run_nbcells(nbfile, ['0']) # get basic configuration\n",
      "\n",
      "conf.subject = 7 # 1: all > .35; 2: all >= .5, 3: >= .5 # 7: >= .58\n",
      "conf.startup_n_full_maps = 10\n",
      "#conf.cslip_forceZeroRef = False\n",
      "\n",
      "mi.run_nbcells(nbfile, ['0.1','1']) #load data\n",
      "\n",
      "frames = arange(ws1.dataset_full.all_IC_r.shape[0])"
     ],
     "language": "python",
     "metadata": {},
     "outputs": [
      {
       "output_type": "stream",
       "stream": "stdout",
       "text": [
        "_saveables                 list (10)        list of types that can be stored\n",
        "cslip_forceZeroRef         bool  True       reference values for controlled SLIP maps must be zero or not\n",
        "dt_medfilter               bool  False      \n",
        "dt_window                  int  30          \n",
        "exclude_IC_from_factors    bool  False      \n",
        "n_factors                  int  5           how many (optimal) factors to select of the full kinematic state\n",
        "normalize_m                bool  True       \n",
        "po_average_over_IC         bool  True       average over IC's and T,ymin (alt: parameters) for reference SLIP\n",
        "quiet                      bool  False      \n",
        "select_ankle_SLIP          bool  True       \n",
        "startup_compute_PCA        bool  False      \n",
        "startup_compute_full_maps  bool  True       \n",
        "startup_n_full_maps        int  20          \n",
        "subject                    int  2           \n",
        "ttype                      int  1           \n",
        "SlipData        list (6)         SlipData for s:7, t:1\n",
        "_saveables      list (10)        list of types that can be stored\n",
        "k               <class 'mutils.io.KinData'> KinData object: s:7, t:1, selection: ankles"
       ]
      },
      {
       "output_type": "stream",
       "stream": "stdout",
       "text": [
        "\n",
        "len of 'ws1.full_markers': 48  (all: 84)\n",
        "\n",
        " running extended SLIP - EXP consistency check"
       ]
      },
      {
       "output_type": "stream",
       "stream": "stdout",
       "text": [
        "\n",
        "==============================================\n",
        "right steps:\n",
        "  difference (in stds): +0.000, -0.000, -0.000\n",
        "  difference (in stds): -0.000, +0.000, -0.000\n",
        "  difference (in stds): +0.000, -0.000, +0.000\n",
        "  difference (in stds): -0.000, -0.000, +0.000\n",
        "  difference (in stds): -0.000, -0.000, -0.000\n",
        "  difference (in stds): +0.000, -0.000, -0.000\n",
        "  difference (in stds): +0.000, -0.000, +0.000\n",
        "  difference (in stds): +0.000, -0.000, +0.000\n",
        "  difference (in stds): -0.000, -0.000, +0.000\n",
        "  difference (in stds): +0.000, -0.000, +0.000\n",
        "left steps:\n",
        "  difference (in stds): +0.000, -0.000, +0.000\n",
        "  difference (in stds): -0.000, -0.000, -0.000\n",
        "  difference (in stds): +0.000, -0.000, +0.000\n",
        "  difference (in stds): -0.000, -0.000, +0.000\n",
        "  difference (in stds): -0.000, -0.000, +0.000\n",
        "  difference (in stds): +0.000, -0.000, +0.000\n",
        "  difference (in stds): +0.000, -0.000, +0.000\n",
        "  difference (in stds): +0.000, -0.000, +0.000\n",
        "  difference (in stds): -0.000, -0.000, +0.000\n",
        "  difference (in stds): -0.000, -0.000, -0.000\n"
       ]
      },
      {
       "metadata": {},
       "output_type": "display_data",
       "png": "[encoded data removed]",
       "text": [
        "<matplotlib.figure.Figure at 0x37e4450>"
       ]
      }
     ],
     "prompt_number": 3
    },
    {
     "cell_type": "code",
     "collapsed": false,
     "input": [
      "\n",
      "#cell_ID prepareData\n",
      "\n",
      "ws1.dataset_full.all_kin_r = fda.dt_movingavg(ws1.dataset_full.all_kin_r[frames,:], \n",
      "                                              conf.dt_window, conf.dt_medfilter)\n",
      "ws1.dataset_full.all_kin_l = fda.dt_movingavg(ws1.dataset_full.all_kin_l[frames,:], \n",
      "                                              conf.dt_window, conf.dt_medfilter)\n",
      "\n",
      "ws1.dataset_full.all_IC_rc = fda.dt_movingavg(ws1.dataset_full.all_IC_rc[frames,:],\n",
      "                                             conf.dt_window, conf.dt_medfilter)\n",
      "ws1.dataset_full.all_IC_lc = fda.dt_movingavg(ws1.dataset_full.all_IC_lc[frames,:],\n",
      "                                             conf.dt_window, conf.dt_medfilter)\n",
      "\n",
      "ws1.dataset_full.all_param_r = fda.dt_movingavg(ws1.dataset_full.all_param_r[frames,:],\n",
      "                                                conf.dt_window, conf.dt_medfilter)\n",
      "ws1.dataset_full.all_param_l = fda.dt_movingavg(ws1.dataset_full.all_param_l[frames,:], \n",
      "                                                conf.dt_window, conf.dt_medfilter)\n"
     ],
     "language": "python",
     "metadata": {},
     "outputs": [],
     "prompt_number": 3
    },
    {
     "cell_type": "code",
     "collapsed": false,
     "input": [
      "#cell_ID computePredictions\n",
      "\n",
      "# --- make predictions: \n",
      "\n",
      "\n",
      "\n",
      "# --- right step\n",
      "import mutils.statistics as st\n",
      "idat1 = ws1.dataset_full.all_kin_r[1:, :]\n",
      "idat2 = hstack([ws1.dataset_full.all_kin_r, roll(ws1.dataset_full.all_kin_l, 1, axis=0)])[1:, :]\n",
      "idat3 = hstack([ws1.dataset_full.all_kin_r[1:, :], ws1.dataset_full.all_kin_r[:-1, :]])\n",
      "\n",
      "odat1 = ws1.dataset_full.all_param_r[1:, :]\n",
      "odat2 = ws1.dataset_full.all_IC_lc[1:, :]\n",
      "\n",
      "sys.stdout.write(\"computing right step\")\n",
      "sys.stdout.flush()\n",
      "rrv1_1 = st.predTest(idat1, odat1, nboot=100)\n",
      "rrv1_2 = st.predTest(idat2, odat1, nboot=100)\n",
      "rrv1_3 = st.predTest(idat3, odat1, nboot=100)\n",
      "\n",
      "rrv2_1 = st.predTest(idat1, odat2, nboot=100)\n",
      "rrv2_2 = st.predTest(idat2, odat2, nboot=100)\n",
      "rrv2_3 = st.predTest(idat3, odat2, nboot=100)\n",
      "print \" done\"\n",
      "\n",
      "# --- right stride\n",
      "sys.stdout.write(\"computing right stride\")\n",
      "sys.stdout.flush()\n",
      "\n",
      "idat1 = ws1.dataset_full.all_kin_r[1:-1, :]\n",
      "idat2 = hstack([ws1.dataset_full.all_kin_r, roll(ws1.dataset_full.all_kin_l, 1, axis=0)])[1:-1, :]\n",
      "idat3 = hstack([ws1.dataset_full.all_kin_r[:-2, :], ws1.dataset_full.all_kin_r[1:-1, :]])\n",
      "\n",
      "odat1 = ws1.dataset_full.all_param_l[1:-1, :]\n",
      "odat2 = ws1.dataset_full.all_IC_rc[2:, :]\n",
      "\n",
      "rrv3_1 = st.predTest(idat1, odat1, nboot=100)\n",
      "rrv3_2 = st.predTest(idat2, odat1, nboot=100)\n",
      "rrv3_3 = st.predTest(idat3, odat1, nboot=100)\n",
      "\n",
      "rrv4_1 = st.predTest(idat1, odat2, nboot=100)\n",
      "rrv4_2 = st.predTest(idat2, odat2, nboot=100)\n",
      "rrv4_3 = st.predTest(idat3, odat2, nboot=100)\n",
      "print \" done\"\n",
      "\n",
      "# --- left step\n",
      "import mutils.statistics as st\n",
      "idat1 = ws1.dataset_full.all_kin_l[1:-1, :]\n",
      "idat2 = hstack([ws1.dataset_full.all_kin_l, ws1.dataset_full.all_kin_r])[1:-1, :]\n",
      "idat3 = hstack([ws1.dataset_full.all_kin_l[1:-1, :], ws1.dataset_full.all_kin_l[:-2, :]])\n",
      "\n",
      "odat1 = ws1.dataset_full.all_param_l[2:, :]\n",
      "odat2 = ws1.dataset_full.all_IC_rc[2:, :]\n",
      "\n",
      "sys.stdout.write(\"computing left step\")\n",
      "sys.stdout.flush()\n",
      "rrv1_1l = st.predTest(idat1, odat1, nboot=100)\n",
      "rrv1_2l = st.predTest(idat2, odat1, nboot=100)\n",
      "rrv1_3l = st.predTest(idat3, odat1, nboot=100)\n",
      "\n",
      "rrv2_1l = st.predTest(idat1, odat2, nboot=100)\n",
      "rrv2_2l = st.predTest(idat2, odat2, nboot=100)\n",
      "rrv2_3l = st.predTest(idat3, odat2, nboot=100)\n",
      "print \" done\"\n",
      "\n",
      "# --- left stride\n",
      "sys.stdout.write(\"computing left stride\")\n",
      "sys.stdout.flush()\n",
      "\n",
      "idat1 = ws1.dataset_full.all_kin_l[1:-1, :]\n",
      "idat2 = hstack([ws1.dataset_full.all_kin_l, ws1.dataset_full.all_kin_r])[1:-1, :]\n",
      "idat3 = hstack([ws1.dataset_full.all_kin_l[:-2, :], ws1.dataset_full.all_kin_l[1:-1, :]])\n",
      "\n",
      "odat1 = ws1.dataset_full.all_param_r[2:, :]\n",
      "odat2 = ws1.dataset_full.all_IC_lc[2:, :]\n",
      "\n",
      "rrv3_1l = st.predTest(idat1, odat1, nboot=100)\n",
      "rrv3_2l = st.predTest(idat2, odat1, nboot=100)\n",
      "rrv3_3l = st.predTest(idat3, odat1, nboot=100)\n",
      "\n",
      "rrv4_1l = st.predTest(idat1, odat2, nboot=100)\n",
      "rrv4_2l = st.predTest(idat2, odat2, nboot=100)\n",
      "rrv4_3l = st.predTest(idat3, odat2, nboot=100)\n",
      "print \" done\""
     ],
     "language": "python",
     "metadata": {},
     "outputs": [
      {
       "output_type": "stream",
       "stream": "stdout",
       "text": [
        "computing right step"
       ]
      },
      {
       "output_type": "stream",
       "stream": "stdout",
       "text": [
        " done\n",
        "computing right stride"
       ]
      },
      {
       "output_type": "stream",
       "stream": "stdout",
       "text": [
        " done\n",
        "computing left step"
       ]
      },
      {
       "output_type": "stream",
       "stream": "stdout",
       "text": [
        " done\n",
        "computing left stride"
       ]
      },
      {
       "output_type": "stream",
       "stream": "stdout",
       "text": [
        " done\n"
       ]
      }
     ],
     "prompt_number": 4
    },
    {
     "cell_type": "code",
     "collapsed": false,
     "input": [
      "close('all')"
     ],
     "language": "python",
     "metadata": {},
     "outputs": [],
     "prompt_number": 31
    },
    {
     "cell_type": "code",
     "collapsed": false,
     "input": [
      "# cell_ID prepareFigure\n",
      "import libshai.util as ut\n",
      "reload(ut)\n",
      "import matplotlib.gridspec as gridspec\n",
      "\n",
      "import matplotlib.font_manager as fmt\n",
      "FM = fmt.FontManager()\n",
      "#fnt = FM.findfont('Times New Roman') # for Proc R Soc\n",
      "fnt = FM.findfont('Arial') # for NComm\n",
      "fp = fmt.FontProperties(fname=fnt)\n",
      "fp.set_size(9.0)\n",
      "\n",
      "\n",
      "gs1 = gridspec.GridSpec(1, 1, wspace=.02, left=.125, right=.975)\n",
      "\n",
      "#figure(figsize=(6.83, 3)) # ProcRSoc\n",
      "#figure(figsize=(7.03, 3)) # NComm, twocolumn\n",
      "fig = figure(figsize=(3.4, 3)) # NComm, single\n",
      "#ax0 = subplot(1,1,1,frameon=False)\n",
      "\n",
      "rasterize = False # true: better for print (?)\n",
      "fmt = {'marker' : ',', 'ls' : '', 'color' : '#aa1122' , 'markersize':4, \n",
      "       'markeredgecolor' : '#aa1122', 'rasterized': rasterize}\n",
      "fmt2 = {'marker' : ',', 'ls' : '', 'color' : '#9898ff' , 'markersize':4, \n",
      "        'markeredgecolor' : '#9898ff', 'rasterized' : rasterize}\n",
      "\n",
      "#ffmt = {'name' : \"Times New Roman\", 'size' : 9}\n",
      "#ffmt2 = {'family' : 'serif',\n",
      "#         'serif' : ['Times', 'Times New Roman'],\n",
      "#         'size' : 9}\n",
      "#matplotlib.rc('font', **ffmt2)\n",
      " \n",
      "\n",
      "\n",
      "ax1 = subplot(gs1[0,0])"
     ],
     "language": "python",
     "metadata": {},
     "outputs": [
      {
       "metadata": {},
       "output_type": "display_data",
       "png": "[encoded data removed]",
       "text": [
        "<matplotlib.figure.Figure at 0x7f1ccd573650>"
       ]
      }
     ],
     "prompt_number": 9
    },
    {
     "cell_type": "code",
     "collapsed": false,
     "input": [
      "# cell_ID addToAxes\n",
      "axes(ax1)\n",
      "# model 1: 1 step delay\n",
      "for k in xrange(rrv1_1l.shape[1]):\n",
      "    ut.qqplot(rrv1_1l[:,k],rrv1_2l[:,k], **fmt)\n",
      "for k in xrange(rrv2_1l.shape[1]):\n",
      "    ut.qqplot(rrv2_1l[:,k],rrv2_2l[:,k], **fmt)\n",
      "for k in xrange(rrv3_1l.shape[1]):\n",
      "    ut.qqplot(rrv3_1l[:,k],rrv3_2l[:,k], **fmt)\n",
      "for k in xrange(rrv4_1l.shape[1]):\n",
      "    ut.qqplot(rrv4_1l[:,k],rrv4_2l[:,k], **fmt)\n",
      "\n",
      "for k in xrange(rrv1_1.shape[1]):\n",
      "    ut.qqplot(rrv1_1[:,k],rrv1_2[:,k], **fmt)\n",
      "for k in xrange(rrv2_1.shape[1]):\n",
      "    ut.qqplot(rrv2_1[:,k],rrv2_2[:,k], **fmt)    \n",
      "for k in xrange(rrv3_1.shape[1]):\n",
      "    ut.qqplot(rrv3_1[:,k],rrv3_2[:,k], **fmt)\n",
      "for k in xrange(rrv4_1.shape[1]):\n",
      "    ut.qqplot(rrv4_1[:,k],rrv4_2[:,k], **fmt)\n",
      "    \n",
      "    \n",
      "    \n",
      "# model 2: 1 stride delay\n",
      "for k in xrange(rrv1_1l.shape[1]):\n",
      "    ut.qqplot(rrv1_1l[:,k],rrv1_3l[:,k], **fmt2)\n",
      "for k in xrange(rrv2_1l.shape[1]):\n",
      "    ut.qqplot(rrv2_1l[:,k],rrv2_3l[:,k], **fmt2)\n",
      "for k in xrange(rrv3_1l.shape[1]):\n",
      "    ut.qqplot(rrv3_1l[:,k],rrv3_3l[:,k], **fmt2)\n",
      "for k in xrange(rrv4_1l.shape[1]):\n",
      "    ut.qqplot(rrv4_1l[:,k],rrv4_3l[:,k], **fmt2)\n",
      "\n",
      "for k in xrange(rrv1_1.shape[1]):\n",
      "    ut.qqplot(rrv1_1[:,k],rrv1_3[:,k], **fmt2)\n",
      "for k in xrange(rrv2_1.shape[1]):\n",
      "    ut.qqplot(rrv2_1[:,k],rrv2_3[:,k], **fmt2)\n",
      "for k in xrange(rrv3_1.shape[1]):\n",
      "    ut.qqplot(rrv3_1[:,k],rrv3_3[:,k], **fmt2)\n",
      "for k in xrange(rrv4_1.shape[1]):\n",
      "    ut.qqplot(rrv4_1[:,k],rrv4_3[:,k], **fmt2)"
     ],
     "language": "python",
     "metadata": {},
     "outputs": [
      {
       "metadata": {},
       "output_type": "display_data",
       "png": "[encoded data removed]",
       "text": [
        "<matplotlib.figure.Figure at 0x7f1ccd573650>"
       ]
      }
     ],
     "prompt_number": 10
    },
    {
     "cell_type": "code",
     "collapsed": false,
     "input": [
      "# cell_ID finalizeFigure\n",
      "#plot([0,2],[0,2],'-',linewidth=1.5, color='k')\n",
      "axes(ax1)\n",
      "gca().set_yticks(arange(8)*.2)\n",
      "gca().set_yticklabels(arange(8)*.2, fontproperties=fp)\n",
      "\n",
      "gca().set_xticks(arange(8)*.2)\n",
      "gca().set_xticklabels(arange(8)*.2, fontproperties=fp)\n",
      "\n",
      "gca().set_xlim([0, 1.5])\n",
      "gca().set_ylim([0, 1.5])\n",
      "\n",
      "\n",
      "grid(1)\n",
      "\n",
      "#ax2 = subplot(gs1[0,1])\n",
      "\n",
      "\n",
      "#title('one stride delay', fontproperties=fp)\n",
      "plot([0,2],[0,2],'-',linewidth=1, color='k')\n",
      "gca().set_xlim([0, 1.5])\n",
      "gca().set_ylim([0, 1.5])\n",
      "#gca().set_yticklabels([])\n",
      "\n",
      "gca().set_xticks(arange(8)*.2)\n",
      "gca().set_xticklabels(arange(8)*.2, fontproperties=fp)\n",
      "\n",
      "\n",
      "\n",
      "grid(1)\n",
      "\n",
      "# annotation arrows\n",
      "ax1.arrow(.57, .57, -.15, .15, head_width=0.02, head_length=0.04, fc='k', ec='k')\n",
      "ax1.text(.4, .8, 'enlarged model is\\n more predictive', fontproperties=fp, ha='center', va='bottom',\n",
      "         bbox=dict(facecolor='#ffffff', edgecolor='None', pad=5.0))\n",
      "\n",
      "ax1.arrow(.57, .57, .15, -.15, head_width=0.02, head_length=0.04, fc='k', ec='k')\n",
      "ax1.text(.77, .3, 'reference model is\\n more predictive', fontproperties=fp, ha='center', va='top',\n",
      "         bbox=dict(facecolor='#ffffff', edgecolor='None', pad=5.0))\n",
      "\n",
      "# legend axis\n",
      "axL = axes([.15,.75,.45,.125])\n",
      "axL.set_xticks([])\n",
      "axL.set_yticks([])\n",
      "axL.text(0, 1, 'one step delay', fontproperties=fp, va='center')\n",
      "axL.text(0, 0, 'one stride delay', fontproperties=fp, va='center')\n",
      "axL.plot([-.1], [1], '.', color=fmt['color'])\n",
      "axL.plot([-.1], [0], '.', color=fmt2['color'])\n",
      "axL.set_xlim(-.2,1.2)\n",
      "axL.set_ylim(-.5,1.5)\n",
      "\n",
      "ax1.set_ylabel('rrv of full state model (reference)', fontproperties=fp)\n",
      "\n",
      "# common frame for label\n",
      "#ax0.plot(randn(1000))\n",
      "#ax0 = axes([.1,.075,.8,.8], frameon=False)\n",
      "#ax0.set_xticks([])\n",
      "#ax0.set_yticks([])\n",
      "#ax0.set_xlabel('corresponding quantile of enlarged model', fontproperties=fp)\n",
      "ax1.set_xlabel('rrv of enlarged models', fontproperties=fp)\n",
      "ax1.set_title('Q-Q plots of relative remaining variance', fontproperties=fp)\n",
      "\n",
      "#ax1.set_rasterized(False)\n",
      "\n",
      "savefig('img/qq_delaymdodels_all.pdf', dpi=60)\n",
      "savefig('img/qq_delaymdodels_all.svg', dpi=60)\n",
      "pass"
     ],
     "language": "python",
     "metadata": {},
     "outputs": [
      {
       "metadata": {},
       "output_type": "display_data",
       "png": "[encoded data removed]",
       "text": [
        "<matplotlib.figure.Figure at 0x7f1ccd573650>"
       ]
      }
     ],
     "prompt_number": 11
    },
    {
     "cell_type": "code",
     "collapsed": false,
     "input": [
      "savefig('img/qq_delaymdodels_all.pdf')\n",
      "savefig('img/qq_delaymdodels_all.svg')"
     ],
     "language": "python",
     "metadata": {},
     "outputs": [],
     "prompt_number": 6
    },
    {
     "cell_type": "markdown",
     "metadata": {},
     "source": [
      "## Step 2: compute analytical (statistical) expression\n",
      "\n",
      "The idea is: \"A bootstrapped distribution is an estimation of the probability of the true value beeing that value\". \n",
      "We now compute the probability of \"A(bootstrapped)\" > \"B(bootstrapped)\", which is basically:\n",
      "\"How large is the probability that a random sample, drawn from A, is larger than a random sample, drawn from B?\"\n",
      "\n",
      "This is the chance that A(true value) is larger than B(true value)"
     ]
    },
    {
     "cell_type": "code",
     "collapsed": false,
     "input": [
      "# do these histograms \"statistically overlap?\"\n",
      "figure()\n",
      "hist(rrv4_1l[:,1], alpha=.5)\n",
      "hist(rrv4_2l[:,1], alpha=.5)"
     ],
     "language": "python",
     "metadata": {},
     "outputs": [
      {
       "metadata": {},
       "output_type": "pyout",
       "prompt_number": 125,
       "text": [
        "(array([ 6,  7, 21, 14, 23, 17,  5,  5,  1,  1]),\n",
        " array([ 0.73518366,  0.76097786,  0.78677206,  0.81256626,  0.83836046,\n",
        "        0.86415466,  0.88994887,  0.91574307,  0.94153727,  0.96733147,\n",
        "        0.99312567]),\n",
        " <a list of 10 Patch objects>)"
       ]
      },
      {
       "metadata": {},
       "output_type": "display_data",
       "png": "[encoded data removed]",
       "text": [
        "<matplotlib.figure.Figure at 0x23267990>"
       ]
      }
     ],
     "prompt_number": 125
    },
    {
     "cell_type": "code",
     "collapsed": false,
     "input": [
      "17.5 / 2.56 "
     ],
     "language": "python",
     "metadata": {},
     "outputs": [
      {
       "metadata": {},
       "output_type": "pyout",
       "prompt_number": 82,
       "text": [
        "6.8359375"
       ]
      }
     ],
     "prompt_number": 82
    },
    {
     "cell_type": "code",
     "collapsed": false,
     "input": [
      "# define test functions\n",
      "\n",
      "from numpy import histogram, cumsum\n",
      "\n",
      "def get_cpdf(data, bins=100):\n",
      "    \"\"\"\n",
      "    returns the empirical cummulative probability density function.\n",
      "    Code from Stackoverflow (thanks to alex-i)\n",
      "    \n",
      "    :args:\n",
      "        data (1d array): empirical data\n",
      "        bins (int): number of bins\n",
      "    \n",
      "    :returns:\n",
      "        x, y (1d arrays): the empirical pdf (cummulative)\n",
      "        \n",
      "    \"\"\"\n",
      "    counts, bins = numpy.histogram(data, bins=bins, density=True)\n",
      "    cum_counts = numpy.cumsum(counts)\n",
      "    bin_widths = (bins[1:] - bins[:-1]) # bin_widths has the function of \"dx\" in the integral\n",
      "    y = hstack([0, cum_counts*bin_widths])\n",
      "    x = bins\n",
      "    return x,y\n",
      "\n",
      "\n",
      "\n",
      "\n",
      "def p_sampledst(dst1, dst2):\n",
      "    \"\"\"\n",
      "    computes the probability that a random sample drawn from the (empirical) distribution dst1\n",
      "    is larger than a random sample drawn from the (empirical) distribution dst2\n",
      "    \n",
      "    :args:\n",
      "        dst1 (1d array): empirical distribution to test\n",
      "        dst2 (1d array): empirical reference distribution\n",
      "        \n",
      "    :returns:\n",
      "        p (float): probability of dst1 > dst2\n",
      "    \"\"\"\n",
      "   \n",
      "    start = min(min(dst1),min(dst2))\n",
      "    end = max(max(dst1),max(dst2))\n",
      "    delta = end - start\n",
      "    start -= .1*delta\n",
      "    end += .1*delta\n",
      "    xi = linspace(start,end,10000) # just to have regular spacing\n",
      "\n",
      "    cpdf_ref_x, cpdf_ref_y = get_cpdf(dst2) # reference distribution cpdf\n",
      "    cpdf_test_x, cpdf_test_y = get_cpdf(dst1) # test distribution cpdf\n",
      "\n",
      "    # interpolate for regular spacing\n",
      "    cri = interp(xi, cpdf_ref_x, cpdf_ref_y, right=1, left=0)\n",
      "    cti = interp(xi, cpdf_test_x, cpdf_test_y, right=1, left=0)\n",
      "\n",
      "    pti = gradient(cti) # cpdf -> pdf\n",
      "\n",
      "    # compute P(test > ref) = integral( p(test=x)*p(ref > x) dx)\n",
      "    p_tot = 0.\n",
      "\n",
      "    for px, py in zip(pti, cri):\n",
      "        p_tot += px * py\n",
      "        \n",
      "    return p_tot\n",
      "    \n"
     ],
     "language": "python",
     "metadata": {},
     "outputs": []
    },
    {
     "cell_type": "code",
     "collapsed": false,
     "input": [
      "print \"p for 'Is a memory based linear model better?'\"\n",
      "print \"results for subject {}\\n\".format(conf.subject)\n",
      "\n",
      "print \"Right step:\"\n",
      "print \"=\" * 12\n",
      "print \"  SLIP parameter:\"\n",
      "print \"  \" + \"=\" * 15\n",
      "for dim in range(5):\n",
      "    print \"  param: {} : test1: {:1.5f}, test2: {:1.5f}\".format(dim + 1,\n",
      "                    p_sampledst(rrv1_2[:, dim], rrv1_1[:, dim]), p_sampledst(rrv1_3[:, dim], rrv1_1[:, dim]))\n",
      "\n",
      "print \"  Apex states:\"    \n",
      "print \"  \" + \"=\" * 11\n",
      "for dim in range(3):\n",
      "    print \"  param: {} : test1: {:1.5f}, test2: {:1.5f}\".format(dim + 1,\n",
      "                    p_sampledst(rrv2_2[:, dim], rrv2_1[:, dim]), p_sampledst(rrv2_3[:, dim], rrv2_1[:, dim]))\n",
      "\n",
      "print \"Right stride:\"\n",
      "print \"=\" * 12\n",
      "print \"  SLIP parameter:\"\n",
      "print \"  \" + \"=\" * 15\n",
      "for dim in range(5):\n",
      "    print \"  param: {} : test1: {:1.5f}, test2: {:1.5f}\".format(dim + 1,\n",
      "                    p_sampledst(rrv3_2[:, dim], rrv3_1[:, dim]), p_sampledst(rrv3_3[:, dim], rrv3_1[:, dim]))\n",
      "\n",
      "print \"  Apex states:\"    \n",
      "print \"  \" + \"=\" * 11\n",
      "for dim in range(3):\n",
      "    print \"  param: {} : test1: {:1.5f}, test2: {:1.5f}\".format(dim + 1,\n",
      "                    p_sampledst(rrv4_2[:, dim], rrv4_1[:, dim]), p_sampledst(rrv4_3[:, dim], rrv4_1[:, dim]))\n",
      "    \n",
      "print \"Left step:\"\n",
      "print \"=\" * 12\n",
      "print \"  SLIP parameter:\"\n",
      "print \"  \" + \"=\" * 15\n",
      "for dim in range(5):\n",
      "    print \"  param: {} : test1: {:1.5f}, test2: {:1.5f}\".format(dim + 1,\n",
      "                    p_sampledst(rrv1_2l[:, dim], rrv1_1l[:, dim]), p_sampledst(rrv1_3l[:, dim], rrv1_1l[:, dim]))\n",
      "\n",
      "print \"  Apex states:\"    \n",
      "print \"  \" + \"=\" * 11\n",
      "for dim in range(3):\n",
      "    print \"  param: {} : test1: {:1.5f}, test2: {:1.5f}\".format(dim + 1,\n",
      "                    p_sampledst(rrv2_2l[:, dim], rrv2_1l[:, dim]), p_sampledst(rrv2_3l[:, dim], rrv2_1l[:, dim]))\n",
      "\n",
      "print \"Left stride:\"\n",
      "print \"=\" * 12\n",
      "print \"  SLIP parameter:\"\n",
      "print \"  \" + \"=\" * 15\n",
      "for dim in range(5):\n",
      "    print \"  param: {} : test1: {:1.5f}, test2: {:1.5f}\".format(dim + 1,\n",
      "                    p_sampledst(rrv3_2l[:, dim], rrv3_1l[:, dim]), p_sampledst(rrv3_3l[:, dim], rrv3_1l[:, dim]))\n",
      "\n",
      "print \"  Apex states:\"    \n",
      "print \"  \" + \"=\" * 11\n",
      "for dim in range(3):\n",
      "    print \"  param: {} : test1: {:1.5f}, test2: {:1.5f}\".format(dim + 1,\n",
      "                    p_sampledst(rrv4_2l[:, dim], rrv4_1l[:, dim]), p_sampledst(rrv4_3l[:, dim], rrv4_1l[:, dim]))\n",
      "    \n",
      "      \n",
      "    \n"
     ],
     "language": "python",
     "metadata": {},
     "outputs": []
    },
    {
     "cell_type": "code",
     "collapsed": false,
     "input": [
      "rrv1_2.shape"
     ],
     "language": "python",
     "metadata": {},
     "outputs": []
    },
    {
     "cell_type": "code",
     "collapsed": false,
     "input": [
      "figure()\n",
      "plot(ws1.dataset_full.s_param_l[950:1000,:],'.')\n"
     ],
     "language": "python",
     "metadata": {},
     "outputs": []
    },
    {
     "cell_type": "code",
     "collapsed": false,
     "input": [
      "figure()\n",
      "plot(ws1.dataset_full.all_IC_l[:,0]/ std(ws1.dataset_full.all_IC_l[:,0]), '.')\n",
      "plot(ws1.dataset_full.all_IC_r[:,0] / std(ws1.dataset_full.all_IC_r[:,0]), '.')"
     ],
     "language": "python",
     "metadata": {},
     "outputs": []
    },
    {
     "cell_type": "code",
     "collapsed": false,
     "input": [],
     "language": "python",
     "metadata": {},
     "outputs": []
    }
   ],
   "metadata": {}
  }
 ]
}