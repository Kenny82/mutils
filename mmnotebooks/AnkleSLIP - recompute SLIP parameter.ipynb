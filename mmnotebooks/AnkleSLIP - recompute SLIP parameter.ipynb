{
 "metadata": {
  "name": ""
 },
 "nbformat": 3,
 "nbformat_minor": 0,
 "worksheets": [
  {
   "cells": [
    {
     "cell_type": "markdown",
     "metadata": {},
     "source": [
      "Recompute SLIP parameter\n",
      "========================\n",
      "\n",
      "This script is necessary to recompute the parameters when kinematic apex data are \"sub-frame\" computed.\n",
      "\n",
      "* April 9th, 2013 Moritz Maus (started \"scientific\" work)\n",
      "* August 28th, 2013 Moritz Maus: started re-computing again after CoM re-computation\n",
      "* Sep. 2nd, 2013 Moritz Maus: decided to comletely re-compute SLIP parameter, because there are several deviations in old and new kinematic data (e.g. 1cm difference in CoM baseline).\n",
      "* Sep. 3rd (+4th), 2013 MM: corrected error in previous CoM computation. Computed data for subjects 1,2,3,7\n",
      "* Oct. 24nd, 2013 MM: accounted for a different error in previous CoM computation.  Computed data for subjects 1,2,3,7, ttype 1\n",
      "* Nov. 15th, 2013 MM: adapted to new SLIP implementation (C)\n",
      "* Nov. 18th, 2013 MM: found error in nadir / apex assignment (fixed)\n",
      "\n",
      "prerequisites:\n",
      "--------------\n",
      "\n",
      "Requires IPython to run in \"pylab\" mode. If this is not the case, at least insert   \n",
      "`from pylab import *`  \n",
      "somewhere\n",
      "\n"
     ]
    },
    {
     "cell_type": "markdown",
     "metadata": {},
     "source": [
      "## Step 1: import data"
     ]
    },
    {
     "cell_type": "code",
     "collapsed": false,
     "input": [
      "%connect_info"
     ],
     "language": "python",
     "metadata": {},
     "outputs": [
      {
       "output_type": "stream",
       "stream": "stdout",
       "text": [
        "{\n",
        "  \"stdin_port\": 44135, \n",
        "  \"ip\": \"127.0.0.1\", \n",
        "  \"control_port\": 51510, \n",
        "  \"hb_port\": 39315, \n",
        "  \"signature_scheme\": \"hmac-sha256\", \n",
        "  \"key\": \"33f6d951-c805-431e-a766-291ebbfe395a\", \n",
        "  \"shell_port\": 47523, \n",
        "  \"transport\": \"tcp\", \n",
        "  \"iopub_port\": 41532\n",
        "}\n",
        "\n",
        "Paste the above JSON into a file, and connect with:\n",
        "    $> ipython <app> --existing <file>\n",
        "or, if you are local, you can connect with just:\n",
        "    $> ipython <app> --existing kernel-92cbb54b-b759-4952-9ef1-518da4449412.json \n",
        "or even just:\n",
        "    $> ipython <app> --existing \n",
        "if this is the most recent IPython session you have started.\n"
       ]
      }
     ],
     "prompt_number": 1
    },
    {
     "cell_type": "code",
     "collapsed": false,
     "input": [
      "import mutils.io as mio\n",
      "import mutils.misc as mi\n",
      "import os\n",
      "import re\n",
      "\n",
      "ws = mio.saveable()\n",
      "\n",
      "ws.subject = 7\n",
      "ws.subject_doc = 'id of selected subject'\n",
      "ws.ttype = 1\n",
      "ws.ttype_doc = 'trial type (here: only 1 allowed)'\n",
      "\n",
      "# load SLIP data\n",
      "ws.files = []\n",
      "ws.files_doc = 'list of filenames of (original) SLIP data'\n",
      "#datadir = '../data/2011-mmcl_mat/SLIP/'\n",
      "ws.datadir='data/2011-mmcl_mat/SLIP/new/'\n",
      "ws.datadir_doc = 'absolute path to SLIP data'\n",
      "\n",
      "ws.datadir_out='data/2011-mmcl_mat/SLIP/new4/'\n",
      "!mkdir -p 'data/2011-mmcl_mat/SLIP/new4/'\n",
      "ws.datadir_out_doc = 'absolute path to store the recomputed SLIP data'\n",
      "\n",
      "\n",
      "for fn in os.listdir(ws.datadir):\n",
      "    if re.match('^params3D_s%it%ir[0-9]' % (ws.subject, ws.ttype), fn):\n",
      "        if fn != 'params3D_s8t1r2.dict':  # this dataset is corrputed\n",
      "            ws.files.append(fn)\n",
      "        \n",
      "ws.files.sort()\n",
      "\n",
      "# NOTE: use ESLIP_params, *not* SLIP_params\n",
      "ws.SlipData = [mi.Struct(mio.mload(ws.datadir + fn)) for fn in ws.files]\n",
      "ws.SlipData_doc = 'list of original SLIP data (one for each trial)'\n",
      "for d in ws.SlipData:\n",
      "    d.IC = vstack([d.y0, d.vx, d.vz]).T[:-1,:]\n",
      "    d.P = hstack([d.ESLIP_params[:, :4], hstack(d.dE)[:, newaxis]])\n",
      "    \n",
      "    "
     ],
     "language": "python",
     "metadata": {},
     "outputs": [],
     "prompt_number": 1
    },
    {
     "cell_type": "code",
     "collapsed": false,
     "input": [
      "# load continous data\n",
      "\n",
      "ws.k = mio.KinData(data_dir = 'data/2011-mmcl_mat/')\n",
      "ws.k.selection = ['com_x', 'com_y', 'com_z']\n",
      "ws.k.load(ws.subject, ws.ttype)\n",
      "ws.k_doc = 'KinData object that handles the continuous data'"
     ],
     "language": "python",
     "metadata": {},
     "outputs": [],
     "prompt_number": 2
    },
    {
     "cell_type": "code",
     "collapsed": false,
     "input": [
      "# find apices (at sampling rate accuracy)\n",
      "all_apices = []\n",
      "all_apexphases = []\n",
      "for r in ws.k.raw_dat:\n",
      "    apices = []\n",
      "    apexphases = []\n",
      "    c = r['com'][:, 2]\n",
      "    phi = r['phi2'].squeeze()\n",
      "    rising = c[1] > c[0]\n",
      "    for idx, z in enumerate(c[1:]):\n",
      "        if rising and c[idx] > z:\n",
      "            apices.append(idx)\n",
      "            apexphases.append(phi[idx])\n",
      "            rising = False\n",
      "        if z >= c[idx]:\n",
      "            rising = True\n",
      "    all_apices.append(apices[:])\n",
      "    all_apexphases.append(apexphases[:])\n",
      "    \n",
      "# find nadirs (at sampling rate accuracy)\n",
      "all_nadirs = []\n",
      "all_nadirphases = []\n",
      "for r in ws.k.raw_dat:\n",
      "    nadirs = []\n",
      "    nadirphases = []\n",
      "    c = r['com'][:, 2]\n",
      "    phi = r['phi2'].squeeze()\n",
      "    falling = c[1] < c[0]\n",
      "    for idx, z in enumerate(c[1:]):\n",
      "        if falling and c[idx] < z:\n",
      "            nadirs.append(idx)\n",
      "            nadirphases.append(phi[idx])\n",
      "            falling = False\n",
      "        if z <= c[idx]:\n",
      "            falling = True\n",
      "    all_nadirs.append(nadirs[:])\n",
      "    all_nadirphases.append(nadirphases[:])\n",
      "    \n",
      "ws.n_idcs = []\n",
      "ws.n_idcs_doc = 'list of indices of (nearby) nadir events (one for each trial)'\n",
      "ws.a_idcs = []\n",
      "ws.a_idcs_doc = 'list of indices of (nearby) apex events (one for each trial)'\n",
      "ws.n_phi = []\n",
      "ws.n_phi_doc = 'list of phases of (nearby) nadir events (one for each trial)'\n",
      "ws.a_phi = []\n",
      "ws.a_phi_doc = 'list of phases of (nearby) apex events (one for each trial)'\n",
      "nr = 0\n",
      "for n, a, np, ap in zip(all_nadirs, all_apices, all_nadirphases, all_apexphases):\n",
      "    firstidx = 0\n",
      "    while n[firstidx] < a[0]:\n",
      "        firstidx += 1\n",
      "    #print \"first:\", firstidx, n[firstidx], a[firstidx], n[firstidx] - a[0]\n",
      "    ws.n_idcs.append(n[firstidx:][:])\n",
      "    ws.a_idcs.append(a)\n",
      "    ws.n_phi.append(np[firstidx:][:])\n",
      "    ws.a_phi.append(ap)\n",
      "    "
     ],
     "language": "python",
     "metadata": {},
     "outputs": [],
     "prompt_number": 3
    },
    {
     "cell_type": "code",
     "collapsed": false,
     "input": [
      "# interpolate apex and nadir values\n",
      "\n",
      "ws.nx_idcs = []\n",
      "ws.nx_idcs_doc = 'list of indices of (exact) nadir events (one for each trial)'\n",
      "ws.ax_idcs = []\n",
      "ws.ax_idcs_doc = 'list of indices of (exact) apex events (one for each trial)'\n",
      "ws.nx_vals = []\n",
      "ws.nx_vals_doc = 'list of heights of nadir events (one for each trial)'\n",
      "ws.ax_vals = []\n",
      "ws.ax_vals_doc = 'list of heights of apex events (one for each trial)'\n",
      "\n",
      "\n",
      "for rep in range(len(ws.n_idcs)):\n",
      "    c = ws.k.raw_dat[rep]['com'][:, 2]\n",
      "    # start with nadir events\n",
      "    nx_idx = []\n",
      "    nx_val = []\n",
      "    for nidx in ws.n_idcs[rep]:\n",
      "        delta = 3\n",
      "        if nidx < 3 or nidx > 60000 - 3:\n",
      "            delta = 1\n",
      "            print \"WARNING - nadir close to border detected\"\n",
      "        pos, val = mi.get_minmax(c[nidx-delta:nidx+delta])\n",
      "        pos += nidx-delta\n",
      "        nx_idx.append(pos)\n",
      "        nx_val.append(val)\n",
      "    ws.nx_vals.append(nx_val)\n",
      "    ws.nx_idcs.append(nx_idx)\n",
      "    # continue with apex events\n",
      "    ax_idx = []\n",
      "    ax_val = []\n",
      "    for aidx in ws.a_idcs[rep]:\n",
      "        delta = 3\n",
      "        if aidx < 3 or aidx > 60000 - 3:\n",
      "            delta = 1\n",
      "            print \"WARNING - apex close to border detected\"\n",
      "        pos, val = mi.get_minmax(c[aidx-delta:aidx+delta])\n",
      "        pos += aidx-delta\n",
      "        if abs(val - c[aidx]) > .0001:\n",
      "            print aidx, \": val:\", val, \" orig:\", c[aidx]\n",
      "        ax_idx.append(pos)\n",
      "        ax_val.append(val)\n",
      "    ws.ax_vals.append(ax_val)\n",
      "    ws.ax_idcs.append(ax_idx)\n",
      "\n",
      "print \"number of trials:\", len(all_apices)"
     ],
     "language": "python",
     "metadata": {},
     "outputs": [
      {
       "output_type": "stream",
       "stream": "stdout",
       "text": [
        "number of trials: 6\n"
       ]
      }
     ],
     "prompt_number": 4
    },
    {
     "cell_type": "code",
     "collapsed": false,
     "input": [
      "# sanity check: (almost) every nadix is AFTER the corresponding apex\n",
      "if min(hstack([array(ws.nx_idcs[t])[:500] - array(ws.ax_idcs[t])[:500] for t in range(len(ws.nx_idcs))])) < 0:\n",
      "    raise ValueError, \"This should not happen!\""
     ],
     "language": "python",
     "metadata": {},
     "outputs": [],
     "prompt_number": 5
    },
    {
     "cell_type": "code",
     "collapsed": false,
     "input": [
      "import models.fitSlip as fit\n",
      "reload(fit)\n",
      "\n",
      "\n",
      "t = linspace(0, 240, 60000, endpoint=False)\n",
      "dt = t[2] - t[1]\n",
      "ka = ws.k.get_kin_apex(ws.a_phi) # list of 6-by-n apex states\n",
      "\n",
      "# add belt speed. add this also to the dictionary that will be saved!\n",
      "\n",
      "\n",
      "\n",
      "for rep in range(len(all_apices)):\n",
      "    vb = mean(ws.k.raw_frc[rep]['vb'])\n",
      "    mass = ws.SlipData[rep].mass\n",
      "    #raise NotImplementedError('PHASES: calculate new phases from raw_dat!')\n",
      "    #phases = ws.SlipData[rep].phases\n",
      "    phi = ws.k.raw_dat[rep]['phi2'].squeeze()\n",
      "    mdp = mean(diff(phi))\n",
      "    phases = []\n",
      "    orig = ws.SlipData[rep].ESLIP_params\n",
      "    ESLIP_params = []\n",
      "    SLIP_params = ws.SlipData[rep].SLIP_params # just copy to keep format intact\n",
      "    vx = []\n",
      "    y0 = []\n",
      "    vz = []\n",
      "    ymin = []\n",
      "    dE = []\n",
      "    T_exp = []\n",
      "\n",
      "    for step in range(len(all_apices[rep]) - 1):\n",
      "        T = (ws.ax_idcs[rep][step+1] - ws.ax_idcs[rep][step]) * dt\n",
      "        dp = (1. - mod(ws.ax_idcs[rep][step], 1))*(phi[ws.ax_idcs[rep][step]+1] - phi[ws.ax_idcs[rep][step]])\n",
      "        if dp > 2*mdp:\n",
      "            raise ValueError(\"Interpolation between two sampled phases gave too large value!\")\n",
      "        phi0 = phi[ws.ax_idcs[rep][step]] + dp\n",
      "        \n",
      "        IC = [ws.ax_vals[rep][step], ka[rep][4, step] + vb, ka[rep][3, step]]   # [y0, vx, vz]\n",
      "        FS = [ws.ax_vals[rep][step+1], ka[rep][4, step+1] + vb, ka[rep][3, step+1]]   # [y0, vx, vz]\n",
      "        E0 = mass * 9.81 * IC[0] + .5 * mass * (IC[1]**2 + IC[2]**2)\n",
      "        Ee = mass * 9.81 * FS[0] + .5 * mass * (FS[1]**2 + FS[2]**2)\n",
      "        dE_l = Ee - E0 # name \"dE\" already taken\n",
      "        \n",
      "        dE.append(dE_l)\n",
      "        T_exp.append(T)\n",
      "        phases.append(phi0)\n",
      "        vx.append(IC[1])\n",
      "        y0.append(IC[0])\n",
      "        vz.append(IC[2])        \n",
      "        ymin.append(ws.nx_vals[rep][step])\n",
      "        \n",
      "        if False: # old code\n",
      "            # model- and step parameters\n",
      "            mp = { 'IC' : IC, \n",
      "                  'm' : mass,\n",
      "                  'dE' : dE_l}\n",
      "            sp = (ws.ax_vals[rep][step+1], T , \n",
      "                  ws.nx_vals[rep][step], ka[rep][3, step+1])\n",
      "    \n",
      "            #Initial guess: take from \"original\", but modify according to modified means mean\n",
      "            if len(ESLIP_params) < 10:\n",
      "                x0 = orig[step, :]\n",
      "                x0[2] -= .01\n",
      "            else:\n",
      "                x0 = mean(vstack(ESLIP_params), axis=0) + (orig[step,:] - mean(orig, axis=0))\n",
      "                x0[2] -= .005            \n",
      "                \n",
      "            # check if starting condition is valid:\n",
      "            while x0[2] * sin(x0[1]) > IC[0]:\n",
      "                print \"updated starting parameter\"\n",
      "                x0[2] -= .01\n",
      "\n",
      "\n",
      "            \n",
      "        #Initial guess: take from \"original\", but modify according to modified means mean\n",
      "        # NOTE: actually, x0[4] is the wrong value, but it's ignored in the calculation.\n",
      "        if len(ESLIP_params) < 10:\n",
      "            x0 = orig[step, :5]\n",
      "            x0[2] -= .01\n",
      "        else:\n",
      "            x0 = mean(vstack(ESLIP_params), axis=0) + (orig[step,:5] - mean(orig[:, :5], axis=0))\n",
      "            x0[2] -= .005            \n",
      "                \n",
      "        #fit.calcSlipParams3D2(\n",
      "        pars = fit.calcSlipParams3D2(IC, mass, array(FS), ws.nx_vals[rep][step], T) # P0  = x0)\n",
      "        #ESLIP_params.append( fit.calcSlipParams3D(sp,mp, x0[:4]), )\n",
      "        ESLIP_params.append( pars)\n",
      "        if not mod(step, 50):\n",
      "            print \"solution found (step:\", step, \"rep:\", rep, \")\"\n",
      "            \n",
      "    \n",
      "    # store data\n",
      "    fn = ws.datadir_out +  ws.files[rep]\n",
      "    ESLIP_params = vstack(ESLIP_params)\n",
      "    # use \"old\" format. \n",
      "    ESLIP_out = hstack([ESLIP_params[:, :4], zeros((ESLIP_params.shape[0], 2))])\n",
      "    dE = ESLIP_params[:,4]\n",
      "    \n",
      "    \n",
      "    dat = {\n",
      "    'SLIP_params' : SLIP_params,\n",
      "     'T_exp' : T_exp,\n",
      "     'phases' : phases,\n",
      "     'dE' : array(dE),\n",
      "     'P' : ESLIP_params, # hstack([vstack(ESLIP_params)[:, :4], array(dE)[:, newaxis]]),\n",
      "     'IC' : vstack([y0, vx, vz]).T,\n",
      "     'ESLIP_params' : ESLIP_params,\n",
      "     'mass' : mass,\n",
      "     'vx' : array(vx),\n",
      "     'y0' : array(y0),\n",
      "     'vz' : array(vz),\n",
      "     'ymin' : array(ymin),\n",
      "    'vb' : vb\n",
      "    }\n",
      "    mio.msave(fn, dat)\n",
      "    print \"data stored\"\n",
      "    \n",
      "print \"done!\"\n"
     ],
     "language": "python",
     "metadata": {},
     "outputs": [
      {
       "output_type": "stream",
       "stream": "stdout",
       "text": [
        "solution found (step: 0 rep: 0 )\n",
        "solution found (step:"
       ]
      },
      {
       "output_type": "stream",
       "stream": "stdout",
       "text": [
        " 50 rep: 0 )\n",
        "solution found (step:"
       ]
      },
      {
       "output_type": "stream",
       "stream": "stdout",
       "text": [
        " 100 rep: 0 )\n",
        "solution found (step:"
       ]
      },
      {
       "output_type": "stream",
       "stream": "stdout",
       "text": [
        " 150 rep: 0 )\n",
        "solution found (step:"
       ]
      },
      {
       "output_type": "stream",
       "stream": "stdout",
       "text": [
        " 200 rep: 0 )\n",
        "solution found (step:"
       ]
      },
      {
       "output_type": "stream",
       "stream": "stdout",
       "text": [
        " 250 rep: 0 )\n",
        "solution found (step:"
       ]
      },
      {
       "output_type": "stream",
       "stream": "stdout",
       "text": [
        " 300 rep: 0 )\n",
        "solution found (step:"
       ]
      },
      {
       "output_type": "stream",
       "stream": "stdout",
       "text": [
        " 350 rep: 0 )\n",
        "solution found (step:"
       ]
      },
      {
       "output_type": "stream",
       "stream": "stdout",
       "text": [
        " 400 rep: 0 )\n",
        "solution found (step:"
       ]
      },
      {
       "output_type": "stream",
       "stream": "stdout",
       "text": [
        " 450 rep: 0 )\n",
        "solution found (step:"
       ]
      },
      {
       "output_type": "stream",
       "stream": "stdout",
       "text": [
        " 500 rep: 0 )\n",
        "solution found (step:"
       ]
      },
      {
       "output_type": "stream",
       "stream": "stdout",
       "text": [
        " 550 rep: 0 )\n",
        "solution found (step:"
       ]
      },
      {
       "output_type": "stream",
       "stream": "stdout",
       "text": [
        " 600 rep: 0 )\n",
        "solution found (step:"
       ]
      },
      {
       "output_type": "stream",
       "stream": "stdout",
       "text": [
        " 650 rep: 0 )\n",
        "data stored"
       ]
      },
      {
       "output_type": "stream",
       "stream": "stdout",
       "text": [
        "\n",
        "solution found (step:"
       ]
      },
      {
       "output_type": "stream",
       "stream": "stdout",
       "text": [
        " 0 rep: 1 )\n",
        "solution found (step:"
       ]
      },
      {
       "output_type": "stream",
       "stream": "stdout",
       "text": [
        " 50 rep: 1 )\n",
        "solution found (step:"
       ]
      },
      {
       "output_type": "stream",
       "stream": "stdout",
       "text": [
        " 100 rep: 1 )\n",
        "solution found (step:"
       ]
      },
      {
       "output_type": "stream",
       "stream": "stdout",
       "text": [
        " 150 rep: 1 )\n",
        "solution found (step:"
       ]
      },
      {
       "output_type": "stream",
       "stream": "stdout",
       "text": [
        " 200 rep: 1 )\n",
        "solution found (step:"
       ]
      },
      {
       "output_type": "stream",
       "stream": "stdout",
       "text": [
        " 250 rep: 1 )\n",
        "solution found (step:"
       ]
      },
      {
       "output_type": "stream",
       "stream": "stdout",
       "text": [
        " 300 rep: 1 )\n",
        "solution found (step:"
       ]
      },
      {
       "output_type": "stream",
       "stream": "stdout",
       "text": [
        " 350 rep: 1 )\n",
        "solution found (step:"
       ]
      },
      {
       "output_type": "stream",
       "stream": "stdout",
       "text": [
        " 400 rep: 1 )\n",
        "solution found (step:"
       ]
      },
      {
       "output_type": "stream",
       "stream": "stdout",
       "text": [
        " 450 rep: 1 )\n",
        "solution found (step:"
       ]
      },
      {
       "output_type": "stream",
       "stream": "stdout",
       "text": [
        " 500 rep: 1 )\n",
        "solution found (step:"
       ]
      },
      {
       "output_type": "stream",
       "stream": "stdout",
       "text": [
        " 550 rep: 1 )\n",
        "solution found (step:"
       ]
      },
      {
       "output_type": "stream",
       "stream": "stdout",
       "text": [
        " 600 rep: 1 )\n",
        "solution found (step:"
       ]
      },
      {
       "output_type": "stream",
       "stream": "stdout",
       "text": [
        " 650 rep: 1 )\n",
        "data stored"
       ]
      },
      {
       "output_type": "stream",
       "stream": "stdout",
       "text": [
        "\n",
        "solution found (step:"
       ]
      },
      {
       "output_type": "stream",
       "stream": "stdout",
       "text": [
        " 0 rep: 2 )\n",
        "solution found (step:"
       ]
      },
      {
       "output_type": "stream",
       "stream": "stdout",
       "text": [
        " 50 rep: 2 )\n",
        "solution found (step:"
       ]
      },
      {
       "output_type": "stream",
       "stream": "stdout",
       "text": [
        " 100 rep: 2 )\n",
        "solution found (step:"
       ]
      },
      {
       "output_type": "stream",
       "stream": "stdout",
       "text": [
        " 150 rep: 2 )\n",
        "solution found (step:"
       ]
      },
      {
       "output_type": "stream",
       "stream": "stdout",
       "text": [
        " 200 rep: 2 )\n",
        "solution found (step:"
       ]
      },
      {
       "output_type": "stream",
       "stream": "stdout",
       "text": [
        " 250 rep: 2 )\n",
        "solution found (step:"
       ]
      },
      {
       "output_type": "stream",
       "stream": "stdout",
       "text": [
        " 300 rep: 2 )\n",
        "solution found (step:"
       ]
      },
      {
       "output_type": "stream",
       "stream": "stdout",
       "text": [
        " 350 rep: 2 )\n",
        "solution found (step:"
       ]
      },
      {
       "output_type": "stream",
       "stream": "stdout",
       "text": [
        " 400 rep: 2 )\n",
        "solution found (step:"
       ]
      },
      {
       "output_type": "stream",
       "stream": "stdout",
       "text": [
        " 450 rep: 2 )\n",
        "solution found (step:"
       ]
      },
      {
       "output_type": "stream",
       "stream": "stdout",
       "text": [
        " 500 rep: 2 )\n",
        "solution found (step:"
       ]
      },
      {
       "output_type": "stream",
       "stream": "stdout",
       "text": [
        " 550 rep: 2 )\n",
        "solution found (step:"
       ]
      },
      {
       "output_type": "stream",
       "stream": "stdout",
       "text": [
        " 600 rep: 2 )\n",
        "solution found (step:"
       ]
      },
      {
       "output_type": "stream",
       "stream": "stdout",
       "text": [
        " 650 rep: 2 )\n",
        "data stored"
       ]
      },
      {
       "output_type": "stream",
       "stream": "stdout",
       "text": [
        "\n",
        "solution found (step:"
       ]
      },
      {
       "output_type": "stream",
       "stream": "stdout",
       "text": [
        " 0 rep: 3 )\n",
        "solution found (step:"
       ]
      },
      {
       "output_type": "stream",
       "stream": "stdout",
       "text": [
        " 50 rep: 3 )\n",
        "solution found (step:"
       ]
      },
      {
       "output_type": "stream",
       "stream": "stdout",
       "text": [
        " 100 rep: 3 )\n",
        "solution found (step:"
       ]
      },
      {
       "output_type": "stream",
       "stream": "stdout",
       "text": [
        " 150 rep: 3 )\n",
        "solution found (step:"
       ]
      },
      {
       "output_type": "stream",
       "stream": "stdout",
       "text": [
        " 200 rep: 3 )\n",
        "solution found (step:"
       ]
      },
      {
       "output_type": "stream",
       "stream": "stdout",
       "text": [
        " 250 rep: 3 )\n",
        "solution found (step:"
       ]
      },
      {
       "output_type": "stream",
       "stream": "stdout",
       "text": [
        " 300 rep: 3 )\n",
        "solution found (step:"
       ]
      },
      {
       "output_type": "stream",
       "stream": "stdout",
       "text": [
        " 350 rep: 3 )\n",
        "solution found (step:"
       ]
      },
      {
       "output_type": "stream",
       "stream": "stdout",
       "text": [
        " 400 rep: 3 )\n",
        "solution found (step:"
       ]
      },
      {
       "output_type": "stream",
       "stream": "stdout",
       "text": [
        " 450 rep: 3 )\n",
        "solution found (step:"
       ]
      },
      {
       "output_type": "stream",
       "stream": "stdout",
       "text": [
        " 500 rep: 3 )\n",
        "solution found (step:"
       ]
      },
      {
       "output_type": "stream",
       "stream": "stdout",
       "text": [
        " 550 rep: 3 )\n",
        "solution found (step:"
       ]
      },
      {
       "output_type": "stream",
       "stream": "stdout",
       "text": [
        " 600 rep: 3 )\n",
        "solution found (step:"
       ]
      },
      {
       "output_type": "stream",
       "stream": "stdout",
       "text": [
        " 650 rep: 3 )\n",
        "data stored"
       ]
      },
      {
       "output_type": "stream",
       "stream": "stdout",
       "text": [
        "\n",
        "solution found (step:"
       ]
      },
      {
       "output_type": "stream",
       "stream": "stdout",
       "text": [
        " 0 rep: 4 )\n",
        "solution found (step:"
       ]
      },
      {
       "output_type": "stream",
       "stream": "stdout",
       "text": [
        " 50 rep: 4 )\n",
        "solution found (step:"
       ]
      },
      {
       "output_type": "stream",
       "stream": "stdout",
       "text": [
        " 100 rep: 4 )\n",
        "solution found (step:"
       ]
      },
      {
       "output_type": "stream",
       "stream": "stdout",
       "text": [
        " 150 rep: 4 )\n",
        "solution found (step:"
       ]
      },
      {
       "output_type": "stream",
       "stream": "stdout",
       "text": [
        " 200 rep: 4 )\n",
        "solution found (step:"
       ]
      },
      {
       "output_type": "stream",
       "stream": "stdout",
       "text": [
        " 250 rep: 4 )\n",
        "solution found (step:"
       ]
      },
      {
       "output_type": "stream",
       "stream": "stdout",
       "text": [
        " 300 rep: 4 )\n",
        "solution found (step:"
       ]
      },
      {
       "output_type": "stream",
       "stream": "stdout",
       "text": [
        " 350 rep: 4 )\n",
        "solution found (step:"
       ]
      },
      {
       "output_type": "stream",
       "stream": "stdout",
       "text": [
        " 400 rep: 4 )\n",
        "solution found (step:"
       ]
      },
      {
       "output_type": "stream",
       "stream": "stdout",
       "text": [
        " 450 rep: 4 )\n",
        "solution found (step:"
       ]
      },
      {
       "output_type": "stream",
       "stream": "stdout",
       "text": [
        " 500 rep: 4 )\n",
        "solution found (step:"
       ]
      },
      {
       "output_type": "stream",
       "stream": "stdout",
       "text": [
        " 550 rep: 4 )\n",
        "solution found (step:"
       ]
      },
      {
       "output_type": "stream",
       "stream": "stdout",
       "text": [
        " 600 rep: 4 )\n",
        "solution found (step:"
       ]
      },
      {
       "output_type": "stream",
       "stream": "stdout",
       "text": [
        " 650 rep: 4 )\n",
        "data stored"
       ]
      },
      {
       "output_type": "stream",
       "stream": "stdout",
       "text": [
        "\n",
        "solution found (step:"
       ]
      },
      {
       "output_type": "stream",
       "stream": "stdout",
       "text": [
        " 0 rep: 5 )\n",
        "solution found (step:"
       ]
      },
      {
       "output_type": "stream",
       "stream": "stdout",
       "text": [
        " 50 rep: 5 )\n",
        "solution found (step:"
       ]
      },
      {
       "output_type": "stream",
       "stream": "stdout",
       "text": [
        " 100 rep: 5 )\n",
        "solution found (step:"
       ]
      },
      {
       "output_type": "stream",
       "stream": "stdout",
       "text": [
        " 150 rep: 5 )\n",
        "solution found (step:"
       ]
      },
      {
       "output_type": "stream",
       "stream": "stdout",
       "text": [
        " 200 rep: 5 )\n",
        "solution found (step:"
       ]
      },
      {
       "output_type": "stream",
       "stream": "stdout",
       "text": [
        " 250 rep: 5 )\n",
        "solution found (step:"
       ]
      },
      {
       "output_type": "stream",
       "stream": "stdout",
       "text": [
        " 300 rep: 5 )\n",
        "solution found (step:"
       ]
      },
      {
       "output_type": "stream",
       "stream": "stdout",
       "text": [
        " 350 rep: 5 )\n",
        "solution found (step:"
       ]
      },
      {
       "output_type": "stream",
       "stream": "stdout",
       "text": [
        " 400 rep: 5 )\n",
        "solution found (step:"
       ]
      },
      {
       "output_type": "stream",
       "stream": "stdout",
       "text": [
        " 450 rep: 5 )\n",
        "solution found (step:"
       ]
      },
      {
       "output_type": "stream",
       "stream": "stdout",
       "text": [
        " 500 rep: 5 )\n",
        "solution found (step:"
       ]
      },
      {
       "output_type": "stream",
       "stream": "stdout",
       "text": [
        " 550 rep: 5 )\n",
        "solution found (step:"
       ]
      },
      {
       "output_type": "stream",
       "stream": "stdout",
       "text": [
        " 600 rep: 5 )\n",
        "solution found (step:"
       ]
      },
      {
       "output_type": "stream",
       "stream": "stdout",
       "text": [
        " 650 rep: 5 )\n",
        "data stored"
       ]
      },
      {
       "output_type": "stream",
       "stream": "stdout",
       "text": [
        "\n",
        "done!\n"
       ]
      }
     ],
     "prompt_number": 7
    },
    {
     "cell_type": "code",
     "collapsed": false,
     "input": [
      "raise NotImplementedError(\"STOP\")"
     ],
     "language": "python",
     "metadata": {},
     "outputs": []
    },
    {
     "cell_type": "code",
     "collapsed": false,
     "input": [
      "x = mio.mload(ws.datadir + ws.files[0])\n",
      "x.keys()"
     ],
     "language": "python",
     "metadata": {},
     "outputs": []
    },
    {
     "cell_type": "code",
     "collapsed": false,
     "input": [
      "#import models.sliputil as su\n",
      "#ESLIP_params.append( fit.calcSlipParams3D(sp,mp, x0[:4]), )\n",
      "#ESLIP_params[-1]  \n",
      "print ESLIP_params[-1]\n",
      "pars = hstack([ESLIP_params[-1][:4], dE_l])\n",
      "print pars\n",
      "su.finalState(IC, pars, addDict={'m' : mass, 'g' : -9.81})"
     ],
     "language": "python",
     "metadata": {},
     "outputs": []
    },
    {
     "cell_type": "code",
     "collapsed": false,
     "input": [
      "dt"
     ],
     "language": "python",
     "metadata": {},
     "outputs": []
    },
    {
     "cell_type": "code",
     "collapsed": false,
     "input": [
      "print len(ESLIP_params)\n",
      "figure()\n",
      "titles=['k','alpha','l0','beta']\n",
      "for dim in range(4):\n",
      "    subplot(2,2,dim+1)\n",
      "    plot(vstack(ESLIP_params)[:, dim],'r+')\n",
      "    plot(orig[:, dim],'go')\n",
      "    title(titles[dim])\n"
     ],
     "language": "python",
     "metadata": {},
     "outputs": []
    },
    {
     "cell_type": "code",
     "collapsed": false,
     "input": [
      "print len(ws.SlipData[rep].phases)\n",
      "print x.ESLIP_params.shape\n",
      "print len(ws.ax_idcs[-1])"
     ],
     "language": "python",
     "metadata": {},
     "outputs": []
    },
    {
     "cell_type": "code",
     "collapsed": false,
     "input": [
      "\n",
      "\n",
      "## Things required to compute:\n",
      "#ESLIP_params (nx6)\n",
      "#T_exp <- from exact apices\n",
      "#phases <- from \"original\" SLIP data; verify that  apices\n",
      "#dE <- compute from kinematics\n",
      "#mass <- from \"original\" SLIP data\n",
      "#vx <- get_kin_apex\n",
      "#y0 <- interpolated\n",
      "#vz <- get_kin_apex\n",
      "#ymin <- interpolated\n",
      "# vb <- from force data\n",
      "# IC\n",
      "## P\n",
      "\n"
     ],
     "language": "python",
     "metadata": {},
     "outputs": []
    },
    {
     "cell_type": "code",
     "collapsed": false,
     "input": [
      "#verify data\n",
      "t_vec = linspace(0, 240, 60000, endpoint=False)\n",
      "figure()\n",
      "plot(t_vec, c, 'b.-', label='com vertical')\n",
      "plot(t_vec[apices], c[apices], 'rd', label='apices')\n",
      "plot(t_vec[nadirs], c[nadirs], 'gd', label='nadirs')\n",
      "legend()\n"
     ],
     "language": "python",
     "metadata": {},
     "outputs": []
    },
    {
     "cell_type": "code",
     "collapsed": false,
     "input": [
      "# apex times (list; one for each trial)\n",
      "T = k.get_kin_apex(all_apexphases, return_times=True) \n",
      "\n",
      "# apex heights for a single trial\n",
      "zi = []\n",
      "for idx, apt in zip(apices, T[-1]):\n",
      "    p = polyfit(tvec[idx-3:idx+4], c[idx-3:idx+4], 2)\n",
      "    zi.append(polyval(p, apt))\n",
      "zi = array(zi)"
     ],
     "language": "python",
     "metadata": {},
     "outputs": []
    },
    {
     "cell_type": "code",
     "collapsed": false,
     "input": [
      "# how to compute slip params later on\n"
     ],
     "language": "python",
     "metadata": {},
     "outputs": []
    },
    {
     "cell_type": "code",
     "collapsed": false,
     "input": [
      "z2 = k.get_kin_apex(all_apexphases) # !NOT! suitable for CoM_z!\n",
      "\n"
     ],
     "language": "python",
     "metadata": {},
     "outputs": []
    },
    {
     "cell_type": "code",
     "collapsed": false,
     "input": [
      "T[0].shape"
     ],
     "language": "python",
     "metadata": {},
     "outputs": []
    },
    {
     "cell_type": "markdown",
     "metadata": {},
     "source": [
      "### find indices of apex events\n"
     ]
    },
    {
     "cell_type": "code",
     "collapsed": false,
     "input": [],
     "language": "python",
     "metadata": {},
     "outputs": []
    },
    {
     "cell_type": "code",
     "collapsed": false,
     "input": [
      "z = c[apices]"
     ],
     "language": "python",
     "metadata": {},
     "outputs": []
    },
    {
     "cell_type": "code",
     "collapsed": false,
     "input": [
      "figure()\n",
      "hist(mod(mi.upper_phases(hstack(all_apexphases), sep=0), 2.*pi), bins=100)\n",
      "hist(mod(mi.upper_phases(hstack([d.phases for d in SlipData]), sep=0), 2.*pi), color='g', alpha=.5, bins=100)"
     ],
     "language": "python",
     "metadata": {},
     "outputs": []
    },
    {
     "cell_type": "markdown",
     "metadata": {},
     "source": [
      "## Intermediate step: recompute SLIP parameter\n",
      "\n",
      "**NOTE** There are some data for subject 7 missing. Here, belt speed is taken from repetition 1 (by copying and renaming the original workspace).\n",
      "This is no systematic error, because the belt speed should be the same in every experiment of the subject."
     ]
    },
    {
     "cell_type": "code",
     "collapsed": false,
     "input": [
      "# prepare: load data\n",
      "import models.sliputil as su\n",
      "import models.fitSlip as fitSlip\n",
      "import mutils.io as mio\n",
      "\n",
      "reload(mio)\n",
      "k = mio.KinData()\n",
      "k.selection = ['com_x', 'com_y', 'com_z']\n",
      "k.load(subject,ttype)\n",
      "\n",
      "vBelt = [mean(frc['vb']) for frc in k.raw_frc]\n",
      "\n",
      "idx_right = [mi.upper_phases(d.phases[:-1], sep=0, return_indices=True) for d in SlipData]\n",
      "idx_left = [mi.upper_phases(d.phases[:-1], sep=0, return_indices=True) for d in SlipData]\n",
      "trial_starts_right = [x < y for x, y in zip(idx_right, idx_left)]\n",
      "\n",
      "apexstates = [part[[2,4,3], :].T for part in  k.get_kin_apex([d.phases for d in SlipData],)]\n",
      "apextimes = [part for part in  k.get_kin_apex([d.phases for d in SlipData], return_times = True)]\n",
      "all_dE = []\n",
      "all_T = []\n",
      "for apx, d, T, vB in zip(apexstates, SlipData, apextimes, vBelt):\n",
      "    energies = [d.mass * ( 9.81 * apx[row, 0] + .5 * ((apx[row, 1] + vB)**2 + apx[row, 2]**2)) for row in arange(apx.shape[0])]    \n",
      "    all_dE.append(diff(energies))\n",
      "    all_T.append(diff(T))\n",
      "\n",
      "\n",
      "all_step_params = []\n",
      "for apx, d, T in zip(apexstates, SlipData, all_T):\n",
      "    step_params = [ (y2, dT, ymin, vz2) for y2, dT, ymin, vz2 in zip(apx[1:, 0], T, d.ymin, apx[1:, 2]) ]\n",
      "    all_step_params.append(step_params)\n",
      "    \n"
     ],
     "language": "python",
     "metadata": {},
     "outputs": []
    },
    {
     "cell_type": "markdown",
     "metadata": {},
     "source": [
      "### Now: loop trough all repetitions\n",
      "\n",
      "* loop trough all steps in all repetitions  \n",
      "* store all data required to reproduce the step in simulation"
     ]
    },
    {
     "cell_type": "code",
     "collapsed": false,
     "input": [
      "import time\n",
      "\n",
      "for rep in arange(len(all_dE)):\n",
      "\n",
      "    new_params = []\n",
      "    delta_E = all_dE[rep]\n",
      "    apx = apexstates[rep]\n",
      "    d = SlipData[rep]\n",
      "    all_IC = []\n",
      "    \n",
      "    \n",
      "    for nr in arange(len(delta_E)):\n",
      "        if mod(nr, 20) == 0:\n",
      "            print time.ctime(), \" rep: \", k.reps[rep], \"step nr \", nr + 1, \" of \", len(delta_E)\n",
      "        \n",
      "        all_IC.append(apx[nr, :] + [0, vBelt[rep], 0])\n",
      "        \n",
      "        model_params = {'IC': apx[nr, :] + [0, vBelt[rep], 0],\n",
      "                    'm':  d.mass,\n",
      "                    'dE':  delta_E[nr] }\n",
      "    \n",
      "        step_params = all_step_params[rep]\n",
      "        x0 = d.P[nr, :4]\n",
      "        sp = step_params[nr]\n",
      "    \n",
      "        p = fitSlip.calcSlipParams3D(sp, model_params, x0, )\n",
      "        new_params.append(hstack([p[:4], delta_E[nr]]))\n",
      "    \n",
      "    # store data\n",
      "    print \"storing data ...\"\n",
      "    dat = { 'phases': d.phases,\n",
      "           'IC' : all_IC,\n",
      "           'P' : new_params,\n",
      "           'mass' : d.mass,\n",
      "           'ymin' : d.ymin,\n",
      "           'T' : all_T[rep],\n",
      "           'vBelt' : vBelt[rep],\n",
      "           'g' : -9.81}\n",
      "    mio.msave('../data/2013-newSlip/SLIP_s%it%ir%i.dict' % (subject, ttype, k.reps[rep]), dat)\n",
      "    \n",
      "    \n",
      "print \"done!\""
     ],
     "language": "python",
     "metadata": {},
     "outputs": []
    },
    {
     "cell_type": "markdown",
     "metadata": {},
     "source": [
      "## test new data consistency"
     ]
    },
    {
     "cell_type": "code",
     "collapsed": false,
     "input": [
      "import mutils.misc as mi\n",
      "subject = 2\n",
      "ttype = 1\n",
      "rep = 4\n",
      "stepnr = 590\n",
      "\n",
      "dat = mi.Struct(mio.mload('../data/2013-newSlip/SLIP_s%it%ir%i.dict' % (subject, ttype, rep)))\n",
      "\n",
      "print \"simulation:\",  su.finalState(dat.IC[stepnr], dat.P[stepnr], {'m' : dat.mass, 'g': dat.g})\n",
      "print '==================='\n",
      "print \"experiment:\", dat.IC[stepnr + 1]"
     ],
     "language": "python",
     "metadata": {},
     "outputs": []
    },
    {
     "cell_type": "code",
     "collapsed": false,
     "input": [],
     "language": "python",
     "metadata": {},
     "outputs": []
    }
   ],
   "metadata": {}
  }
 ]
}