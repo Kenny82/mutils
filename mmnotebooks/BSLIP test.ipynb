{
 "metadata": {
  "name": "BSLIP test"
 },
 "nbformat": 3,
 "nbformat_minor": 0,
 "worksheets": [
  {
   "cells": [
    {
     "cell_type": "code",
     "collapsed": false,
     "input": [
      "# BSLIP test\n",
      "\n",
      "#define BSLIP elements\n",
      "import time\n",
      "from libshai import integro\n",
      "from copy import deepcopy\n",
      "\n",
      "#state: x,y,vx, vy\n",
      "\n",
      "def rhs_ss(t, y, pars):\n",
      "    k, l0, alpha, m, g = pars['k'], pars['l0'], pars['alpha'], pars['m'], pars['g']\n",
      "    foot = pars['foot1']\n",
      "    leg = y[:2] - foot\n",
      "    leglength = norm(leg)\n",
      "    F = max(k * (l0 - leglength), 0)\n",
      "    Fx = F * leg[0] / leglength\n",
      "    Fy = F * leg[1] / leglength\n",
      "    return array([y[2], y[3], Fx/m, Fy/m + g])\n",
      "    \n",
      "\n",
      "def rhs_ds(t, y, pars):\n",
      "    k, l0, alpha, m, g = pars['k'], pars['l0'], pars['alpha'], pars['m'], pars['g']\n",
      "    foot = pars['foot1']\n",
      "    leg = y[:2] - foot\n",
      "    leglength = norm(leg)\n",
      "\n",
      "    foot2 = pars['foot2']\n",
      "    leg2 = y[:2] - foot2\n",
      "    leglength2 = norm(leg2)\n",
      "    \n",
      "    F = max(k * (l0 - leglength), 0)\n",
      "    Fx = F * leg[0] / leglength\n",
      "    Fy = F * leg[1] / leglength\n",
      "    \n",
      "    F2 = max(k * (l0 - leglength2), 0)\n",
      "    Fx2 = F2 * leg2[0] / leglength2\n",
      "    Fy2 = F2 * leg2[1] / leglength2   \n",
      "    \n",
      "    return array([y[2], y[3], (Fx + Fx2)/m, (Fy + Fy2)/m + g])\n",
      "    \n",
      "\n",
      "def takeoff_event(t, states, traj, p):\n",
      "    # take-off: when leg length of leg 2 reaches l0\n",
      "    leglength = norm(states[1][:2] - p['foot2'])\n",
      "    if leglength > p['l0']:\n",
      "        # check if previous was < l0\n",
      "        leglength = norm(states[0][:2] - p['foot2'])\n",
      "        if leglength <= p['l0']:\n",
      "            return True\n",
      "    return False\n",
      "    \n",
      "def takeoff_event_refine(t, state, pars): #required signature: t, \n",
      "    leglength = norm(state[:2] - pars['foot2'])\n",
      "    #print \">\", leglength\n",
      "    return - (leglength - pars['l0'])\n",
      "    \n",
      "def touchdown_event(t, states, traj, p):\n",
      "    # take-off: when leg length of leg 2 reaches l0\n",
      "    if states[1][1] - p['l0'] * sin(p['alpha']) <= 0:\n",
      "        if states[0][1] - p['l0'] * sin(p['alpha']) > 0:\n",
      "            return True\n",
      "    return False\n",
      "\n",
      "\n",
      "def touchdown_event_refine(t, state, func_params): #required signature: t, \n",
      "    return - (state[1] - func_params['l0'] * sin(func_params['alpha']))\n",
      "        \n",
      "\n",
      "# \"Midstance\" event: Vertical Leg Orientation\n",
      "def vlo_event(t, states, traj, p):\n",
      "    # vlo: CoM above foot\n",
      "    if states[1][0] - p['foot1'][0] >= 0:\n",
      "        return True\n",
      "    return False\n",
      "\n",
      "def vlo_event_refine(t, state, pars): #required signature: t, \n",
      "    return -(state[0] - pars['foot1'][0])\n",
      "        \n",
      "\n",
      "\n",
      "   "
     ],
     "language": "python",
     "metadata": {},
     "outputs": [],
     "prompt_number": 1
    },
    {
     "cell_type": "code",
     "collapsed": false,
     "input": [
      "\n",
      "p0 = {'k' : 20000.,\n",
      "     'alpha' : 76. * pi / 180.,\n",
      "     'l0' : 1.,\n",
      "     'm' : 80.,\n",
      "     'g' : -9.81,\n",
      "     'foot1' : array([0, 0]),\n",
      "     'foot2' : array([-1, 0]),\n",
      "     }\n",
      "\n",
      "IC = array([0, .98, 1.12, 0])\n",
      "#IC = \n",
      "def adj_speed(IC, p):\n",
      "    E_des = 816. # J\n",
      "    E_k = .5 * p['k'] * (IC[1] - p['l0'])**2\n",
      "    E_pot = - p['m'] * p['g'] * IC[1]\n",
      "    E_kin = .5 * p['m'] * norm(IC[2:])**2\n",
      "    print \"total energy:\", E_k + E_pot + E_kin\n",
      "    vx = sqrt( 2 * (E_des - E_k - E_pot) / p['m'] - IC[-1]**2) \n",
      "    # adjust horizontal velocity\n",
      "    res = array(IC)\n",
      "    res[2] = vx\n",
      "    return res\n",
      "    \n",
      "    \n",
      "    \n",
      "\n",
      "\n",
      "tE = 0.\n",
      "ICx = array(IC)\n",
      "all_res = []\n",
      "all_time = []\n"
     ],
     "language": "python",
     "metadata": {},
     "outputs": [],
     "prompt_number": 4
    },
    {
     "cell_type": "code",
     "collapsed": false,
     "input": [
      "t0 = time.time()\n",
      "px = deepcopy(p0)\n",
      "IC = array([0, .9810132, 1.12, 0])\n",
      "IC = array([0, .97823, 1.12, 0])\n",
      "IC = array([0, .9794348, 1.12, 0])\n",
      "\n",
      "# from VLO until touchdown\n",
      "oss2 = integro.odeDP5(rhs_ss, pars=px)\n",
      "oss2.event = touchdown_event\n",
      "oss2.ODE_ATOL = 1e-12\n",
      "oss2.ODE_RTOL = 1e-12\n",
      "oss2.ODE_EVTTOL = 1e-12\n",
      "\n",
      "# from touchdown to takeoff\n",
      "ods = integro.odeDP5(rhs_ds, pars=px)\n",
      "ods.ODE_ATOL = 1e-12\n",
      "ods.ODE_RTOL = 1e-12\n",
      "ods.ODE_EVTTOL = 1e-12\n",
      "ods.event = takeoff_event\n",
      "\n",
      "# from takeoff until VLO\n",
      "oss1 = integro.odeDP5(rhs_ss, pars=px)\n",
      "oss1.event = vlo_event\n",
      "oss1.ODE_ATOL = 1e-12\n",
      "oss1.ODE_RTOL = 1e-12\n",
      "oss1.ODE_EVTTOL = 1e-12\n",
      "\n",
      "tE = 0.\n",
      "all_res = []\n",
      "all_time = []\n",
      "\n",
      "ICx = adj_speed(IC, px)\n",
      "print ICx\n",
      "\n",
      "print \"v\" * 5\n",
      "tvec0 = linspace(tE, tE + 1, 200)\n",
      "ts, ys = oss2(ICx, tvec0, dt=1e-2)\n",
      "oss2.refine(lambda t, y: touchdown_event_refine(t, y, px) )\n",
      "tE = ts[-1]\n",
      "ICx = ys[-1, :]\n",
      "all_res.append(ys.copy())\n",
      "all_time.append(ts.copy())\n",
      "\n",
      "# update feet positions\n",
      "px['foot2'] = px['foot1'].copy()\n",
      "px['foot1'] = array([ys[-1, 0] + cos(px['alpha']) * px['l0'], 0])\n",
      "\n",
      "print \"-\" * 5\n",
      "# double stance phase\n",
      "tvec0 = linspace(tE, tE + 1, 200)\n",
      "td, yd = ods(ICx, tvec0, dt=1e-2)\n",
      "print \"takeoff:\", yd[-1, :], yd[-2,:]\n",
      "ods.refine(lambda t, y: takeoff_event_refine(t, y, px) )\n",
      "tE = td[-1]\n",
      "ICx = yd[-1, :]\n",
      "all_res.append(yd.copy())\n",
      "all_time.append(td.copy())\n",
      "\n",
      "\n",
      "print \"=\" * 5\n",
      "# single stance until vlo\n",
      "tvec0 = linspace(tE, tE + 1, 200)\n",
      "ts2, ys2 = oss1(ICx, tvec0, dt=1e-2)\n",
      "oss1.refine(lambda t, y: vlo_event_refine(t, y, px) )\n",
      "tE = ts2[-1]\n",
      "ICx = ys2[-1, :]\n",
      "all_res.append(ys2.copy())\n",
      "all_time.append(ts2.copy())\n",
      "\n",
      "print \"elapsed time:\", time.time() - t0\n",
      "#sres = vstack(all_res)\n",
      "#stime = hstack(all_time)\n",
      "figure()\n",
      "plot(all_res[0][:,0], all_res[0][:,1],'bd')\n",
      "plot(all_res[1][:,0], all_res[1][:,1],'r.')\n",
      "plot(all_res[2][:,0], all_res[2][:,1],'y.')\n",
      "#print px\n",
      "print \"Difference:\", ys2[-1,1] - IC[1]"
     ],
     "language": "python",
     "metadata": {},
     "outputs": [
      {
       "output_type": "stream",
       "stream": "stdout",
       "text": [
        "total energy: 823.06570555\n",
        "[ 0.          0.9794348   1.03815093  0.        ]\n",
        "vvvvv\n",
        "-----\n",
        "takeoff:"
       ]
      },
      {
       "output_type": "stream",
       "stream": "stdout",
       "text": [
        " [ 0.24258654  0.97083949  1.05070607  0.26010665] [ 0.23730081  0.96949518  1.05295108  0.27429578]\n",
        "WARNING: function did not change sign -- extrapolating order  0\n",
        "WARNING: function did not change sign -- extrapolating order  1\n",
        "=====\n",
        "WARNING: function did not change sign -- extrapolating order  0\n",
        "WARNING: function did not change sign -- extrapolating order  1\n",
        "WARNING: function did not change sign -- extrapolating order  2\n",
        "WARNING: function did not change sign -- extrapolating order  3\n",
        "elapsed time: 0.13232588768\n",
        "Difference:"
       ]
      },
      {
       "output_type": "stream",
       "stream": "stdout",
       "text": [
        " 8.397036273e-05\n"
       ]
      },
      {
       "output_type": "display_data",
       "png": "[encoded data removed]"
      }
     ],
     "prompt_number": 10
    },
    {
     "cell_type": "code",
     "collapsed": false,
     "input": [
      "IC[1] , ys2[-1,1]\n",
      "\n",
      "def getE(x,p):        \n",
      "    E_k = .5 * p['k'] * (x[1] - p['l0'])**2\n",
      "    E_pot = - p['m'] * p['g'] * x[1]\n",
      "    E_kin = .5 * p['m'] * norm(x[2:])**2\n",
      "    print \"E: \", E_k + E_pot + E_kin\n",
      "    return  E_k + E_pot + E_kin\n",
      "\n",
      "getE(ICx, px)\n",
      "getE(ys2[-1,:], px)\n",
      "pass\n",
      "\n",
      "    "
     ],
     "language": "python",
     "metadata": {},
     "outputs": [
      {
       "output_type": "stream",
       "stream": "stdout",
       "text": [
        "E:  815.999999961\n",
        "E:  815.999999961\n"
       ]
      }
     ],
     "prompt_number": 4
    },
    {
     "cell_type": "code",
     "collapsed": false,
     "input": [
      "print ys2[-1,1], IC[1]\n",
      "print ys2[-1,0], px['foot1'][0]"
     ],
     "language": "python",
     "metadata": {},
     "outputs": [
      {
       "output_type": "stream",
       "stream": "stdout",
       "text": [
        "0.978382139755 0.97823\n",
        "0.306949740019 0.306949740019\n"
       ]
      }
     ],
     "prompt_number": 5
    },
    {
     "cell_type": "code",
     "collapsed": false,
     "input": [
      "px"
     ],
     "language": "python",
     "metadata": {},
     "outputs": [
      {
       "output_type": "pyout",
       "prompt_number": 7,
       "text": [
        "{'alpha': 1.3264502315156903,\n",
        " 'foot1': array([ 0.30694974,  0.        ]),\n",
        " 'foot2': array([0, 0]),\n",
        " 'g': -9.81,\n",
        " 'k': 20000.0,\n",
        " 'l0': 1.0,\n",
        " 'm': 80.0}"
       ]
      }
     ],
     "prompt_number": 7
    },
    {
     "cell_type": "code",
     "collapsed": false,
     "input": [],
     "language": "python",
     "metadata": {},
     "outputs": [
      {
       "output_type": "pyout",
       "prompt_number": 20,
       "text": [
        "3"
       ]
      }
     ],
     "prompt_number": 20
    },
    {
     "cell_type": "code",
     "collapsed": false,
     "input": [
      "def refiner(sres, t_vec, p, fun):\n",
      "    sgn0 = fun(t_vec[0], sres[0,:], p)\n",
      "    for row in range(1, sres.shape[0]):\n",
      "        if fun(t_vec[row], sres[row,:], p) * sgn0 <= 0:            \n",
      "            break\n",
      "    c = -fun(t_vec[row-1], sres[row-1,:], p) / (fun(t_vec[row], sres[row,:], p) - fun(t_vec[row-1], sres[row-1,:], p))\n",
      "    #print \"c=\", c\n",
      "    if abs(c) > 1:\n",
      "        raise ValueError(\"no event detected!\")\n",
      "    \n",
      "    res_final = sres[row-1] + c*(sres[row] - sres[row-1])\n",
      "    t_final = t_vec[row-1] + c*(t_vec[row] - t_vec[row-1])\n",
      "    \n",
      "    res = sres[:row,:]\n",
      "    tvec = t_vec[:row]\n",
      "    tvec[-1] = t_final\n",
      "    res[-1,:] = res_final\n",
      "    return res, t_vec\n"
     ],
     "language": "python",
     "metadata": {},
     "outputs": [],
     "prompt_number": 37
    },
    {
     "cell_type": "code",
     "collapsed": false,
     "input": [
      "px = deepcopy(p0)\n",
      "IC = array([0, .9920132, 1.12, 0])\n",
      "IC = array([0, .97899, 1.12, 0])\n",
      "#IC = array([0, .97823, 1.12, 0])\n",
      "\n",
      "import scipy.integrate as si\n",
      "\n",
      "t0 = time.time()\n",
      "\n",
      "tE = 0.\n",
      "all_res = []\n",
      "all_time = []\n",
      "\n",
      "ICx = adj_speed(IC, px)\n",
      "ICx = adj_speed(ICx, px)\n",
      "print ICx\n",
      "\n",
      "\n",
      "for rep in range(20):\n",
      "    #single stance until touchdown\n",
      "    tvec0 = linspace(tE, tE + 1, 200)\n",
      "    rhs_ss2 = lambda y, t, p: rhs_ss(t, y, p) # adapt call signature\n",
      "    res = si.odeint(rhs_ss2, y0=ICx, t=tvec0, args=(px,), rtol=1e-12, atol=1e-10)\n",
      "    # refine res to touchdown_event\n",
      "    res,tvec0 = refiner(res, tvec0, px, touchdown_event_refine)\n",
      "    \n",
      "    all_res.append(res.copy())\n",
      "    all_time.append(tvec0.copy())\n",
      "    \n",
      "    # update feet positions\n",
      "    px['foot2'] = px['foot1'].copy()\n",
      "    px['foot1'] = array([res[-1, 0] + cos(px['alpha']) * px['l0'], 0])\n",
      "    \n",
      "    #double stance\n",
      "    tE = tvec0[-1]\n",
      "    tvec0 = linspace(tE, tE + 1, 200)\n",
      "    rhs_ds2 = lambda y, t, p: rhs_ds(t, y, p) # adapt call signature\n",
      "    res = si.odeint(rhs_ds2, y0=res[-1,:], t=tvec0, args=(px,), rtol=1e-12, atol=1e-10, hmax=1e-3)\n",
      "    # refine res to touchdown_event\n",
      "    res, tvec0 = refiner(res, tvec0, px, takeoff_event_refine)\n",
      "    \n",
      "    all_res.append(res.copy())\n",
      "    all_time.append(tvec0.copy())\n",
      "    \n",
      "    #single stance until VLO\n",
      "    tE = tvec0[-1]\n",
      "    tvec0 = linspace(tE, tE + 1, 200)\n",
      "    res = si.odeint(rhs_ss2, y0=res[-1,:], t=tvec0, args=(px,), rtol=1e-12, atol=1e-10, hmax=1e-3)\n",
      "    # refine res to touchdown_event\n",
      "    res,tvec0 = refiner(res, tvec0, px, vlo_event_refine)\n",
      "    \n",
      "    all_res.append(res.copy())\n",
      "    all_time.append(tvec0.copy())\n",
      "    tE = tvec0[-1]\n",
      "    ICx = res[-1,:]\n",
      "    \n",
      "print \"elapsed time:\", time.time() - t0\n",
      "    \n",
      "#sres = vstack(all_res)\n",
      "#stime = hstack(all_time)\n",
      "figure()\n",
      "sim_res = vstack(all_res)\n",
      "plot(sim_res[:,0], sim_res[:,1],'b.')\n",
      "#plot(all_res[0][:,0], all_res[0][:,1],'bd')\n",
      "#plot(all_res[1][:,0], all_res[1][:,1],'r+')\n",
      "#plot(all_res[2][:,0], all_res[2][:,1],'y.')\n",
      "#print px\n",
      "print \"Difference:\", res[-1,1] - ICx[1]"
     ],
     "language": "python",
     "metadata": {},
     "outputs": [
      {
       "output_type": "stream",
       "stream": "stdout",
       "text": [
        "total energy: 822.901553\n",
        "total energy: 816.0\n",
        "[ 0.          0.97899     1.04012556  0.        ]\n",
        "elapsed time:"
       ]
      },
      {
       "output_type": "stream",
       "stream": "stdout",
       "text": [
        " 2.33575391769\n",
        "Difference: 0.0\n"
       ]
      },
      {
       "output_type": "display_data",
       "png": "[encoded data removed]"
      }
     ],
     "prompt_number": 42
    },
    {
     "cell_type": "code",
     "collapsed": false,
     "input": [
      "print all_res[0][-1,1]\n",
      "print sin(76. * pi / 180)'"
     ],
     "language": "python",
     "metadata": {},
     "outputs": [
      {
       "output_type": "stream",
       "stream": "stdout",
       "text": [
        "0.970295726276\n",
        "0.970295726276\n"
       ]
      }
     ],
     "prompt_number": 22
    },
    {
     "cell_type": "code",
     "collapsed": false,
     "input": [
      "\n",
      "    "
     ],
     "language": "python",
     "metadata": {},
     "outputs": []
    },
    {
     "cell_type": "code",
     "collapsed": false,
     "input": [
      "res,tvec0 = refiner(res, tvec0, px, touchdown_event_refine)"
     ],
     "language": "python",
     "metadata": {},
     "outputs": []
    },
    {
     "cell_type": "code",
     "collapsed": false,
     "input": [
      "t"
     ],
     "language": "python",
     "metadata": {},
     "outputs": []
    },
    {
     "cell_type": "code",
     "collapsed": false,
     "input": [
      "res.shape"
     ],
     "language": "python",
     "metadata": {},
     "outputs": []
    },
    {
     "cell_type": "code",
     "collapsed": false,
     "input": [
      "res[4][1] - sin(76.*pi/180)"
     ],
     "language": "python",
     "metadata": {},
     "outputs": []
    },
    {
     "cell_type": "code",
     "collapsed": false,
     "input": [
      "row = 1\n",
      "touchdown_event_refine(t, r, px)"
     ],
     "language": "python",
     "metadata": {},
     "outputs": []
    },
    {
     "cell_type": "code",
     "collapsed": false,
     "input": [
      "res.resize((10,4))"
     ],
     "language": "python",
     "metadata": {},
     "outputs": []
    },
    {
     "cell_type": "code",
     "collapsed": false,
     "input": [
      "resize("
     ],
     "language": "python",
     "metadata": {},
     "outputs": []
    }
   ],
   "metadata": {}
  }
 ]
}