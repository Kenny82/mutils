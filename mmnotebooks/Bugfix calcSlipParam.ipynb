{
 "metadata": {
  "name": ""
 },
 "nbformat": 3,
 "nbformat_minor": 0,
 "worksheets": [
  {
   "cells": [
    {
     "cell_type": "markdown",
     "metadata": {},
     "source": [
      "# Comment\n",
      "There was an unidentified bug in the SLIP code (C-Version). It appears to have disappeared since the buffer size was increased, although during bugfixing this appeared not to be the reason...\n"
     ]
    },
    {
     "cell_type": "code",
     "collapsed": false,
     "input": [
      "\n",
      "#def calcSlipParams3D2(IC, m, FS, ymin, T, P0 = [14000., 1.16, 1., 0., 0.]\n",
      "\n",
      "\n",
      "# why do these params do not work?? -> fixed?\n",
      "\n",
      "import models.fitSlip as fs\n",
      "import models.slip as sl\n",
      "\n",
      "# orig\n",
      "IC = array([1.200, 3.995, 0. ])\n",
      "ymin = 1.109\n",
      "FS = array([1.212, 4.081, 0.])\n",
      "T = 0.330\n",
      "\n",
      "\n",
      "# testing\n",
      "#IC = array([1.200, 2.995, 0. ])\n",
      "#ymin = 1.119\n",
      "#FS = array([1.222, 3.081, 0.])\n",
      "#T = 0.3585\n",
      "\n",
      "#FS = array([1.14, 3.82, 0.])\n",
      "#ymin = 1.04129\n",
      "#T = 0.330\n",
      "#T = 0.24\n",
      "\n",
      "mass = 106.\n",
      "m = mass #/ mass\n",
      "P0 = [25000. / mass, 1.2, 1.15, 0., 0.]\n",
      "\n",
      "P0 = [ 197.95746255  ,  1.29969924 ,   1.22344742 ,   0.     ,       0.378988  ]\n",
      "P0 = [ 197.95746255  ,  1.2496851  ,   1.23703141  ,  0.   ,    0.464988  ]\n",
      "#[ 197.95746255    1.25037771    1.23672615    0.            0.464988  ]\n",
      "\n",
      "P0 = [ (148.87275418 + 35) * m,   1.2496851  ,   1.24676386  ,  0.   ,         0.464988 * m  ]\n",
      "\n",
      "\n",
      "par_active = [0,1,2,3] # all 4 dims\n",
      "goals_active = [0,1,2,3]\n",
      "\n",
      "par_active = [0,1,2,3] # omit k (keep constant)\n",
      "goals_active = [0,1,2,3] # deactivate one goal function (T =0, ymin=1, yfinal =2, vzfinal = 3)\n",
      "\n",
      "#par_active = [0,1]\n",
      "#goals_active = [0,2]\n",
      "\n",
      "debug_out = False # display debug info\n",
      "\n",
      "print \"p0:\", P0\n",
      "#P0 = [3.70843920e+04  , 1.29723028e+00  , 1.20341403e+00,   0.00000000e+00,\n",
      "#   4.92887280e+01]\n",
      "rcond0 = 1e-6\n",
      "\n",
      "if True:\n",
      "    \"\"\"\n",
      "    calculates a set of SLIP parameters that result in the desired motion.\n",
      "    \n",
      "    :args:\n",
      "        IC (3x float) : initial condition y, vx, vz\n",
      "        FS (3x float) : final state y, vx, vz\n",
      "        ymin : minimal vertical excursion\n",
      "        T : total step duration\n",
      "        P0 (5x float) : initial guess for parameters [k, alpha, L0, beta, dE]\n",
      "            (dE is ignored. It is calculated from IC and FS)\n",
      "        \n",
      "    :returns:\n",
      "        [k, alpha, L0, beta, dE] parameter vector that results in the desired state\n",
      "        \n",
      "       \n",
      "    \"\"\"\n",
      "    \n",
      "    dE = (FS[0]-IC[0])*m*9.81 + .5*m*(FS[1]**2 + FS[2]**2 \n",
      "                                       - IC[1]**2 - IC[2]**2)    \n",
      "    k, alpha, L0, beta, _ = P0\n",
      "    \n",
      "    def getDiff(t, y):\n",
      "        \"\"\" returns the difference in desired params \"\"\"\n",
      "        delta = [T - t[-1],\n",
      "                 ymin - min(y[:,1]),\n",
      "                 #FS - y[-1,[1,3,5]],\n",
      "                 FS[[0,2]] - y[-1,[1,5]]\n",
      "                 ]\n",
      "        return hstack(delta)\n",
      "    \n",
      "    rcond = rcond0 # for pinverting the jacobian. this will be adapted during the process\n",
      "    init_success = False\n",
      "    while not init_success:\n",
      "        try:\n",
      "            pars = [k, L0, m, alpha, beta, dE]\n",
      "            t, y = sl.qSLIP_step3D(IC, pars)\n",
      "            init_success = True\n",
      "        except ValueError:\n",
      "            L0 -= .02\n",
      "\n",
      "    \n",
      "    d0 = getDiff(t, y)[par_active]\n",
      "    nd0 = norm(d0)\n",
      "    print \"initial delta:\", norm(d0)\n",
      "    #print \\\"difference: \\\", nd0, d0\n",
      "    cancel = False\n",
      "    niter = 0\n",
      "    while nd0 > 1e-6 and not cancel:\n",
      "        niter += 1\n",
      "        if niter > 20:\n",
      "            print \"too many iterations\"\n",
      "            cancel = True\n",
      "            break\n",
      "        # calculate jacobian dDelta / dP\n",
      "        #print \\\"rep:\\\", niter\n",
      "        \n",
      "        \n",
      "        hs = array([10, .001, .001, .001])\n",
      "        pdims = [0, 1, 3, 4]\n",
      "        \n",
      "        J = []\n",
      "        for dim in range(len(pdims)):\n",
      "            parsp = [k, L0, m, alpha, beta, dE]\n",
      "            parsm = [k, L0, m, alpha, beta, dE]\n",
      "            \n",
      "            parsp[pdims[dim]] += hs[dim]\n",
      "            parsm[pdims[dim]] -= hs[dim]\n",
      "            \n",
      "            t, y = sl.qSLIP_step3D(IC, parsp)\n",
      "            dp = getDiff(t, y)\n",
      "    \n",
      "            t, y = sl.qSLIP_step3D(IC, parsm)\n",
      "            dm = getDiff(t, y)\n",
      "            \n",
      "            J.append((dp - dm)/(2*hs[dim]))\n",
      "            \n",
      "            \n",
      "        J = vstack(J).T\n",
      "        if debug_out:\n",
      "            print \"orig J-shape:\", J.shape\n",
      "            print \"det J:\", det(J)\n",
      "        # take only \"active\" (variable) parameters and goal states\n",
      "        J = J[:, par_active][goals_active, :]\n",
      "        if debug_out:\n",
      "            print \"new J-shape:\", J.shape\n",
      "            print \"det J:\", det(J)\n",
      "        pred = array([k, L0, alpha, beta])[par_active]\n",
      "        update = dot(pinv(J, rcond=rcond), d0)\n",
      "        #nrm = norm(update * array([.001, 10, 10, 10]))\n",
      "        success = False\n",
      "        cancel = False\n",
      "        rep = 0\n",
      "        while not (success or cancel):\n",
      "            rep += 1\n",
      "            #print \\\"update:\\\", update\n",
      "            if rep > 10:\n",
      "                # reset\n",
      "                if rcond < 1e-12:\n",
      "                    print \"rcond too small!\"\n",
      "                    cancel = True\n",
      "                    break\n",
      "                else:\n",
      "                    rcond /= 100\n",
      "                pars = [k, L0, m, alpha, beta, dE]\n",
      "                if debug_out:\n",
      "                    print \"recomputing with better resolution\"\n",
      "                break           \n",
      "            update_stretch = zeros(4)\n",
      "            update_stretch[par_active] = update\n",
      "            dk, dL0, dalpha, dbeta = update_stretch\n",
      "            pars = [k - dk, L0 - dL0, m, alpha - dalpha, beta - dbeta, dE]\n",
      "            try:\n",
      "                t, y = sl.qSLIP_step3D(IC, pars)\n",
      "                d0 = getDiff(t, y)[par_active]\n",
      "                #print \"d0 = \", d0\n",
      "            except (ValueError, sl.SimFailError, TypeError):\n",
      "                if debug_out:\n",
      "                    print \"escaping ...\"\n",
      "                update /= 2\n",
      "                continue\n",
      "            if norm(d0) < nd0:\n",
      "                success = True\n",
      "                nd0 = norm(d0)\n",
      "                if debug_out:\n",
      "                    print \"update found!\" + (\" {:3.3f}  \" * 3).format(*(array(pars)[array([0,1,3])]))\n",
      "                \n",
      "            else:\n",
      "                update /= 2\n",
      "            \n",
      "        #print \\\"difference: \\\", norm(d0), d0        \n",
      "        k, L0, alpha, beta = array(pars)[[0,1,3,4]]\n",
      "        \n",
      "    print \"final delta:\", nd0\n",
      "    \n",
      "    #if not cancel:\n",
      "    #    print \\\"converged!\\\"\n",
      "    pars_out = array([k, alpha, L0, beta, dE])\n",
      "\n",
      "if debug_out:\n",
      "    print \"final pars:\", pars_out\n",
      "\n",
      "print \"--------- SIM WITH NEW PARS --------------\"\n",
      "p0l = pars_out # [k, alpha, L0, beta, dE]\n",
      "p_sim = [p0l[0] , p0l[2], m, p0l[1], p0l[3], p0l[4]]\n",
      "t, res = sl.qSLIP_step3D(IC, p_sim  )\n",
      "print  \"sim:\", res[-1,[1,3,5]]\n",
      "print \"ref:\",FS\n",
      "print \"time: sim:\", t[-1], \"ref:\", T\n"
     ],
     "language": "python",
     "metadata": {},
     "outputs": [
      {
       "output_type": "stream",
       "stream": "stdout",
       "text": [
        "p0: [19490.511943079997, 1.2496851, 1.24676386, 0.0, 49.288728]\n",
        "initial delta: 0.0305958703529\n",
        "final delta:"
       ]
      },
      {
       "output_type": "stream",
       "stream": "stdout",
       "text": [
        " 2.26982901599e-07\n",
        "--------- SIM WITH NEW PARS --------------\n",
        "sim: [ 1.21200015  4.08099962  0.        ]\n",
        "ref: [ 1.212  4.081  0.   ]\n",
        "time: sim: 0.330000084703 ref: 0.33\n"
       ]
      }
     ],
     "prompt_number": 11
    },
    {
     "cell_type": "code",
     "collapsed": false,
     "input": [
      "p_sim"
     ],
     "language": "python",
     "metadata": {},
     "outputs": [
      {
       "metadata": {},
       "output_type": "pyout",
       "prompt_number": 12,
       "text": [
        "[71615.425460418424,\n",
        " 1.1696606163058356,\n",
        " 106.0,\n",
        " 1.3897556956236665,\n",
        " 0.0,\n",
        " 49.288728000000162]"
       ]
      }
     ],
     "prompt_number": 12
    },
    {
     "cell_type": "code",
     "collapsed": false,
     "input": [
      "# run the simulation\n",
      "t, y = sl.qSLIP_step3D(IC, p_sim)\n",
      "tf = arange(0,t[-1],0.01)\n",
      "fyi = gradient(interp(tf, t, y[:,4] )) * 100 * m\n",
      "yi = interp(tf, t, y[:,1] )\n",
      "\n",
      "figure(figsize=(16,8))\n",
      "\n",
      "plot(t,y[:,1],'b', label='CoM height')\n",
      "ylabel('CoM height [m]')\n",
      "xlabel('time [s]')\n",
      "legend(loc='upper left' )\n",
      "twinx()\n",
      "plot(tf, fyi, 'r', label='force')\n",
      "ylabel('vertical force [N]')\n",
      "legend()\n"
     ],
     "language": "python",
     "metadata": {},
     "outputs": [
      {
       "metadata": {},
       "output_type": "pyout",
       "prompt_number": 17,
       "text": [
        "<matplotlib.legend.Legend at 0x5cc0390>"
       ]
      },
      {
       "metadata": {},
       "output_type": "display_data",
       "png": "[encoded data removed]",
       "text": [
        "<matplotlib.figure.Figure at 0x581fdd0>"
       ]
      }
     ],
     "prompt_number": 17
    },
    {
     "cell_type": "code",
     "collapsed": false,
     "input": [
      "# \"kinetic\" stiffness estimate (assuming that nadir == VLO)\n",
      "L0 = p_sim[1]\n",
      "y_min = min(y[:,1]l)\n",
      "dk, dl = sl.dk_dL(L0, p_sim[0], y_min, p_sim[5])\n",
      "print \"initial k:\", p_sim[0]\n",
      "print \"new k:\", p_sim[0] + dk\n",
      "#print \"new L:\", L0 + dl\n",
      "print \"kinetic estimate (pre):\", max(fyi)  / (L0 - y_min) \n",
      "print \"kinetic estimate (post):\", max(fyi) /  (L0 + dl - y_min) \n",
      "print \"-\" * 50\n",
      "print \"differences are due to difference in nadir and VLO events\"\n",
      "print \"further, they also indicate potential experimental inaccuracies\""
     ],
     "language": "python",
     "metadata": {},
     "outputs": [
      {
       "output_type": "stream",
       "stream": "stdout",
       "text": [
        "initial k: 71615.4254604\n",
        "new k: 52119.1173976\n",
        "kinetic estimate (pre): 53449.6343037\n",
        "kinetic estimate (post): 38898.7113771\n",
        "--------------------------------------------------\n",
        "differences are due to difference in nadir and VLO events\n",
        "further, they also indicate potential experimental inaccuracies\n"
       ]
      }
     ],
     "prompt_number": 4
    },
    {
     "cell_type": "code",
     "collapsed": false,
     "input": [
      "figure()\n",
      "plot(yi, fyi,'b')\n",
      "xlabel('CoM height')\n",
      "ylabel('Fz')"
     ],
     "language": "python",
     "metadata": {},
     "outputs": [
      {
       "metadata": {},
       "output_type": "pyout",
       "prompt_number": 5,
       "text": [
        "<matplotlib.text.Text at 0x3991f90>"
       ]
      },
      {
       "metadata": {},
       "output_type": "display_data",
       "png": "[encoded data removed]",
       "text": [
        "<matplotlib.figure.Figure at 0x3829850>"
       ]
      }
     ],
     "prompt_number": 5
    },
    {
     "cell_type": "code",
     "collapsed": false,
     "input": [],
     "language": "python",
     "metadata": {},
     "outputs": []
    }
   ],
   "metadata": {}
  }
 ]
}