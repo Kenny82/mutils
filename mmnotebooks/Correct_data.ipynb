{
 "metadata": {
  "name": ""
 },
 "nbformat": 3,
 "nbformat_minor": 0,
 "worksheets": [
  {
   "cells": [
    {
     "cell_type": "markdown",
     "metadata": {},
     "source": [
      "# Here, errors in the raw data are corrected.\n",
      "\n",
      "## (current): CoM height is suspicious\n",
      "\n",
      "## (old): This notebook is a \"run-once\" notebook to adjust the time of the measured force data.\n",
      "\n",
      "\n",
      "From other experiments we suspected that there is a difference in the clock speed between qualisys and the treadmill clock. We verified this using a Fourier-based approach:\n",
      "\n",
      "Approach:\n",
      "\n",
      "* The CoM velocity was estimated using integrated forces and the derivative of the kinematic data\n",
      "* The phase of the Fourier spectra of both CoM velocity estimates was calculated and compared at the dominant frequency (~ 2.8 Hz)\n",
      "* It was found that if the phase difference was computed for only parts of the data, namely the first, ..., last 10.000 data points (10 sec each)"
     ]
    },
    {
     "cell_type": "code",
     "collapsed": false,
     "input": [
      "%connect_info"
     ],
     "language": "python",
     "metadata": {},
     "outputs": [
      {
       "output_type": "stream",
       "stream": "stdout",
       "text": [
        "{\n",
        "  \"stdin_port\": 37710, \n",
        "  \"ip\": \"127.0.0.1\", \n",
        "  \"control_port\": 53090, \n",
        "  \"hb_port\": 37195, \n",
        "  \"signature_scheme\": \"hmac-sha256\", \n",
        "  \"key\": \"2a2675c7-a52c-4d5c-8a13-c25a240c1fb3\", \n",
        "  \"shell_port\": 47626, \n",
        "  \"transport\": \"tcp\", \n",
        "  \"iopub_port\": 34054\n",
        "}\n",
        "\n",
        "Paste the above JSON into a file, and connect with:\n",
        "    $> ipython <app> --existing <file>\n",
        "or, if you are local, you can connect with just:\n",
        "    $> ipython <app> --existing kernel-6946e2bf-a091-4591-92c0-805cee27e546.json \n",
        "or even just:\n",
        "    $> ipython <app> --existing \n",
        "if this is the most recent IPython session you have started.\n"
       ]
      }
     ],
     "prompt_number": 2
    },
    {
     "cell_type": "code",
     "collapsed": false,
     "input": [
      "import scipy.io as sio\n",
      "import mutils.misc as mi\n",
      "import mutils.io as mio\n",
      "\n",
      "\n",
      "import mutils.FDatAn as fda\n",
      "reload(fda)\n",
      "\n",
      "\n",
      "#s = 7 # subject id\n",
      "#r = 1 # repetition\n",
      "import sys\n",
      "\n",
      "for s in range(10):\n",
      "    print \"subject\", s\n",
      "    for r in range(7):\n",
      "        for t in range(8):\n",
      "            \n",
      "            \n",
      "            fn_kin = 'data/2011-mmcl_mat/subj%i/kin/kin_t%i_r%i.mat' % (s, t, r)\n",
      "            fn_frc = 'data/2011-mmcl_mat/subj%i/frc/frc_t%i_r%i.mat' % (s, t, r)\n",
      "            try:\n",
      "                kd = sio.loadmat(fn_kin)\n",
      "                fd = sio.loadmat(fn_frc)\n",
      "                \n",
      "            except IOError:\n",
      "                sys.stdout.write('x')\n",
      "                continue\n",
      "            \n",
      "            sys.stdout.write('.')\n",
      "            #sk, sf = [mio.saveable(x) for x in [kd, fd]] # convenient access            \n",
      "            fc, kc = fda.ComputeCoM(kd,fd, use_Fint=True, adapt_kin_mean=True)\n",
      "            \n",
      "            kd['com'] = kc[1::4,:]\n",
      "            fd['fx_c'] = fc[:,0]\n",
      "            fd['fy_c'] = fc[:,1]\n",
      "            fd['fz_c'] = fc[:,2]\n",
      "            \n",
      "            # remove \"old\" matlab keys from dict\n",
      "            _ = [kd.pop(key) for key in ['__header__', '__globals__', '__version__'] ]\n",
      "            _ = [fd.pop(key) for key in ['__header__', '__globals__', '__version__'] ]\n",
      "            \n",
      "            sio.savemat(fn_kin, kd, do_compression=True)\n",
      "            sio.savemat(fn_frc, fd, do_compression=True)\n",
      "                        \n",
      "            \n",
      "    print \"done!\"\n",
      "\n"
     ],
     "language": "python",
     "metadata": {},
     "outputs": [
      {
       "output_type": "stream",
       "stream": "stdout",
       "text": [
        "subject 0\n",
        "xxxxxxxxxxxxxxxxxxxxxxxxxxxxxxxxxxxxxxxxxxxxxxxxxxxxxxxxdone!\n",
        "subject 1\n",
        "xxxxxxxxx."
       ]
      },
      {
       "output_type": "stream",
       "stream": "stdout",
       "text": [
        ".."
       ]
      },
      {
       "output_type": "stream",
       "stream": "stdout",
       "text": [
        ".."
       ]
      },
      {
       "output_type": "stream",
       "stream": "stdout",
       "text": [
        ".."
       ]
      },
      {
       "output_type": "stream",
       "stream": "stdout",
       "text": [
        "x."
       ]
      },
      {
       "output_type": "stream",
       "stream": "stdout",
       "text": [
        ".x"
       ]
      },
      {
       "output_type": "stream",
       "stream": "stdout",
       "text": [
        "xxxxx."
       ]
      },
      {
       "output_type": "stream",
       "stream": "stdout",
       "text": [
        ".x"
       ]
      },
      {
       "output_type": "stream",
       "stream": "stdout",
       "text": [
        "xxxxx."
       ]
      },
      {
       "output_type": "stream",
       "stream": "stdout",
       "text": [
        "xxxxxxx."
       ]
      },
      {
       "output_type": "stream",
       "stream": "stdout",
       "text": [
        ".x"
       ]
      },
      {
       "output_type": "stream",
       "stream": "stdout",
       "text": [
        "xxxxx."
       ]
      },
      {
       "output_type": "stream",
       "stream": "stdout",
       "text": [
        ".x"
       ]
      },
      {
       "output_type": "stream",
       "stream": "stdout",
       "text": [
        "xxxxdone!\n",
        "subject 2\n",
        "xxxxxxxxx."
       ]
      },
      {
       "output_type": "stream",
       "stream": "stdout",
       "text": [
        ".."
       ]
      },
      {
       "output_type": "stream",
       "stream": "stdout",
       "text": [
        ".."
       ]
      },
      {
       "output_type": "stream",
       "stream": "stdout",
       "text": [
        ".."
       ]
      },
      {
       "output_type": "stream",
       "stream": "stdout",
       "text": [
        "x."
       ]
      },
      {
       "output_type": "stream",
       "stream": "stdout",
       "text": [
        ".x"
       ]
      },
      {
       "output_type": "stream",
       "stream": "stdout",
       "text": [
        "xxxxx."
       ]
      },
      {
       "output_type": "stream",
       "stream": "stdout",
       "text": [
        ".x"
       ]
      },
      {
       "output_type": "stream",
       "stream": "stdout",
       "text": [
        "xxxxx."
       ]
      },
      {
       "output_type": "stream",
       "stream": "stdout",
       "text": [
        ".x"
       ]
      },
      {
       "output_type": "stream",
       "stream": "stdout",
       "text": [
        "xxxxx."
       ]
      },
      {
       "output_type": "stream",
       "stream": "stdout",
       "text": [
        ".x"
       ]
      },
      {
       "output_type": "stream",
       "stream": "stdout",
       "text": [
        "xxxxx."
       ]
      },
      {
       "output_type": "stream",
       "stream": "stdout",
       "text": [
        ".x"
       ]
      },
      {
       "output_type": "stream",
       "stream": "stdout",
       "text": [
        "xxxxdone!\n",
        "subject 3\n",
        "xxxxxxxxx."
       ]
      },
      {
       "output_type": "stream",
       "stream": "stdout",
       "text": [
        ".."
       ]
      },
      {
       "output_type": "stream",
       "stream": "stdout",
       "text": [
        ".."
       ]
      },
      {
       "output_type": "stream",
       "stream": "stdout",
       "text": [
        ".."
       ]
      },
      {
       "output_type": "stream",
       "stream": "stdout",
       "text": [
        "x."
       ]
      },
      {
       "output_type": "stream",
       "stream": "stdout",
       "text": [
        "xxxxxxx."
       ]
      },
      {
       "output_type": "stream",
       "stream": "stdout",
       "text": [
        ".x"
       ]
      },
      {
       "output_type": "stream",
       "stream": "stdout",
       "text": [
        "xxxxx."
       ]
      },
      {
       "output_type": "stream",
       "stream": "stdout",
       "text": [
        ".x"
       ]
      },
      {
       "output_type": "stream",
       "stream": "stdout",
       "text": [
        "xxxxxx."
       ]
      },
      {
       "output_type": "stream",
       "stream": "stdout",
       "text": [
        "xxxxxx."
       ]
      },
      {
       "output_type": "stream",
       "stream": "stdout",
       "text": [
        "xxxxxxdone!\n",
        "subject 4\n",
        "xxxxxxxxx."
       ]
      },
      {
       "output_type": "stream",
       "stream": "stdout",
       "text": [
        ".x"
       ]
      },
      {
       "output_type": "stream",
       "stream": "stdout",
       "text": [
        ".x"
       ]
      },
      {
       "output_type": "stream",
       "stream": "stdout",
       "text": [
        "x."
       ]
      },
      {
       "output_type": "stream",
       "stream": "stdout",
       "text": [
        "x."
       ]
      },
      {
       "output_type": "stream",
       "stream": "stdout",
       "text": [
        ".x"
       ]
      },
      {
       "output_type": "stream",
       "stream": "stdout",
       "text": [
        "xxxxx."
       ]
      },
      {
       "output_type": "stream",
       "stream": "stdout",
       "text": [
        ".x"
       ]
      },
      {
       "output_type": "stream",
       "stream": "stdout",
       "text": [
        "xxxxx."
       ]
      },
      {
       "output_type": "stream",
       "stream": "stdout",
       "text": [
        ".x"
       ]
      },
      {
       "output_type": "stream",
       "stream": "stdout",
       "text": [
        "xxxxx."
       ]
      },
      {
       "output_type": "stream",
       "stream": "stdout",
       "text": [
        ".x"
       ]
      },
      {
       "output_type": "stream",
       "stream": "stdout",
       "text": [
        "xxxxx."
       ]
      },
      {
       "output_type": "stream",
       "stream": "stdout",
       "text": [
        ".x"
       ]
      },
      {
       "output_type": "stream",
       "stream": "stdout",
       "text": [
        "xxxxdone!\n",
        "subject 5\n",
        "xxxxxxxxxxxxxxxxxxxxxxxxxxxxxxxxxxxxxxxxxxxxxxxxxxxxxxxxdone!\n",
        "subject 6\n",
        "xxxxxxxxx."
       ]
      },
      {
       "output_type": "stream",
       "stream": "stdout",
       "text": [
        ".x"
       ]
      },
      {
       "output_type": "stream",
       "stream": "stdout",
       "text": [
        "xxxxx."
       ]
      },
      {
       "output_type": "stream",
       "stream": "stdout",
       "text": [
        ".x"
       ]
      },
      {
       "output_type": "stream",
       "stream": "stdout",
       "text": [
        "xxxxx."
       ]
      },
      {
       "output_type": "stream",
       "stream": "stdout",
       "text": [
        ".x"
       ]
      },
      {
       "output_type": "stream",
       "stream": "stdout",
       "text": [
        "xxxxx."
       ]
      },
      {
       "output_type": "stream",
       "stream": "stdout",
       "text": [
        ".x"
       ]
      },
      {
       "output_type": "stream",
       "stream": "stdout",
       "text": [
        "xxxxx."
       ]
      },
      {
       "output_type": "stream",
       "stream": "stdout",
       "text": [
        ".x"
       ]
      },
      {
       "output_type": "stream",
       "stream": "stdout",
       "text": [
        "xxxxx."
       ]
      },
      {
       "output_type": "stream",
       "stream": "stdout",
       "text": [
        ".x"
       ]
      },
      {
       "output_type": "stream",
       "stream": "stdout",
       "text": [
        "xxxxdone!\n",
        "subject 7\n",
        "xxxxxxxxx."
       ]
      },
      {
       "output_type": "stream",
       "stream": "stdout",
       "text": [
        ".."
       ]
      },
      {
       "output_type": "stream",
       "stream": "stdout",
       "text": [
        ".."
       ]
      },
      {
       "output_type": "stream",
       "stream": "stdout",
       "text": [
        ".."
       ]
      },
      {
       "output_type": "stream",
       "stream": "stdout",
       "text": [
        "x."
       ]
      },
      {
       "output_type": "stream",
       "stream": "stdout",
       "text": [
        ".x"
       ]
      },
      {
       "output_type": "stream",
       "stream": "stdout",
       "text": [
        "xxxxx."
       ]
      },
      {
       "output_type": "stream",
       "stream": "stdout",
       "text": [
        ".x"
       ]
      },
      {
       "output_type": "stream",
       "stream": "stdout",
       "text": [
        "xxxxx."
       ]
      },
      {
       "output_type": "stream",
       "stream": "stdout",
       "text": [
        ".x"
       ]
      },
      {
       "output_type": "stream",
       "stream": "stdout",
       "text": [
        "xxxxx."
       ]
      },
      {
       "output_type": "stream",
       "stream": "stdout",
       "text": [
        ".x"
       ]
      },
      {
       "output_type": "stream",
       "stream": "stdout",
       "text": [
        "xxxxx."
       ]
      },
      {
       "output_type": "stream",
       "stream": "stdout",
       "text": [
        ".x"
       ]
      },
      {
       "output_type": "stream",
       "stream": "stdout",
       "text": [
        "xxxxdone!\n",
        "subject 8\n",
        "xxxxxxxxx."
       ]
      },
      {
       "output_type": "stream",
       "stream": "stdout",
       "text": [
        ".."
       ]
      },
      {
       "output_type": "stream",
       "stream": "stdout",
       "text": [
        ".."
       ]
      },
      {
       "output_type": "stream",
       "stream": "stdout",
       "text": [
        ".."
       ]
      },
      {
       "output_type": "stream",
       "stream": "stdout",
       "text": [
        "x."
       ]
      },
      {
       "output_type": "stream",
       "stream": "stdout",
       "text": [
        ".x"
       ]
      },
      {
       "output_type": "stream",
       "stream": "stdout",
       "text": [
        "xxxxx."
       ]
      },
      {
       "output_type": "stream",
       "stream": "stdout",
       "text": [
        ".x"
       ]
      },
      {
       "output_type": "stream",
       "stream": "stdout",
       "text": [
        "xxxxx."
       ]
      },
      {
       "output_type": "stream",
       "stream": "stdout",
       "text": [
        ".x"
       ]
      },
      {
       "output_type": "stream",
       "stream": "stdout",
       "text": [
        "xxxxx."
       ]
      },
      {
       "output_type": "stream",
       "stream": "stdout",
       "text": [
        ".x"
       ]
      },
      {
       "output_type": "stream",
       "stream": "stdout",
       "text": [
        "xxxxx."
       ]
      },
      {
       "output_type": "stream",
       "stream": "stdout",
       "text": [
        ".x"
       ]
      },
      {
       "output_type": "stream",
       "stream": "stdout",
       "text": [
        "xxxxdone!\n",
        "subject 9\n",
        "xxxxxxxxxxxxxxxxxxxxxxxxxxxxxxxxxxxxxxxxxxxxxxxxxxxxxxxxdone!\n"
       ]
      }
     ],
     "prompt_number": 4
    },
    {
     "cell_type": "markdown",
     "metadata": {},
     "source": [
      "## \"old\" functions (which are not yet in the library) to compute CoM\n",
      "obsolete - they are now in the library (FDatAn.py; however the kin_estimate is hidden in the code of ComputeCoM)\n"
     ]
    },
    {
     "cell_type": "code",
     "collapsed": false,
     "input": [
      "import scipy\n",
      "import scipy.fftpack as f\n",
      "import numpy as np\n",
      "\n",
      "def kin_estimate(selectedData):\n",
      "    \"\"\"\n",
      "    calculates the kinematic CoM estimate from \"selectedData\"\n",
      "    \"\"\"\n",
      "    # anthropometry from Dempster\n",
      "    # format: prox.marker|dist. marker| rel. weight (%) | segment CoM pos rel. to prox. marker (%)\n",
      "    aData = [\n",
      "        ('R_Hea','L_Hea',8.26,50.), \n",
      "        ('L_Acr','R_Trc',46.84/2.,63.),\n",
      "        ('R_Acr','L_Trc',46.84/2.,63.),\n",
      "        ('R_Acr','R_Elb',3.25,43.6), \n",
      "        ('R_Elb','R_WrL',1.87 + 0.65,43. + 25.),\n",
      "        ('L_Acr','L_Elb',3.25,43.6),\n",
      "        ('L_Elb','L_WrL',1.87 + 0.65,43. + 25.),\n",
      "        ('R_Trc','R_Kne',10.5,43.3),\n",
      "        ('R_Kne','R_AnL',4.75,43.4),\n",
      "        ('R_Hee','R_Mtv',1.43,50. + 5.),\n",
      "        ('L_Trc','L_Kne',10.5,43.3),\n",
      "        ('L_Kne','L_AnL',4.75,43.4),\n",
      "        ('L_Hee','L_Mtv',1.43,50. + 5.)\n",
      "        ]\n",
      "\n",
      "    # adaptation to dataformat when extracted from database\n",
      "    aData = [(x[0].lower(), x[1].lower(), x[2], x[3]) for x in aData]\n",
      "    CoM = np.zeros((len(selectedData['sacr'][:,0]),3))\n",
      "    for segment in aData:\n",
      "        CoM += segment[2]/100.* (\n",
      "            (selectedData[segment[1]]-selectedData[segment[0]])*segment[3]/100.\n",
      "            + selectedData[segment[0]]\n",
      "            )\n",
      "    return CoM\n",
      "\n",
      "def CoM_combine(CoM,Force,fs,mass,f_thresh = 2.0,s = 10.):\n",
      "    \"\"\"\n",
      "    performs the CoM_combination \n",
      "    parameters:\n",
      "        CoM    1-D array!  kinematic CoM estimate\n",
      "        Force   1-D array! force in N (must be mean corrected)\n",
      "        fs   sampling frequency\n",
      "        mass   mass in kg\n",
      "        f_thresh   threshold frequency, default: 2.0 Hz\n",
      "        s    steepness of threshold, usually ~ 10\n",
      "        \n",
      "    returns: new (CoM, Force)\n",
      "    \"\"\"\n",
      "    \n",
      "    # first: define two helper functions, \"weighting_function\" and \"kin_estimate\"             \n",
      "    def weighting_function(freq_vec, f_changeover, sharpness):\n",
      "        \"\"\"\n",
      "        returns a weighting function to be multiplied with the spectra\n",
      "        \"\"\"\n",
      "        weighting = 1./( 1. + np.exp( ( freq_vec[1:] - f_changeover ) * sharpness ) );\n",
      "        weighting = weighting + weighting[::-1]\n",
      "        weighting = np.concatenate( (np.array([1.]),weighting) )\n",
      "        return weighting            \n",
      "    \n",
      "    \n",
      "    Force2 = (np.concatenate( (np.array([0.]),Force) )+\\\n",
      "             np.concatenate( (Force,np.array([0.])) ))*0.5\n",
      "\n",
      "    vel_int = scipy.integrate.cumtrapz(Force2/mass,dx=1./fs)\n",
      "\n",
      "\n",
      "    spect_int = f.fft(vel_int)            \n",
      "    spect_diff = f.fft( np.gradient(CoM))*fs\n",
      "    \n",
      "    freq_vec = np.linspace(0,fs-1./len(Force),len(Force))\n",
      "    \n",
      "    wv = weighting_function(freq_vec, f_thresh, s)\n",
      "\n",
      "    spect_combine = wv*spect_diff + (1.-wv)*spect_int;\n",
      "    \n",
      "    v_combine = f.ifft(spect_combine).real\n",
      "\n",
      "\n",
      "    c_Force = np.gradient(v_combine)*fs*mass \n",
      "    v_combine = np.concatenate( (v_combine,np.array([0.])) )\n",
      "    c_CoM = scipy.integrate.cumtrapz(v_combine,dx = 1./fs) + CoM[0]\n",
      "    \n",
      "    \n",
      "    return (c_CoM,c_Force)\n",
      "\n",
      "def calculate_CoM(selectedData,f_thresh = 2., s = 10.):\n",
      "    \"\"\"\n",
      "    calcualtes the CoM trajectory, based on (a) an anthropometric marker set,\n",
      "    and (b) on the CoM_combine method        \n",
      "    parameters:\n",
      "        selectedData: data containing the required variables\n",
      "        f_thresh: threshold frequency\n",
      "        s: steepness\n",
      "    \"\"\"\n",
      "        \n",
      "    mCoM = kin_estimate(selectedData)\n",
      "\n",
      "    Fz = selectedData['Fz'][:,0]\n",
      "    Fz -= np.mean(Fz)\n",
      "    Fy = selectedData['Fy'][:,0]\n",
      "    Fy -= np.mean(Fy)\n",
      "            \n",
      "    CoM = np.zeros((len(Fz),3))\n",
      "    Force = np.zeros((len(Fz),3))\n",
      "    \n",
      "    CoM[:,1], Force[:,1] = CoM_combine(mCoM[:,1],Fy,selectedData['fs'],selectedData['mass'])\n",
      "    CoM[:,2], Force[:,2] = CoM_combine(mCoM[:,2],Fz,selectedData['fs'],selectedData['mass'])\n",
      "    \n",
      "    Force[:,2] += selectedData['mass']*9.81\n",
      "    \n",
      "    # do not apply for Fx, because Fx is terribly wrong\n",
      "    CoM[:,0], Force[:,0] = mCoM[:,0],selectedData['Fx'][:,0]\n",
      "    selectedData['kinCoM'] = mCoM\n",
      "    selectedData['CoM'] = CoM\n",
      "    selectedData['Force'] = Force\n"
     ],
     "language": "python",
     "metadata": {},
     "outputs": [],
     "prompt_number": 2
    },
    {
     "cell_type": "code",
     "collapsed": false,
     "input": [
      "import numpy as np\n",
      "def w1(freq_vec, f_changeover, sharpness):\n",
      "    \"\"\"\n",
      "    returns a weighting function to be multiplied with the spectra\n",
      "    \"\"\"\n",
      "    weighting = 1./( 1. + np.exp( ( freq_vec[1:] - f_changeover ) * sharpness ) );\n",
      "    weighting = weighting + weighting[::-1]\n",
      "    weighting = np.concatenate( (np.array([1.]),weighting) )\n",
      "    return weighting\n",
      "\n",
      "def w2(freq_vec, f_changeover, sharpness):\n",
      "    \"\"\" another weighting function, using tanh to prevent exp. overflow \"\"\"\n",
      "    weight = .5 - .5*tanh((freq_vec[1:] - f_changeover) * sharpness)\n",
      "    weight = weight + weight[::-1]\n",
      "    weight = np.hstack([1., weight])\n",
      "    return weight\n",
      "    "
     ],
     "language": "python",
     "metadata": {},
     "outputs": [],
     "prompt_number": 3
    },
    {
     "cell_type": "code",
     "collapsed": false,
     "input": [
      "freq_vec=linspace(0,250., 4000, endpoint=False)\n",
      "wa  = w1(freq_vec, 5., 10.)\n",
      "wb  = w2(freq_vec, 5., 10.)\n",
      "\n",
      "figure()\n",
      "plot(freq_vec, wa,'r.', label='orig')\n",
      "plot(freq_vec, wb,'b.-', label='tanh')\n",
      "show()"
     ],
     "language": "python",
     "metadata": {},
     "outputs": [],
     "prompt_number": 7
    },
    {
     "cell_type": "markdown",
     "metadata": {},
     "source": [
      "## compute kinematic and kinetic velocity estimates"
     ]
    },
    {
     "cell_type": "code",
     "collapsed": false,
     "input": [
      "from scipy.integrate import cumtrapz\n",
      "\n",
      "kin_est = kin_estimate(kd)\n",
      "Fz = [getattr(sf, key) for key in ['fzr' + str(x) for x in arange(4) + 1] + ['fzl' + str(x) for x in arange(4) + 1]]\n",
      "Fz = sum(vstack(Fz), axis=0)\n",
      "\n",
      "\n",
      "idx0a = 0\n",
      "while Fz[idx0a] > 300:\n",
      "    idx0a += 1\n",
      "\n",
      "idx0 = idx0a\n",
      "while Fz[idx0] < 500:\n",
      "    idx0 += 1\n",
      "\n",
      "idxE0 = 1\n",
      "while Fz[-idxE0] < 800:\n",
      "    idxE0 += 1\n",
      "\n",
      "idxE = idxE0\n",
      "while Fz[-idxE] > 500:\n",
      "    idxE += 1\n",
      " \n",
      "mass = mean(Fz[idx0:-idxE]) / 9.81\n",
      "print \"mass:\", mass\n",
      "\n",
      "\n",
      "vk = gradient(kin_est[:,2]) * 250.\n",
      "vf = cumtrapz(Fz - mass*9.81, initial=vk[0]) / 1000.\n",
      "tk = linspace(0, 240, vk.shape[0], endpoint=False)\n",
      "tf = linspace(0, 240, vf.shape[0], endpoint=False)\n",
      "\n",
      "vki = interp(tf, tk, vk)\n",
      "# manually extrapolate last 3 points \n",
      "delta = vki[-4] - vki[-5]\n",
      "for idx in arange(3) + 1:\n",
      "    vki[-idx] += (4 - idx) * delta\n",
      "\n"
     ],
     "language": "python",
     "metadata": {},
     "outputs": [
      {
       "ename": "TypeError",
       "evalue": "cumtrapz() got an unexpected keyword argument 'initial'",
       "output_type": "pyerr",
       "traceback": [
        "\u001b[1;31m---------------------------------------------------------------------------\u001b[0m\n\u001b[1;31mTypeError\u001b[0m                                 Traceback (most recent call last)",
        "\u001b[1;32m<ipython-input-7-bdcf9023c5dd>\u001b[0m in \u001b[0;36m<module>\u001b[1;34m()\u001b[0m\n\u001b[0;32m     27\u001b[0m \u001b[1;33m\u001b[0m\u001b[0m\n\u001b[0;32m     28\u001b[0m \u001b[0mvk\u001b[0m \u001b[1;33m=\u001b[0m \u001b[0mgradient\u001b[0m\u001b[1;33m(\u001b[0m\u001b[0mkin_est\u001b[0m\u001b[1;33m[\u001b[0m\u001b[1;33m:\u001b[0m\u001b[1;33m,\u001b[0m\u001b[1;36m2\u001b[0m\u001b[1;33m]\u001b[0m\u001b[1;33m)\u001b[0m \u001b[1;33m*\u001b[0m \u001b[1;36m250.\u001b[0m\u001b[1;33m\u001b[0m\u001b[0m\n\u001b[1;32m---> 29\u001b[1;33m \u001b[0mvf\u001b[0m \u001b[1;33m=\u001b[0m \u001b[0mcumtrapz\u001b[0m\u001b[1;33m(\u001b[0m\u001b[0mFz\u001b[0m \u001b[1;33m-\u001b[0m \u001b[0mmass\u001b[0m\u001b[1;33m*\u001b[0m\u001b[1;36m9.81\u001b[0m\u001b[1;33m,\u001b[0m \u001b[0minitial\u001b[0m\u001b[1;33m=\u001b[0m\u001b[0mvk\u001b[0m\u001b[1;33m[\u001b[0m\u001b[1;36m0\u001b[0m\u001b[1;33m]\u001b[0m\u001b[1;33m)\u001b[0m \u001b[1;33m/\u001b[0m \u001b[1;36m1000.\u001b[0m\u001b[1;33m\u001b[0m\u001b[0m\n\u001b[0m\u001b[0;32m     30\u001b[0m \u001b[0mtk\u001b[0m \u001b[1;33m=\u001b[0m \u001b[0mlinspace\u001b[0m\u001b[1;33m(\u001b[0m\u001b[1;36m0\u001b[0m\u001b[1;33m,\u001b[0m \u001b[1;36m240\u001b[0m\u001b[1;33m,\u001b[0m \u001b[0mvk\u001b[0m\u001b[1;33m.\u001b[0m\u001b[0mshape\u001b[0m\u001b[1;33m[\u001b[0m\u001b[1;36m0\u001b[0m\u001b[1;33m]\u001b[0m\u001b[1;33m,\u001b[0m \u001b[0mendpoint\u001b[0m\u001b[1;33m=\u001b[0m\u001b[0mFalse\u001b[0m\u001b[1;33m)\u001b[0m\u001b[1;33m\u001b[0m\u001b[0m\n\u001b[0;32m     31\u001b[0m \u001b[0mtf\u001b[0m \u001b[1;33m=\u001b[0m \u001b[0mlinspace\u001b[0m\u001b[1;33m(\u001b[0m\u001b[1;36m0\u001b[0m\u001b[1;33m,\u001b[0m \u001b[1;36m240\u001b[0m\u001b[1;33m,\u001b[0m \u001b[0mvf\u001b[0m\u001b[1;33m.\u001b[0m\u001b[0mshape\u001b[0m\u001b[1;33m[\u001b[0m\u001b[1;36m0\u001b[0m\u001b[1;33m]\u001b[0m\u001b[1;33m,\u001b[0m \u001b[0mendpoint\u001b[0m\u001b[1;33m=\u001b[0m\u001b[0mFalse\u001b[0m\u001b[1;33m)\u001b[0m\u001b[1;33m\u001b[0m\u001b[0m\n",
        "\u001b[1;31mTypeError\u001b[0m: cumtrapz() got an unexpected keyword argument 'initial'"
       ]
      },
      {
       "output_type": "stream",
       "stream": "stdout",
       "text": [
        "mass: 68.7985556143\n"
       ]
      }
     ],
     "prompt_number": 7
    },
    {
     "cell_type": "markdown",
     "metadata": {},
     "source": [
      "## compute and compare spectra at beginning, middle and end"
     ]
    },
    {
     "cell_type": "code",
     "collapsed": false,
     "input": [
      "slices = [slice(0,30000), slice(70000,100000), slice(140000, 170000), slice(210000,240000)] # equidistant\n",
      "\n",
      "sdk = [f.fft(vki[sl]) for sl in slices]\n",
      "sdf = [f.fft(vf[sl]) for sl in slices]\n",
      "\n",
      "# frequency ~ 2.8Hz: \n",
      "freq_vec = linspace(0,1000, 30000, endpoint=False)\n",
      "\n",
      "figure()\n",
      "sel = slice(70,95) # frequencies between 2.5 and 3.1 Hz\n",
      "idx = 0\n",
      "for s1, s2 in zip(sdk, sdf):\n",
      "    idx += 1\n",
      "    plot(freq_vec[sel], angle(s1[sel] / s2[sel]), '.', label=('part %i' % idx))\n",
      "\n",
      "xlabel('frequency [Hz]')\n",
      "fmax = argmax(abs(s1[sel]))\n",
      "plot([freq_vec[sel][fmax],] * 2, [-1,1],'k--')\n",
      "gca().set_ylim(-.5, .5)\n",
      "title('phase differences (black dashes: dominant frequency)')\n",
      "legend(loc='best')"
     ],
     "language": "python",
     "metadata": {},
     "outputs": [
      {
       "output_type": "pyout",
       "prompt_number": 7,
       "text": [
        "<matplotlib.legend.Legend at 0x6410a90>"
       ]
      }
     ],
     "prompt_number": 7
    },
    {
     "cell_type": "markdown",
     "metadata": {},
     "source": [
      "## convert this into time drift\n",
      "\n",
      "if we assume that one estimate $a'$ is related to the other $a$ by $a'(t) = a(t + \\Delta t)$ , then we can\n",
      "compute their spectra and find the relation of the spectra:\n",
      "\n",
      "$\\tilde{A}'(\\omega) = \\tilde{A} e^{2\\pi i \\omega \\Delta t}$\n",
      "\n",
      "and from this we can calulate $\\Delta t$ by:\n",
      "\n",
      "\n",
      "and\n",
      "\n",
      "$\\angle \\frac{\\tilde{A}'}{\\tilde{A}} = \\tan^{-1} (2\\pi \\omega \\Delta t)$\n",
      "\n",
      "or\n",
      "\n",
      "$\\Delta t = \\angle \\frac{\\tilde{A}'}{\\tilde{A}} \\frac{1}{2 \\pi \\omega}$\n"
     ]
    },
    {
     "cell_type": "code",
     "collapsed": false,
     "input": [
      "phis = [arctan(angle(s1[sel][fmax] / s2[sel][fmax])) for s1, s2 in zip(sdk, sdf)]\n",
      "freq_max = freq_vec[sel][fmax]\n",
      "delta_t = [phi / (2*pi*freq_max) for phi in phis]\n",
      "\n",
      "figure()\n",
      "plot(delta_t, 'r.', label='from exp.')\n",
      "p = polyfit(range(len(delta_t)), delta_t, 1)\n",
      "q = polyval(p, [0, len(delta_t) - 1])\n",
      "plot([0, len(delta_t) - 1], q, 'b--', label='fit')\n",
      "title('time shift as function of time\\ntotal difference: %1.2e' % (q[1] - q[0]))\n",
      "legend(loc='best')\n",
      "xlabel('investigated part')\n"
     ],
     "language": "python",
     "metadata": {},
     "outputs": [
      {
       "output_type": "pyout",
       "prompt_number": 8,
       "text": [
        "<matplotlib.text.Text at 0x5a4f890>"
       ]
      }
     ],
     "prompt_number": 8
    },
    {
     "cell_type": "markdown",
     "metadata": {},
     "source": [
      "## Compare original and \"adjusted\" CoM data"
     ]
    },
    {
     "cell_type": "code",
     "collapsed": false,
     "input": [
      "comzi = interp(tf, tk, kin_est[:,2])\n",
      "tf_2 = linspace(0, 240.012, vf.shape[0], endpoint=False)\n",
      "Fzi = interp(tf, tf_2, Fz)\n",
      "delta = comzi[-4] - comzi[-5]\n",
      "# linearly extrapolate last three indices\n",
      "for elem in range(3):\n",
      "    comzi[-(1+elem)] += (3-elem)*delta"
     ],
     "language": "python",
     "metadata": {},
     "outputs": [],
     "prompt_number": 18
    },
    {
     "cell_type": "code",
     "collapsed": false,
     "input": [
      "zc, Fzc = CoM_combine(comzi, Fz - 9.81*mass, 1000, mass,f_thresh = 2.0,s = 10.)\n",
      "zc2, Fzc2 = CoM_combine(comzi, Fzi - 9.81*mass, 1000, mass,f_thresh = 2.0,s = 10.)"
     ],
     "language": "python",
     "metadata": {},
     "outputs": [],
     "prompt_number": 19
    },
    {
     "cell_type": "code",
     "collapsed": false,
     "input": [
      "figure()\n",
      "plot(Fzc + 9.81*mass, 'r.-')\n",
      "plot(Fz , 'g.-')\n",
      "xlim(0,1000)"
     ],
     "language": "python",
     "metadata": {},
     "outputs": [
      {
       "output_type": "pyout",
       "prompt_number": 11,
       "text": [
        "(0, 1000)"
       ]
      }
     ],
     "prompt_number": 11
    },
    {
     "cell_type": "code",
     "collapsed": false,
     "input": [
      "figure()\n",
      "subplot(1,2,1)\n",
      "plot(zc,'g+')\n",
      "plot(comzi,'r.')\n",
      "plot(zc2,'b.')\n",
      "subplot(1,2,2)\n",
      "plot(zc,'g+')\n",
      "plot(comzi,'r.')\n",
      "plot(zc2,'b.')"
     ],
     "language": "python",
     "metadata": {},
     "outputs": [
      {
       "output_type": "pyout",
       "prompt_number": 21,
       "text": [
        "[<matplotlib.lines.Line2D at 0x814cd10>]"
       ]
      }
     ],
     "prompt_number": 21
    },
    {
     "cell_type": "code",
     "collapsed": false,
     "input": [
      "figure()\n",
      "subplot(1,2,1)\n",
      "plot(Fzc + mass*9.81,'g+')\n",
      "plot(Fz,'r.')\n",
      "plot(Fzc2+ mass*9.81,'b.')\n",
      "subplot(1,2,2)\n",
      "plot(Fzc+ mass*9.81,'g+')\n",
      "plot(Fz,'r.')\n",
      "plot(Fzc2+ mass*9.81,'b.')"
     ],
     "language": "python",
     "metadata": {},
     "outputs": [
      {
       "output_type": "pyout",
       "prompt_number": 23,
       "text": [
        "[<matplotlib.lines.Line2D at 0x7d1c710>]"
       ]
      }
     ],
     "prompt_number": 23
    },
    {
     "cell_type": "code",
     "collapsed": false,
     "input": [
      "close('all')"
     ],
     "language": "python",
     "metadata": {},
     "outputs": [],
     "prompt_number": 20
    },
    {
     "cell_type": "code",
     "collapsed": false,
     "input": [],
     "language": "python",
     "metadata": {},
     "outputs": []
    }
   ],
   "metadata": {}
  }
 ]
}