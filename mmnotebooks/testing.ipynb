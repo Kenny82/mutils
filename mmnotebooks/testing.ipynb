{
 "metadata": {
  "name": "",
  "signature": "sha256:a0bd67f0dd0ca465b1f8605b03a878483cd9a4a102283a9b1cd74df369b8d569"
 },
 "nbformat": 3,
 "nbformat_minor": 0,
 "worksheets": [
  {
   "cells": [
    {
     "cell_type": "markdown",
     "metadata": {},
     "source": [
      "## testing \"alpha-plot\""
     ]
    },
    {
     "cell_type": "code",
     "collapsed": false,
     "input": [
      "def plotband(x, y, ups, downs, color='#0067ea', alpha=.25, **kwargs):\n",
      "    \"\"\"\n",
      "    plots a line surrounded by a ribbon of the same color, but semi-transparent\n",
      "    \n",
      "    :args:\n",
      "        x (N-by-1): positions on horizontal axis\n",
      "        y (N-by-1): corresponding vertical values of the (center) line\n",
      "        ups (N-by-1): upper edge of the ribbon\n",
      "        downs (N-by-1): lower edge of the ribbon\n",
      "        \n",
      "    :returns:\n",
      "        [line, patch] returns of underlying \"plot\" and \"fill_between\" function\n",
      "    \"\"\"\n",
      "    pt1 = plot(x, y, color, **kwargs )\n",
      "    pt2 = fill_between(xdat, ups, downs, color='None', facecolor=color, lw=0, alpha=alpha)\n",
      "    return [pt1, pt2]\n",
      "\n"
     ],
     "language": "python",
     "metadata": {},
     "outputs": [],
     "prompt_number": 25
    },
    {
     "cell_type": "code",
     "collapsed": false,
     "input": [
      "figure()\n",
      "xdat = arange(10)/5.\n",
      "ydat = xdat**2\n",
      "plotband(xdat, ydat, ydat+.5, ydat-.7, linestyle='--')"
     ],
     "language": "python",
     "metadata": {},
     "outputs": [
      {
       "metadata": {},
       "output_type": "pyout",
       "prompt_number": 26,
       "text": [
        "[[<matplotlib.lines.Line2D at 0x7f82c901fe50>],\n",
        " <matplotlib.collections.PolyCollection at 0x7f82c902a9d0>]"
       ]
      },
      {
       "metadata": {},
       "output_type": "display_data",
       "png": "[encoded data removed]",
       "text": [
        "<matplotlib.figure.Figure at 0x7f82e0007150>"
       ]
      }
     ],
     "prompt_number": 26
    },
    {
     "cell_type": "code",
     "collapsed": false,
     "input": [
      "%load_ext cythonmagic"
     ],
     "language": "python",
     "metadata": {},
     "outputs": [],
     "prompt_number": 1
    },
    {
     "cell_type": "code",
     "collapsed": false,
     "input": [
      "%%cython -lm\n",
      "\n",
      "import numpy as np\n",
      "cimport numpy as np\n",
      "#from libc.math cimport sqrt # much, much faster than np.sqrt\n",
      "from cpython cimport bool\n",
      "\n",
      "def find_first(np.ndarray[np.float_t, ndim=1] data, double value):\n",
      "    \"\"\"\n",
      "    finds the index of the first elem in data that is larger than value\n",
      "    \n",
      "    :args:\n",
      "        data (1d numpy array): array to be searched\n",
      "        value (float): value for comparison\n",
      "        \n",
      "    :returns:\n",
      "        idx (int): the index of the first elem in data that is > than value\n",
      "    \"\"\"\n",
      "    \n",
      "    cdef int ii\n",
      "    for ii in range(data.shape[0]):\n",
      "        if data[ii] > value:\n",
      "            return ii\n",
      "    return ii\n",
      "    \n",
      "def find_first_sorted(np.ndarray[np.float_t, ndim=1] data, double value):\n",
      "    \"\"\"\n",
      "    finds the index of the first elem in data that is larger than value\n",
      "    it is assumed that data is sorted\n",
      "    \n",
      "    :args:\n",
      "        data (1d numpy array): array to be searched\n",
      "        value (float): value for comparison\n",
      "        \n",
      "    :returns:\n",
      "        idx (int): the index of the first elem in data that is > than value\n",
      "    \"\"\"\n",
      "    \n",
      "    cdef int ii\n",
      "    cdef bool is_larger = True\n",
      "    ii = data.shape[0] - 1\n",
      "    while data[ii] > value:        \n",
      "        ii = ii//2\n",
      "        if ii == 1:\n",
      "            break\n",
      "    while data[ii] > value:\n",
      "        ii -= 1\n",
      "        if ii == 0:\n",
      "            break\n",
      "    return ii\n"
     ],
     "language": "python",
     "metadata": {},
     "outputs": [],
     "prompt_number": 40
    },
    {
     "cell_type": "code",
     "collapsed": false,
     "input": [
      "tst = arange(1000, dtype=float)\n"
     ],
     "language": "python",
     "metadata": {},
     "outputs": [],
     "prompt_number": 11
    },
    {
     "cell_type": "code",
     "collapsed": false,
     "input": [
      "%timeit find_first(tst, 5.)"
     ],
     "language": "python",
     "metadata": {},
     "outputs": [
      {
       "output_type": "stream",
       "stream": "stdout",
       "text": [
        "1000000 loops, best of 3: 322 ns per loop\n"
       ]
      }
     ],
     "prompt_number": 26
    },
    {
     "cell_type": "code",
     "collapsed": false,
     "input": [
      "%timeit find(tst > 500.)[0]"
     ],
     "language": "python",
     "metadata": {},
     "outputs": [
      {
       "output_type": "stream",
       "stream": "stdout",
       "text": [
        "100000 loops, best of 3: 9.13 \u00b5s per loop\n"
       ]
      }
     ],
     "prompt_number": 19
    },
    {
     "cell_type": "code",
     "collapsed": false,
     "input": [
      "%timeit idxe = find_first_sorted(-tst, -5.)"
     ],
     "language": "python",
     "metadata": {},
     "outputs": [
      {
       "output_type": "stream",
       "stream": "stdout",
       "text": [
        "100000 loops, best of 3: 2.36 \u00b5s per loop\n"
       ]
      }
     ],
     "prompt_number": 29
    },
    {
     "cell_type": "code",
     "collapsed": false,
     "input": [
      "idxe = find_first_sorted(tst, -2)\n",
      "print idxe"
     ],
     "language": "python",
     "metadata": {},
     "outputs": [
      {
       "output_type": "stream",
       "stream": "stdout",
       "text": [
        "-1\n"
       ]
      }
     ],
     "prompt_number": 39
    },
    {
     "cell_type": "code",
     "collapsed": false,
     "input": [
      "-tst[999] > -5"
     ],
     "language": "python",
     "metadata": {},
     "outputs": [
      {
       "metadata": {},
       "output_type": "pyout",
       "prompt_number": 36,
       "text": [
        "False"
       ]
      }
     ],
     "prompt_number": 36
    },
    {
     "cell_type": "code",
     "collapsed": false,
     "input": [],
     "language": "python",
     "metadata": {},
     "outputs": []
    }
   ],
   "metadata": {}
  }
 ]
}