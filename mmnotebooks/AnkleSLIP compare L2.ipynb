{
 "metadata": {
  "name": "",
  "signature": "sha256:79aa529212062a682fd81ccd6eddc2a7f5dd5707369d3b63861f10ab45d5c6c9"
 },
 "nbformat": 3,
 "nbformat_minor": 0,
 "worksheets": [
  {
   "cells": [
    {
     "cell_type": "markdown",
     "metadata": {},
     "source": [
      "# Compare L2 norms of SLIP and empirical data\n",
      "\n",
      "## comments:\n",
      "\n",
      "+ compute \"variance of signals\" instead of L2-norms! (signals are not L2-integrable)\n",
      "\n",
      "<a name=\"toc\"></a>\n",
      "## content\n",
      "\n",
      "+ <a href=\"#step1\">step 1: init notebook</a>\n",
      "+ <a href=\"#step2\">step 2: ... </a>\n"
     ]
    },
    {
     "cell_type": "code",
     "collapsed": false,
     "input": [
      "%cd\n",
      "%cd mmnotebooks"
     ],
     "language": "python",
     "metadata": {},
     "outputs": [
      {
       "output_type": "stream",
       "stream": "stdout",
       "text": [
        "/home/moritz\n",
        "/qnap/pylibs_users/mm/mmnotebooks\n"
       ]
      }
     ],
     "prompt_number": 1
    },
    {
     "cell_type": "markdown",
     "metadata": {},
     "source": [
      "<a name=\"step1\"></a>\n",
      "# Step 1: init notebook\n",
      "<a href=\"#toc\">to content</a>"
     ]
    },
    {
     "cell_type": "code",
     "collapsed": false,
     "input": [
      "# this cell_ID can be used to access this cell from other notebooks.\n",
      "# cell_ID 0\n",
      "\n",
      "# system libs\n",
      "import os\n",
      "import sys\n",
      "import re\n",
      "from copy import deepcopy\n",
      "\n",
      "# shai's lib\n",
      "import libshai.util as ut\n",
      "\n",
      "# my libs\n",
      "import mutils.io as mio\n",
      "import mutils.misc as mi\n",
      "import mutils.statistics as st\n",
      "import mutils.FDatAn as fda\n",
      "from  mutils.io import build_dataset\n",
      "import models.sliputil as su\n",
      "import models.slip as sl\n",
      "from models.sliputil import getControlMaps\n",
      "from models.sliputil import get_auto_sys\n",
      "\n",
      "\n",
      "conf = mio.saveable()\n",
      "# define and import data\n",
      "conf.subject = 7  #available subjects: 1,2,3,7. Other subjects have comparatively bad data quality\n",
      "conf.ttype = 1 # 1: free running, 2: metronome running (data incomplete!)\n",
      "conf.n_factors = 5 # 1-5 factors to predict SLIP parameters\n",
      "conf.n_factors_doc = \"how many (optimal) factors to select of the full kinematic state\"\n",
      "conf.exclude_IC_from_factors = False # exclude the initial conditions from kinematic state \n",
      "                               \n",
      "# detrending options\n",
      "conf.dt_window = 30\n",
      "conf.dt_medfilter = False # use median filter instead of mean\n",
      "    \n",
      "# select ankle-SLIP instead of \"factors without CoM state\" ?\n",
      "conf.select_ankle_SLIP = True\n",
      "\n",
      "conf.cslip_forceZeroRef = True # reference values for controlled SLIP maps must be zero or not\n",
      "conf.cslip_forceZeroRef_doc = \"reference values for controlled SLIP maps must be zero or not\"\n",
      "\n",
      "# to compute periodic SLIP orbit: average over parameters or initial conditions?\n",
      "conf.po_average_over_IC = True\n",
      "conf.po_average_over_IC_doc = \"average over IC's and T,ymin (alt: parameters) for reference SLIP\"\n",
      "conf.normalize_m = True # convert k -> k/m, dE -> dE/m,  m -> 1.0\n",
      "\n",
      "# startup\n",
      "conf.startup_compute_full_maps = True # compute return maps on data loading?\n",
      "conf.startup_n_full_maps = 20 # how many full-stride maps to compute for averaging\n",
      "conf.startup_compute_PCA = False # compute PCA on startup?\n",
      "\n",
      "conf.quiet = False # suppress a lot of output\n",
      "\n",
      "conf.display()"
     ],
     "language": "python",
     "metadata": {},
     "outputs": [
      {
       "output_type": "stream",
       "stream": "stdout",
       "text": [
        "_saveables                 list (10)        list of types that can be stored\n",
        "cslip_forceZeroRef         bool  True       reference values for controlled SLIP maps must be zero or not\n",
        "dt_medfilter               bool  False      \n",
        "dt_window                  int  30          \n",
        "exclude_IC_from_factors    bool  False      \n",
        "n_factors                  int  5           how many (optimal) factors to select of the full kinematic state\n",
        "normalize_m                bool  True       \n",
        "po_average_over_IC         bool  True       average over IC's and T,ymin (alt: parameters) for reference SLIP\n",
        "quiet                      bool  False      \n",
        "select_ankle_SLIP          bool  True       \n",
        "startup_compute_PCA        bool  False      \n",
        "startup_compute_full_maps  bool  True       \n",
        "startup_n_full_maps        int  20          \n",
        "subject                    int  7           \n",
        "ttype                      int  1           \n"
       ]
      }
     ],
     "prompt_number": 2
    },
    {
     "cell_type": "code",
     "collapsed": false,
     "input": [
      "# cell_ID 1\n",
      "# load kinematic data\n",
      "ws1 = mio.saveable()\n",
      "#ws1.k = mio.KinData(data_dir = '/home/moritz/data/2011-mmcl_mat/')\n",
      "ws1.k = mio.KinData(data_dir = 'data/2011-mmcl_mat/')\n",
      "ws1.k_doc = \"generic kinematic data access object (empty selection)\"\n",
      "ws1.k.load(conf.subject, conf.ttype)\n",
      "ws1.k_doc = \"KinData object: s:\" + str(conf.subject) + \", t:\" + str(conf.ttype) + \", selection: ankles\"\n",
      "ws1.k.selection = ['r_anl_y - com_y', 'l_anl_y - com_y', 'com_z']\n",
      "\n",
      "if conf.normalize_m:\n",
      "    ws1.SlipData = [mio.normalize_m(mi.Struct(mio.mload(\n",
      "                        'data/2011-mmcl_mat/SLIP/new/params3D_s%it%ir%i.dict' %\n",
      "                         (conf.subject, conf.ttype, rep)))) for rep in ws1.k.reps]\n",
      "else:\n",
      "    ws1.SlipData = [mi.Struct(mio.mload(\n",
      "                        'data/2011-mmcl_mat/SLIP/new/params3D_s%it%ir%i.dict' %\n",
      "                         (conf.subject, conf.ttype, rep))) for rep in ws1.k.reps]\n",
      "\n",
      "ws1.SlipData_doc = \"SlipData for s:\" + str(conf.subject) + \", t:\" + str(conf.ttype)\n",
      "if not conf.quiet:\n",
      "    ws1.display()\n",
      "\n",
      "\n",
      "# huge data selection, but not every dimension of every marker\n",
      "ws1.full_markers = [ 'com_x', 'com_y',  'com_z', 'r_mtv_x - com_x',   \n",
      "                    'r_anl_x - com_x',  'r_kne_x - com_x',\n",
      "     'r_sia_x - com_x', \n",
      "     'l_mtv_x - com_x', \n",
      "     'l_anl_x - com_x', 'l_kne_x - com_x', 'l_sia_x - com_x',     \n",
      "     'sacr_x - com_x', \n",
      "     'cvii_x - com_x', 'r_wrl_x - com_x',\n",
      "     'r_elb_x - com_x', 'l_elb_x - com_x', \n",
      "     'l_wrl_x - com_x', \n",
      "     'r_anl_y - com_y', 'r_kne_y - com_y', 'r_trc_y - com_y', \n",
      "     'r_sia_y - com_y', \n",
      "     'sacr_y - com_y',  'l_anl_y - com_y',\n",
      "     'l_kne_y - com_y', 'l_trc_y - com_y',\n",
      "     'l_sia_y - com_y',\n",
      "     'cvii_y - com_y',\n",
      "     'r_hea_x - com_x', 'l_hea_x - com_x', 'r_hea_y - com_y', 'l_hea_y - com_y',\n",
      "     'r_hea_z - com_z', 'l_hea_z - com_z',\n",
      "     'r_elb_y - com_y',\n",
      "     'r_acr_y - com_y', 'l_acr_y - com_y',\n",
      "     'l_elb_y - com_y', 'r_mtv_z - com_z', \n",
      "     'r_anl_z - com_z', \n",
      "     'r_trc_z - com_z',\n",
      "     'l_mtv_z - com_z', \n",
      "     'l_anl_z - com_z', 'l_trc_z - com_z', \n",
      "     'sacr_z - com_z',  \n",
      "     'r_wrl_z - com_z', \n",
      "     'r_acr_z - com_z', 'l_acr_z - com_z',\n",
      "     'l_wrl_z - com_z']\n",
      "\n",
      "\n",
      "ws1.full_markers_doc  = 'representative selection of markers for quasi-full state space information'\n",
      "if not conf.quiet:\n",
      "    print \"len of 'ws1.full_markers':\", len(ws1.full_markers), \" (all: 84)\"\n",
      "\n",
      "ws1.k.selection = ws1.full_markers #all_markers\n",
      "\n",
      "ws1.dataset_full = build_dataset(ws1.k, ws1.SlipData, dt_window=conf.dt_window, dt_median=conf.dt_medfilter)\n",
      "ws1.dataset_full_doc = (\"reference 'dataset' for s:\" + str(ws1.k.subject) + \" t:\" + str(ws1.k.ttype) +\n",
      "    \" with 'full' selection\")\n",
      "\n",
      "# \"normalized\" dataset: velocities scaled by small factor\n",
      "ws1.dataset_full.n_kin_r = ws1.dataset_full.all_kin_r.copy()\n",
      "ws1.dataset_full.n_kin_l = ws1.dataset_full.all_kin_l.copy()\n",
      "ws1.dataset_full.n_kin_r[:, len(ws1.k.selection)-2:] /= 11.\n",
      "ws1.dataset_full.n_kin_l[:, len(ws1.k.selection)-2:] /= 11.\n",
      "ws1.dataset_full.n_kin_r -= mean(ws1.dataset_full.n_kin_r, axis=0)\n",
      "ws1.dataset_full.n_kin_l -= mean(ws1.dataset_full.n_kin_l, axis=0)\n",
      "ws1.dataset_full.n_kin_r = fda.dt_movingavg(ws1.dataset_full.n_kin_r, conf.dt_window, conf.dt_medfilter)\n",
      "ws1.dataset_full.n_kin_l = fda.dt_movingavg(ws1.dataset_full.n_kin_l, conf.dt_window, conf.dt_medfilter)\n",
      "ws1.dataset_full.n_kin_r_doc = \"detrended 'all_kin_r'; velocity has been scaled by factor 1/11\"\n",
      "ws1.dataset_full.n_kin_l_doc = \"detrended 'all_kin_l'; velocity has been scaled by factor 1/11\"\n",
      "ds = ws1.dataset_full # shortcut\n",
      "print \"done!\""
     ],
     "language": "python",
     "metadata": {},
     "outputs": [
      {
       "output_type": "stream",
       "stream": "stdout",
       "text": [
        "SlipData        list (6)         SlipData for s:7, t:1\n",
        "_saveables      list (10)        list of types that can be stored\n",
        "k               <class 'mutils.io.KinData'> KinData object: s:7, t:1, selection: ankles\n",
        "len of 'ws1.full_markers': 48  (all: 84)\n",
        "done!"
       ]
      },
      {
       "output_type": "stream",
       "stream": "stdout",
       "text": [
        "\n"
       ]
      }
     ],
     "prompt_number": 3
    },
    {
     "cell_type": "markdown",
     "metadata": {},
     "source": [
      "<a name=\"step2\"></a>\n",
      "# Step 2: Prepare data\n",
      "<a href=\"#toc\">to content</a>"
     ]
    },
    {
     "cell_type": "markdown",
     "metadata": {},
     "source": [
      "## Step 2.1: extended SLIP-empirical consistency check\n",
      "\n",
      "### results:\n",
      "\n",
      "* the computed SLIP parameters do correspond to empirical steps\n",
      "* there seems to be an inconsistency of the loaded data, between phase, step time, ymin, and corresponding IC. This has to be further investigated.\n",
      "* new (only remaining) error identified : TL and YMINL are not (always) aligned -> no problem, are not used.\n",
      "\n",
      "**SANITY CHECK (CONSISTENCY) PASSED**\n"
     ]
    },
    {
     "cell_type": "markdown",
     "metadata": {},
     "source": [
      "## Step 2.2\n",
      "\n",
      "obtain continous step data and SLIP data\n"
     ]
    },
    {
     "cell_type": "code",
     "collapsed": false,
     "input": [
      "def getStrideInfo(raw, phi, vx=None, vy=None, vz=None):\n",
      "    \"\"\"\n",
      "    returns the stride information for a stride that starts around phase phi\n",
      "    **COORDS**: x is running direction, y is height, z is lateral\n",
      "    \n",
      "    :args:\n",
      "        raw (dict): a dictionary like \"rawData\" from create dataset utils\n",
      "        phi (float): phase at which to look for the apex (must be close to apex)\n",
      "        vx, vy, vz (N x float, optional): if present, take these velocities instead of computing it on every function call.\n",
      "        \n",
      "    :returns:\n",
      "        [T0,T1,T2], (3 x float): exact time of initial, second and final apex\n",
      "        [ya0, ya1, ya2], (3 x float): exact heights -\"-\n",
      "        [vx0, vx1, vx2], (3 x float): exact horizontal speed at -\"-\n",
      "        [vz0, vz1, vz2], (3 x float): exact lateral speed at -\"-\n",
      "        [Tn1, Tn2], (2 x float): exact time of nadirs\n",
      "        [ym0, ym1], (2 x float): exact nadir heights of step1 and step 2       \n",
      "        \n",
      "    \"\"\"\n",
      "    y = raw['com'][:,2]\n",
      "    \n",
      "    if vx == None:\n",
      "        vx = gradient(rd['com'][:, 1]) * 250.\n",
      "    if vy == None:\n",
      "        vy = gradient(rd['com'][:, 2]) * 250.\n",
      "    if vz == None:\n",
      "        vz = gradient(rd['com'][:, 0]) * 250.\n",
      "    \n",
      "    phi_d = rd['phi2'].squeeze()\n",
      "    t_vec = linspace(0, 240, len(phi_d), endpoint=False)\n",
      "\n",
      "    # --- find indices of apices\n",
      "    all_T = []\n",
      "    all_idx = []\n",
      "    for nr, phi_shift in enumerate([0, pi, 2*pi]):    \n",
      "        idx = argmin(abs(phi + phi_shift - phi_d)) #first guess of apex        \n",
      "        if (vy[idx-2] < 0 or vy[idx+2] > 0) and not nr:\n",
      "            raise ValueError(\"phase {} is not close to an apex!\".format(phi))\n",
      "        # interpolate around apex\n",
      "        p = polyfit(arange(-(2 + 2*nr),3+ 2*nr), vy[idx-(2 + 2*nr): idx+3 + 2*nr],1)    \n",
      "        idx0 = roots(p)\n",
      "        T0 = (idx + idx0) / 250. # sampling frequency: 250 Hz\n",
      "        all_T.append(T0)\n",
      "        all_idx.append(idx + idx0)\n",
      "\n",
      "    all_Ta = hstack(all_T)\n",
      "    aidx = hstack(all_idx)\n",
      "\n",
      "    # --- find indices of nadirs\n",
      "    nidx = []\n",
      "    all_T = []\n",
      "    for idx in all_idx[:-1]:\n",
      "        curridx = int(idx) + 3\n",
      "        while vy[curridx] < 0:\n",
      "            curridx += 1\n",
      "        p = polyfit(arange(-1,2),vy[curridx- 1: curridx + 2],1)    \n",
      "        idx0 = roots(p)\n",
      "        T0 = (curridx + idx0) / 250. # sampling frequency: 250 Hz        \n",
      "        all_T.append(T0)\n",
      "        nidx.append(curridx + idx0)\n",
      "    all_Tn = hstack(all_T)\n",
      "    nidx = hstack(nidx)\n",
      "    \n",
      "       \n",
      "    # get apex heights and velocities, quadratic interpolation\n",
      "    all_ya = []\n",
      "    all_vx = []\n",
      "    all_vz = []\n",
      "    for idx, ta in zip(aidx, all_Ta):\n",
      "        rng = arange(int(idx)-3, int(idx)+3)\n",
      "        # use time because it's better conditioned than indices\n",
      "        p = polyfit(t_vec[rng], y[rng], 2)\n",
      "        all_ya.append(polyval(p, ta))\n",
      "        p = polyfit(t_vec[rng], vx[rng], 2)\n",
      "        all_vx.append(polyval(p, ta))\n",
      "        p = polyfit(t_vec[rng], vz[rng], 2)\n",
      "        all_vz.append(polyval(p, ta))\n",
      "    all_ya = hstack(all_ya)\n",
      "    all_vx = hstack(all_vx)\n",
      "    all_vz = hstack(all_vz)   \n",
      "    \n",
      "    # get nadir heights\n",
      "    all_yn = []\n",
      "    for idx, ta in zip(nidx, all_Tn):\n",
      "        rng = arange(int(idx)-3, int(idx)+3)\n",
      "        # use time because it's better conditioned than indices\n",
      "        p = polyfit(t_vec[rng], y[rng], 2)\n",
      "        all_yn.append(polyval(p, ta))\n",
      "    all_yn = hstack(all_yn)\n",
      "    \n",
      "    return all_Ta, all_ya, all_vx, all_vz, all_Tn, all_yn\n",
      "\n"
     ],
     "language": "python",
     "metadata": {},
     "outputs": [],
     "prompt_number": 4
    },
    {
     "cell_type": "code",
     "collapsed": false,
     "input": [
      "import models.slip as sl\n",
      "\n",
      "\n",
      "def p2d(pars):\n",
      "    \"\"\" \n",
      "    Creates a SLIP param dictionary from given parameter vector.\n",
      "    Assumes that the mass is \"1\" (i.e. normalized).\n",
      "    \n",
      "    :args:\n",
      "        pars (1-by-5 array): list of parameters: k, alpha, l0, beta, dE\n",
      "        \n",
      "    :returns:\n",
      "        d: a dictionary of corresponding entires that can be passed to SLIP functions.\n",
      "    \"\"\"\n",
      "    d = {}\n",
      "    d['k'] =  pars[0]\n",
      "    d['alpha'] =  pars[1]\n",
      "    d['L0'] =  pars[2]\n",
      "    d['beta'] =  pars[3]\n",
      "    d['dE'] =  pars[4]\n",
      "    d['m'] = 1.\n",
      "    d['g'] = -9.81\n",
      "    return d\n",
      "\n",
      "\n",
      "def getStep(raw, phi, vb, vx=None, vy=None, vz=None):\n",
      "    \"\"\"\n",
      "    returns the step data information for a step that starts around phase phi\n",
      "    **COORDS**: x is running direction, y is height, z is lateral\n",
      "    \n",
      "    :args:\n",
      "        raw (dict): a dictionary like \"rawData\" from create dataset utils\n",
      "        phi (float): phase at which to look for the apex (must be close to apex)\n",
      "        vb (float): treadmill speed\n",
      "        vx, vy, vz (N x float, optional): if present, take these velocities instead of computing it on every function call.\n",
      "        \n",
      "    :returns:\n",
      "        [t, x, y, z, vx, vy, vz]: 7 vectors, each containing a time series of the corresponding coordinates\n",
      "            (t: sample time, 0 corresponds to apex)\n",
      "            sampling time corresponds to original data points\n",
      "        \n",
      "    \"\"\"\n",
      "\n",
      "    y = raw['com'][:,2]\n",
      "    \n",
      "    if vx == None:\n",
      "        vx = gradient(rd['com'][:, 1]) * 250. + vb\n",
      "    if vy == None:\n",
      "        vy = gradient(rd['com'][:, 2]) * 250.\n",
      "    if vz == None:\n",
      "        vz = gradient(rd['com'][:, 0]) * 250.\n",
      "    \n",
      "    phi_d = rd['phi2'].squeeze()\n",
      "    t_vec = linspace(0, 240, len(phi_d), endpoint=False)\n",
      "\n",
      "    # --- find indices of apices\n",
      "    all_T = []\n",
      "    all_idx = []\n",
      "    for nr, phi_shift in enumerate([0, pi]):\n",
      "        idx = argmin(abs(phi + phi_shift - phi_d)) #first guess of apex        \n",
      "        if (vy[idx-2] < 0 or vy[idx+2] > 0) and not nr:\n",
      "            raise ValueError(\"phase {} is not close to an apex!\".format(phi))\n",
      "        # interpolate around apex\n",
      "        p = polyfit(arange(-(2 + 2*nr),3+ 2*nr), vy[idx-(2 + 2*nr): idx+3 + 2*nr],1)    \n",
      "        idx0 = roots(p)\n",
      "        T0 = (idx + idx0) / 250. # sampling frequency: 250 Hz\n",
      "        all_T.append(T0)\n",
      "        all_idx.append(idx + idx0)\n",
      "        \n",
      "    startidx = int(ceil(all_idx[0]))\n",
      "    endidx = int(floor(all_idx[1]))\n",
      "    t = t_vec[startidx:endidx + 1] - all_T[0]\n",
      "    x = rd['com'][startidx:endidx + 1, 1] + t * vb\n",
      "    y = rd['com'][startidx:endidx + 1, 2]\n",
      "    z = rd['com'][startidx:endidx + 1, 0]\n",
      "    \n",
      "    # correct offsets for step\n",
      "    x = x - x[0]\n",
      "    z = z - z[0]\n",
      "\n",
      "    vx_ = vx[startidx:endidx + 1]\n",
      "    vy_ = vy[startidx:endidx + 1]\n",
      "    vz_ = vz[startidx:endidx + 1]    \n",
      "           \n",
      "    return t, x, y, z, vx_, vy_, vz_\n",
      "\n",
      "\n",
      "def getSim(IC, P, t_sample=None):\n",
      "    \"\"\"\n",
      "    analog function to \"getStep\"\n",
      "    returns the simulated step data information for a step starting at IC with parameters P\n",
      "    **COORDS**: x is running direction, y is height, z is lateral\n",
      "    \n",
      "    :args:\n",
      "        IC (1-by-3 array): initial conditions for SLIP\n",
      "        P (1-by-5 array): corresponding parameters, normalized to mass ( [k/m, alpha, l0, beta, dE/m])\n",
      "        t_sample (1-by-N): required sampling times of the output [optional]\n",
      "                \n",
      "    :returns:\n",
      "        [t, x, y, z, vx, vy, vz]: 7 vectors, each containing a time series of the corresponding coordinates\n",
      "            (t: sample time, 0 corresponds to apex)\n",
      "    \"\"\"\n",
      "    \n",
      "    \n",
      "    res = sl.SLIP_step3D(IC, p2d(P))\n",
      "    \n",
      "    if t_sample == None:\n",
      "        t_sample = res['t']\n",
      "    t0 = res['t']\n",
      "    x = interp(t_sample, t0, res['x'])\n",
      "    y = interp(t_sample, t0, res['y'])\n",
      "    z = interp(t_sample, t0, res['z'])\n",
      "    vx = interp(t_sample, t0, res['vx'])\n",
      "    vy = interp(t_sample, t0, res['vy'])\n",
      "    vz = interp(t_sample, t0, res['vz'])\n",
      "    \n",
      "    \n",
      "    return t_sample, x, y, z, vx, vy, vz\n",
      "    \n",
      "\n",
      "    \n",
      "def all_offsets(ds):\n",
      "    \"\"\"\n",
      "    returns a vector that allows to combine the \"raw data\" with the \"all_\" data.\n",
      "    format: o = [0, l1, l2, ... lN]\n",
      "    the corresponding index of all_()[Y] w.r.t ds.all_phases_r[trial][x] is: Y = o[trial] + x\n",
      "    \n",
      "    :args:\n",
      "        ds (dataset): a dataset containing ds.all_phases_r\n",
      "        \n",
      "    :returns:\n",
      "        o (k-by-1): the offset vector\n",
      "    \"\"\"\n",
      "    offsets = zeros(len(ds.all_phases_r))\n",
      "    for trial in arange(len(ds.all_phases_r) - 1):\n",
      "        offsets[trial + 1:] += ds.all_phases_r[trial].shape[0]\n",
      "    return offsets        "
     ],
     "language": "python",
     "metadata": {},
     "outputs": [],
     "prompt_number": 5
    },
    {
     "cell_type": "code",
     "collapsed": false,
     "input": [
      "# test\n",
      "\n",
      "\n",
      "\n",
      "\n",
      "\n",
      "trial = 2\n",
      "stepnr = 19\n",
      "\n",
      "offsets = all_offsets(ds)\n",
      "sd = ws1.SlipData[trial]\n",
      "\n",
      "rd = ws1.k.raw_dat[trial]\n",
      "\n",
      "phiR = ds.all_phases_r[trial]\n",
      "phiL = ds.all_phases_l[trial]\n",
      "\n",
      "# right step\n",
      "t, x, y, z, vx, vy, vz = getStep(rd, phiR[stepnr], sd.vb)\n",
      "IC = ds.all_IC_r[offsets[trial] + stepnr]\n",
      "P = ds.all_param_r[offsets[trial] + stepnr]\n",
      "ts, xs, ys, zs, vxs, vys, vzs = getSim(IC, P, t)\n",
      "\n",
      "figure(figsize=(10,5))\n",
      "subplot(1,3,1)\n",
      "plot(t,z,'r.-')\n",
      "plot(ts, zs, 'b+--')\n",
      "title('z')\n",
      "\n",
      "subplot(1,3,2)\n",
      "plot(t,vz,'r.-')\n",
      "plot(ts, vzs, 'b+--')\n",
      "title('right step\\nv_z')\n",
      "\n",
      "subplot(1,3,3)\n",
      "plot(t, vx,'r.-')\n",
      "plot(ts, vxs, 'b+--')\n",
      "title('vx')\n",
      "\n",
      "# left step\n",
      "t, x, y, z, vx, vy, vz = getStep(rd, phiL[stepnr], sd.vb)\n",
      "IC = ds.all_IC_l[offsets[trial] + stepnr]\n",
      "P = ds.all_param_l[offsets[trial] + stepnr]\n",
      "ts, xs, ys, zs, vxs, vys, vzs = getSim(IC, P, t)\n",
      "\n",
      "# visualize\n",
      "figure(figsize=(10,5))\n",
      "subplot(1,3,1)\n",
      "plot(t,z,'r.-')\n",
      "plot(ts, zs, 'b+--')\n",
      "title('z')\n",
      "\n",
      "subplot(1,3,2)\n",
      "plot(t, vz, 'r.-')\n",
      "plot(ts, vzs, 'b+--')\n",
      "title('left step\\nv_z')\n",
      "\n",
      "subplot(1,3,3)\n",
      "plot(t, vx,'r.-')\n",
      "plot(ts, vxs, 'b+--')\n",
      "title('vx')\n",
      "\n",
      "pass"
     ],
     "language": "python",
     "metadata": {},
     "outputs": [
      {
       "metadata": {},
       "output_type": "display_data",
       "png": "[encoded data removed]",
       "text": [
        "<matplotlib.figure.Figure at 0x7f01acf9ba50>"
       ]
      },
      {
       "metadata": {},
       "output_type": "display_data",
       "png": "[encoded data removed]",
       "text": [
        "<matplotlib.figure.Figure at 0x7f018f8bf490>"
       ]
      }
     ],
     "prompt_number": 6
    },
    {
     "cell_type": "code",
     "collapsed": false,
     "input": [],
     "language": "python",
     "metadata": {},
     "outputs": [],
     "prompt_number": 6
    },
    {
     "cell_type": "code",
     "collapsed": false,
     "input": [
      "# loop\n",
      "\n",
      "# data arrays\n",
      "x0 = []\n",
      "y0 = []\n",
      "z0 = []\n",
      "vx0 = []\n",
      "vy0 = []\n",
      "vz0 = []\n",
      "\n",
      "# correspondiong simulation data arrays\n",
      "xs = []\n",
      "ys = []\n",
      "zs = []\n",
      "vxs = []\n",
      "vys = []\n",
      "vzs = []\n",
      "\n",
      "offsets = all_offsets(ds)\n",
      "\n",
      "for trial in range(len(ds.all_phases_r)):\n",
      "    sd = ws1.SlipData[trial]\n",
      "    rd = ws1.k.raw_dat[trial]\n",
      "    phiR = ds.all_phases_r[trial]\n",
      "    phiL = ds.all_phases_l[trial]\n",
      "        \n",
      "    for step in range(len(ds.all_phases_r[trial])):\n",
      "        if not mod(step, 50):\n",
      "            sys.stdout.write('x')\n",
      "            \n",
      "        # right steps\n",
      "        t, x, y, z, vx, vy, vz = getStep(rd, phiR[step], sd.vb)\n",
      "        for storage, data in zip ([x0, y0, z0, vx0, vy0, vz0], [x, y, z, vx, vy, vz]):\n",
      "            storage.append(data.copy())\n",
      " \n",
      "        # right step simulation \n",
      "        IC = ds.all_IC_r[offsets[trial] + step]\n",
      "        P = ds.all_param_r[offsets[trial] + step]\n",
      "        t, x, y, z, vx, vy, vz = getSim(IC, P, t_sample=t)\n",
      "        for storage, data in zip ([xs, ys, zs, vxs, vys, vzs], [x, y, z, vx, vy, vz]):\n",
      "            storage.append(data.copy())\n",
      "            \n",
      "        # left steps (append to same array)\n",
      "        t, x, y, z, vx, vy, vz = getStep(rd, phiL[step], sd.vb)\n",
      "        for storage, data in zip ([x0, y0, z0, vx0, vy0, vz0], [x, y, z, vx, vy, vz]):\n",
      "            storage.append(data.copy())\n",
      "            \n",
      "        # left step simulation     \n",
      "        IC = ds.all_IC_l[offsets[trial] + step]\n",
      "        P = ds.all_param_l[offsets[trial] + step]\n",
      "        t, x, y, z, vx, vy, vz = getSim(IC, P, t_sample=t)\n",
      "        for storage, data in zip ([xs, ys, zs, vxs, vys, vzs], [x, y, z, vx, vy, vz]):\n",
      "            storage.append(data.copy())\n",
      "\n",
      "        \n",
      "    print \"<\"\n",
      "print \"done\"\n",
      "        "
     ],
     "language": "python",
     "metadata": {},
     "outputs": [
      {
       "output_type": "stream",
       "stream": "stdout",
       "text": [
        "xx"
       ]
      },
      {
       "output_type": "stream",
       "stream": "stdout",
       "text": [
        "xx"
       ]
      },
      {
       "output_type": "stream",
       "stream": "stdout",
       "text": [
        "xx"
       ]
      },
      {
       "output_type": "stream",
       "stream": "stdout",
       "text": [
        "x<"
       ]
      },
      {
       "output_type": "stream",
       "stream": "stdout",
       "text": [
        "\n",
        "xx"
       ]
      },
      {
       "output_type": "stream",
       "stream": "stdout",
       "text": [
        "xx"
       ]
      },
      {
       "output_type": "stream",
       "stream": "stdout",
       "text": [
        "xx"
       ]
      },
      {
       "output_type": "stream",
       "stream": "stdout",
       "text": [
        "x<"
       ]
      },
      {
       "output_type": "stream",
       "stream": "stdout",
       "text": [
        "\n",
        "xx"
       ]
      },
      {
       "output_type": "stream",
       "stream": "stdout",
       "text": [
        "xx"
       ]
      },
      {
       "output_type": "stream",
       "stream": "stdout",
       "text": [
        "xx"
       ]
      },
      {
       "output_type": "stream",
       "stream": "stdout",
       "text": [
        "x<"
       ]
      },
      {
       "output_type": "stream",
       "stream": "stdout",
       "text": [
        "\n",
        "xx"
       ]
      },
      {
       "output_type": "stream",
       "stream": "stdout",
       "text": [
        "xx"
       ]
      },
      {
       "output_type": "stream",
       "stream": "stdout",
       "text": [
        "xx"
       ]
      },
      {
       "output_type": "stream",
       "stream": "stdout",
       "text": [
        "x<"
       ]
      },
      {
       "output_type": "stream",
       "stream": "stdout",
       "text": [
        "\n",
        "xx"
       ]
      },
      {
       "output_type": "stream",
       "stream": "stdout",
       "text": [
        "xx"
       ]
      },
      {
       "output_type": "stream",
       "stream": "stdout",
       "text": [
        "xx"
       ]
      },
      {
       "output_type": "stream",
       "stream": "stdout",
       "text": [
        "x<"
       ]
      },
      {
       "output_type": "stream",
       "stream": "stdout",
       "text": [
        "\n",
        "xx"
       ]
      },
      {
       "output_type": "stream",
       "stream": "stdout",
       "text": [
        "xx"
       ]
      },
      {
       "output_type": "stream",
       "stream": "stdout",
       "text": [
        "xx"
       ]
      },
      {
       "output_type": "stream",
       "stream": "stdout",
       "text": [
        "x<"
       ]
      },
      {
       "output_type": "stream",
       "stream": "stdout",
       "text": [
        "\n",
        "done\n"
       ]
      }
     ],
     "prompt_number": 7
    },
    {
     "cell_type": "code",
     "collapsed": false,
     "input": [
      "# analyze variances\n",
      "\n",
      "labels = ['horiz. position (x)',\n",
      "          'vert. position (y) ',\n",
      "          'lat. position (z)  ',\n",
      "          'horiz. speed (vx)  ',\n",
      "          'vert. speed (vy)   ',\n",
      "          'lat. speed (vz)    ']\n",
      "for emp, sim, lbl in zip([x0, y0, z0, vx0, vy0, vz0], [xs, ys, zs, vxs, vys, vzs], labels):\n",
      "    v0 = []\n",
      "    vred = []\n",
      "    for rep in range(len(emp)):\n",
      "        v0.append(var(emp[rep]))\n",
      "        vred.append(var(emp[rep] - sim[rep]))\n",
      "    print lbl, \" rrv = {:.6f}, rrstd = {:.6f}\".format(mean(vred) / mean(v0), mean(sqrt(vred)) / mean(sqrt(v0)))\n",
      "        \n",
      "        "
     ],
     "language": "python",
     "metadata": {},
     "outputs": [
      {
       "output_type": "stream",
       "stream": "stdout",
       "text": [
        "horiz. position (x)  rrv = 0.000149, rrstd = 0.012092\n",
        "vert. position (y) "
       ]
      },
      {
       "output_type": "stream",
       "stream": "stdout",
       "text": [
        "  rrv = 0.000345, rrstd = 0.018071\n",
        "lat. position (z)  "
       ]
      },
      {
       "output_type": "stream",
       "stream": "stdout",
       "text": [
        "  rrv = 0.042294, rrstd = 0.206801\n",
        "horiz. speed (vx)  "
       ]
      },
      {
       "output_type": "stream",
       "stream": "stdout",
       "text": [
        "  rrv = 0.232817, rrstd = 0.481403\n",
        "vert. speed (vy)   "
       ]
      },
      {
       "output_type": "stream",
       "stream": "stdout",
       "text": [
        "  rrv = 0.001293, rrstd = 0.035575\n",
        "lat. speed (vz)    "
       ]
      },
      {
       "output_type": "stream",
       "stream": "stdout",
       "text": [
        "  rrv = 0.143490, rrstd = 0.413720\n"
       ]
      }
     ],
     "prompt_number": 8
    },
    {
     "cell_type": "markdown",
     "metadata": {},
     "source": [
      "# Old code"
     ]
    },
    {
     "cell_type": "code",
     "collapsed": false,
     "input": [
      "\n",
      "\n",
      "\n",
      "def getSimInfo(IC, par):\n",
      "    \"\"\"\n",
      "    :args:\n",
      "        IC (1x3 float): initial conditions for SLIP\n",
      "        par (1x5 float): parameter for SLIP: [k/m, alpha, L0, beta, dE/m]\n",
      "        \n",
      "    :returns:\n",
      "        T, y, vx, vz, ymin: simulated values       \n",
      "        \n",
      "    \"\"\"\n",
      "    \n",
      "    res = sl.SLIP_step3D(IC, p2d(par))\n",
      "    \n",
      "    yc = res['y']    \n",
      "    idx = 0\n",
      "    while yc[idx + 1] < yc[idx]:\n",
      "        idx += 1\n",
      "    \n",
      "    T = res['t'][-1]\n",
      "    y = res['y'][-1]\n",
      "    vx = res['vx'][-1]\n",
      "    vz = res['vz'][-1]\n",
      "    ymin = res['y'][idx]\n",
      "    \n",
      "    return T, y, vx, vz, ymin\n",
      "    \n",
      "\n",
      "    "
     ],
     "language": "python",
     "metadata": {},
     "outputs": [],
     "prompt_number": 172
    }
   ],
   "metadata": {}
  }
 ]
}