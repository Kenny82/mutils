{
 "metadata": {
  "name": ""
 },
 "nbformat": 3,
 "nbformat_minor": 0,
 "worksheets": [
  {
   "cells": [
    {
     "cell_type": "markdown",
     "metadata": {},
     "source": [
      "# Visualization of Walking BSLIP in 3D simulation results\n",
      "\n",
      "Last edits:\n",
      "\n",
      "+ Sep. 30th, 2013 Moritz Maus\n",
      "+ Oct. 1st, 2013 Moritz Maus: created alpha-L0-Plots\n",
      "+ Oct. 28th, 2013 Moritz Maus: created stride visualization\n",
      "+ Oct. 31th, 2013 Moritz Maus: improved visualization of selected solutions\n",
      "\n",
      "<a name=\"toc\"></a>\n",
      "## Content:\n",
      "\n",
      "<a href=\"#step1\">Step 1: select and load data</a>  \n",
      "<a href=\"#step2\">Step 2: plot \"type-1\" graphs</a>  \n",
      "<a href=\"#step3\">Step 3: plot \"type-2\" graphs</a>  \n",
      "<a href=\"#step4\">Step 4: visualize selected solution</a>  "
     ]
    },
    {
     "cell_type": "markdown",
     "metadata": {},
     "source": [
      "<a name=\"step1\"></a>\n",
      "## Step 1: configure notebook and load data\n",
      "<a href=\"#toc\">content</a>"
     ]
    },
    {
     "cell_type": "code",
     "collapsed": false,
     "input": [
      "import sys\n",
      "import numpy as np\n",
      "import matplotlib\n",
      "\n",
      "import mutils.io as mio\n",
      "import mutils.misc as mi\n",
      "\n",
      "c = mio.saveable() # config workspace\n",
      "c.beta  = 5\n",
      "c.beta_doc = 'beta angle of legs (in deg., 5 and 10 are available)'\n",
      "\n",
      "c.point = 'B'\n",
      "c.point_doc = 'which point of Geyers solutions (A,B,C)'\n",
      "\n",
      "c.background_only = False\n",
      "c.background_only_doc = 'display only background, no additional information'\n",
      "\n",
      "c.display()\n",
      "\n",
      "#dat1 = mio.mload('bslip_results/' + c.point + '_sols5_new.list')\n",
      "#dat2 = mio.mload('bslip_results/' + c.point + '_sols10_new.list')\n",
      "# dat is a list. each element is a list of the following 4 items:\n",
      "#   + initial conditions (array)\n",
      "#   + parameters: k1, k2, alpha1, alpha2, beta1, beta2, l1, l2 \n",
      "#   + walking radius \n",
      "#   + eigenvalues of periodic solution (note: 2-step periodic!)"
     ],
     "language": "python",
     "metadata": {},
     "outputs": [],
     "prompt_number": 6
    },
    {
     "cell_type": "markdown",
     "metadata": {},
     "source": [
      "<a name=\"step2\"></a>\n",
      "## Step 2: plot \"type-1\" solutions: delta-k, delta-alpha plane\n",
      "These solutions have k1 = k + $\\Delta$k, k2 = k - $\\Delta$k, and $\\alpha_1 = \\alpha + \\Delta \\alpha$, $\\alpha_2 = \\alpha - \\Delta \\alpha$\n",
      "\n",
      "<a href=\"#toc\">content</a>  \n",
      "That is, we should visualize them as  $\\Delta k - \\Delta \\alpha$ - plots.\n",
      "\n",
      "### first step: load and order data"
     ]
    },
    {
     "cell_type": "code",
     "collapsed": false,
     "input": [
      "dat1 = mio.mload('bslip_results/' + c.point + '_sols5_new.list')\n",
      "dat2 = mio.mload('bslip_results/' + c.point + '_sols10_new.list')\n",
      "\n",
      "# compute range of axes\n",
      "dk = array([x[1][0] - x[1][1] for x in dat1])\n",
      "da = array([x[1][2] - x[1][3] for x in dat1])\n",
      "\n",
      "nk1 = len(set(dk)) # number of different dk's\n",
      "na1 = len(set(da)) # number of different da's\n",
      "\n",
      "ax_a1 = linspace(min(da), max(da), na1)\n",
      "ax_k1 = linspace(min(dk), max(dk), nk1)\n",
      "\n",
      "# delta_k\n",
      "dk = array([x[1][0] - x[1][1] for x in dat2])\n",
      "da = array([x[1][2] - x[1][3] for x in dat2])\n",
      "\n",
      "nk2 = len(set(dk)) # number of different dk's\n",
      "na2 = len(set(da)) # number of different da's\n",
      "\n",
      "ax_a2= linspace(min(da), max(da), na2)\n",
      "ax_k2 = linspace(min(dk), max(dk), nk2)\n",
      "\n",
      "print \"re-ordering data into grid:\"\n",
      "n = 0\n",
      "data1 = nan*zeros((nk1, na1))\n",
      "print \"ws1:\"\n",
      "for elem in dat1:\n",
      "    # compute index\n",
      "    dk = elem[1][0] - elem[1][1]\n",
      "    da = elem[1][2] - elem[1][3]\n",
      "    idx_a = argmin(abs(ax_a1 - da))\n",
      "    idx_k = argmin(abs(ax_k1 - dk))\n",
      "    data1[idx_k, idx_a] = elem[2]\n",
      "    n+=1\n",
      "    if n >= 500:       \n",
      "        sys.stdout.write('.')        \n",
      "        n=0\n",
      "    \n",
      "print \"done\"\n",
      "\n",
      "n = 0\n",
      "data2 = nan*zeros((nk2, na2))\n",
      "print \"ws2:\"\n",
      "for elem in dat2:\n",
      "    # compute index\n",
      "    dk = elem[1][0] - elem[1][1]\n",
      "    da = elem[1][2] - elem[1][3]\n",
      "    idx_a = argmin(abs(ax_a2 - da))\n",
      "    idx_k = argmin(abs(ax_k2 - dk))\n",
      "    data2[idx_k, idx_a] = elem[2]\n",
      "    n+=1\n",
      "    if n >= 500:       \n",
      "        sys.stdout.write('.')        \n",
      "        n=0\n",
      "    \n",
      "print \"done\"\n"
     ],
     "language": "python",
     "metadata": {},
     "outputs": [
      {
       "output_type": "stream",
       "stream": "stdout",
       "text": [
        "re-ordering data into grid:\n",
        "ws1:\n",
        ".......done\n",
        "ws2:\n",
        "."
       ]
      },
      {
       "output_type": "stream",
       "stream": "stdout",
       "text": [
        ".....done\n"
       ]
      }
     ],
     "prompt_number": 2
    },
    {
     "cell_type": "markdown",
     "metadata": {},
     "source": [
      "### second: create graphs"
     ]
    },
    {
     "cell_type": "code",
     "collapsed": false,
     "input": [
      "colorlim = [-200,200]\n",
      "if c.point in 'AB':\n",
      "    myxlim=[-5,0]\n",
      "    myylim=[-20,20]\n",
      "else:\n",
      "    myxlim=[-12,0]\n",
      "    myylim=[-2,2]\n",
      "    \n",
      "cmap = matplotlib.cm.Spectral\n",
      "cmap.set_bad('w',1.)\n",
      "\n",
      "if c.point=='A':\n",
      "    levels = [-200,-100,-50,-20,-10,10,20,50,100,200]\n",
      "    fig = figure(figsize=(10,6))\n",
      "elif c.point=='B':\n",
      "    levels = [-100,-20,-10,10,20,100]\n",
      "    fig = figure(figsize=(5.5,4))    \n",
      "else:\n",
      "    levels = [-150,-50,-20,-10,10,20,50,150]\n",
      "    fig = figure(figsize=(5.5,4))\n",
      "\n",
      "\n",
      "#--------------------- general frame plot for common title etc.\n",
      "#\n",
      "ax0 = fig.add_subplot(1,1,1,frameon=False)\n",
      "ax0.set_xticks([])\n",
      "ax0.set_yticks([])\n",
      "\n",
      "\n",
      "#--------------------- first plot\n",
      "ax1 = fig.add_subplot(1,2,1)\n",
      "masked_array1 = ma.array (data1.T, mask=np.isnan(data1.T))\n",
      "pcl1 = ax1.pcolor(ax_k1 / 1000., ax_a1 * 180 / pi, masked_array1, cmap=cmap)\n",
      "pcl1.set_clim(colorlim)\n",
      "if not c.background_only:\n",
      "    masked_array1ct = ma.array (data1.T, mask=abs(data1.T)>max(abs(array(colorlim)))*1.2)\n",
      "    ct1 = ax1.contour(ax_k1 / 1000., ax_a1 * 180/pi, masked_array1ct, levels, linestyles='-',\n",
      "                      colors='k', )\n",
      "    clabel(ct1, ct1.levels, inline=True, fmt='%.0f', fontsize=10)\n",
      "\n",
      "\n",
      "#--------------------- second plot\n",
      "ax2 = fig.add_subplot(1,2,2)\n",
      "masked_array2 = ma.array (data2.T, mask=np.isnan(data2.T))\n",
      "pcl2 = ax2.pcolor(ax_k2 / 1000., ax_a2 * 180/pi, masked_array2, cmap=cmap)\n",
      "pcl2.set_clim(colorlim)\n",
      "if not c.background_only:\n",
      "    masked_array2ct = ma.array (data2.T, mask=abs(data2.T)>max(abs(array(colorlim)))*1.2)\n",
      "    ct2 = ax2.contour(ax_k2 / 1000., ax_a2 * 180/pi, masked_array2ct, levels, linestyles='-',\n",
      "                      colors='k', )\n",
      "    clabel(ct2, ct2.levels, rightside_up=False, fmt='%.0f', fontsize=10)\n",
      "\n",
      "#-------------------- colorbar frame\n",
      "if not c.background_only:\n",
      "    if c.point == 'A':\n",
      "        ax3 = fig.add_axes([.8, .55, .08, .4])\n",
      "        cb = colorbar(pcl2, cax=ax3)\n",
      "        cb.set_ticks(linspace(colorlim[0], colorlim[1], 5))\n",
      "        cb.set_label('walking radius [m]', fontsize=14)\n",
      "\n",
      "\n",
      "#-------------------- labeling\n",
      "ax0.set_xlabel('\\n'*2 + r'$\\Delta k$ [kN / m]', fontsize=14)\n",
      "ax1.set_ylabel(r'$\\Delta \\alpha$[deg]', fontsize=14)\n",
      "ax1.set_title(r'$\\beta = 5^\\circ $', fontsize=16)\n",
      "ax2.set_title(r'$\\beta = 10^\\circ $', fontsize=16)\n",
      "\n",
      "\n",
      "#-------------------- formatting\n",
      "ax2.set_yticklabels([]) \n",
      "ax1.set_xlim(myxlim)\n",
      "ax2.set_xlim(myxlim[::-1])\n",
      "ax1.set_ylim(myylim)\n",
      "ax2.set_ylim(myylim)\n",
      "if c.point=='A':\n",
      "    fig.subplots_adjust(hspace=0, wspace=0.025, bottom=.1, right=.875, left=.10)\n",
      "else:\n",
      "    fig.subplots_adjust(hspace=0, wspace=0.025, bottom=.2, right=.875, left=.15)\n",
      "if not c.background_only:\n",
      "    ax1.grid('on')\n",
      "    ax2.grid('on')\n",
      "\n",
      "\n",
      "#-------------------- save figures\n",
      "\n",
      "#savefig('tmp/walking_radius_ak_' + c.point + '.png', dpi=100)\n",
      "#savefig('tmp/walking_radius_ak_' + c.point + '.tiff', dpi=600)\n",
      "#savefig('tmp/walking_radius_ak_' + c.point + '.svg', dpi=50)\n",
      "if c.background_only:\n",
      "    savefig('tmp/walking_radius_ak_' + c.point + '_bg.png')\n",
      "else:\n",
      "    savefig('tmp/walking_radius_ak_' + c.point + '.pdf')\n",
      "\n",
      "pass\n"
     ],
     "language": "python",
     "metadata": {},
     "outputs": [
      {
       "metadata": {},
       "output_type": "display_data",
       "png": "[encoded data removed]",
       "text": [
        "<matplotlib.figure.Figure at 0x4423f10>"
       ]
      }
     ],
     "prompt_number": 7
    },
    {
     "cell_type": "markdown",
     "metadata": {},
     "source": [
      "<a name=\"step3\"></a>\n",
      "## Step 3: plot type-2 solutions: alpha-l0\n",
      " alpha-l0 changes\n",
      "<a href=\"#toc\">content</a>  \n",
      "\n",
      "### First: load and re-order data"
     ]
    },
    {
     "cell_type": "code",
     "collapsed": false,
     "input": [
      "dat1 = mio.mload('bslip_results/' + c.point + '_sols5_new_al0.list')\n",
      "dat2 = mio.mload('bslip_results/' + c.point + '_sols10_new_al0.list')\n",
      "print \"done!\""
     ],
     "language": "python",
     "metadata": {},
     "outputs": [],
     "prompt_number": 22
    },
    {
     "cell_type": "code",
     "collapsed": false,
     "input": [
      "# compute range of axes\n",
      "dl = array([x[1][6] - x[1][7] for x in dat1])\n",
      "da = array([x[1][2] - x[1][3] for x in dat1])\n",
      "\n",
      "c.select_ev = False\n",
      "\n",
      "nl1 = len(set(dl)) # number of different dk's\n",
      "na1 = len(set(da)) # number of different da's\n",
      "\n",
      "ax_a1 = linspace(min(da), max(da), na1)\n",
      "ax_l1 = linspace(min(dl), max(dl), nl1)\n",
      "\n",
      "# delta_k\n",
      "dl = array([x[1][6] - x[1][7] for x in dat2])\n",
      "da = array([x[1][2] - x[1][3] for x in dat2])\n",
      "\n",
      "nl2 = len(set(dl)) # number of different dk's\n",
      "na2 = len(set(da)) # number of different da's\n",
      "\n",
      "ax_a2= linspace(min(da), max(da), na2)\n",
      "ax_l2 = linspace(min(dl), max(dl), nl2)\n",
      "\n",
      "print \"re-ordering data into grid:\"\n",
      "n = 0\n",
      "data1 = nan*zeros((nl1, na1))\n",
      "print \"ws1:\"\n",
      "for elem in dat1:\n",
      "    # compute index\n",
      "    dl = elem[1][6] - elem[1][7]\n",
      "    da = elem[1][2] - elem[1][3]\n",
      "    idx_a = argmin(abs(ax_a1 - da))\n",
      "    idx_l = argmin(abs(ax_l1 - dl))\n",
      "    if not c.select_ev:\n",
      "        data1[idx_l, idx_a] = elem[2]\n",
      "    else:\n",
      "        data1[idx_l, idx_a] = max(abs(elem[3]))\n",
      "    n+=1\n",
      "    if n >= 500:       \n",
      "        sys.stdout.write('.')\n",
      "        n=0\n",
      "\n",
      "if c.point == \"C\": #circumvent a sign flip in the original data: flip alpha, l0, r\n",
      "    ax_a1 *= -1\n",
      "    ax_l1 *= -1\n",
      "    data1 *= -1\n",
      "        \n",
      "print \"done\"\n",
      "\n",
      "n = 0\n",
      "data2 = nan*zeros((nl2, na2))\n",
      "print \"ws2:\"\n",
      "for elem in dat2:\n",
      "    # compute index\n",
      "    dl = elem[1][6] - elem[1][7]\n",
      "    da = elem[1][2] - elem[1][3]\n",
      "    idx_a = argmin(abs(ax_a2 - da))\n",
      "    idx_l = argmin(abs(ax_l2 - dl))\n",
      "    if not c.select_ev:\n",
      "        data2[idx_l, idx_a] = elem[2]\n",
      "    else:\n",
      "        data2[idx_l, idx_a] = max(abs(elem[3]))\n",
      "    n+=1\n",
      "    if n >= 500:       \n",
      "        sys.stdout.write('.')\n",
      "        n=0\n",
      "    \n",
      "print \"done\""
     ],
     "language": "python",
     "metadata": {},
     "outputs": [
      {
       "output_type": "stream",
       "stream": "stdout",
       "text": [
        "re-ordering data into grid:\n",
        "ws1:\n",
        "......."
       ]
      },
      {
       "output_type": "stream",
       "stream": "stdout",
       "text": [
        "........."
       ]
      },
      {
       "output_type": "stream",
       "stream": "stdout",
       "text": [
        "........"
       ]
      },
      {
       "output_type": "stream",
       "stream": "stdout",
       "text": [
        "........"
       ]
      },
      {
       "output_type": "stream",
       "stream": "stdout",
       "text": [
        "........"
       ]
      },
      {
       "output_type": "stream",
       "stream": "stdout",
       "text": [
        "........"
       ]
      },
      {
       "output_type": "stream",
       "stream": "stdout",
       "text": [
        "........"
       ]
      },
      {
       "output_type": "stream",
       "stream": "stdout",
       "text": [
        "........"
       ]
      },
      {
       "output_type": "stream",
       "stream": "stdout",
       "text": [
        "........"
       ]
      },
      {
       "output_type": "stream",
       "stream": "stdout",
       "text": [
        "........."
       ]
      },
      {
       "output_type": "stream",
       "stream": "stdout",
       "text": [
        "........."
       ]
      },
      {
       "output_type": "stream",
       "stream": "stdout",
       "text": [
        "........."
       ]
      },
      {
       "output_type": "stream",
       "stream": "stdout",
       "text": [
        "........."
       ]
      },
      {
       "output_type": "stream",
       "stream": "stdout",
       "text": [
        "........."
       ]
      },
      {
       "output_type": "stream",
       "stream": "stdout",
       "text": [
        "........."
       ]
      },
      {
       "output_type": "stream",
       "stream": "stdout",
       "text": [
        ".......done\n",
        "ws2:\n",
        ".."
       ]
      },
      {
       "output_type": "stream",
       "stream": "stdout",
       "text": [
        "........."
       ]
      },
      {
       "output_type": "stream",
       "stream": "stdout",
       "text": [
        "........"
       ]
      },
      {
       "output_type": "stream",
       "stream": "stdout",
       "text": [
        "........"
       ]
      },
      {
       "output_type": "stream",
       "stream": "stdout",
       "text": [
        "........"
       ]
      },
      {
       "output_type": "stream",
       "stream": "stdout",
       "text": [
        "........"
       ]
      },
      {
       "output_type": "stream",
       "stream": "stdout",
       "text": [
        "........"
       ]
      },
      {
       "output_type": "stream",
       "stream": "stdout",
       "text": [
        "........"
       ]
      },
      {
       "output_type": "stream",
       "stream": "stdout",
       "text": [
        "........"
       ]
      },
      {
       "output_type": "stream",
       "stream": "stdout",
       "text": [
        "........"
       ]
      },
      {
       "output_type": "stream",
       "stream": "stdout",
       "text": [
        "........."
       ]
      },
      {
       "output_type": "stream",
       "stream": "stdout",
       "text": [
        "........."
       ]
      },
      {
       "output_type": "stream",
       "stream": "stdout",
       "text": [
        "........."
       ]
      },
      {
       "output_type": "stream",
       "stream": "stdout",
       "text": [
        "........."
       ]
      },
      {
       "output_type": "stream",
       "stream": "stdout",
       "text": [
        "........."
       ]
      },
      {
       "output_type": "stream",
       "stream": "stdout",
       "text": [
        "........."
       ]
      },
      {
       "output_type": "stream",
       "stream": "stdout",
       "text": [
        "........."
       ]
      },
      {
       "output_type": "stream",
       "stream": "stdout",
       "text": [
        "..done\n"
       ]
      }
     ],
     "prompt_number": 23
    },
    {
     "cell_type": "markdown",
     "metadata": {},
     "source": [
      "### second: create graphs"
     ]
    },
    {
     "cell_type": "code",
     "collapsed": false,
     "input": [
      "colorlim = [-200,200] if not c.select_ev else [0, 1]\n",
      "#colorlim = [0,1]\n",
      "if c.point == 'A':\n",
      "    myxlim=[.1,0]\n",
      "    myylim=[-20,20]\n",
      "elif c.point == 'B':\n",
      "    myxlim=[.1,0]\n",
      "    myylim=[-20,20]\n",
      "    #myylim=[5,10]\n",
      "elif c.point == 'C':\n",
      "    myylim=[-2,2]\n",
      "    myxlim=[.014,0]\n",
      "else:\n",
      "    raise NameError(\"Unknown operation point c.point: select A, B or C\")\n",
      "    \n",
      "cmap = matplotlib.cm.Spectral\n",
      "cmap.set_bad('w',1.)\n",
      "levels = [-100,-50,-20,-10,10,20,50,100]\n",
      "\n",
      "\n",
      "#--------------------- general frame plot for common title etc.\n",
      "fig = figure(figsize=(9,6))\n",
      "ax0 = fig.add_subplot(1,1,1,frameon=False)\n",
      "ax0.set_xticks([])\n",
      "ax0.set_yticks([])\n",
      "\n",
      "\n",
      "#--------------------- first plot\n",
      "ax1 = fig.add_subplot(1,2,1)\n",
      "masked_array1 = ma.array (data1.T, mask=np.isnan(data1.T))\n",
      "pcl1 = ax1.pcolor(ax_l1, ax_a1 * 180 / pi, masked_array1, cmap=cmap)\n",
      "pcl1.set_clim(colorlim)\n",
      "masked_array1ct = ma.array (data1.T, mask=abs(data1.T)>max(abs(array(colorlim)))*1.2)\n",
      "ct1 = ax1.contour(ax_l1, ax_a1 * 180/pi, masked_array1ct, levels, linestyles='-',\n",
      "                  colors='k', )\n",
      "clabel(ct1, ct1.levels, fmt='%.0f', fontsize=10)\n",
      "\n",
      "\n",
      "#--------------------- second plot\n",
      "ax2 = fig.add_subplot(1,2,2)\n",
      "masked_array2 = ma.array (data2.T, mask=np.isnan(data2.T))\n",
      "pcl2 = ax2.pcolor(ax_l2, ax_a2 * 180/pi, masked_array2, cmap=cmap)\n",
      "pcl2.set_clim(colorlim)\n",
      "masked_array2ct = ma.array (data2.T, mask=abs(data2.T)>max(abs(array(colorlim)))*1.2)\n",
      "ct2 = ax2.contour(ax_l2, ax_a2 * 180/pi, masked_array2ct, levels, linestyles='-',\n",
      "                  colors='k', )\n",
      "clabel(ct2, ct2.levels, fmt='%.0f', fontsize=10)\n",
      "\n",
      "#-------------------- colorbar frame\n",
      "ax3 = fig.add_axes([.8, .55, .08, .4])\n",
      "cb = colorbar(pcl2, cax=ax3)\n",
      "cb.set_ticks(linspace(colorlim[0], colorlim[1], 5))\n",
      "cb.set_label('walking radius [m]')\n",
      "\n",
      "\n",
      "#-------------------- labeling\n",
      "ax0.set_xlabel('\\n'*2 + r'$\\Delta l$ [m]')\n",
      "ax1.set_ylabel(r'$\\Delta \\alpha$[deg]')\n",
      "ax1.set_title(r'$\\beta = 5^\\circ $')\n",
      "ax2.set_title(r'$\\beta = 10^\\circ $')\n",
      "\n",
      "\n",
      "#-------------------- formatting\n",
      "ax2.set_yticklabels([]) \n",
      "ax1.set_xlim(myxlim)\n",
      "ax2.set_xlim(myxlim[::-1])\n",
      "ax1.set_ylim(myylim)\n",
      "ax2.set_ylim(myylim)\n",
      "fig.subplots_adjust(hspace=0, wspace=0.05, bottom=.15, right=.85)\n",
      "ax1.grid('on')\n",
      "ax2.grid('on')\n",
      "\n",
      "\n",
      "#-------------------- save figures\n",
      "pass\n",
      "#savefig('tmp/walking_radius_al_' + c.point + '.png')\n",
      "#savefig('tmp/walking_radius_al_' + c.point + '.svg')\n",
      "#savefig('tmp/walking_radius_al_' + c.point + '.pdf')\n"
     ],
     "language": "python",
     "metadata": {},
     "outputs": [
      {
       "metadata": {},
       "output_type": "display_data",
       "png": "[encoded data removed]",
       "text": [
        "<matplotlib.figure.Figure at 0x3ed72d0>"
       ]
      }
     ],
     "prompt_number": 24
    },
    {
     "cell_type": "markdown",
     "metadata": {},
     "source": [
      "<a name=\"step4\"></a>\n",
      "## Step 4: visualize selected solution\n",
      "requires:  \n",
      "\n",
      "+ <a href=\"#step1\">Step 1: select data</a>  \n",
      "+ <a href=\"#step2\">Step 2: load and preprocess data </a>  (first cell only)\n",
      "\n",
      "<a href=\"#toc\">to content</a>\n",
      "\n"
     ]
    },
    {
     "cell_type": "code",
     "collapsed": false,
     "input": [
      "# --- select solution properties\n",
      "c.vis_beta = .10 # one out of .05, .10\n",
      "c.vis_da = 1.3 * pi / 180\n",
      "c.vis_dk = 8000 # sign flip in here!\n",
      "\n",
      "\n",
      "# --- prepare block\n",
      "# --- --- import functions\n",
      "import models.bslip as bslip\n",
      "\n",
      "# --- --- define useful helper function\n",
      "def find_idx(dk, da, sols):\n",
      "    \"\"\"\n",
      "    returns the solution index which most closely matches dk, da\n",
      "    \n",
      "    \"\"\"\n",
      "    #dk = array([x[1][0] - x[1][1] for x in dat1])\n",
      "    #da = array([x[1][2] - x[1][3] for x in dat1])\n",
      "    dk_ref = 1e9\n",
      "    da_ref = 1e9\n",
      "    idx_ref = 0\n",
      "    for idx, sol in enumerate(sols):\n",
      "        dk_f = sol[1][0] - sol[1][1]\n",
      "        da_f = sol[1][2] - sol[1][3]\n",
      "        if abs(da_f - da) <= da_ref:\n",
      "            if abs(abs(dk_f) - dk) <= dk_ref:\n",
      "                da_ref = abs(da_f - da)\n",
      "                dk_ref = abs(abs(dk_f) - dk)\n",
      "                idx_ref = idx\n",
      "                                \n",
      "    return idx_ref\n",
      "        \n",
      "       \n"
     ],
     "language": "python",
     "metadata": {},
     "outputs": [],
     "prompt_number": 212
    },
    {
     "cell_type": "code",
     "collapsed": false,
     "input": [
      "# --- identify closest solution in dataset\n",
      "if c.point == \"A\":\n",
      "    pr0 = array([14000, 14000, 69.*pi / 180, 69 * pi / 180, .05, -.05, 1., 1.])\n",
      "elif c.point == \"B\":\n",
      "    pr0 = array([14000, 14000, 72.5 *pi / 180, 72.5 * pi / 180, .05, -.05, 1., 1.])\n",
      "elif c.point == \"C\":\n",
      "    pr0 = array([20000, 20000, 76.5 *pi / 180, 76.5 * pi / 180, .05, -.05, 1., 1.])\n",
      "else:\n",
      "    raise ValueError(\"Wrong value for c.point (A, , or C)\")\n",
      "        \n",
      "pr0[4] = c.vis_beta\n",
      "pr0[5] = -c.vis_beta\n",
      "if c.vis_beta == .05:\n",
      "    dat = dat1\n",
      "elif c.vis_beta == .1:\n",
      "    dat = dat2\n",
      "else:\n",
      "    raise ValueError(\"Wrong value for c.vis_beta (.05 or .1)\")\n",
      "\n",
      "# --- --- find best solution, get corresponding parameters and IC\n",
      "idx = find_idx(c.vis_dk, c.vis_da, dat)\n",
      "dk, da = -diff(dat[idx][1])[[0,2]]\n",
      "ICc = dat[idx][0]\n",
      "\n",
      "# --- --- update model parameters\n",
      "pr0a = pr0.copy()\n",
      "pr0a[2] += da / 2.\n",
      "pr0a[3] -= da / 2.\n",
      "pr0a[0] += dk / 2.\n",
      "pr0a[1] -= dk / 2.\n",
      "\n",
      "pbase = bslip.demo_p\n",
      "pbase['delta_beta'] = .0\n",
      "P = bslip.pred_to_p(pbase, pr0a)\n",
      "\n",
      "\n",
      "# --- --- some debug output\n",
      "print \"idx = \", idx \n",
      "print \"dk:\", dk, \"(\", c.vis_dk, \")\"\n",
      "print \"da:\", da * 180 / pi, \"(\", da, \") (\", c.vis_da, \")\"\n",
      "print \"r:\", dat[idx][2]"
     ],
     "language": "python",
     "metadata": {},
     "outputs": [
      {
       "output_type": "stream",
       "stream": "stdout",
       "text": [
        "idx =  2191\n",
        "dk: -8000.0 ( 8000 )\n",
        "da: 1.3 ( 0.0226892802759 ) ( 0.0226892802759 )\n",
        "r: -35.3479353354\n"
       ]
      }
     ],
     "prompt_number": 213
    },
    {
     "cell_type": "code",
     "collapsed": false,
     "input": [
      "# --- make several steps\n",
      "\n",
      "# --- --- create the model with parameters and IC\n",
      "ICp = bslip.ICcircle_to_ICeuklid(ICc)\n",
      "mdl = bslip.BSLIP_newTD(P, ICp)\n",
      "\n",
      "# --- --- run the model\n",
      "for rep in range(10): #26):\n",
      "    _ = mdl.do_step()\n",
      "\n",
      "    \n",
      "# --- --- basic visualization\n",
      "if False: # don't do that right now\n",
      "    figure()\n",
      "    f = bslip.vis_sim(mdl)\n",
      "    f.axes[0].set_ylim(.97,.99)\n",
      "    \n",
      "    figure(figsize=(14,6))\n",
      "    for ts,td, fs, fd in zip(mdl.t_ss_seq, mdl.t_ds_seq, mdl.forces_ss_seq, mdl.forces_ds_seq):\n",
      "        plot(ts, fs[:,1],'r')\n",
      "        plot(ts, fs[:,4],'r--')\n",
      "        plot(td, fd[:,1],'r')\n",
      "        plot(td, fd[:,4],'r--')\n",
      "    \n",
      "else:\n",
      "    print \"done!\" # give at least some output\n",
      "    \n",
      "pass\n"
     ],
     "language": "python",
     "metadata": {},
     "outputs": [
      {
       "output_type": "stream",
       "stream": "stdout",
       "text": [
        "done!\n"
       ]
      }
     ],
     "prompt_number": 214
    },
    {
     "cell_type": "markdown",
     "metadata": {},
     "source": [
      "### visualize a single stride"
     ]
    },
    {
     "cell_type": "code",
     "collapsed": false,
     "input": [
      "# --- visualize\n",
      "# --- --- switch figure format\n",
      "%config InlineBackend.figure_format = 'png' # svg or png\n",
      "\n",
      "fig = figure(figsize=(6.5,5.5))\n",
      "nsteps = 4\n",
      "\n",
      "\n",
      "titlefont={'family' : 'Sans',\n",
      "           'size' : 10,\n",
      "           'weight' : 'normal',\n",
      "            }\n",
      "\n",
      "\n",
      "# single stance line format\n",
      "ss_fmt = { 'color' : '#555555',\n",
      "          'linewidth' : 1.,\n",
      "          'linestyle' : '-',\n",
      "          }\n",
      "\n",
      "# double stance line format\n",
      "ds_fmt = { 'color' : '#000000',\n",
      "          'linewidth' : 1.5,\n",
      "          'linestyle' : '-',\n",
      "          }\n",
      "\n",
      "\n",
      "# --- --- gather and rotate position data to walk \"mostly right\"\n",
      "dx, dz = mdl.y_ss_seq[nsteps][0,[0,2]] - mdl.y_ss_seq[0][0,[0,2]]\n",
      "dphi = arctan2(dz, dx)\n",
      "\n",
      "rotmat = array([[cos(dphi), -sin(dphi)],[sin(dphi), cos(dphi)]]).T\n",
      "#rotmat = eye(2)\n",
      "\n",
      "dat_ss = [dot(rotmat, mdl.y_ss_seq[rep][:, [0,2]].T).T for rep in range(nsteps)]\n",
      "dat_ds = [dot(rotmat, mdl.y_ds_seq[rep][:, [0,2]].T).T for rep in range(nsteps)]\n",
      "\n",
      "# --- --- top subplot: top view\n",
      "ax0 = fig.add_subplot(2,1,1)\n",
      "for rep in range(nsteps):\n",
      "    ax0.plot(dat_ss[rep][:,0], dat_ss[rep][:,1], **ss_fmt)\n",
      "    ax0.plot(dat_ds[rep][:,0], dat_ds[rep][:,1], **ds_fmt)\n",
      "        \n",
      "    # un-rotated data\n",
      "    #ax0.plot(mdl.y_ss_seq[rep][:,0], mdl.y_ss_seq[rep][:,2], 'r+')\n",
      "    #ax0.plot(mdl.y_ds_seq[rep][:,0], mdl.y_ds_seq[rep][:,2], 'g+')\n",
      "    \n",
      "\n",
      "ax0.plot([dat_ss[0][0,0], dat_ds[nsteps-1][-1,0]],\n",
      "         [dat_ss[0][0,1], dat_ds[nsteps-1][-1,1]], 'k--')\n",
      "          \n",
      "\n",
      "# feet\n",
      "min_foot = 0\n",
      "max_foot = 0\n",
      "nfeet = nsteps//2 + 1\n",
      "for rep in range(nfeet):\n",
      "    foot1 = dot(rotmat, array(mdl.feet1_seq[::2][rep])[[0,2]])\n",
      "    if foot1[1] > max_foot:\n",
      "        max_foot = foot1[1]\n",
      "    elif foot1[1] < min_foot:\n",
      "        min_foot = foot1[1]\n",
      "    plot(foot1[0], foot1[1], color='#000000', marker='d')\n",
      "    if rep < nfeet - 1: # skip last 2nd foot\n",
      "        foot2 = dot(rotmat, array(mdl.feet2_seq[1::2][rep])[[0,2]])\n",
      "        plot(foot2[0], foot2[1], color='#aaaaaa', marker='d')\n",
      "        if foot2[1] > max_foot:\n",
      "            max_foot = foot2[1]\n",
      "        elif foot2[1] < min_foot:\n",
      "            min_foot = foot2[1]\n",
      "                \n",
      "\n",
      "\n",
      "\n",
      "ax0.set_title('top view', fontdict=titlefont)\n",
      "ax0.set_xlabel('horizontal CoM position [m]', fontdict=titlefont)\n",
      "ax0.set_ylabel('lateral CoM position[m]', fontdict=titlefont)\n",
      "\n",
      "\n",
      "# --- --- bottom subplot: vertical motion\n",
      "\n",
      "ax1 = fig.add_subplot(2,1,2)\n",
      "ax1b = ax1.twinx() # for the vertical forces\n",
      "mg = 80*9.81 # body weight\n",
      "for rep in range(nsteps):\n",
      "    ax1.plot(mdl.t_ss_seq[rep], mdl.y_ss_seq[rep][:,1], '-', **ss_fmt)\n",
      "    ax1.plot(mdl.t_ds_seq[rep], mdl.y_ds_seq[rep][:,1], '-', **ds_fmt)\n",
      "    \n",
      "    ax1b.plot(mdl.t_ss_seq[rep], mdl.forces_ss_seq[rep][:,1] / mg, color='#000000', linewidth=3)\n",
      "    ax1b.plot(mdl.t_ds_seq[rep], mdl.forces_ds_seq[rep][:,1] / mg, color='#000000', linewidth=3)\n",
      "\n",
      "    ax1b.plot(mdl.t_ss_seq[rep], mdl.forces_ss_seq[rep][:,4]/ mg, color='#909090', linestyle='-', linewidth=3)\n",
      "    ax1b.plot(mdl.t_ds_seq[rep], mdl.forces_ds_seq[rep][:,4]/ mg, color='#909090', linestyle='-', linewidth=3)\n",
      "    \n",
      "\n",
      "\n",
      "ax1.set_title('vertical motion', fontdict=titlefont)\n",
      "ax1.set_ylim(.45, 1.05)\n",
      "ax1.set_yticks(arange(3)*.1 + .8)\n",
      "ax1b.set_yticks(arange(6) * .25)\n",
      "ax1b.set_ylim(0, 2)\n",
      "ax1b.plot(array(ax1b.get_xlim())*.99, [1, 1], 'k--')\n",
      "ax1b.set_ylabel('vertical force [bodyweight]', fontdict=titlefont)\n",
      "ax1.set_xlabel('time [s]', fontdict=titlefont)\n",
      "ax1.set_ylabel('vertical CoM position', fontdict=titlefont)\n",
      "ax0.set_xlim([dat_ss[0][0,0]-.15, dat_ds[nsteps-1][-1,0]+.25])\n",
      "ax0.set_ylim([min_foot - .05, max_foot + .05])\n",
      "subplots_adjust(hspace=.25, top=.95, bottom=.08)\n",
      "\n",
      "fig.savefig('tmp/sol_b1.pdf')\n",
      "pass\n"
     ],
     "language": "python",
     "metadata": {},
     "outputs": [
      {
       "metadata": {},
       "output_type": "display_data",
       "png": "[encoded data removed]",
       "text": [
        "<matplotlib.figure.Figure at 0x3517f10>"
       ]
      }
     ],
     "prompt_number": 218
    },
    {
     "cell_type": "code",
     "collapsed": false,
     "input": [
      "mdl.feet1_seq[::2][rep]"
     ],
     "language": "python",
     "metadata": {},
     "outputs": [
      {
       "metadata": {},
       "output_type": "pyout",
       "prompt_number": 133,
       "text": [
        "[0, 0, 0]"
       ]
      }
     ],
     "prompt_number": 133
    },
    {
     "cell_type": "code",
     "collapsed": false,
     "input": [
      "foot1 = dot(rotmat, array(mdl.feet1_seq[::2][rep])[[0,2]])"
     ],
     "language": "python",
     "metadata": {},
     "outputs": [],
     "prompt_number": 134
    },
    {
     "cell_type": "code",
     "collapsed": false,
     "input": [
      "P"
     ],
     "language": "python",
     "metadata": {},
     "outputs": [
      {
       "metadata": {},
       "output_type": "pyout",
       "prompt_number": 113,
       "text": [
        "{'delta_beta': 0.0,\n",
        " 'foot1': [0, 0, 0],\n",
        " 'foot2': [-2, 0, 0],\n",
        " 'g': [0, -9.81, 0],\n",
        " 'lp1': [13000.0, 1.0, 1.1876965559821411, 0.050000000000000003],\n",
        " 'lp2': [15000.0, 1.0, 1.2208578117700335, -0.050000000000000003],\n",
        " 'm': 80}"
       ]
      }
     ],
     "prompt_number": 113
    },
    {
     "cell_type": "code",
     "collapsed": false,
     "input": [
      "dat[idx]"
     ],
     "language": "python",
     "metadata": {},
     "outputs": [
      {
       "metadata": {},
       "output_type": "pyout",
       "prompt_number": 92,
       "text": [
        "[array([ 0.92397967,  0.4084825 ,  1.29894495,  0.94003792,  0.10411967]),\n",
        " array([  1.30000000e+04,   1.50000000e+04,   1.18769656e+00,\n",
        "         1.22085781e+00,   5.00000000e-02,  -5.00000000e-02,\n",
        "         1.00000000e+00,   1.00000000e+00]),\n",
        " 3555.2907146064817,\n",
        " array([  1.62567548e-01+0.97679344j,   1.62567548e-01-0.97679344j,\n",
        "         2.14347643e-05+0.j        ,   1.03531933e-01+0.j        ])]"
       ]
      }
     ],
     "prompt_number": 92
    },
    {
     "cell_type": "code",
     "collapsed": false,
     "input": [
      "sqrt(1.2263**2 + .40848**2 + .128**2)"
     ],
     "language": "python",
     "metadata": {},
     "outputs": [
      {
       "metadata": {},
       "output_type": "pyout",
       "prompt_number": 93,
       "text": [
        "1.2988655051236058"
       ]
      }
     ],
     "prompt_number": 93
    },
    {
     "cell_type": "code",
     "collapsed": false,
     "input": [],
     "language": "python",
     "metadata": {},
     "outputs": []
    }
   ],
   "metadata": {}
  }
 ]
}