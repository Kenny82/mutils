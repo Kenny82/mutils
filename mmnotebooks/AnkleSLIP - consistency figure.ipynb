{
 "metadata": {
  "name": "",
  "signature": "sha256:948ed1a58dde3a36424c31bc9f7905ac8b2279e7c98da7922ab0c07a1e2d7dc5"
 },
 "nbformat": 3,
 "nbformat_minor": 0,
 "worksheets": [
  {
   "cells": [
    {
     "cell_type": "markdown",
     "metadata": {},
     "source": [
      "Consistency figure\n",
      "=======================\n",
      "\n",
      "This notebook is a fork of \"AnkleSLIP - find minimal model\". \n",
      "Here, only a the \"SLIP parameter prediction and model self-consistency check\" figure is created\n",
      "last edits:  \n",
      "\n",
      "+ Nov. 28th, 2013 MM: notebook forked\n",
      "+ Jan 7th, 2014 MM: adapted to new colors; splitted plots\n",
      "+ Feb 18th, 2014 MM: adapted legend: labels now SLIP-consistent\n",
      "\n",
      "\n"
     ]
    },
    {
     "cell_type": "markdown",
     "metadata": {},
     "source": [
      "<a name=\"content\"></a>\n",
      "# Content\n",
      "\n",
      "<a href=\"#step0\">Step 0: configure notebook and define functions</a>  \n",
      "<a href=\"#step1import\">Step 1: import data</a>  \n",
      "<a href=\"#step2\">Step 2: compute factors</a>  \n",
      "<a href=\"#step3\">Step 3: compute predictions</a>  \n",
      "<a href=\"#step4\">Step 4: visualize</a>  \n"
     ]
    },
    {
     "cell_type": "markdown",
     "metadata": {},
     "source": [
      "<a name=\"step0\"></a>  \n",
      "# Step 0: configure notebook and define functions\n",
      "<a href=\"#content\">to content</a>  \n",
      "Select subject and details of computation"
     ]
    },
    {
     "cell_type": "code",
     "collapsed": true,
     "input": [
      "# run this to connect an ipython qtconsole to the notebook\n",
      "%connect_info"
     ],
     "language": "python",
     "metadata": {},
     "outputs": [
      {
       "output_type": "stream",
       "stream": "stdout",
       "text": [
        "{\n",
        "  \"stdin_port\": 38859, \n",
        "  \"ip\": \"127.0.0.1\", \n",
        "  \"control_port\": 50332, \n",
        "  \"hb_port\": 52097, \n",
        "  \"signature_scheme\": \"hmac-sha256\", \n",
        "  \"key\": \"baa047fc-bdaf-4a94-8444-ec2a271fb1d0\", \n",
        "  \"shell_port\": 48742, \n",
        "  \"transport\": \"tcp\", \n",
        "  \"iopub_port\": 53534\n",
        "}\n",
        "\n",
        "Paste the above JSON into a file, and connect with:\n",
        "    $> ipython <app> --existing <file>\n",
        "or, if you are local, you can connect with just:\n",
        "    $> ipython <app> --existing kernel-9330378e-b0a3-4fa4-b859-263d4f5fc532.json --profile nbserver\n",
        "or even just:\n",
        "    $> ipython <app> --existing --profile nbserver\n",
        "if this is the most recent IPython session you have started.\n"
       ]
      }
     ],
     "prompt_number": 1
    },
    {
     "cell_type": "code",
     "collapsed": false,
     "input": [
      "%cd\n",
      "%cd mmnotebooks"
     ],
     "language": "python",
     "metadata": {},
     "outputs": [
      {
       "output_type": "stream",
       "stream": "stdout",
       "text": [
        "/home/moritz\n",
        "/qnap/pylibs_users/mm/mmnotebooks\n"
       ]
      }
     ],
     "prompt_number": 1
    },
    {
     "cell_type": "code",
     "collapsed": false,
     "input": [
      "# system libs\n",
      "import os\n",
      "import sys\n",
      "import re\n",
      "from copy import deepcopy\n",
      "\n",
      "# shai's lib\n",
      "import libshai.util as ut\n",
      "\n",
      "# my libs\n",
      "import mutils.io as mio\n",
      "import mutils.misc as mi\n",
      "import mutils.statistics as st\n",
      "import mutils.FDatAn as fda\n",
      "from  mutils.io import build_dataset\n",
      "import models.sliputil as su\n",
      "import models.slip as sl\n",
      "from models.sliputil import getControlMaps\n",
      "from models.sliputil import get_auto_sys\n",
      "import mutils.plotting as mplt\n",
      "\n",
      "conf = mio.saveable()\n",
      "# define and import data\n",
      "conf.subject = 2  #available subjects: 1,2,3,7. Other subjects have comparatively bad data quality\n",
      "conf.ttype = 1 # 1: free running, 2: metronome running (data incomplete!)\n",
      "conf.n_factors = 5 # 1-5 factors to predict SLIP parameters\n",
      "conf.n_factors_doc = \"how many (optimal) factors to select of the full kinematic state\"\n",
      "conf.exclude_IC_from_factors = False # exclude the initial conditions from kinematic state \n",
      "                               \n",
      "# detrending options\n",
      "conf.dt_window = 30\n",
      "conf.dt_medfilter = False # use median filter instead of mean\n",
      "    \n",
      "# select ankle-SLIP instead of \"factors without CoM state\" ?\n",
      "conf.select_ankle_SLIP = True\n",
      "\n",
      "conf.cslip_forceZeroRef = True # reference values for controlled SLIP maps must be zero or not\n",
      "conf.cslip_forceZeroRef_doc = \"reference values for controlled SLIP maps must be zero or not\"\n",
      "\n",
      "# to compute periodic SLIP orbit: average over parameters or initial conditions?\n",
      "conf.po_average_over_IC = True\n",
      "conf.po_average_over_IC_doc = \"average over IC's and T,ymin (alt: parameters) for reference SLIP\"\n",
      "\n",
      "# startup\n",
      "conf.startup_compute_full_maps = True # compute return maps on data loading?\n",
      "conf.startup_n_full_maps = 40 # how many full-stride maps to compute for averaging\n",
      "conf.startup_compute_PCA = False # compute PCA on startup?\n",
      "\n",
      "conf.display()"
     ],
     "language": "python",
     "metadata": {},
     "outputs": [
      {
       "output_type": "stream",
       "stream": "stdout",
       "text": [
        "cslip_forceZeroRef         bool  True       reference values for controlled SLIP maps must be zero or not\n",
        "dt_medfilter               bool  False      \n",
        "dt_window                  int  30          \n",
        "exclude_IC_from_factors    bool  False      \n",
        "n_factors                  int  5           how many (optimal) factors to select of the full kinematic state\n",
        "po_average_over_IC         bool  True       average over IC's and T,ymin (alt: parameters) for reference SLIP\n",
        "select_ankle_SLIP          bool  True       \n",
        "startup_compute_PCA        bool  False      \n",
        "startup_compute_full_maps  bool  True       \n",
        "startup_n_full_maps        int  40          \n",
        "subject                    int  2           \n",
        "ttype                      int  1           \n"
       ]
      }
     ],
     "prompt_number": 2
    },
    {
     "cell_type": "markdown",
     "metadata": {},
     "source": [
      "<a name=\"step1import\"></a>\n",
      "## Step 1: import data\n",
      "\n",
      "### available workspaces:\n",
      "\n",
      "* ws1: generic workspace with KinData, SlipData and Dataset objects\n",
      "\n",
      "<a href=\"#content\">to content</a>"
     ]
    },
    {
     "cell_type": "code",
     "collapsed": false,
     "input": [
      "%%writefile tmp/step1.py\n",
      "# load kinematic data\n",
      "ws1 = mio.saveable()\n",
      "#ws1.k = mio.KinData(data_dir = '/home/moritz/data/2011-mmcl_mat/')\n",
      "ws1.k = mio.KinData(data_dir = 'data/2011-mmcl_mat/')\n",
      "ws1.k_doc = \"generic kinematic data access object (empty selection)\"\n",
      "ws1.k.load(conf.subject, conf.ttype)\n",
      "ws1.k_doc = \"KinData object: s:\" + str(conf.subject) + \", t:\" + str(conf.ttype) + \", selection: ankles\"\n",
      "ws1.k.selection = ['r_anl_y - com_y', 'l_anl_y - com_y', 'com_z']\n",
      "\n",
      "ws1.SlipData = [mi.Struct(mio.mload('data/2011-mmcl_mat/SLIP/new/params3D_s%it%ir%i.dict' %\n",
      "                                    (conf.subject, conf.ttype, rep)))\n",
      "          for rep in ws1.k.reps]\n",
      "\n",
      "\n",
      "ws1.SlipData_doc = \"SlipData for s:\" + str(conf.subject) + \", t:\" + str(conf.ttype)\n",
      "ws1.display()\n",
      "\n",
      "# huge data selection, but not every dimension of every marker\n",
      "ws1.full_markers = [ 'com_x', 'com_y',  'com_z', 'r_mtv_x - com_x',   \n",
      "                    'r_anl_x - com_x',  'r_kne_x - com_x',\n",
      "     'r_sia_x - com_x', \n",
      "     'l_mtv_x - com_x', \n",
      "     'l_anl_x - com_x', 'l_kne_x - com_x', 'l_sia_x - com_x',     \n",
      "     'sacr_x - com_x', \n",
      "     'cvii_x - com_x', 'r_wrl_x - com_x',\n",
      "     'r_elb_x - com_x', 'l_elb_x - com_x', \n",
      "     'l_wrl_x - com_x', \n",
      "     'r_anl_y - com_y', 'r_kne_y - com_y', 'r_trc_y - com_y', \n",
      "     'r_sia_y - com_y', \n",
      "     'sacr_y - com_y',  'l_anl_y - com_y',\n",
      "     'l_kne_y - com_y', 'l_trc_y - com_y',\n",
      "     'l_sia_y - com_y',\n",
      "     'cvii_y - com_y',\n",
      "     'r_hea_x - com_x', 'l_hea_x - com_x', 'r_hea_y - com_y', 'l_hea_y - com_y',\n",
      "     'r_hea_z - com_z', 'l_hea_z - com_z',\n",
      "     'r_elb_y - com_y',\n",
      "     'r_acr_y - com_y', 'l_acr_y - com_y',\n",
      "     'l_elb_y - com_y', 'r_mtv_z - com_z', \n",
      "     'r_anl_z - com_z', \n",
      "     'r_trc_z - com_z',\n",
      "     'l_mtv_z - com_z', \n",
      "     'l_anl_z - com_z', 'l_trc_z - com_z', \n",
      "     'sacr_z - com_z',  \n",
      "     'r_wrl_z - com_z', \n",
      "     'r_acr_z - com_z', 'l_acr_z - com_z',\n",
      "     'l_wrl_z - com_z']\n",
      "\n",
      "\n",
      "ws1.full_markers_doc  = 'representative selection of markers for quasi-full state space information'\n",
      "print \"len of 'ws1.full_markers':\", len(ws1.full_markers), \" (all: 84)\"\n",
      "\n",
      "ws1.k.selection = ws1.full_markers #all_markers\n",
      "\n",
      "ws1.dataset_full = build_dataset(ws1.k, ws1.SlipData, dt_window=conf.dt_window, dt_median=conf.dt_medfilter)\n",
      "ws1.dataset_full_doc = (\"reference 'dataset' for s:\" + str(ws1.k.subject) + \" t:\" + str(ws1.k.ttype) +\n",
      "    \" with 'full' selection\")\n",
      "\n",
      "# \"normalized\" dataset: velocities scaled by small factor\n",
      "ws1.dataset_full.n_kin_r = ws1.dataset_full.all_kin_r.copy()\n",
      "ws1.dataset_full.n_kin_l = ws1.dataset_full.all_kin_l.copy()\n",
      "ws1.dataset_full.n_kin_r[:, len(ws1.k.selection)-2:] /= 11.\n",
      "ws1.dataset_full.n_kin_l[:, len(ws1.k.selection)-2:] /= 11.\n",
      "ws1.dataset_full.n_kin_r -= mean(ws1.dataset_full.n_kin_r, axis=0)\n",
      "ws1.dataset_full.n_kin_l -= mean(ws1.dataset_full.n_kin_l, axis=0)\n",
      "ws1.dataset_full.n_kin_r = fda.dt_movingavg(ws1.dataset_full.n_kin_r, conf.dt_window, conf.dt_medfilter)\n",
      "ws1.dataset_full.n_kin_l = fda.dt_movingavg(ws1.dataset_full.n_kin_l, conf.dt_window, conf.dt_medfilter)\n",
      "ws1.dataset_full.n_kin_r_doc = \"detrended 'all_kin_r'; velocity has been scaled by factor 1/11\"\n",
      "ws1.dataset_full.n_kin_l_doc = \"detrended 'all_kin_l'; velocity has been scaled by factor 1/11\"\n",
      "\n"
     ],
     "language": "python",
     "metadata": {},
     "outputs": [
      {
       "output_type": "stream",
       "stream": "stdout",
       "text": [
        "Overwriting tmp/step1.py\n"
       ]
      }
     ],
     "prompt_number": 3
    },
    {
     "cell_type": "markdown",
     "metadata": {},
     "source": [
      "<a name=\"step2\"></a>\n",
      "## Step 2: compute factors\n",
      "<a href=\"#content\">to content</a>\n",
      "\n"
     ]
    },
    {
     "cell_type": "code",
     "collapsed": false,
     "input": [
      "%%writefile tmp/step2.py\n",
      "## prepare data\n",
      "\n",
      "# *NOTE* the first three labels have to be \"com_x\", \"com_y\", \"com_z\". If you edit this, make sure to edit\n",
      "# the cell where data are further processed...\n",
      "ws1.k.selection = ws1.full_markers\n",
      "ws1.k_doc =  \"KinData object: s:\" + str(ws1.k.subject) + \", t:\" + str(ws1.k.ttype) + \", selection: 'full'\"\n",
      "\n",
      "ws1.dataset = ws1.dataset_full\n",
      "ws1.dataset_doc = ws1.dataset_full_doc\n",
      "\n",
      "# another consistency check\n",
      "stepnr = 698 # select any stride between 0 and ~1800 (subject dependend)\n",
      "mass = mean([d.mass for d in ws1.SlipData])\n",
      "# su.finalState actually performs a one-step integration of SLIP\n",
      "print \"consistency check:\"\n",
      "print \"------------------\"\n",
      "print \"simres  [right step]:\", su.finalState(ws1.dataset.all_IC_r[stepnr, :], ws1.dataset.all_param_r[stepnr, :], \n",
      "                                             {'m' : mean(ws1.dataset.masses), 'g' : -9.81})\n",
      "print \"subsequent left apex:\", ws1.dataset.all_IC_l[stepnr, :]\n",
      "print \"===========\"\n",
      "print \"simres    [left step]:\", su.finalState(ws1.dataset.all_IC_l[stepnr, :], ws1.dataset.all_param_l[stepnr, :], \n",
      "                                              {'m' : mean(ws1.dataset.masses), 'g' : -9.81})\n",
      "print \"subsequent right apex:\", ws1.dataset.all_IC_r[stepnr + 1, :]\n"
     ],
     "language": "python",
     "metadata": {},
     "outputs": [
      {
       "output_type": "stream",
       "stream": "stdout",
       "text": [
        "Overwriting tmp/step2.py\n"
       ]
      }
     ],
     "prompt_number": 4
    },
    {
     "cell_type": "code",
     "collapsed": false,
     "input": [
      "%%writefile -a tmp/step2.py\n",
      "# Here, the main predictors (\"directions\") are computed. This is computationally quite fast\n",
      "if conf.exclude_IC_from_factors:\n",
      "    # indices that do *not* represent CoM (only relative positions, indicated by \"minus\" sign)\n",
      "    sel_idx = array([nr for nr, label in enumerate(ws1.dataset.kin_labels) if '-' in label])\n",
      "    ws1.facs_r_doc = (\"directions of 'factors' for a right step excluding CoM, s:\" + \n",
      "                      str(ws1.k.subject) + \", t:\" + str(ws1.k.ttype))\n",
      "    ws1.facs_l_doc = (\"directions of 'factors' for a left step excluding CoM, s:\" + \n",
      "                      str(ws1.k.subject) + \", t:\" + str(ws1.k.ttype))\n",
      "\n",
      "else:\n",
      "    sel_idx = arange(len(ws1.dataset.kin_labels))\n",
      "    ws1.facs_r_doc = (\"directions of 'factors' for a right step including CoM, s:\" +\n",
      "                      str(ws1.k.subject) + \", t:\" + str(ws1.k.ttype))\n",
      "    ws1.facs_l_doc = (\"directions of 'factors' for a left step including CoM, s:\" + \n",
      "                      str(ws1.k.subject) + \", t:\" + str(ws1.k.ttype))\n",
      "    \n",
      "ws1.facs_labels = [ws1.dataset.kin_labels[x] for x in sel_idx]\n",
      "ws1.facs_labels_doc = \"kinematic labels for the components of the 'factors'\"\n",
      "    \n",
      "ws1.facs_r = st.find_factors(ws1.dataset.s_kin_r[:, sel_idx].T, ws1.dataset.s_param_r.T, k=conf.n_factors)\n",
      "ws1.facs_l = st.find_factors(ws1.dataset.s_kin_l[:, sel_idx].T, ws1.dataset.s_param_l.T, k=conf.n_factors)\n",
      "\n",
      "ws1.fscore_r = dot(ws1.facs_r.T, ws1.dataset.s_kin_r[:, sel_idx].T).T\n",
      "ws1.fscore_r_doc = \"scores of data when projected on the factors (right)\"\n",
      "ws1.fscore_l = dot(ws1.facs_l.T, ws1.dataset.s_kin_l[:, sel_idx].T).T\n",
      "ws1.fscore_l_doc = \"scores of data when projected on the factors (left)\"\n",
      "\n",
      "ws1.raw_factor_space_r = ws1.dataset.s_kin_r[:, sel_idx]\n",
      "ws1.raw_factor_space_l = ws1.dataset.s_kin_l[:, sel_idx]\n",
      "ws1.raw_factor_space_l_doc = \"part of state space used for computing the 'factors'\"\n",
      "ws1.raw_factor_space_l_doc = \"part of state space used for computing the 'factors'\"\n",
      "\n",
      "\n",
      "# ---------------------visualize\n",
      "figure(figsize=(20,3))\n",
      "pcolor(ws1.facs_r.T)\n",
      "gca().set_xticks(arange(len(ws1.facs_labels)) + .5)\n",
      "gca().set_xticklabels(ws1.facs_labels, rotation=90)\n",
      "grid('on')\n",
      "title('magnitude of the factors')\n",
      "gca().set_yticks(arange(ws1.facs_r.shape[1]) + .5)\n",
      "gca().set_yticklabels(arange(ws1.facs_r.shape[1]) + 1)\n",
      "gca().set_ylabel('factor #')\n",
      "pass"
     ],
     "language": "python",
     "metadata": {},
     "outputs": [
      {
       "output_type": "stream",
       "stream": "stdout",
       "text": [
        "Appending to tmp/step2.py\n"
       ]
      }
     ],
     "prompt_number": 5
    },
    {
     "cell_type": "markdown",
     "metadata": {},
     "source": [
      "<a name=\"step3\"></a>\n",
      "## Step 3: compute predictions\n",
      "\n",
      "<a href=\"#content\">to content</a>"
     ]
    },
    {
     "cell_type": "code",
     "collapsed": false,
     "input": [
      "%%writefile tmp/step3.py\n",
      "# --- --- compute\n",
      "def predTestFacs(ICr, ICl, fspacer, fspacel, pr, pl, nboot = 50):\n",
      "    \"\"\"\n",
      "    performs prediction test, computing the factors and keeping their direction constant in prediction\n",
      "    \"\"\"\n",
      "    \n",
      "    # --- prepare output\n",
      "    rvpr = [] # relative variance for parameters (right step -> left(!) parameters)\n",
      "    rvfr = [] # relative variance for factor state (right step -> left(!) state)\n",
      "    rvffr = [] # relative variance for factor state (right step -> left(!) state)\n",
      "\n",
      "    # --- bootstrap loop\n",
      "    idat_fr = hstack([ICr, fspacer])\n",
      "    idat_fl = hstack([ICr, fspacel])\n",
      "    print \"=\" * nboot\n",
      "    for rep in range(nboot):\n",
      "        sys.stdout.write('.')\n",
      "        \n",
      "        # split into regression and prediction (indices)\n",
      "        ridx = randint(0, idat_fr.shape[0], idat_fr.shape[0])\n",
      "        pidx = fda.otheridx(ridx, idat_fr.shape[0])\n",
      "        \n",
      "        # compute factor direction        \n",
      "        facsr = st.find_factors(fspacer[ridx, :].T, pr[ridx, :].T, k=conf.n_factors)\n",
      "        idat_facr = vstack([ICr.T, dot(facsr.T, fspacer.T)]).T\n",
      "        facsl = st.find_factors(fspacel[ridx, :].T, pl[ridx, :].T, k=conf.n_factors)\n",
      "        idat_facl = vstack([ICl.T, dot(facsl.T, fspacel.T)]).T\n",
      "        \n",
      "        # compute maps\n",
      "        idatRr = idat_facr[ridx, :]\n",
      "        idatRfr = idat_fr[ridx, :]\n",
      "        odatRpr = pr[ridx, :]\n",
      "        odatRfr = idat_facl[ridx, :]\n",
      "        Ap_r = dot(odatRpr.T, pinv(idatRr.T))        \n",
      "        Af_r = dot(odatRfr.T, pinv(idatRr.T))        \n",
      "        Aff_r = dot(odatRfr.T, pinv(idatRfr.T))\n",
      "        \n",
      "        # compute predictions\n",
      "        idatPr = idat_facr[pidx, :]\n",
      "        idatPfr = idat_fr[pidx, :]\n",
      "        odatPpr = pr[pidx, :]\n",
      "        odatPfr = idat_facl[pidx, :]                \n",
      "        predpr = dot(Ap_r, idatPr.T).T\n",
      "        predfr = dot(Af_r, idatPr.T).T\n",
      "        predffr = dot(Aff_r, idatPfr.T).T\n",
      "        \n",
      "        # compute relative remaining variance\n",
      "        rvpr.append(var(odatPpr - predpr, axis=0) / var(odatPpr, axis=0))\n",
      "        rvfr.append(var(odatPfr - predfr, axis=0) / var(odatPfr, axis=0))\n",
      "        rvffr.append(var(odatPfr - predffr, axis=0) / var(odatPfr, axis=0))\n",
      "        \n",
      "    print \"done\"\n",
      "    return vstack(rvpr), vstack(rvfr), vstack(rvffr)\n",
      "    \n",
      "\n",
      "ICr, ICl, RFSr, RFSl, Pr, Pl = [fda.dt_movingavg(x, conf.dt_window, conf.dt_medfilter) for x in \n",
      "    [ws1.dataset.all_IC_r, ws1.dataset.all_IC_l, ws1.raw_factor_space_r, ws1.raw_factor_space_l,\n",
      "     ws1.dataset.s_param_r, ws1.dataset.s_param_l]]\n",
      "\n",
      "\n",
      "# SLIP param prediction using factors, factors using factors, factors using FS\n",
      "rvpr_fac, rvfr_fac, rvfr_full = predTestFacs(ICr, ICl, RFSr, RFSl, Pr, Pl, nboot=100)\n",
      "\n",
      "rvpr_aug = st.predTest(hstack([ICr, roll(Pl, 1, axis=0)])[1:, :], Pr[1:, :], nboot=100)\n",
      "rvpr_full = st.predTest(hstack([ICr, RFSr]), Pr, nboot=100)\n",
      "raidx = array([idx for idx, lbl in enumerate(ws1.dataset_full.kin_labels) if 'r_anl' in lbl])\n",
      "laidx = array([idx for idx, lbl in enumerate(ws1.dataset_full.kin_labels) if 'l_anl' in lbl])\n",
      "rank = fda.dt_movingavg(ws1.dataset_full.all_kin_r[:, raidx], conf.dt_window, conf.dt_medfilter)\n",
      "lank = fda.dt_movingavg(ws1.dataset_full.all_kin_l[:, laidx], conf.dt_window, conf.dt_medfilter)\n",
      "\n",
      "rvpr_ank = st.predTest(hstack([ICr, rank]), Pr, nboot=100)\n",
      "rvankr_ank = st.predTest(hstack([ICr, rank]), hstack([ICl, lank]) , nboot=100)\n",
      "rvankr_full = st.predTest(hstack([ICr, RFSr]), hstack([ICl, lank]) , nboot=100)\n",
      "\n",
      "\n",
      "\n",
      "print \"done\"\n"
     ],
     "language": "python",
     "metadata": {},
     "outputs": [
      {
       "output_type": "stream",
       "stream": "stdout",
       "text": [
        "Overwriting tmp/step3.py\n"
       ]
      }
     ],
     "prompt_number": 6
    },
    {
     "cell_type": "markdown",
     "metadata": {},
     "source": [
      "<a name=\"step4\"></a>\n",
      "## step 4: Create figure\n",
      "<a href=\"#content\">to content</a>  \n",
      "\n",
      "plots should contain:\n",
      "\n",
      "+ self-consistency check of\n",
      "  + factor model (factor state + IC!)\n",
      "  + ankle - slip\n",
      "  + augmented slip\n",
      "  \n",
      "+ parameter prediction quality\n",
      "  + full state\n",
      "  + factor model (factor state + IC!)\n",
      "  + ankle-slip\n",
      "  + augmented slip\n",
      " \n",
      " "
     ]
    },
    {
     "cell_type": "code",
     "collapsed": false,
     "input": [
      "# --- compute predictions for all 4 subjects:\n",
      "\n",
      "a_rvpr_full, a_rvpr_fac, a_rvpr_ank, a_rvpr_aug = [], [], [], []\n",
      "a_rvfr_fac, a_rvfr_full, a_rvankr_ank, a_rvankr_full = [], [], [], []\n",
      "\n",
      "for conf.subject in [1,2,3,7]:\n",
      "    print \"=\" * 20, \"subject\", conf.subject, \"=\" * 20\n",
      "    %run -i tmp/step1.py\n",
      "    %run -i tmp/step2.py\n",
      "    %run -i tmp/step3.py\n",
      "    # -> store computed variance reductions\n",
      "    a_rvpr_full.append(rvpr_full)\n",
      "    a_rvpr_fac.append(rvpr_fac)\n",
      "    a_rvpr_ank.append(rvpr_ank)\n",
      "    a_rvpr_aug.append(rvpr_aug)\n",
      "    \n",
      "    a_rvfr_fac.append(rvfr_fac)\n",
      "    a_rvfr_full.append(rvfr_full)\n",
      "    a_rvankr_ank.append(rvankr_ank)\n",
      "    a_rvankr_full.append(rvankr_full)\n"
     ],
     "language": "python",
     "metadata": {},
     "outputs": [
      {
       "output_type": "stream",
       "stream": "stdout",
       "text": [
        "==================== subject 1 ====================\n",
        "SlipData        list (6)         SlipData for s:1, t:1\n",
        "k               <class 'mutils.io.KinData'> KinData object: s:1, t:1, selection: ankles"
       ]
      },
      {
       "output_type": "stream",
       "stream": "stdout",
       "text": [
        "\n",
        "len of 'ws1.full_markers': 48  (all: 84)\n",
        "consistency check:"
       ]
      },
      {
       "output_type": "stream",
       "stream": "stdout",
       "text": [
        "\n",
        "------------------\n",
        "simres  [right step]: [ 0.95528108  2.73763771 -0.00519731]\n",
        "subsequent left apex: [ 0.95488992  2.73897344 -0.0051922 ]\n",
        "===========\n",
        "simres    [left step]: [ 0.95209103  2.71029044  0.08128932]\n",
        "subsequent right apex: [ 0.95168948  2.71180956  0.08132109]\n",
        "===================================================================================================="
       ]
      },
      {
       "output_type": "stream",
       "stream": "stdout",
       "text": [
        "\n",
        ".."
       ]
      },
      {
       "output_type": "stream",
       "stream": "stdout",
       "text": [
        ".."
       ]
      },
      {
       "output_type": "stream",
       "stream": "stdout",
       "text": [
        ".."
       ]
      },
      {
       "output_type": "stream",
       "stream": "stdout",
       "text": [
        ".."
       ]
      },
      {
       "output_type": "stream",
       "stream": "stdout",
       "text": [
        ".."
       ]
      },
      {
       "output_type": "stream",
       "stream": "stdout",
       "text": [
        ".."
       ]
      },
      {
       "output_type": "stream",
       "stream": "stdout",
       "text": [
        ".."
       ]
      },
      {
       "output_type": "stream",
       "stream": "stdout",
       "text": [
        ".."
       ]
      },
      {
       "output_type": "stream",
       "stream": "stdout",
       "text": [
        ".."
       ]
      },
      {
       "output_type": "stream",
       "stream": "stdout",
       "text": [
        ".."
       ]
      },
      {
       "output_type": "stream",
       "stream": "stdout",
       "text": [
        ".."
       ]
      },
      {
       "output_type": "stream",
       "stream": "stdout",
       "text": [
        ".."
       ]
      },
      {
       "output_type": "stream",
       "stream": "stdout",
       "text": [
        ".."
       ]
      },
      {
       "output_type": "stream",
       "stream": "stdout",
       "text": [
        ".."
       ]
      },
      {
       "output_type": "stream",
       "stream": "stdout",
       "text": [
        ".."
       ]
      },
      {
       "output_type": "stream",
       "stream": "stdout",
       "text": [
        ".."
       ]
      },
      {
       "output_type": "stream",
       "stream": "stdout",
       "text": [
        ".."
       ]
      },
      {
       "output_type": "stream",
       "stream": "stdout",
       "text": [
        ".."
       ]
      },
      {
       "output_type": "stream",
       "stream": "stdout",
       "text": [
        ".."
       ]
      },
      {
       "output_type": "stream",
       "stream": "stdout",
       "text": [
        ".."
       ]
      },
      {
       "output_type": "stream",
       "stream": "stdout",
       "text": [
        ".."
       ]
      },
      {
       "output_type": "stream",
       "stream": "stdout",
       "text": [
        ".."
       ]
      },
      {
       "output_type": "stream",
       "stream": "stdout",
       "text": [
        ".."
       ]
      },
      {
       "output_type": "stream",
       "stream": "stdout",
       "text": [
        ".."
       ]
      },
      {
       "output_type": "stream",
       "stream": "stdout",
       "text": [
        ".."
       ]
      },
      {
       "output_type": "stream",
       "stream": "stdout",
       "text": [
        ".."
       ]
      },
      {
       "output_type": "stream",
       "stream": "stdout",
       "text": [
        ".."
       ]
      },
      {
       "output_type": "stream",
       "stream": "stdout",
       "text": [
        ".."
       ]
      },
      {
       "output_type": "stream",
       "stream": "stdout",
       "text": [
        ".."
       ]
      },
      {
       "output_type": "stream",
       "stream": "stdout",
       "text": [
        ".."
       ]
      },
      {
       "output_type": "stream",
       "stream": "stdout",
       "text": [
        ".."
       ]
      },
      {
       "output_type": "stream",
       "stream": "stdout",
       "text": [
        ".."
       ]
      },
      {
       "output_type": "stream",
       "stream": "stdout",
       "text": [
        ".."
       ]
      },
      {
       "output_type": "stream",
       "stream": "stdout",
       "text": [
        ".."
       ]
      },
      {
       "output_type": "stream",
       "stream": "stdout",
       "text": [
        ".."
       ]
      },
      {
       "output_type": "stream",
       "stream": "stdout",
       "text": [
        ".."
       ]
      },
      {
       "output_type": "stream",
       "stream": "stdout",
       "text": [
        ".."
       ]
      },
      {
       "output_type": "stream",
       "stream": "stdout",
       "text": [
        ".."
       ]
      },
      {
       "output_type": "stream",
       "stream": "stdout",
       "text": [
        ".."
       ]
      },
      {
       "output_type": "stream",
       "stream": "stdout",
       "text": [
        ".."
       ]
      },
      {
       "output_type": "stream",
       "stream": "stdout",
       "text": [
        ".."
       ]
      },
      {
       "output_type": "stream",
       "stream": "stdout",
       "text": [
        ".."
       ]
      },
      {
       "output_type": "stream",
       "stream": "stdout",
       "text": [
        ".."
       ]
      },
      {
       "output_type": "stream",
       "stream": "stdout",
       "text": [
        ".."
       ]
      },
      {
       "output_type": "stream",
       "stream": "stdout",
       "text": [
        ".."
       ]
      },
      {
       "output_type": "stream",
       "stream": "stdout",
       "text": [
        ".."
       ]
      },
      {
       "output_type": "stream",
       "stream": "stdout",
       "text": [
        ".."
       ]
      },
      {
       "output_type": "stream",
       "stream": "stdout",
       "text": [
        ".."
       ]
      },
      {
       "output_type": "stream",
       "stream": "stdout",
       "text": [
        ".."
       ]
      },
      {
       "output_type": "stream",
       "stream": "stdout",
       "text": [
        ".."
       ]
      },
      {
       "output_type": "stream",
       "stream": "stdout",
       "text": [
        "done\n",
        "done"
       ]
      },
      {
       "output_type": "stream",
       "stream": "stdout",
       "text": [
        "\n",
        "==================== subject 2 ====================\n",
        "SlipData        list (6)         SlipData for s:2, t:1\n",
        "k               <class 'mutils.io.KinData'> KinData object: s:2, t:1, selection: ankles"
       ]
      },
      {
       "output_type": "stream",
       "stream": "stdout",
       "text": [
        "\n",
        "len of 'ws1.full_markers': 48  (all: 84)\n",
        "consistency check:"
       ]
      },
      {
       "output_type": "stream",
       "stream": "stdout",
       "text": [
        "\n",
        "------------------\n",
        "simres  [right step]: [ 1.0155161   2.8298413  -0.09270095]\n",
        "subsequent left apex: [ 1.01590667  2.8285163  -0.09268154]\n",
        "===========\n",
        "simres    [left step]: [  1.01073583e+00   2.81441371e+00  -1.05613583e-03]\n",
        "subsequent right apex: [  1.01110897e+00   2.81305086e+00  -1.04482628e-03]\n",
        "===================================================================================================="
       ]
      },
      {
       "output_type": "stream",
       "stream": "stdout",
       "text": [
        "\n",
        ".."
       ]
      },
      {
       "output_type": "stream",
       "stream": "stdout",
       "text": [
        ".."
       ]
      },
      {
       "output_type": "stream",
       "stream": "stdout",
       "text": [
        ".."
       ]
      },
      {
       "output_type": "stream",
       "stream": "stdout",
       "text": [
        ".."
       ]
      },
      {
       "output_type": "stream",
       "stream": "stdout",
       "text": [
        ".."
       ]
      },
      {
       "output_type": "stream",
       "stream": "stdout",
       "text": [
        ".."
       ]
      },
      {
       "output_type": "stream",
       "stream": "stdout",
       "text": [
        ".."
       ]
      },
      {
       "output_type": "stream",
       "stream": "stdout",
       "text": [
        ".."
       ]
      },
      {
       "output_type": "stream",
       "stream": "stdout",
       "text": [
        ".."
       ]
      },
      {
       "output_type": "stream",
       "stream": "stdout",
       "text": [
        ".."
       ]
      },
      {
       "output_type": "stream",
       "stream": "stdout",
       "text": [
        ".."
       ]
      },
      {
       "output_type": "stream",
       "stream": "stdout",
       "text": [
        ".."
       ]
      },
      {
       "output_type": "stream",
       "stream": "stdout",
       "text": [
        ".."
       ]
      },
      {
       "output_type": "stream",
       "stream": "stdout",
       "text": [
        ".."
       ]
      },
      {
       "output_type": "stream",
       "stream": "stdout",
       "text": [
        ".."
       ]
      },
      {
       "output_type": "stream",
       "stream": "stdout",
       "text": [
        ".."
       ]
      },
      {
       "output_type": "stream",
       "stream": "stdout",
       "text": [
        ".."
       ]
      },
      {
       "output_type": "stream",
       "stream": "stdout",
       "text": [
        ".."
       ]
      },
      {
       "output_type": "stream",
       "stream": "stdout",
       "text": [
        ".."
       ]
      },
      {
       "output_type": "stream",
       "stream": "stdout",
       "text": [
        ".."
       ]
      },
      {
       "output_type": "stream",
       "stream": "stdout",
       "text": [
        ".."
       ]
      },
      {
       "output_type": "stream",
       "stream": "stdout",
       "text": [
        ".."
       ]
      },
      {
       "output_type": "stream",
       "stream": "stdout",
       "text": [
        ".."
       ]
      },
      {
       "output_type": "stream",
       "stream": "stdout",
       "text": [
        ".."
       ]
      },
      {
       "output_type": "stream",
       "stream": "stdout",
       "text": [
        ".."
       ]
      },
      {
       "output_type": "stream",
       "stream": "stdout",
       "text": [
        ".."
       ]
      },
      {
       "output_type": "stream",
       "stream": "stdout",
       "text": [
        ".."
       ]
      },
      {
       "output_type": "stream",
       "stream": "stdout",
       "text": [
        ".."
       ]
      },
      {
       "output_type": "stream",
       "stream": "stdout",
       "text": [
        ".."
       ]
      },
      {
       "output_type": "stream",
       "stream": "stdout",
       "text": [
        ".."
       ]
      },
      {
       "output_type": "stream",
       "stream": "stdout",
       "text": [
        ".."
       ]
      },
      {
       "output_type": "stream",
       "stream": "stdout",
       "text": [
        ".."
       ]
      },
      {
       "output_type": "stream",
       "stream": "stdout",
       "text": [
        ".."
       ]
      },
      {
       "output_type": "stream",
       "stream": "stdout",
       "text": [
        ".."
       ]
      },
      {
       "output_type": "stream",
       "stream": "stdout",
       "text": [
        ".."
       ]
      },
      {
       "output_type": "stream",
       "stream": "stdout",
       "text": [
        ".."
       ]
      },
      {
       "output_type": "stream",
       "stream": "stdout",
       "text": [
        ".."
       ]
      },
      {
       "output_type": "stream",
       "stream": "stdout",
       "text": [
        ".."
       ]
      },
      {
       "output_type": "stream",
       "stream": "stdout",
       "text": [
        ".."
       ]
      },
      {
       "output_type": "stream",
       "stream": "stdout",
       "text": [
        ".."
       ]
      },
      {
       "output_type": "stream",
       "stream": "stdout",
       "text": [
        ".."
       ]
      },
      {
       "output_type": "stream",
       "stream": "stdout",
       "text": [
        ".."
       ]
      },
      {
       "output_type": "stream",
       "stream": "stdout",
       "text": [
        ".."
       ]
      },
      {
       "output_type": "stream",
       "stream": "stdout",
       "text": [
        ".."
       ]
      },
      {
       "output_type": "stream",
       "stream": "stdout",
       "text": [
        ".."
       ]
      },
      {
       "output_type": "stream",
       "stream": "stdout",
       "text": [
        ".."
       ]
      },
      {
       "output_type": "stream",
       "stream": "stdout",
       "text": [
        ".."
       ]
      },
      {
       "output_type": "stream",
       "stream": "stdout",
       "text": [
        ".."
       ]
      },
      {
       "output_type": "stream",
       "stream": "stdout",
       "text": [
        ".."
       ]
      },
      {
       "output_type": "stream",
       "stream": "stdout",
       "text": [
        ".."
       ]
      },
      {
       "output_type": "stream",
       "stream": "stdout",
       "text": [
        "done\n",
        "done"
       ]
      },
      {
       "output_type": "stream",
       "stream": "stdout",
       "text": [
        "\n",
        "==================== subject 3 ====================\n",
        "SlipData        list (5)         SlipData for s:3, t:1\n",
        "k               <class 'mutils.io.KinData'> KinData object: s:3, t:1, selection: ankles"
       ]
      },
      {
       "output_type": "stream",
       "stream": "stdout",
       "text": [
        "\n",
        "len of 'ws1.full_markers': 48  (all: 84)\n",
        "consistency check:"
       ]
      },
      {
       "output_type": "stream",
       "stream": "stdout",
       "text": [
        "\n",
        "------------------\n",
        "simres  [right step]: [ 0.98232538  3.14389771  0.07544172]\n",
        "subsequent left apex: [ 0.98259773  3.14302271  0.07542235]\n",
        "===========\n",
        "simres    [left step]: [ 0.98303148  3.16542929  0.04455227]\n",
        "subsequent right apex: [ 0.98330178  3.16461865  0.04453483]\n",
        "===================================================================================================="
       ]
      },
      {
       "output_type": "stream",
       "stream": "stdout",
       "text": [
        "\n",
        ".."
       ]
      },
      {
       "output_type": "stream",
       "stream": "stdout",
       "text": [
        ".."
       ]
      },
      {
       "output_type": "stream",
       "stream": "stdout",
       "text": [
        ".."
       ]
      },
      {
       "output_type": "stream",
       "stream": "stdout",
       "text": [
        ".."
       ]
      },
      {
       "output_type": "stream",
       "stream": "stdout",
       "text": [
        ".."
       ]
      },
      {
       "output_type": "stream",
       "stream": "stdout",
       "text": [
        ".."
       ]
      },
      {
       "output_type": "stream",
       "stream": "stdout",
       "text": [
        ".."
       ]
      },
      {
       "output_type": "stream",
       "stream": "stdout",
       "text": [
        ".."
       ]
      },
      {
       "output_type": "stream",
       "stream": "stdout",
       "text": [
        ".."
       ]
      },
      {
       "output_type": "stream",
       "stream": "stdout",
       "text": [
        ".."
       ]
      },
      {
       "output_type": "stream",
       "stream": "stdout",
       "text": [
        ".."
       ]
      },
      {
       "output_type": "stream",
       "stream": "stdout",
       "text": [
        ".."
       ]
      },
      {
       "output_type": "stream",
       "stream": "stdout",
       "text": [
        ".."
       ]
      },
      {
       "output_type": "stream",
       "stream": "stdout",
       "text": [
        ".."
       ]
      },
      {
       "output_type": "stream",
       "stream": "stdout",
       "text": [
        ".."
       ]
      },
      {
       "output_type": "stream",
       "stream": "stdout",
       "text": [
        ".."
       ]
      },
      {
       "output_type": "stream",
       "stream": "stdout",
       "text": [
        ".."
       ]
      },
      {
       "output_type": "stream",
       "stream": "stdout",
       "text": [
        ".."
       ]
      },
      {
       "output_type": "stream",
       "stream": "stdout",
       "text": [
        ".."
       ]
      },
      {
       "output_type": "stream",
       "stream": "stdout",
       "text": [
        ".."
       ]
      },
      {
       "output_type": "stream",
       "stream": "stdout",
       "text": [
        ".."
       ]
      },
      {
       "output_type": "stream",
       "stream": "stdout",
       "text": [
        ".."
       ]
      },
      {
       "output_type": "stream",
       "stream": "stdout",
       "text": [
        ".."
       ]
      },
      {
       "output_type": "stream",
       "stream": "stdout",
       "text": [
        ".."
       ]
      },
      {
       "output_type": "stream",
       "stream": "stdout",
       "text": [
        ".."
       ]
      },
      {
       "output_type": "stream",
       "stream": "stdout",
       "text": [
        ".."
       ]
      },
      {
       "output_type": "stream",
       "stream": "stdout",
       "text": [
        ".."
       ]
      },
      {
       "output_type": "stream",
       "stream": "stdout",
       "text": [
        ".."
       ]
      },
      {
       "output_type": "stream",
       "stream": "stdout",
       "text": [
        ".."
       ]
      },
      {
       "output_type": "stream",
       "stream": "stdout",
       "text": [
        ".."
       ]
      },
      {
       "output_type": "stream",
       "stream": "stdout",
       "text": [
        ".."
       ]
      },
      {
       "output_type": "stream",
       "stream": "stdout",
       "text": [
        ".."
       ]
      },
      {
       "output_type": "stream",
       "stream": "stdout",
       "text": [
        ".."
       ]
      },
      {
       "output_type": "stream",
       "stream": "stdout",
       "text": [
        ".."
       ]
      },
      {
       "output_type": "stream",
       "stream": "stdout",
       "text": [
        ".."
       ]
      },
      {
       "output_type": "stream",
       "stream": "stdout",
       "text": [
        ".."
       ]
      },
      {
       "output_type": "stream",
       "stream": "stdout",
       "text": [
        ".."
       ]
      },
      {
       "output_type": "stream",
       "stream": "stdout",
       "text": [
        ".."
       ]
      },
      {
       "output_type": "stream",
       "stream": "stdout",
       "text": [
        ".."
       ]
      },
      {
       "output_type": "stream",
       "stream": "stdout",
       "text": [
        ".."
       ]
      },
      {
       "output_type": "stream",
       "stream": "stdout",
       "text": [
        ".."
       ]
      },
      {
       "output_type": "stream",
       "stream": "stdout",
       "text": [
        ".."
       ]
      },
      {
       "output_type": "stream",
       "stream": "stdout",
       "text": [
        ".."
       ]
      },
      {
       "output_type": "stream",
       "stream": "stdout",
       "text": [
        ".."
       ]
      },
      {
       "output_type": "stream",
       "stream": "stdout",
       "text": [
        ".."
       ]
      },
      {
       "output_type": "stream",
       "stream": "stdout",
       "text": [
        ".."
       ]
      },
      {
       "output_type": "stream",
       "stream": "stdout",
       "text": [
        ".."
       ]
      },
      {
       "output_type": "stream",
       "stream": "stdout",
       "text": [
        ".."
       ]
      },
      {
       "output_type": "stream",
       "stream": "stdout",
       "text": [
        ".."
       ]
      },
      {
       "output_type": "stream",
       "stream": "stdout",
       "text": [
        ".."
       ]
      },
      {
       "output_type": "stream",
       "stream": "stdout",
       "text": [
        "done\n",
        "done"
       ]
      },
      {
       "output_type": "stream",
       "stream": "stdout",
       "text": [
        "\n",
        "==================== subject 7 ====================\n",
        "SlipData        list (6)         SlipData for s:7, t:1\n",
        "k               <class 'mutils.io.KinData'> KinData object: s:7, t:1, selection: ankles"
       ]
      },
      {
       "output_type": "stream",
       "stream": "stdout",
       "text": [
        "\n",
        "len of 'ws1.full_markers': 48  (all: 84)\n",
        "consistency check:"
       ]
      },
      {
       "output_type": "stream",
       "stream": "stdout",
       "text": [
        "\n",
        "------------------\n",
        "simres  [right step]: [ 0.92623836  2.91572385 -0.01507957]\n",
        "subsequent left apex: [ 0.92694364  2.91348088 -0.01512595]\n",
        "===========\n",
        "simres    [left step]: [  9.33186530e-01   2.87241154e+00  -2.19942679e-03]\n",
        "subsequent right apex: [  9.33853314e-01   2.87006948e+00  -2.19283542e-03]\n",
        "===================================================================================================="
       ]
      },
      {
       "output_type": "stream",
       "stream": "stdout",
       "text": [
        "\n",
        ".."
       ]
      },
      {
       "output_type": "stream",
       "stream": "stdout",
       "text": [
        ".."
       ]
      },
      {
       "output_type": "stream",
       "stream": "stdout",
       "text": [
        ".."
       ]
      },
      {
       "output_type": "stream",
       "stream": "stdout",
       "text": [
        ".."
       ]
      },
      {
       "output_type": "stream",
       "stream": "stdout",
       "text": [
        ".."
       ]
      },
      {
       "output_type": "stream",
       "stream": "stdout",
       "text": [
        ".."
       ]
      },
      {
       "output_type": "stream",
       "stream": "stdout",
       "text": [
        ".."
       ]
      },
      {
       "output_type": "stream",
       "stream": "stdout",
       "text": [
        ".."
       ]
      },
      {
       "output_type": "stream",
       "stream": "stdout",
       "text": [
        ".."
       ]
      },
      {
       "output_type": "stream",
       "stream": "stdout",
       "text": [
        ".."
       ]
      },
      {
       "output_type": "stream",
       "stream": "stdout",
       "text": [
        ".."
       ]
      },
      {
       "output_type": "stream",
       "stream": "stdout",
       "text": [
        ".."
       ]
      },
      {
       "output_type": "stream",
       "stream": "stdout",
       "text": [
        ".."
       ]
      },
      {
       "output_type": "stream",
       "stream": "stdout",
       "text": [
        ".."
       ]
      },
      {
       "output_type": "stream",
       "stream": "stdout",
       "text": [
        ".."
       ]
      },
      {
       "output_type": "stream",
       "stream": "stdout",
       "text": [
        ".."
       ]
      },
      {
       "output_type": "stream",
       "stream": "stdout",
       "text": [
        ".."
       ]
      },
      {
       "output_type": "stream",
       "stream": "stdout",
       "text": [
        ".."
       ]
      },
      {
       "output_type": "stream",
       "stream": "stdout",
       "text": [
        ".."
       ]
      },
      {
       "output_type": "stream",
       "stream": "stdout",
       "text": [
        ".."
       ]
      },
      {
       "output_type": "stream",
       "stream": "stdout",
       "text": [
        ".."
       ]
      },
      {
       "output_type": "stream",
       "stream": "stdout",
       "text": [
        ".."
       ]
      },
      {
       "output_type": "stream",
       "stream": "stdout",
       "text": [
        ".."
       ]
      },
      {
       "output_type": "stream",
       "stream": "stdout",
       "text": [
        ".."
       ]
      },
      {
       "output_type": "stream",
       "stream": "stdout",
       "text": [
        ".."
       ]
      },
      {
       "output_type": "stream",
       "stream": "stdout",
       "text": [
        ".."
       ]
      },
      {
       "output_type": "stream",
       "stream": "stdout",
       "text": [
        ".."
       ]
      },
      {
       "output_type": "stream",
       "stream": "stdout",
       "text": [
        ".."
       ]
      },
      {
       "output_type": "stream",
       "stream": "stdout",
       "text": [
        ".."
       ]
      },
      {
       "output_type": "stream",
       "stream": "stdout",
       "text": [
        ".."
       ]
      },
      {
       "output_type": "stream",
       "stream": "stdout",
       "text": [
        ".."
       ]
      },
      {
       "output_type": "stream",
       "stream": "stdout",
       "text": [
        ".."
       ]
      },
      {
       "output_type": "stream",
       "stream": "stdout",
       "text": [
        ".."
       ]
      },
      {
       "output_type": "stream",
       "stream": "stdout",
       "text": [
        ".."
       ]
      },
      {
       "output_type": "stream",
       "stream": "stdout",
       "text": [
        ".."
       ]
      },
      {
       "output_type": "stream",
       "stream": "stdout",
       "text": [
        ".."
       ]
      },
      {
       "output_type": "stream",
       "stream": "stdout",
       "text": [
        ".."
       ]
      },
      {
       "output_type": "stream",
       "stream": "stdout",
       "text": [
        ".."
       ]
      },
      {
       "output_type": "stream",
       "stream": "stdout",
       "text": [
        ".."
       ]
      },
      {
       "output_type": "stream",
       "stream": "stdout",
       "text": [
        ".."
       ]
      },
      {
       "output_type": "stream",
       "stream": "stdout",
       "text": [
        ".."
       ]
      },
      {
       "output_type": "stream",
       "stream": "stdout",
       "text": [
        ".."
       ]
      },
      {
       "output_type": "stream",
       "stream": "stdout",
       "text": [
        ".."
       ]
      },
      {
       "output_type": "stream",
       "stream": "stdout",
       "text": [
        ".."
       ]
      },
      {
       "output_type": "stream",
       "stream": "stdout",
       "text": [
        ".."
       ]
      },
      {
       "output_type": "stream",
       "stream": "stdout",
       "text": [
        ".."
       ]
      },
      {
       "output_type": "stream",
       "stream": "stdout",
       "text": [
        ".."
       ]
      },
      {
       "output_type": "stream",
       "stream": "stdout",
       "text": [
        ".."
       ]
      },
      {
       "output_type": "stream",
       "stream": "stdout",
       "text": [
        ".."
       ]
      },
      {
       "output_type": "stream",
       "stream": "stdout",
       "text": [
        ".."
       ]
      },
      {
       "output_type": "stream",
       "stream": "stdout",
       "text": [
        "done\n",
        "done"
       ]
      },
      {
       "output_type": "stream",
       "stream": "stdout",
       "text": [
        "\n"
       ]
      }
     ],
     "prompt_number": 7
    },
    {
     "cell_type": "code",
     "collapsed": false,
     "input": [
      "rvfr_fac.shape"
     ],
     "language": "python",
     "metadata": {},
     "outputs": [
      {
       "metadata": {},
       "output_type": "pyout",
       "prompt_number": 9,
       "text": [
        "(100, 8)"
       ]
      }
     ],
     "prompt_number": 9
    },
    {
     "cell_type": "code",
     "collapsed": false,
     "input": [
      "a_rvpr_full[0].shape"
     ],
     "language": "python",
     "metadata": {},
     "outputs": [
      {
       "metadata": {},
       "output_type": "pyout",
       "prompt_number": 11,
       "text": [
        "(100, 5)"
       ]
      }
     ],
     "prompt_number": 11
    },
    {
     "cell_type": "code",
     "collapsed": false,
     "input": [
      "# --- visualize\n",
      "\n",
      "# --- --- select subject for \"full\" visualization\n",
      "vis_subj = 2 # 0,1,2,3\n",
      "\n",
      "\n",
      "nvs = list(set(range(4)) - set([vis_subj]))\n",
      "vis_subj_str = ['1', '2', '3', '7'][vis_subj]\n",
      "\n",
      "rvpr_full = a_rvpr_full[vis_subj]\n",
      "rvpr_fac = a_rvpr_fac[vis_subj]\n",
      "rvpr_ank = a_rvpr_ank[vis_subj]\n",
      "rvpr_aug = a_rvpr_aug[vis_subj]\n",
      "    \n",
      "rvfr_fac = a_rvfr_fac[vis_subj]\n",
      "rvfr_full = a_rvfr_full[vis_subj]\n",
      "rvankr_ank = a_rvankr_ank[vis_subj]\n",
      "rvankr_full = a_rvankr_full[vis_subj]\n",
      "\n",
      "# --- --- create figure\n",
      "figure(figsize=(14,8))\n",
      "\n",
      "\n",
      "# --- --- left subplot\n",
      "ax0 = subplot(2,1,1)\n",
      "\n",
      "posP = arange(rvpr_full.shape[1]) * 3\n",
      "b1 = boxplot(rvpr_full, positions = posP + .1, widths=.30)\n",
      "b2 = boxplot(rvpr_fac, positions = posP + .5, widths=.30)\n",
      "b3 = boxplot(rvpr_ank, positions = posP + .9, widths=.30)\n",
      "b4 = boxplot(rvpr_aug, positions = posP + 1.3, widths=.30)\n",
      "mi.recolor(b1, '#006767')\n",
      "mi.recolor(b2,'k')\n",
      "mi.recolor(b3, '#009900')\n",
      "mi.recolor(b4,'r')\n",
      "\n",
      "fmt = {'marker' : '>',\n",
      "       'markersize' : 3,\n",
      "       'markeredgecolor' : None}\n",
      "\n",
      "colors_ = mplt.colorset_distinct\n",
      "\n",
      "for idx in nvs:\n",
      "    for x in arange(5):\n",
      "        plot(posP[x] + .1 - .1, median(a_rvpr_full[idx][:,x]), color=colors_[0], **fmt)\n",
      "        plot(posP[x] + .5 - .1, median(a_rvpr_fac[idx][:,x]), color=colors_[1], **fmt)\n",
      "        plot(posP[x] + .9 - .1, median(a_rvpr_ank[idx][:,x]), color=colors_[2], **fmt)\n",
      "        plot(posP[x] + 1.3 - .1, median(a_rvpr_aug[idx][:,x]), color=colors_[3],  **fmt)\n",
      "\n",
      "        \n",
      "# --- --- right subplot\n",
      "outliers = '' # enter '+' to show outliers\n",
      "ax1 = subplot(2,1,2)\n",
      "pos1 = hstack([arange(3) * 3, arange(conf.n_factors) * 1.8 + 10])\n",
      "pos2 = hstack([arange(3) * 3, arange(6) * 1.8 + 18]) + .8\n",
      "b1 = boxplot(rvfr_fac, sym=outliers, positions=pos1 + .1, widths=.20)\n",
      "b2 = boxplot(rvfr_full, sym=outliers, positions=pos1 + .4, widths=.20)\n",
      "ax1b = ax1.twiny()\n",
      "b3 = boxplot(rvankr_ank, sym=outliers, positions=pos2 + .1, widths=.20)\n",
      "b4 = boxplot(rvankr_full, sym=outliers, positions=pos2 + .4, widths=.20)\n",
      "mi.recolor(b1,'k')\n",
      "mi.recolor(b2,'k',2)\n",
      "mi.recolor(b3,'#009900')\n",
      "mi.recolor(b4,'#009900',2)\n",
      "\n",
      "# remove outliers\n",
      "\n",
      "\n",
      "\n",
      "ax0.set_xticks(arange(rvpr_full.shape[1]) * 3 + .7)\n",
      "ax0.set_xticklabels(['$k$', r'$\\alpha$', r'$\\L_0$', r'$\\beta$', r'$\\Delta E$'])\n",
      "ax0.set_xlabel('SLIP parameter')\n",
      "ax0.set_ylabel('relative remaining variance')\n",
      "ax0.plot([-1, rvpr_full.shape[1] * 3 - 1], [1, 1], 'k--')\n",
      "ax0.set_xlim(-1, rvpr_full.shape[1] * 3 - 1)\n",
      "ax0.set_ylim(0, 1.15)\n",
      "\n",
      "\n",
      "xticks1 = pos1 + .45\n",
      "xticks1[:3] += .25\n",
      "ax1.set_xticks(xticks1)\n",
      "\n",
      "xticks2 = pos2[3:] + .45\n",
      "\n",
      "ax1b.set_xticks(xticks2)\n",
      "ax1.grid('on')\n",
      "ax1b.grid('on')\n",
      "ax1.set_xticklabels(['com_z', 'v_com_x', 'v_com_y', 'f1', 'f2', 'f3', 'f4', 'f5'])\n",
      "ax1b.set_xticklabels(['ank_x', 'ank_y', 'ank_z', 'v_ank_x', 'v_ank_y', 'v_ank_z'])\n",
      "ax1.set_xlim(-1.5, pos2[-1] + 2)\n",
      "ax1b.plot([-1.5, pos2[-1] + 2], [1, 1], 'k--')\n",
      "ax1b.set_xlim(-1.5, pos2[-1] + 2)\n",
      "ax1.set_ylim(0, 1.15)\n",
      "ax1.set_ylabel('relative remaining variance')\n",
      "ax1b.set_title('Reduced model inner consistency check. Boxplotes for subject {}\\n\\n'.format(vis_subj_str))\n",
      "ax0.set_title('SLIP parameter prediction. Boxplots for subject {}'.format(vis_subj_str))\n",
      "\n",
      "\n",
      "for idx in nvs:\n",
      "    for x in arange(len(pos1)):\n",
      "        plot([pos1[x] -.6,  pos1[x] -.1],\n",
      "             [median(a_rvfr_fac[idx][:,x]), median(a_rvfr_full[idx][:,x])], '.-', color='k', linewidth=1)\n",
      "\n",
      "    for x in arange(len(pos2)):\n",
      "        plot([pos2[x] + .5,  pos2[x] + 1],\n",
      "             [median(a_rvankr_ank[idx][:,x]), median(a_rvankr_full[idx][:,x])], '.-', color='g', linewidth=1)\n",
      "\n",
      "subplots_adjust(hspace=.5)\n",
      "\n",
      "#savefig('tmp/prediction_and_consistency.pdf')\n",
      "savefig('tmp/prediction_and_consistency_f3.pdf')\n",
      "\n",
      "pass #suppress output"
     ],
     "language": "python",
     "metadata": {},
     "outputs": [
      {
       "metadata": {},
       "output_type": "display_data",
       "png": "[encoded data removed]",
       "text": [
        "<matplotlib.figure.Figure at 0x7f437d566110>"
       ]
      }
     ],
     "prompt_number": 19
    },
    {
     "cell_type": "code",
     "collapsed": false,
     "input": [
      "# --- required imports and definitions\n",
      "import matplotlib.font_manager as fmng\n",
      "FM = fmng.FontManager()\n",
      "fnt = FM.findfont('Arial')\n",
      "fp = fmng.FontProperties(fname=fnt)\n",
      "fp.set_size(9.0)\n",
      "\n",
      "import mutils.plotting as mplt\n",
      "colors_ = mplt.colorset_distinct\n",
      "\n",
      "import matplotlib as mpl\n",
      "mpl.rcParams['mathtext.default'] = 'regular' # this is the key\n"
     ],
     "language": "python",
     "metadata": {},
     "outputs": [],
     "prompt_number": 9
    },
    {
     "cell_type": "code",
     "collapsed": false,
     "input": [
      "# --- only \"top\" subplot\n",
      "\n",
      "\n",
      "\n",
      "fig = figure(figsize=(8.8/2.56,2.8)) # height was 2.4\n",
      "\n",
      "ax0 = fig.add_subplot(1,1,1)\n",
      "\n",
      "posP = arange(rvpr_full.shape[1]) * 3\n",
      "b1 = boxplot(rvpr_full, positions = posP + .1, widths=.30, sym='')\n",
      "b2 = boxplot(rvpr_fac, positions = posP + .5, widths=.30, sym='')\n",
      "b3 = boxplot(rvpr_ank, positions = posP + .9, widths=.30, sym='')\n",
      "b4 = boxplot(rvpr_aug, positions = posP + 1.3, widths=.30, sym='')\n",
      "mi.recolor(b1, colors_[0], lw=.5)\n",
      "mi.recolor(b2,  colors_[1], lw=.5)\n",
      "mi.recolor(b3,  colors_[2], lw=.5)\n",
      "mi.recolor(b4,  colors_[3], lw=.5)\n",
      "\n",
      "fmt = {'marker' : '>',\n",
      "       'markersize' : 3,\n",
      "       'markeredgecolor' : 'None'}\n",
      "\n",
      "\n",
      "\n",
      "for idx in nvs:\n",
      "    for x in arange(5):\n",
      "        plot(posP[x] + .1 - .1, median(a_rvpr_full[idx][:,x]), color=colors_[0], **fmt)\n",
      "        plot(posP[x] + .5 - .1, median(a_rvpr_fac[idx][:,x]), color=colors_[1], **fmt)\n",
      "        plot(posP[x] + .9 - .1, median(a_rvpr_ank[idx][:,x]), color=colors_[2], **fmt)\n",
      "        plot(posP[x] + 1.3 - .1, median(a_rvpr_aug[idx][:,x]), color=colors_[3],  **fmt)\n",
      "        \n",
      "\n",
      "ax0.set_xticks(arange(rvpr_full.shape[1]) * 3 + .7)\n",
      "ax0.set_yticks(arange(6) * .2)\n",
      "ax0.set_yticklabels(arange(6) * .2, fontproperties=fp)\n",
      "ax0.set_xticklabels(['$k$', r'$\\alpha$', r'$L_0$', r'$\\beta$', r'$\\Delta E$'], fontproperties=fp)\n",
      "ax0.set_xlabel('predicted parameter', fontproperties=fp)\n",
      "ax0.set_ylabel('rrv', fontproperties=fp)\n",
      "ax0.plot([-1, rvpr_full.shape[1] * 3 - 1], [1, 1], 'k--')\n",
      "ax0.set_xlim(-2, rvpr_full.shape[1] * 3 - 1)\n",
      "ax0.set_ylim(0, 1.15)\n",
      "\n",
      "subplots_adjust(right=.966, bottom=.16, top=.77)\n",
      "\n",
      "ax0.set_title('Predictability of SLIP parameters\\n\\n\\n', fontproperties=fp)\n",
      "\n",
      "axl = fig.add_axes([0.12, 0.79, 0.89, 0.097], frameon=False )\n",
      "fp.set_size(8.0)\n",
      "axl.set_xticks([])\n",
      "axl.set_yticks([])\n",
      "axl.text(1, 0, 'full state', fontproperties=fp, va='center')\n",
      "axl.text(1, -1, 'CoM and factors', fontproperties=fp, va='center')\n",
      "axl.text(7, 0, 'CoM and ankle state', fontproperties=fp, va='center')\n",
      "axl.text(7, -1, 'CoM and prev. SLIP parameter', fontproperties=fp, va='center')\n",
      "axl.plot([0, .8],[0, 0], '-', color=colors_[0], lw=2)\n",
      "axl.plot([0, .8],[-1,-1], '-', color=colors_[1], lw=2)\n",
      "axl.plot([6, 6.8],[0, 0], '-', color=colors_[2], lw=2)\n",
      "axl.plot([6, 6.8],[-1,-1], '-', color=colors_[3], lw=2)\n",
      "axl.set_ylim(-1.5,.5)\n",
      "axl.set_xlim(0,15)\n",
      "fp.set_size(9.0)\n",
      "\n",
      "ax0.arrow(-1.5,0.95,0,-0.8, head_width=0.15, head_length=0.1, lw=1, )\n",
      "ax0.text(-1.3,0.5, 'better prediction', ha='left', va='center', rotation=90, fontproperties=fp)\n",
      "\n",
      "if True:\n",
      "   savefig('img/slip_param_prediction_bxpltS{}.pdf'.format(\n",
      "                                                    vis_subj_str))\n",
      "\n",
      "pass"
     ],
     "language": "python",
     "metadata": {},
     "outputs": [
      {
       "metadata": {},
       "output_type": "display_data",
       "png": "[encoded data removed]",
       "text": [
        "<matplotlib.figure.Figure at 0x7f437c848210>"
       ]
      }
     ],
     "prompt_number": 10
    },
    {
     "cell_type": "code",
     "collapsed": false,
     "input": [
      "# cell to prevent excessive scrolling"
     ],
     "language": "python",
     "metadata": {},
     "outputs": [],
     "prompt_number": 18
    },
    {
     "cell_type": "code",
     "collapsed": false,
     "input": [
      "close('all')"
     ],
     "language": "python",
     "metadata": {},
     "outputs": [],
     "prompt_number": 11
    },
    {
     "cell_type": "code",
     "collapsed": false,
     "input": [
      "# --- visualize (only \"bottom\" subplot)\n",
      "\n",
      "# --- --- select subject for \"full\" visualization\n",
      "vis_subj = 2 # 0,1,2,3\n",
      "c2_idx = 8 # color index: 2=\"old\", 8=\"new\" (lighter green)\n",
      "\n",
      "pull_ank_down = True # pull ankle labels \"down\" on same axis\n",
      "\n",
      "nvs = list(set(range(4)) - set([vis_subj]))\n",
      "vis_subj_str = ['1', '2', '3', '7'][vis_subj]\n",
      "\n",
      "rvpr_full = a_rvpr_full[vis_subj]\n",
      "rvpr_fac = a_rvpr_fac[vis_subj]\n",
      "rvpr_ank = a_rvpr_ank[vis_subj]\n",
      "rvpr_aug = a_rvpr_aug[vis_subj]\n",
      "    \n",
      "rvfr_fac = a_rvfr_fac[vis_subj]\n",
      "rvfr_full = a_rvfr_full[vis_subj]\n",
      "rvankr_ank = a_rvankr_ank[vis_subj]\n",
      "rvankr_full = a_rvankr_full[vis_subj]\n",
      "\n",
      "# --- --- create figure\n",
      "if pull_ank_down:\n",
      "    fig = figure(figsize=(18./2.56, 2.8))\n",
      "else:\n",
      "    fig = figure(figsize=(18./2.56, 3.2))\n",
      "\n",
      "        \n",
      "# --- --- right subplot\n",
      "outliers = '' # enter '+' to show outliers\n",
      "ax1 = fig.add_subplot(1,1,1)\n",
      "pos1 = hstack([arange(3) * 3, arange(conf.n_factors) * 1.8 + 10])\n",
      "pos2 = hstack([arange(3) * 3, arange(6) * 1.8 + 19]) + .8\n",
      "\n",
      "b1 = boxplot(rvfr_fac, sym=outliers, positions=pos1 + .1, widths=.40)\n",
      "b2 = boxplot(rvfr_full, sym=outliers, positions=pos1 + .8, widths=.40)\n",
      "if not pull_ank_down:\n",
      "    ax1b = ax1.twiny()\n",
      "else:\n",
      "    ax1b = ax1\n",
      "b3 = boxplot(rvankr_ank, sym=outliers, positions=pos2 + .9, widths=.40)\n",
      "b4 = boxplot(rvankr_full[:,3:], sym=outliers, positions=pos2[3:] , widths=.40)\n",
      "mi.recolor(b1, colors_[1])\n",
      "mi.recolor(b2,colors_[0],)\n",
      "mi.recolor(b3, colors_[c2_idx]) # was: colors_[2]\n",
      "mi.recolor(b4,colors_[0],)\n",
      "\n",
      "# remove outliers\n",
      "\n",
      "\n",
      "if pull_ank_down:\n",
      "    xticks1 = hstack([pos1[:3] + .8, pos1[3:] + .35, pos2[3:] + .45])\n",
      "else:\n",
      "    xticks1 = pos1 + .45\n",
      "    xticks1[:3] += .35    \n",
      "    xticks2 = pos2[3:] + .45\n",
      "    ax1b.set_xticks(xticks2)\n",
      "ax1.set_xticks(xticks1)    \n",
      "    \n",
      "ax1.grid('on')\n",
      "ax1b.grid('on')\n",
      "#ax1.set_xticklabels(['com$_z$', 'com$_{vx}$', 'com$_{vy}$', \n",
      "#                     'factor 1', 'factor 2', 'factor 3', 'factor 4', 'factor 5'], \n",
      "#                    fontproperties=fp, rotation=45, ha='right')\n",
      "#ax1b.set_xticklabels(['ank$_x$', 'ank$_y$', 'ank$_z$', 'ank$_{vx}$', 'ank$_{vy}$', 'ank$_{vz}$'], fontproperties=fp,\n",
      "#                     rotation=45, ha='left')\n",
      "    \n",
      "if pull_ank_down:\n",
      "    ax1.set_xticklabels(['com$_y$', 'com$_{vz}$', 'com$_{vx}$', \n",
      "                         'factor 1', 'factor 2', 'factor 3', 'factor 4', 'factor 5',\n",
      "                         'ank$_z$', 'ank$_x$', 'ank$_y$', 'ank$_{vz}$', 'ank$_{vx}$', 'ank$_{vy}$'], \n",
      "                        fontproperties=fp, rotation=45, ha='right')    \n",
      "else:\n",
      "    ax1.set_xticklabels(['com$_y$', 'com$_{vz}$', 'com$_{vx}$', \n",
      "                         'factor 1', 'factor 2', 'factor 3', 'factor 4', 'factor 5'], \n",
      "                        fontproperties=fp, rotation=45, ha='right')\n",
      "    ax1b.set_xticklabels(['ank$_z$', 'ank$_x$', 'ank$_y$', 'ank$_{vz}$', 'ank$_{vx}$', 'ank$_{vy}$'], fontproperties=fp,\n",
      "                         rotation=45, ha='left')\n",
      "\n",
      "#ax1b.set_yt\n",
      "    \n",
      "#ax1.set_xlim(-1.5, pos2[-1] + 2)\n",
      "ax1.set_xlim(-2, pos2[-1] + 2) # additional space for \"better prediction\" arrow\n",
      "\n",
      "ax1.arrow(-1.5,0.95,0,-0.8, head_width=0.225, head_length=0.1, lw=1, fc='k', ec='k')\n",
      "ax1.text(-1.3,0.5, 'better prediction', ha='left', va='center', rotation=90, fontproperties=fp)\n",
      "\n",
      "ax1b.plot([-2., pos2[-1] + 2], [1, 1], 'k--')\n",
      "ax1b.set_xlim(-2, pos2[-1] + 2)\n",
      "ax1.set_yticklabels(arange(6) * .2, fontproperties=fp)\n",
      "ax1.set_xlabel('predicted coordinate', fontproperties=fp)\n",
      "ax1.set_ylim(0, 1.15)\n",
      "ax1.set_ylabel('rrv', fontproperties=fp)\n",
      "#ax1b.set_title('Consistency check of reduced model: prediction of' + \n",
      "#               ' own states (boxplots for subject {})\\n\\n\\n\\n'.format(vis_subj_str),\n",
      "#               fontproperties=fp)\n",
      "ax1.set_yticks(arange(6) * .2)\n",
      "\n",
      "\n",
      "for idx in nvs:\n",
      "    for x in arange(len(pos1)):        \n",
      "        plot([pos1[x] +.2,  pos1[x] +.7],\n",
      "             [median(a_rvfr_fac[idx][:,x]), median(a_rvfr_full[idx][:,x])], '-', color=colors_[1], linewidth=1)\n",
      "        plot([pos1[x] +.2],\n",
      "             [median(a_rvfr_fac[idx][:,x])], '>', color=colors_[1], mec='None',\n",
      "             markersize=5)\n",
      "        plot([pos1[x] +.7],\n",
      "             [median(a_rvfr_full[idx][:,x])], '<', color=colors_[0], mec='None', \n",
      "             markersize=5)\n",
      "\n",
      "        \n",
      "    for x in arange(len(pos2)):\n",
      "        plot([pos2[x] + .8,  pos2[x] + .1],\n",
      "             [median(a_rvankr_ank[idx][:,x]), median(a_rvankr_full[idx][:,x])], '-', color=colors_[c2_idx], linewidth=.5)\n",
      "        plot([pos2[x] + .8],\n",
      "             [median(a_rvankr_ank[idx][:,x])], '<', color=colors_[c2_idx],  mec='None', \n",
      "             markersize=5)\n",
      "        plot([pos2[x] + .1],\n",
      "             [median(a_rvankr_full[idx][:,x])], '>', color=colors_[0],  mec='None', \n",
      "             markersize=5)\n",
      "\n",
      "        \n",
      "\n",
      "if pull_ank_down:\n",
      "    subplots_adjust(hspace=.5, right=.975, top=.95, bottom=.24, left=.075)\n",
      "else:\n",
      "    subplots_adjust(hspace=.5, right=.975, top=.8, bottom=.21, left=.075)\n",
      "#subplots_adjust(right=.966, bottom=.18, top=.9)\n",
      "\n",
      "#savefig('tmp/prediction_and_consistency.pdf')\n",
      "\n",
      "# --- legend axis\n",
      "if pull_ank_down:\n",
      "    axl = fig.add_axes([0.1, 0.875, 0.75, 0.0625])\n",
      "else:\n",
      "    axl = fig.add_axes([0.1, 0.78, 0.55, 0.125])\n",
      "\n",
      "axl.set_xticks([])\n",
      "axl.set_yticks([])\n",
      "if pull_ank_down:\n",
      "    axl.text(0, -1, 'input for prediction:', fontproperties=fp, va='center')\n",
      "    xoffset = 15\n",
      "else:\n",
      "    axl.text(0, 0, 'input for prediction:', fontproperties=fp, va='center')\n",
      "    xoffset = 0\n",
      "axl.text(3 + xoffset, -1, 'full state', fontproperties=fp, va='center')\n",
      "axl.text(13 + xoffset, -1, 'CoM and factors', fontproperties=fp, va='center')\n",
      "axl.text(28 + xoffset, -1, 'CoM and ankle state', fontproperties=fp, va='center')\n",
      "axl.plot([0 + xoffset, 2 + xoffset],[-1,-1], '-', color=colors_[0], lw=2)\n",
      "axl.plot([10 + xoffset, 12 + xoffset],[-1,-1], '-', color=colors_[1], lw=2)\n",
      "axl.plot([25 + xoffset, 27 + xoffset],[-1,-1], '-', color=colors_[c2_idx], lw=2)\n",
      "\n",
      "if pull_ank_down:\n",
      "    axl.set_ylim(-1.5,-.5)\n",
      "else:\n",
      "    axl.set_ylim(-1.5,.5)\n",
      "axl.set_xlim(-2, 42 + xoffset)\n",
      "\n",
      "savefig('img/consistency_check_prediction_s{}.pdf'.format(vis_subj_str))\n",
      "print 'stored as img/consistency_check_prediction_s{}.pdf'.format(vis_subj_str)\n",
      "pass #suppress output"
     ],
     "language": "python",
     "metadata": {},
     "outputs": [
      {
       "output_type": "stream",
       "stream": "stdout",
       "text": [
        "stored as img/consistency_check_prediction_s3.pdf\n"
       ]
      },
      {
       "metadata": {},
       "output_type": "display_data",
       "png": "[encoded data removed]",
       "text": [
        "<matplotlib.figure.Figure at 0x7f437d4d05d0>"
       ]
      }
     ],
     "prompt_number": 21
    },
    {
     "cell_type": "code",
     "collapsed": true,
     "input": [
      "[(nr, val) for nr, val in enumerate(colors_)]"
     ],
     "language": "python",
     "metadata": {},
     "outputs": [
      {
       "metadata": {},
       "output_type": "pyout",
       "prompt_number": 17,
       "text": [
        "[(0, '#000000'),\n",
        " (1, '#106aa4'),\n",
        " (2, '#43bf3c'),\n",
        " (3, '#ff7f00'),\n",
        " (4, '#ef0a28'),\n",
        " (5, '#5f2e82'),\n",
        " (6, '#8f8f8f'),\n",
        " (7, '#92bee3'),\n",
        " (8, '#a1df80'),\n",
        " (9, '#fdaf5f'),\n",
        " (10, '#fb8987'),\n",
        " (11, '#baa2c5')]"
       ]
      }
     ],
     "prompt_number": 17
    },
    {
     "cell_type": "code",
     "collapsed": false,
     "input": [],
     "language": "python",
     "metadata": {},
     "outputs": []
    }
   ],
   "metadata": {}
  }
 ]
}