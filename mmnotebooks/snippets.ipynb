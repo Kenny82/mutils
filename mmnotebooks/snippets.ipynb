{
 "metadata": {
  "name": "",
  "signature": "sha256:bce282eea793f0b8e8ba2680e47076587c2ae5b50fc7303e6822fc089482b908"
 },
 "nbformat": 3,
 "nbformat_minor": 0,
 "worksheets": [
  {
   "cells": [
    {
     "cell_type": "markdown",
     "metadata": {},
     "source": [
      "# This notebook collects some useful code snippets\n",
      "\n",
      "Last edits:\n",
      "\n",
      "+ 2013 Dec 12, MM: changed name and added to git\n",
      "+ 2014 Jan 7, MM: color palettes (new), font tricks\n",
      "+ 2014 July 22, MM: added output precision \n",
      "\n",
      "<a name=\"toc\"></a>\n",
      "##Content\n",
      "\n",
      "+ <a href=\"#fonts\">Font tricks</a> (also for figure legends)\n",
      "+ <a href=\"#cython_magics\">Cython magics</a>\n",
      "+ <a href=\"#ODE_in_C\">ODE in C (FastODE)</a>\n",
      "+ <a href=\"#user_colorbars\">User-defined color bars</a>\n",
      "+ <a href=\"#sort_list\">Sort a list</a>\n",
      "+ <a href=\"#flat_list\">Flatten a list</a>\n",
      "+ <a href=\"#color_palettes\">Color palettes</a>\n",
      "+ <a href=\"#reusing_figures\">Reusing figures</a>\n",
      "+ <a href=\"#axistricks\">Axis tricks</a> label positions, ticks and spines\n",
      "+ <a href=\"#run_other_notebooks\">Running cells from (other) notebooks</a>\n",
      "+ <a href=\"#3d plotting\">3D plotting</a>\n",
      "+ <a href=\"#animations\">animations</a>\n",
      "+ <a href=\"#pcolor_replace\">better pcolor (replacement)</a>\n",
      "+ <a href=\"#transparent_ribbon\">transparent ribbon surrounding a line</a>\n",
      "+ <a href=\"#output_precision\">Set output precision for floats and arrays</a>\n",
      "+ <a href=\"#interactive_plotting\">Interactive plotting with \"Bokeh\"</a>\n",
      "+ <a href=\"#sympy_code\">Sympy to C / Fortran / Python code creation</a>\n",
      "\n"
     ]
    },
    {
     "cell_type": "markdown",
     "metadata": {},
     "source": [
      "<a name=\"fonts\"></a>\n",
      "#Font Tricks\n",
      "<a href=\"#toc\">Table of content</a>"
     ]
    },
    {
     "cell_type": "code",
     "collapsed": false,
     "input": [
      "# select any system font for the figure\n",
      "import matplotlib.font_manager as fmt\n",
      "FM = fmt.FontManager()\n",
      "fnt = FM.findfont('Times New Roman')\n",
      "fp = fmt.FontProperties(fname=fnt)\n",
      "fp.set_size(9.0)\n",
      "\n",
      "figure(figsize=(4,2))\n",
      "plot(randn(1000))\n",
      "gca().set_xticks(arange(10)*100)\n",
      "gca().set_xticklabels(arange(10)*100, fontproperties=fp)\n",
      "gca().set_yticks(arange(6) - 3)\n",
      "gca().set_yticklabels(arange(6) - 3, fontproperties=fp)\n",
      "gca().set_title('mein titel', fontproperties=fp)\n",
      "#savefig('img/fonttest1.svg',)\n",
      "#savefig('img/fonttest1.png')\n",
      "#savefig('img/fonttest1.pdf')\n",
      "#savefig('img/fonttest1.eps')\n",
      "#savefig('img/fonttest1.ps')\n",
      "pass"
     ],
     "language": "python",
     "metadata": {},
     "outputs": []
    },
    {
     "cell_type": "code",
     "collapsed": false,
     "input": [
      "# using the same font in mathematical expressions as elsewhere\n",
      "import matplotlib.font_manager as fmt\n",
      "FM = fmt.FontManager()\n",
      "fnt = FM.findfont('Arial')\n",
      "fp = fmt.FontProperties(fname=fnt)\n",
      "fp.set_size(9.0)\n",
      "\n",
      "import matplotlib as mpl\n",
      "mpl.rcParams['mathtext.default'] = 'regular' # this is the key\n",
      "\n",
      "figure(figsize=(5,2))\n",
      "plot(randn(1000),'.')\n",
      "gca().set_xticklabels(arange(10)*100, fontproperties=fp)\n",
      "\n",
      "text(100, 0, r'This is a text with $x=y^2$ and $\\alpha$', fontproperties=fp,\n",
      "     bbox=dict(facecolor='#ffffff', edgecolor='blue', pad=10.0))\n",
      "\n",
      "pass"
     ],
     "language": "python",
     "metadata": {},
     "outputs": []
    },
    {
     "cell_type": "code",
     "collapsed": false,
     "input": [
      "# manipulating the figure legend text\n",
      "\n",
      "figure(figsize=(6,4))\n",
      "plot(randn(1000),'bd', label='random data')\n",
      "\n",
      "import matplotlib as mpl\n",
      "mpl.rcParams['legend.fontsize'] = 9\n",
      "\n",
      "import matplotlib.font_manager as fmt\n",
      "FM = fmt.FontManager()\n",
      "fnt = FM.findfont('Times New Roman')\n",
      "fp = fmt.FontProperties(fname=fnt)\n",
      "fp.set_size(9.0) # should not conflict with rcParams\n",
      "\n",
      "leg = legend()\n",
      "for label in leg.get_texts():\n",
      "    label.set_fontproperties(fp)"
     ],
     "language": "python",
     "metadata": {},
     "outputs": []
    },
    {
     "cell_type": "markdown",
     "metadata": {},
     "source": [
      "<a name=\"cython_magics\"></a>\n",
      "#Cython magics\n",
      "<a href=\"#toc\">table of content</a>"
     ]
    },
    {
     "cell_type": "code",
     "collapsed": false,
     "input": [
      "# prepare some test data\n",
      "t = linspace(0,1,1000)\n",
      "mydata = vstack([t-.5, sin(pi*t)]).T\n",
      "\n",
      "# define a function in Python\n",
      "def py_getforce(data,  k,  l0):\n",
      "    out = zeros(data.shape[0],dtype=np.float64)\n",
      "    for idx in range(data.shape[0]):\n",
      "        out[idx] = k*(sqrt(data[idx,0]**2 + data[idx,1]**2) - l0)\n",
      "    return out\n"
     ],
     "language": "python",
     "metadata": {},
     "outputs": []
    },
    {
     "cell_type": "code",
     "collapsed": false,
     "input": [],
     "language": "python",
     "metadata": {},
     "outputs": []
    },
    {
     "cell_type": "code",
     "collapsed": false,
     "input": [
      "%load_ext cythonmagic"
     ],
     "language": "python",
     "metadata": {},
     "outputs": []
    },
    {
     "cell_type": "code",
     "collapsed": false,
     "input": [
      "%%cython -lm\n",
      "\n",
      "# This is the same function, just in Cython\n",
      "import numpy as np\n",
      "cimport numpy as np\n",
      "from libc.math cimport sqrt # much, much faster than np.sqrt\n",
      "\n",
      "\n",
      "def getforce(np.ndarray[np.float_t, ndim=2] data, double k, \n",
      "             double l0):\n",
      "    cdef double uv  # unused variable\n",
      "    out = np.zeros(data.shape[0],dtype=np.float64)\n",
      "    for idx in range(data.shape[0]):\n",
      "        out[idx] = k*(sqrt(data[idx,0]**2 + data[idx,1]**2) - l0)\n",
      "    return out\n"
     ],
     "language": "python",
     "metadata": {},
     "outputs": []
    },
    {
     "cell_type": "code",
     "collapsed": false,
     "input": [
      "# run performance test\n",
      "%timeit f = getforce(mydata,1000., 1.)\n",
      "%timeit fp = py_getforce(mydata, 1000., 1.)\n",
      "\n",
      "f = getforce(mydata,1000., 1.)\n",
      "fp = py_getforce(mydata, 1000., 1.)\n",
      "print \"same results?\", allclose(f,fp)"
     ],
     "language": "python",
     "metadata": {},
     "outputs": []
    },
    {
     "cell_type": "markdown",
     "metadata": {},
     "source": [
      "<a name=\"ODE_in_C\"></a>\n",
      "# ODE in C\n",
      "<a href=\"#toc\">Table of content</a>"
     ]
    },
    {
     "cell_type": "code",
     "collapsed": false,
     "input": [
      "import mutils.makeODE as mo\n",
      "#print mo.ex_py_code # print the example code\n",
      "# to print the C_code, do: print mo.ex_c_code\n",
      "#exec mo.ex_py_code # run the example code\n",
      "#print mo.ex_c_code\n",
      "print mo.ex_c_code\n",
      "exec mo.ex_py_code"
     ],
     "language": "python",
     "metadata": {},
     "outputs": []
    },
    {
     "cell_type": "code",
     "collapsed": false,
     "input": [
      "# example: 3D SLIP implementation including energy injection at midstance\n",
      "import models.slip as sl\n",
      "\n",
      "# parameter: k, l0, m, alpha, beta, energy change\n",
      "param = [20000., 1, 80., 68.*pi/180, 0, 0]\n",
      "# initial condition y, vx, vz\n",
      "IC = [1, 5., 0]\n",
      "t, state = sl.qSLIP_step3D(IC, param)\n",
      "\n",
      "# visualize\n",
      "figure()\n",
      "plot(t, state[:,1]) # state is [x,y,z,vx,vy,vz]; plot y\n",
      "\n",
      "# now loop for performance test\n",
      "fs = state[-1, [1,3,5]] # the final apex state y, vx, vz\n",
      "import time\n",
      "t0 = time.time()\n",
      "\n",
      "for step in range(1000):\n",
      "    IC = fs\n",
      "    t, state = sl.qSLIP_step3D(fs, param)\n",
      "    fs = state[-1, [1,3,5]]\n",
      "\n",
      "      \n",
      "tf = time.time()\n",
      "print \"1000 steps in {:.2f} seconds\".format(tf-t0)"
     ],
     "language": "python",
     "metadata": {},
     "outputs": []
    },
    {
     "cell_type": "markdown",
     "metadata": {},
     "source": [
      "<a name=\"user_colorbars\"></a>\n",
      "# User-defined color axes\n",
      "<a href=\"#toc\">table of content</a>\n"
     ]
    },
    {
     "cell_type": "code",
     "collapsed": false,
     "input": [
      "# for each color, create a list of segments:\n",
      "# ( (x1, va1, vb1), (x2, va2, vb2), ... (xn, vn1, vn2))\n",
      "# where x give the relative position on the color axis (Note: x1 = 0, xn = 1)\n",
      "# and va, vb give the corresponding values of the color just before and just after that position\n",
      "# if va = vb, the color axis is continous\n",
      "\n",
      "from matplotlib.colors import LinearSegmentedColormap\n",
      "\n",
      "# continous black-red-black\n",
      "cdict_1 = {'red' : ( (0.0, 0.0, 0.0),\n",
      "                     (0.5, 1.0, 1.0),\n",
      "                     (1.0, 0.0, 0.0) ),\n",
      "           'green' : ( (0.0, 0.0, 0.0),\n",
      "                     (0.5, 0.0, 0.0),\n",
      "                     (1.0, 0.0, 0.0) ),\n",
      "           'blue' : ( (0.0, 0.0, 0.0),\n",
      "                     (0.5, 0.0, 0.0),\n",
      "                     (1.0, 0.0, 0.0) ),\n",
      "           }\n",
      "map_brb = LinearSegmentedColormap('BRB1', cdict_1)\n",
      "\n",
      "\n",
      "# discontinous black-red-white-green\n",
      "cdict_2 = {'red' : ( (0.0, 0.0, 0.0),\n",
      "                     (0.5, 1.0, 1.0),\n",
      "                     (1.0, 0.0, 0.0) ),\n",
      "           'green' : ( (0.0, 0.0, 0.0),\n",
      "                     (0.5, 0.0, 1.0),\n",
      "                     (1.0, 1.0, 1.0) ),\n",
      "           'blue' : ( (0.0, 0.0, 0.0),\n",
      "                     (0.5, 0.0, 1.0),\n",
      "                     (1.0, 0.0, 0.0) ),\n",
      "           }\n",
      "map_brwg = LinearSegmentedColormap('BRWG1', cdict_2)\n",
      "\n",
      "figure()\n",
      "data = arange(50)[newaxis, :]\n",
      "subplot(2, 1, 1)\n",
      "pcolor(data, cmap=map_brb)\n",
      "\n",
      "subplot(2, 1, 2)\n",
      "pcolor(data, cmap=map_brwg)\n",
      "\n"
     ],
     "language": "python",
     "metadata": {},
     "outputs": []
    },
    {
     "cell_type": "markdown",
     "metadata": {},
     "source": [
      "<a name=\"sort_list\"></a>\n",
      "#Sort a list\n",
      "Sort list after arbitrary comparison function\n",
      "\n",
      "<a href=\"#toc\">table of content</a>"
     ]
    },
    {
     "cell_type": "code",
     "collapsed": false,
     "input": [
      "mylist = [(\"name A\", 12), (\"string X\", 3), (\"ooopsi\", 7)]\n",
      "sorted_list = sorted(mylist, key=lambda elem: int(elem[1]))\n",
      "print sorted_list"
     ],
     "language": "python",
     "metadata": {},
     "outputs": [
      {
       "output_type": "stream",
       "stream": "stdout",
       "text": [
        "[('string X', 3), ('ooopsi', 7), ('name A', 12)]\n"
       ]
      }
     ],
     "prompt_number": 11
    },
    {
     "cell_type": "markdown",
     "metadata": {},
     "source": [
      "<a name=\"flat_list\"></a>\n",
      "#Flatten a list\n",
      "The key is to understand that list comprehensions are nested, and the latter parts correspond to the \"more inner\" for-loops of nested for-loops\n",
      "\n",
      "<a href=\"#toc\">table of content</a>"
     ]
    },
    {
     "cell_type": "code",
     "collapsed": true,
     "input": [
      "lst1 = ['a', 'b', 'c', 'd']\n",
      "lst2 = [(x + '_x', x + '_y') for x in lst1]\n",
      "print \"lst2\", lst2\n",
      "\n",
      "# how to get this list \"flat\"?\n",
      "# --- long code:\n",
      "flat1 = []\n",
      "for pair in lst2:\n",
      "    for elem in pair:\n",
      "        flat1.append(elem)\n",
      "        \n",
      "# --- short code:\n",
      "flat2 = [elem for pair in lst2 for elem in pair]\n",
      "\n",
      "# show results\n",
      "print \"flat1:\", flat1\n",
      "print \"flat2:\", flat2\n"
     ],
     "language": "python",
     "metadata": {},
     "outputs": []
    },
    {
     "cell_type": "markdown",
     "metadata": {},
     "source": [
      "<a name=\"color_palettes\"></a>\n",
      "#Color palettes\n",
      "\n",
      "<a href=\"#toc\">table of content</a>"
     ]
    },
    {
     "cell_type": "code",
     "collapsed": false,
     "input": [
      "import matplotlib.patches as mpatches\n",
      "\n",
      "x0 = array([0,0,.8,.8, 1]) # last value is \"dummy\" (ignored)\n",
      "y0 = array([0,1,1,0, 1]) # last value is \"dummy\"\n",
      "# T is a translation operator\n",
      "T = vstack([hstack([eye(4),array([[1,1,1,1]]).T]),[0,0,0,0,1]])\n",
      "# P is projector (removes dummy)\n",
      "P = eye(4,5)\n",
      "# convenience operation: applies a list of operators. usage\n",
      "def mop(*args):\n",
      "    \"\"\" usage: mop(operator1, ...., operatorN, vector) \"\"\"\n",
      "    return reduce(dot, args)\n",
      "\n",
      "# guided by colorbrewers2.org\n",
      "colors1 = ['#a6cee3', '#1f78b4', '#b2df8a', '#33a02c', '#fb9a99', '#e31a1c',\n",
      "          '#fdbf6f', '#ff7f00', '#cab2d6', '#6a3d9a']\n",
      "\n",
      "figure(figsize=(8,2))\n",
      "x = x0.copy()\n",
      "for c in colors1:\n",
      "    x = dot(T,x) # translate x\n",
      "    fill(dot(P,x), dot(P,y0),c)\n",
      "\n",
      "title('colorbrewers2.org')\n",
      "gca().set_xticks([])\n",
      "gca().set_yticks([])\n",
      "\n",
      "# brightness adapted\n",
      "colors2 = ['#000000', '#106aa4', '#43bf3c', '#ff7f00', '#ef0a28', '#5f2e82',\n",
      "           '#8f8f8f', '#92bee3', '#a1df80', '#fdaf5f', '#fb8987', '#baa2c5',]\n",
      "\n",
      "figure(figsize=(8,2))\n",
      "x = x0.copy()\n",
      "for c in colors2:\n",
      "    x = dot(T,x) # translate x\n",
      "    fill(dot(P,x), dot(P,y0),c)\n",
      "\n",
      "title('adaptations by M.Maus')\n",
      "gca().set_xticks([])\n",
      "gca().set_yticks([])\n",
      "\n",
      "\n",
      "pass # suppress output\n"
     ],
     "language": "python",
     "metadata": {},
     "outputs": []
    },
    {
     "cell_type": "markdown",
     "metadata": {},
     "source": [
      "<a name=\"reusing_figures\"></a>\n",
      "# Re-using figures\n",
      "\n",
      "<a href=\"#toc\">table of content</a>\n"
     ]
    },
    {
     "cell_type": "code",
     "collapsed": false,
     "input": [
      "# create figure\n",
      "%config InlineBackend.close_figures = False\n",
      "fig = figure()\n",
      "plot(randn(100),'bd')\n"
     ],
     "language": "python",
     "metadata": {},
     "outputs": []
    },
    {
     "cell_type": "code",
     "collapsed": false,
     "input": [
      "# \"call\" the figure\n",
      "\n",
      "# edit the figure\n",
      "xlim(0,20)\n",
      "fig # one way - \"call\" the figure\n",
      "#gcf() # another way\n",
      "\n",
      "pass"
     ],
     "language": "python",
     "metadata": {},
     "outputs": []
    },
    {
     "cell_type": "markdown",
     "metadata": {},
     "source": [
      "<a name=\"axistricks\"></a>\n",
      "# Axis tricks: ticks and labels\n",
      "\n",
      "Switch off some axes, and put labels to arbitrary positions\n",
      "\n",
      "<a href=\"#toc\">table of content</a>\n"
     ]
    },
    {
     "cell_type": "code",
     "collapsed": false,
     "input": [
      "# sw\n",
      "figure()\n",
      "ax = subplot(111)\n",
      "ax.plot(randn(100))\n",
      "ax.spines['right'].set_visible(False)\n",
      "ax.tick_params(labelleft='off', left='off', right='off' ) # don't put ticks and labels left, no ticks right\n",
      "\n",
      "ax.set_xlabel('x-label', ha='left')\n",
      "ax.set_ylabel('y-label')\n",
      "# position labels\n",
      "ax.get_yaxis().set_label_coords(-0.08, 0.9) # (x,y) from 0 to 1\n",
      "ax.get_xaxis().set_label_coords(0, -.1) # (x,y)\n",
      "\n",
      "# do it manually for the title\n",
      "tt = ax.set_title('title', ha='right')\n",
      "tt.set_position((1, 1))\n",
      "\n",
      "\n"
     ],
     "language": "python",
     "metadata": {},
     "outputs": []
    },
    {
     "cell_type": "markdown",
     "metadata": {},
     "source": [
      "<a name=\"run_other_notebooks\"></a>\n",
      "# Run cells from (other) notebooks\n",
      "\n",
      "<a href=\"#toc\">table of content</a>\n"
     ]
    },
    {
     "cell_type": "code",
     "collapsed": false,
     "input": [
      "# prepare the test cell: It must contain a comment with the keyword \"cell_ID\" and the identifier (string)\n",
      "# cell_ID testcell\n",
      "# note: for cell_ids only dot(.), upper- and lowercase letters and numbers are currently supported\n",
      "print \"This is test cell\""
     ],
     "language": "python",
     "metadata": {},
     "outputs": []
    },
    {
     "cell_type": "code",
     "collapsed": false,
     "input": [
      "import mutils.misc as mi\n",
      "nbfile=\"snippets.ipynb\" # the name of the notebook; don't forget the extension!\n",
      "mi.run_nbcells(nbfile, ['testcell',]) #run the selected cell(s)\n"
     ],
     "language": "python",
     "metadata": {},
     "outputs": []
    },
    {
     "cell_type": "code",
     "collapsed": false,
     "input": [
      "%Inl"
     ],
     "language": "python",
     "metadata": {},
     "outputs": []
    },
    {
     "cell_type": "markdown",
     "metadata": {},
     "source": [
      "<a name=\"3d plotting\"></a>\n",
      "# 3D plotting\n",
      "\n",
      "<a href=\"#toc\">table of content</a>"
     ]
    },
    {
     "cell_type": "code",
     "collapsed": false,
     "input": [
      "# --- 3D plotting\n",
      "from mpl_toolkits.mplot3d.axes3d import Axes3D\n",
      "fig = figure(figsize=(16 * .75,9 * .75))\n",
      "ax1 = fig.add_axes([0,0,.8,1], projection='3d') #add_subplot(1,1,1,projection='3d')\n",
      "ax2 = fig.add_axes([.8,0,.2,1], frameon=False)\n",
      "ax2.set_xticks([])\n",
      "ax2.set_yticks([])\n",
      "x = linspace(0,20,100)\n",
      "ax2.plot(x, sin(x), 'r')\n",
      "ax2.plot(x, exp(sin(x)) + 2, 'g.-')\n",
      "ax1.view_init(10,25)\n",
      "l1 = ax1.plot3D(x, sin(x), cos(x), 'r.-')\n",
      "l2 = ax1.plot3D(x, exp(sin(x)), -1 + .5*cos(x), 'g+-')\n",
      "ax1.set_xlabel('x')\n",
      "ax1.set_ylabel('y')\n",
      "ax1.set_zlabel('z')\n",
      "draw()"
     ],
     "language": "python",
     "metadata": {},
     "outputs": []
    },
    {
     "cell_type": "markdown",
     "metadata": {},
     "source": [
      "<a name=\"animations\"></a>\n",
      "# animations\n",
      "\n",
      "<a href=\"#toc\">table of content</a>"
     ]
    },
    {
     "cell_type": "markdown",
     "metadata": {},
     "source": [
      "## create the animation\n",
      "(here, we use the ogg video format because it can be displayed in my favourite browsers ;) )"
     ]
    },
    {
     "cell_type": "code",
     "collapsed": false,
     "input": [
      "# create the data: a point rotating on a circle\n",
      "!mkdir -p 'tmp'\n",
      "fig = figure()\n",
      "ax = fig.add_subplot(1,1,1)\n",
      "axis('equal')\n",
      "phi = linspace(0, 2*pi, 100)\n",
      "ax.plot(sin(phi), cos(phi),'b')\n",
      "diam = ax.plot(sin(phi[0]), cos(phi[0]), 'rd')\n",
      "for nr, t in enumerate(phi):\n",
      "    diam[0].set_xdata(sin(t))\n",
      "    diam[0].set_ydata(cos(t))\n",
      "    draw()\n",
      "    fig.savefig('tmp/_{:04d}.png'.format(nr))\n",
      "    \n"
     ],
     "language": "python",
     "metadata": {},
     "outputs": []
    },
    {
     "cell_type": "code",
     "collapsed": false,
     "input": [
      "#convert into animation\n",
      "!avconv -y -r 20 -f image2 -i tmp/_%04d.png  -vb 600k tmp/anim.ogg\n",
      "\n",
      "# note: if the filenames do not begin with _0000.png but let's say with _0007.png, do this:\n",
      "#$start_idx = 7\n",
      "#!avconv -y -r 20 -start_number $start_idx -f image2 -i tmp/_%04d.png  -vb 600k tmp/anim.ogg"
     ],
     "language": "python",
     "metadata": {},
     "outputs": []
    },
    {
     "cell_type": "code",
     "collapsed": false,
     "input": [
      "# delete the data\n",
      "!rm tmp/_*.png"
     ],
     "language": "python",
     "metadata": {},
     "outputs": []
    },
    {
     "cell_type": "markdown",
     "metadata": {},
     "source": [
      "## embed the animation in IPython notebook"
     ]
    },
    {
     "cell_type": "code",
     "collapsed": false,
     "input": [
      "# display the video inline!\n",
      "# note: this needs a recent browser... with HTML5 and the option of OGG-video playback\n",
      "from IPython.core.display import HTML\n",
      "video = open('tmp/anim.ogg', 'rb').read()\n",
      "video_encoded = video.encode('base64') # encode the video in HTML-conform style\n",
      "video_tag = ('<video controls type=\"video/ogg\" '\n",
      "             + 'alt=\"VPP walking model\" src=\"data:video/ogg;base64,{0}\">').format(video_encoded)\n",
      "HTML(data = video_tag)"
     ],
     "language": "python",
     "metadata": {},
     "outputs": []
    },
    {
     "cell_type": "code",
     "collapsed": false,
     "input": [],
     "language": "python",
     "metadata": {},
     "outputs": []
    },
    {
     "cell_type": "markdown",
     "metadata": {},
     "source": [
      "<a name=\"pcolor_replace\"></a>\n",
      "# better pcolor (replacement)\n",
      "\n",
      "<a href=\"#toc\">table of content</a>"
     ]
    },
    {
     "cell_type": "code",
     "collapsed": false,
     "input": [
      "# That's easy: take imshow!\n",
      "# further: imshow exports in pdf as bitmap!!\n",
      "\n",
      "\n",
      "X, Y = meshgrid(arange(10)*.3, arange(10)*.2)\n",
      "Z = X**2 + Y**2\n",
      "\n",
      "figure(figsize=(16,5))\n",
      "\n",
      "subplot(1,3,1)\n",
      "pcolor(X,Y,Z)\n",
      "title('pcolor')\n",
      "\n",
      "subplot(1,3,2)\n",
      "imshow(Z[::-1,:], extent=(X.min(), X.max(), Y.min(), Y.max()), aspect='auto')\n",
      "title('imshow')\n",
      "\n",
      "subplot(1,3,3)\n",
      "imshow(Z[::-1,:], interpolation='none', extent=(X.min(), X.max(), Y.min(), Y.max()), aspect='auto')\n",
      "title('imshow w/o interpolation')"
     ],
     "language": "python",
     "metadata": {},
     "outputs": []
    },
    {
     "cell_type": "code",
     "collapsed": false,
     "input": [
      "data"
     ],
     "language": "python",
     "metadata": {},
     "outputs": []
    },
    {
     "cell_type": "markdown",
     "metadata": {},
     "source": [
      "<a name=\"transparent_ribbon\"></a>\n",
      "# transparent ribbon around a line\n",
      "\n",
      "<a href=\"#toc\">table of content</a>"
     ]
    },
    {
     "cell_type": "code",
     "collapsed": false,
     "input": [
      "def plotband(x, y, ups, downs, color='#0067ea', alpha=.25, **kwargs):\n",
      "    \"\"\"\n",
      "    plots a line surrounded by a ribbon of the same color, but semi-transparent\n",
      "    \n",
      "    :args:\n",
      "        x (N-by-1): positions on horizontal axis\n",
      "        y (N-by-1): corresponding vertical values of the (center) line\n",
      "        ups (N-by-1): upper edge of the ribbon\n",
      "        downs (N-by-1): lower edge of the ribbon\n",
      "        \n",
      "    :returns:\n",
      "        [line, patch] returns of underlying \"plot\" and \"fill_between\" function\n",
      "    \"\"\"\n",
      "    pt1 = plot(x, y, color, **kwargs )\n",
      "    pt2 = fill_between(x, ups, downs, color='None', facecolor=color, lw=0, alpha=alpha)\n",
      "    return [pt1, pt2]\n",
      "\n",
      "# how to use:\n",
      "xdat = arange(10)\n",
      "ydat = xdat**2\n",
      "ups = ydat + xdat\n",
      "downs = ydat - 3\n",
      "figure()\n",
      "plotband(xdat, ydat, ups, downs, color='#997444', linestyle='-.', lw=2)\n",
      "pass"
     ],
     "language": "python",
     "metadata": {},
     "outputs": [
      {
       "metadata": {},
       "output_type": "display_data",
       "png": "[encoded data removed]",
       "text": [
        "<matplotlib.figure.Figure at 0x7f945a6deb10>"
       ]
      }
     ],
     "prompt_number": 8
    },
    {
     "cell_type": "markdown",
     "metadata": {},
     "source": [
      "# <a name=\"output_precision\"></a>\n",
      "# Set output precision for floats and arrays\n",
      "\n",
      "<a href=\"#toc\">table of content</a>"
     ]
    },
    {
     "cell_type": "code",
     "collapsed": false,
     "input": [
      "%precision 4\n",
      "pi   # note: \"print pi\" yields \"3.141592...\" because that's the string representation of a float (pi.__str__() is called) !"
     ],
     "language": "python",
     "metadata": {},
     "outputs": [
      {
       "metadata": {},
       "output_type": "pyout",
       "prompt_number": 6,
       "text": [
        "3.1416"
       ]
      }
     ],
     "prompt_number": 6
    },
    {
     "cell_type": "code",
     "collapsed": false,
     "input": [
      "print randn(10)\n",
      "print pi  # <- this is a float!\n",
      "print array([pi])"
     ],
     "language": "python",
     "metadata": {},
     "outputs": [
      {
       "output_type": "stream",
       "stream": "stdout",
       "text": [
        "[-0.5924 -0.252  -0.3975  0.4454  0.5696 -1.1843 -0.6125  1.5249  0.8172\n",
        " -0.0184]\n",
        "3.14159265359\n",
        "[ 3.1416]\n"
       ]
      }
     ],
     "prompt_number": 7
    },
    {
     "cell_type": "markdown",
     "metadata": {},
     "source": [
      "# <a name=\"interactive_plotting\"></a>\n",
      "# Interactive plotting with \"Bokeh\"\n",
      "\n",
      "<a href=\"#toc\">table of content</a>\n",
      "\n",
      "## NOTE:\n",
      "This requires the \"bokeh\" package to be installed. If not installed, you can install it by this shell command:\n",
      ">sudo pip install bokeh\n"
     ]
    },
    {
     "cell_type": "code",
     "collapsed": false,
     "input": [
      "# example copied from bokeh introduction. For a documentation, click on the \"bokeh\" symbol!\n",
      "\n",
      "from bokeh.plotting import *\n",
      "output_notebook() # connect to notebook!"
     ],
     "language": "python",
     "metadata": {},
     "outputs": []
    },
    {
     "cell_type": "code",
     "collapsed": false,
     "input": [],
     "language": "python",
     "metadata": {},
     "outputs": []
    },
    {
     "cell_type": "code",
     "collapsed": false,
     "input": [
      "# Skip the first point because it can be troublesome\n",
      "theta = linspace(0, 8*np.pi, 10000)[1:]\n",
      "\n",
      "figure()\n",
      "hold()\n",
      "# Compute the radial coordinates for some different spirals\n",
      "lituus = theta**(-1./2.)          # lituus\n",
      "golden = exp(0.306349*theta) # golden\n",
      "arch   = theta                  # Archimedean\n",
      "fermat = theta**(1./2.)           # Fermat's\n",
      "\n",
      "# Now compute the X and Y coordinates (polar mappers planned for Bokeh later)\n",
      "golden_x = golden*cos(theta)\n",
      "golden_y = golden*sin(theta)\n",
      "lituus_x = lituus*cos(theta)\n",
      "lituus_y = lituus*sin(theta)\n",
      "arch_x   = arch*cos(theta)\n",
      "arch_y   = arch*sin(theta)\n",
      "fermat_x = fermat*cos(theta)\n",
      "fermat_y = fermat*sin(theta)\n",
      "line(arch_x, arch_y, color=\"red\", line_width=2,\n",
      "     title=\"Archimean\", legend=\"Archimedean\")\n",
      "line(golden_x, golden_y, color=\"#ffeeaa\", line_width=2, legend=\"Golden\")\n",
      "show()"
     ],
     "language": "python",
     "metadata": {},
     "outputs": []
    },
    {
     "cell_type": "markdown",
     "metadata": {},
     "source": [
      "# <a name=\"sympy_code\"></a>\n",
      "# Code genernation in C / Python / Fortan for Sympy expressions\n",
      "\n",
      "<a href=\"#toc\">table of content</a>"
     ]
    },
    {
     "cell_type": "code",
     "collapsed": false,
     "input": [
      "import sympy as sp\n",
      "import sympy.matrices as ma\n",
      "\n",
      "# create some long matrix expressions\n",
      "q,p = sp.symbols('q p')\n",
      "expr = sp.Matrix([[1., sp.sin(q)],[sp.cos(q), 2.*p*q]])\n",
      "expr2 = expr * expr * expr * expr * expr"
     ],
     "language": "python",
     "metadata": {},
     "outputs": [],
     "prompt_number": 13
    },
    {
     "cell_type": "code",
     "collapsed": false,
     "input": [
      "# generate C-code. NOTE: this works only element-wise for a matrix!\n",
      "from sympy.utilities.codegen import codegen\n",
      "[(c_name, c_code), (h_name, c_header)] = codegen(\n",
      "     (\"J11\", expr2[0,0]), \"C\", \"test\", header=False, empty=True)\n",
      "print \"/*File: {}\\n----------------\\n*/\\n\".format(c_name)\n",
      "print c_code\n",
      "\n",
      "# to just \"print\" the C-code, this suffices\n",
      "#import sympy.printing as spr\n",
      "#spr.ccode(expr2[0,0])"
     ],
     "language": "python",
     "metadata": {},
     "outputs": [
      {
       "output_type": "stream",
       "stream": "stdout",
       "text": [
        "/*File: test.c\n",
        "----------------\n",
        "*/\n",
        "\n",
        "#include \"test.h\"\n",
        "#include <math.h>\n",
        "\n",
        "double J11(double p, double q) {\n",
        "\n",
        "   return (2.0*p*q*(2.0*p*q*(2.0*p*q*sin(q) + 1.0*sin(q)) + (sin(q)*cos(q) + 1.0)*sin(q)) + ((2.0*p*q*sin(q) + 1.0*sin(q))*cos(q) + 1.0*sin(q)*cos(q) + 1.0)*sin(q))*cos(q) + 1.0*(2.0*p*q*(2.0*p*q*sin(q) + 1.0*sin(q)) + (sin(q)*cos(q) + 1.0)*sin(q))*cos(q) + 1.0*(2.0*p*q*sin(q) + 1.0*sin(q))*cos(q) + 1.0*sin(q)*cos(q) + 1.0;\n",
        "\n",
        "}\n",
        "\n"
       ]
      }
     ],
     "prompt_number": 14
    },
    {
     "cell_type": "code",
     "collapsed": false,
     "input": [
      "# compare performance\n",
      "\n",
      "# create python and fortran functions\n",
      "import sympy.utilities.autowrap as aw # for fortran code\n",
      "from sympy.utilities.lambdify import lambdify # for python code\n",
      "\n",
      "f1 = lambdify((p,q), expr2[0,0]) # python (actually, this CAN take expr2 and will return a numpy matrix)\n",
      "f2 = aw.autowrap(expr2[0,0]) # fortran\n",
      "# compare that all expressions evaluate to the same value\n",
      "print expr2.subs(p,1).subs(q,2)[0,0].evalf()\n",
      "print f1(1,2)\n",
      "print f2(1,2)"
     ],
     "language": "python",
     "metadata": {},
     "outputs": [
      {
       "output_type": "stream",
       "stream": "stdout",
       "text": [
        "-39.8058771907571\n",
        "-39.8058771908\n",
        "-39.8058771908\n"
       ]
      }
     ],
     "prompt_number": 15
    },
    {
     "cell_type": "code",
     "collapsed": false,
     "input": [
      "# run performance tests\n",
      "%timeit expr2.subs(p,1).subs(q,2)[0,0].evalf()\n",
      "%timeit f1(1,2)\n",
      "%timeit f2(1,2)"
     ],
     "language": "python",
     "metadata": {},
     "outputs": [
      {
       "output_type": "stream",
       "stream": "stdout",
       "text": [
        "100 loops, best of 3: 6.73 ms per loop\n",
        "100000 loops, best of 3: 3.34 \u00b5s per loop"
       ]
      },
      {
       "output_type": "stream",
       "stream": "stdout",
       "text": [
        "\n",
        "10000000 loops, best of 3: 172 ns per loop"
       ]
      },
      {
       "output_type": "stream",
       "stream": "stdout",
       "text": [
        "\n"
       ]
      }
     ],
     "prompt_number": 16
    },
    {
     "cell_type": "code",
     "collapsed": false,
     "input": [],
     "language": "python",
     "metadata": {},
     "outputs": []
    }
   ],
   "metadata": {}
  }
 ]
}