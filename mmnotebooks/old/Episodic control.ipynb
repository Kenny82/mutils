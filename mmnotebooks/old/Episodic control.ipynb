{
 "metadata": {
  "name": "Episodic control"
 },
 "nbformat": 3,
 "nbformat_minor": 0,
 "worksheets": [
  {
   "cells": [
    {
     "cell_type": "markdown",
     "metadata": {},
     "source": [
      "# Episodic control in human running?\n",
      "\n",
      "### LE:\n",
      "* 03. September 2013, MM: initialized notebook\n",
      "\n",
      "The hypothesis of episodic control in human running states that there are certain events that trigger (more or less) discrete control actions.\n",
      "Here, we test this hypothesis on experimental data that stem from humans running long time on our instrumented treadmill. \n",
      "\n",
      "These events and possibly triggers can be found using PCA on the stride data. Further, we can come up with a priori event (hypotheses), namely reaching the boundary of the treadmill."
     ]
    },
    {
     "cell_type": "code",
     "collapsed": false,
     "input": [],
     "language": "python",
     "metadata": {},
     "outputs": []
    }
   ],
   "metadata": {}
  }
 ]
}