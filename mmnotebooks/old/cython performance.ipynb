{
 "metadata": {
  "name": "cython performance"
 },
 "nbformat": 3,
 "nbformat_minor": 0,
 "worksheets": [
  {
   "cells": [
    {
     "cell_type": "code",
     "collapsed": false,
     "input": [
      "\"\"\"\n",
      "This script compares three variants of the \"primes\" code:\n",
      "\n",
      "    (1) pure python\n",
      "    (2) cython\n",
      "    (3) pure c (no python import)\n",
      "\n",
      "\"\"\"\n",
      "\n",
      "from cython_test import primes_py, primes\n",
      "#import primes_py #  the pure python variant\n",
      "#import primes # the cython variant\n",
      "import os # to run the C-\n",
      "import sys\n",
      "import time\n",
      "\n",
      "print \"\\n\"\n",
      "print \"=\" * 70\n",
      "print \"   B E N C H M A R K     Python - Cython - C\"\n",
      "print \"=\" * 70\n",
      "print \"\\n\" * 2\n",
      "\n",
      "t0 = time.time()\n",
      "print \"starting with the cython module ...\"\n",
      "r1 = primes.primes(10000)\n",
      "t1 = time.time()\n",
      "print \"done in\", t1 - t0, \"seconds\\n\"\n",
      "\n",
      "t2 = time.time()\n",
      "print \"executing C file via system command ...\"\n",
      "os.system('./primes_c')\n",
      "t3 = time.time()\n",
      "print \"done in\", t3 - t2, \"seconds\\n\"\n",
      "\n",
      "t4 = time.time()\n",
      "print \"running pure python code ... (this may take a while)\"\n",
      "sys.stdout.write(' ')\n",
      "sys.stdout.flush()\n",
      "primes_py.primes(10000)\n",
      "t5 = time.time()\n",
      "print \"done in\", t5 - t4, \"seconds\\n\"\n",
      "\n",
      "print \"\\n\", \"=\" * 70, \"\\n\" * 2"
     ],
     "language": "python",
     "metadata": {},
     "outputs": [
      {
       "output_type": "stream",
       "stream": "stdout",
       "text": [
        "\n",
        "\n",
        "======================================================================\n",
        "   B E N C H M A R K     Python - Cython - C\n",
        "======================================================================\n",
        "\n",
        "\n",
        "\n",
        "starting with the cython module ...\n",
        "done in"
       ]
      },
      {
       "output_type": "stream",
       "stream": "stdout",
       "text": [
        " 0.242857933044 seconds\n",
        "\n",
        "executing C file via system command ...\n",
        "done in"
       ]
      },
      {
       "output_type": "stream",
       "stream": "stdout",
       "text": [
        " 0.603439092636 seconds\n",
        "\n",
        "running pure python code ... (this may take a while)\n",
        " "
       ]
      },
      {
       "output_type": "stream",
       "stream": "stdout",
       "text": [
        "done in 82.1965498924 seconds\n",
        "\n",
        "\n",
        "====================================================================== \n",
        "\n",
        "\n"
       ]
      }
     ],
     "prompt_number": 5
    },
    {
     "cell_type": "markdown",
     "metadata": {},
     "source": [
      "## This is the content of primes.py"
     ]
    },
    {
     "cell_type": "code",
     "collapsed": false,
     "input": [
      "import numpy as np\n",
      "def primes(kmax):\n",
      "    result = []\n",
      "    p = np.zeros(10000)\n",
      "    if kmax > 10000:\n",
      "        kmax = 10000\n",
      "    k = 0\n",
      "    n = 2\n",
      "    while k < kmax:\n",
      "        i = 0\n",
      "        while i < k and n % p[i] != 0:\n",
      "            i = i + 1\n",
      "        if i == k:\n",
      "            p[k] = n\n",
      "            k = k + 1\n",
      "            result.append(n)\n",
      "        n = n + 1\n",
      "    return result"
     ],
     "language": "python",
     "metadata": {},
     "outputs": []
    },
    {
     "cell_type": "markdown",
     "metadata": {},
     "source": [
      "## This is the content of primes.pyx"
     ]
    },
    {
     "cell_type": "code",
     "collapsed": false,
     "input": [
      "def primes(int kmax):\n",
      "    cdef int n, k, i\n",
      "    cdef int p[10000]\n",
      "    result = []\n",
      "    if kmax > 10000:\n",
      "        kmax = 10000\n",
      "    k = 0\n",
      "    n = 2\n",
      "    while k < kmax:\n",
      "        i = 0\n",
      "        while i < k and n % p[i] != 0:\n",
      "            i = i + 1\n",
      "        if i == k:\n",
      "            p[k] = n\n",
      "            k = k + 1\n",
      "            result.append(n)\n",
      "        n = n + 1\n",
      "    return result\n"
     ],
     "language": "python",
     "metadata": {},
     "outputs": []
    }
   ],
   "metadata": {}
  }
 ]
}